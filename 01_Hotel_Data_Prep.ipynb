{
 "cells": [
  {
   "cell_type": "markdown",
   "metadata": {},
   "source": [
    "# Only for Colab"
   ]
  },
  {
   "cell_type": "code",
   "execution_count": 1,
   "metadata": {
    "colab": {},
    "colab_type": "code",
    "id": "VJMaZhuQgPCy"
   },
   "outputs": [],
   "source": [
    "%reload_ext autoreload\n",
    "%autoreload 2\n",
    "%matplotlib inline"
   ]
  },
  {
   "cell_type": "code",
   "execution_count": 3,
   "metadata": {
    "colab": {
     "base_uri": "https://localhost:8080/",
     "height": 122
    },
    "colab_type": "code",
    "executionInfo": {
     "elapsed": 18900,
     "status": "ok",
     "timestamp": 1569120613226,
     "user": {
      "displayName": "aeryen Z",
      "photoUrl": "https://lh3.googleusercontent.com/a-/AAuE7mB9B8o-g7Bk7FNiOiB3NeIjUlkwmewejTdgq8tQqg=s64",
      "userId": "01125454621554722334"
     },
     "user_tz": 300
    },
    "id": "WTIB5x48Bc1m",
    "outputId": "f4bebf64-37d4-4a91-d724-6ef220a5f9b7"
   },
   "outputs": [
    {
     "name": "stdout",
     "output_type": "stream",
     "text": [
      "Go to this URL in a browser: https://accounts.google.com/o/oauth2/auth?client_id=947318989803-6bn6qk8qdgf4n4g3pfee6491hc0brc4i.apps.googleusercontent.com&redirect_uri=urn%3Aietf%3Awg%3Aoauth%3A2.0%3Aoob&scope=email%20https%3A%2F%2Fwww.googleapis.com%2Fauth%2Fdocs.test%20https%3A%2F%2Fwww.googleapis.com%2Fauth%2Fdrive%20https%3A%2F%2Fwww.googleapis.com%2Fauth%2Fdrive.photos.readonly%20https%3A%2F%2Fwww.googleapis.com%2Fauth%2Fpeopleapi.readonly&response_type=code\n",
      "\n",
      "Enter your authorization code:\n",
      "··········\n",
      "Mounted at /content/gdrive\n"
     ]
    }
   ],
   "source": [
    "from google.colab import drive\n",
    "drive.mount('/content/gdrive')"
   ]
  },
  {
   "cell_type": "code",
   "execution_count": 4,
   "metadata": {
    "colab": {
     "base_uri": "https://localhost:8080/",
     "height": 34
    },
    "colab_type": "code",
    "executionInfo": {
     "elapsed": 17554,
     "status": "ok",
     "timestamp": 1569120613230,
     "user": {
      "displayName": "aeryen Z",
      "photoUrl": "https://lh3.googleusercontent.com/a-/AAuE7mB9B8o-g7Bk7FNiOiB3NeIjUlkwmewejTdgq8tQqg=s64",
      "userId": "01125454621554722334"
     },
     "user_tz": 300
    },
    "id": "7iOVNdpnBnka",
    "outputId": "d0305665-c89b-4e1d-84a1-adcf90e72b71"
   },
   "outputs": [
    {
     "name": "stdout",
     "output_type": "stream",
     "text": [
      "/content/gdrive/My Drive/Colab Notebooks/2019NN\n"
     ]
    }
   ],
   "source": [
    "%cd /content/gdrive/My Drive/Colab Notebooks/2019NN/"
   ]
  },
  {
   "cell_type": "code",
   "execution_count": 1,
   "metadata": {
    "colab": {
     "base_uri": "https://localhost:8080/",
     "height": 85
    },
    "colab_type": "code",
    "executionInfo": {
     "elapsed": 1577,
     "status": "ok",
     "timestamp": 1569120617962,
     "user": {
      "displayName": "aeryen Z",
      "photoUrl": "https://lh3.googleusercontent.com/a-/AAuE7mB9B8o-g7Bk7FNiOiB3NeIjUlkwmewejTdgq8tQqg=s64",
      "userId": "01125454621554722334"
     },
     "user_tz": 300
    },
    "id": "7EE9qSuEBuAw",
    "outputId": "1997cbc1-7558-42ab-c424-c1cd67daccbe"
   },
   "outputs": [
    {
     "name": "stdout",
     "output_type": "stream",
     "text": [
      "data  data_helpers  Train_Hotel.ipynb  Train_Hotel.py\n"
     ]
    }
   ],
   "source": [
    "!ls"
   ]
  },
  {
   "cell_type": "code",
   "execution_count": 6,
   "metadata": {
    "colab": {
     "base_uri": "https://localhost:8080/",
     "height": 51
    },
    "colab_type": "code",
    "executionInfo": {
     "elapsed": 5832,
     "status": "ok",
     "timestamp": 1569120622645,
     "user": {
      "displayName": "aeryen Z",
      "photoUrl": "https://lh3.googleusercontent.com/a-/AAuE7mB9B8o-g7Bk7FNiOiB3NeIjUlkwmewejTdgq8tQqg=s64",
      "userId": "01125454621554722334"
     },
     "user_tz": 300
    },
    "id": "z220QV_gh_mw",
    "outputId": "94f385a3-3816-4aa9-e700-1565a50bf0c6"
   },
   "outputs": [
    {
     "name": "stdout",
     "output_type": "stream",
     "text": [
      "Updating fastai...\n",
      "Done.\n"
     ]
    }
   ],
   "source": [
    "!curl -s https://course.fast.ai/setup/colab | bash"
   ]
  },
  {
   "cell_type": "markdown",
   "metadata": {
    "colab_type": "text",
    "id": "afrCQUiGB4PO"
   },
   "source": [
    "# Start"
   ]
  },
  {
   "cell_type": "code",
   "execution_count": 1,
   "metadata": {
    "colab": {},
    "colab_type": "code",
    "id": "zWnO59eDBv6m"
   },
   "outputs": [],
   "source": [
    "from fastai.text import *\n",
    "from data_helpers.Data import *\n",
    "from fastai.text.transform import *"
   ]
  },
  {
   "cell_type": "code",
   "execution_count": 2,
   "metadata": {
    "colab": {},
    "colab_type": "code",
    "id": "XO6heDh_UXhG"
   },
   "outputs": [],
   "source": [
    "sent_num_file = [\"aspect_0.count\", \"test_aspect_0.count\"]\n",
    "rating_file = [\"aspect_0.rating\", \"test_aspect_0.rating\"]\n",
    "content_file = [\"aspect_0.txt\", \"test_aspect_0.txt\"]\n",
    "\n",
    "dataset_dir = \"./data/hotel_balance_LengthFix1_3000per/\""
   ]
  },
  {
   "cell_type": "code",
   "execution_count": 3,
   "metadata": {
    "colab": {},
    "colab_type": "code",
    "id": "e_gf-HvfUbWY"
   },
   "outputs": [],
   "source": [
    "def concat_to_doc(sent_list, sent_count):\n",
    "    start_index = 0\n",
    "    docs = []\n",
    "    for s in sent_count:\n",
    "        doc = \" xxPERIOD \".join(sent_list[start_index:start_index + s])\n",
    "        doc = doc + \" xxPERIOD \"\n",
    "        docs.append(doc)\n",
    "        start_index = start_index + s\n",
    "    return docs"
   ]
  },
  {
   "cell_type": "code",
   "execution_count": 4,
   "metadata": {
    "colab": {},
    "colab_type": "code",
    "id": "e57dcDj_UcTW"
   },
   "outputs": [],
   "source": [
    "TRAIN_DATA = 0\n",
    "TEST_DATA = 1"
   ]
  },
  {
   "cell_type": "markdown",
   "metadata": {},
   "source": [
    "## Load Training Data"
   ]
  },
  {
   "cell_type": "code",
   "execution_count": 5,
   "metadata": {
    "colab": {
     "base_uri": "https://localhost:8080/",
     "height": 173
    },
    "colab_type": "code",
    "executionInfo": {
     "elapsed": 4203,
     "status": "ok",
     "timestamp": 1569095898017,
     "user": {
      "displayName": "aeryen Z",
      "photoUrl": "https://lh3.googleusercontent.com/a-/AAuE7mB9B8o-g7Bk7FNiOiB3NeIjUlkwmewejTdgq8tQqg=s64",
      "userId": "01125454621554722334"
     },
     "user_tz": 300
    },
    "id": "8kg5bDZcUdO_",
    "outputId": "325e43e2-b6a3-416d-f428-82eb965bb441"
   },
   "outputs": [
    {
     "name": "stdout",
     "output_type": "stream",
     "text": [
      "[10, 14, 14, 24, 23]\n",
      "   0  1  2  3  4  5\n",
      "0  4  4  4  4  4  4\n",
      "1  4  3  4  4  4  4\n",
      "2  1  0  1  1  2  1\n",
      "3  3  2  3  2  4  3\n",
      "4  3  2  1  2  2  4\n",
      "['we had the most wonderful time at the excellence', 'we opted for the excellence club and it was well worht it for the perks', 'roberto puello who was the club manager did an extra special job of making us feel welcomed', 'we took some great pictures that looked like postcards', 'the food was excellent the pizza was close to being our favorite']\n"
     ]
    }
   ],
   "source": [
    "# Load Count\n",
    "sent_count_train = list(open(dataset_dir + sent_num_file[TRAIN_DATA], \"r\").readlines())\n",
    "sent_count_train = [int(s) for s in sent_count_train if (len(s) > 0 and s != \"\\n\")]\n",
    "print( sent_count_train[0:5] )\n",
    "\n",
    "# Load Ratings\n",
    "aspect_rating_train = list(open(dataset_dir + rating_file[TRAIN_DATA], \"r\").readlines())\n",
    "aspect_rating_train = [s for s in aspect_rating_train if (len(s) > 0 and s != \"\\n\")]\n",
    "\n",
    "aspect_rating_train = [s.split(\" \") for s in aspect_rating_train]\n",
    "aspect_rating_train = np.array(aspect_rating_train)[:, 0:-1]\n",
    "aspect_rating_train = aspect_rating_train.astype(np.int) - 1\n",
    "aspect_rating_train = pd.DataFrame(aspect_rating_train)\n",
    "print( aspect_rating_train.head() )\n",
    "\n",
    "# Load Sents\n",
    "sents_train = list(open(dataset_dir + content_file[TRAIN_DATA], \"r\").readlines())\n",
    "sents_train = [s.strip() for s in sents_train]\n",
    "print( sents_train[0:5] )"
   ]
  },
  {
   "cell_type": "code",
   "execution_count": 6,
   "metadata": {
    "colab": {
     "base_uri": "https://localhost:8080/",
     "height": 204
    },
    "colab_type": "code",
    "executionInfo": {
     "elapsed": 569,
     "status": "ok",
     "timestamp": 1569095913787,
     "user": {
      "displayName": "aeryen Z",
      "photoUrl": "https://lh3.googleusercontent.com/a-/AAuE7mB9B8o-g7Bk7FNiOiB3NeIjUlkwmewejTdgq8tQqg=s64",
      "userId": "01125454621554722334"
     },
     "user_tz": 300
    },
    "id": "hVf-aEFDspR7",
    "outputId": "cc1e8a6d-7ac7-42eb-a112-43261bfa948a"
   },
   "outputs": [
    {
     "data": {
      "text/html": [
       "<div>\n",
       "<style scoped>\n",
       "    .dataframe tbody tr th:only-of-type {\n",
       "        vertical-align: middle;\n",
       "    }\n",
       "\n",
       "    .dataframe tbody tr th {\n",
       "        vertical-align: top;\n",
       "    }\n",
       "\n",
       "    .dataframe thead th {\n",
       "        text-align: right;\n",
       "    }\n",
       "</style>\n",
       "<table border=\"1\" class=\"dataframe\">\n",
       "  <thead>\n",
       "    <tr style=\"text-align: right;\">\n",
       "      <th></th>\n",
       "      <th>0</th>\n",
       "    </tr>\n",
       "  </thead>\n",
       "  <tbody>\n",
       "    <tr>\n",
       "      <th>0</th>\n",
       "      <td>we had the most wonderful time at the excellen...</td>\n",
       "    </tr>\n",
       "    <tr>\n",
       "      <th>1</th>\n",
       "      <td>a truly fantastic place xmas  we have just ret...</td>\n",
       "    </tr>\n",
       "    <tr>\n",
       "      <th>2</th>\n",
       "      <td>too sick to enjoy the ride to and form the air...</td>\n",
       "    </tr>\n",
       "    <tr>\n",
       "      <th>3</th>\n",
       "      <td>relaxing and fun , but xxPERIOD i rang in the ...</td>\n",
       "    </tr>\n",
       "    <tr>\n",
       "      <th>4</th>\n",
       "      <td>somewhat excellence we just returned from a on...</td>\n",
       "    </tr>\n",
       "  </tbody>\n",
       "</table>\n",
       "</div>"
      ],
      "text/plain": [
       "                                                   0\n",
       "0  we had the most wonderful time at the excellen...\n",
       "1  a truly fantastic place xmas  we have just ret...\n",
       "2  too sick to enjoy the ride to and form the air...\n",
       "3  relaxing and fun , but xxPERIOD i rang in the ...\n",
       "4  somewhat excellence we just returned from a on..."
      ]
     },
     "execution_count": 6,
     "metadata": {},
     "output_type": "execute_result"
    }
   ],
   "source": [
    "docs_train = concat_to_doc(sents_train, sent_count_train)\n",
    "\n",
    "docs_train = pd.DataFrame(docs_train)\n",
    "\n",
    "docs_train.head()"
   ]
  },
  {
   "cell_type": "code",
   "execution_count": 7,
   "metadata": {
    "colab": {
     "base_uri": "https://localhost:8080/",
     "height": 54
    },
    "colab_type": "code",
    "executionInfo": {
     "elapsed": 439,
     "status": "ok",
     "timestamp": 1569095920307,
     "user": {
      "displayName": "aeryen Z",
      "photoUrl": "https://lh3.googleusercontent.com/a-/AAuE7mB9B8o-g7Bk7FNiOiB3NeIjUlkwmewejTdgq8tQqg=s64",
      "userId": "01125454621554722334"
     },
     "user_tz": 300
    },
    "id": "u7nKTQSlv8yP",
    "outputId": "1830d46e-1a2a-49f2-c6fb-4b7109074ed3"
   },
   "outputs": [
    {
     "data": {
      "text/plain": [
       "\"we had the most wonderful time at the excellence xxPERIOD we opted for the excellence club and it was well worht it for the perks xxPERIOD roberto puello who was the club manager did an extra special job of making us feel welcomed xxPERIOD we took some great pictures that looked like postcards xxPERIOD the food was excellent the pizza was close to being our favorite xxPERIOD the shows were great especially the michael jackson and the 70's  80's night xxPERIOD the french resturant was probably our favorite xxPERIOD we will definately be back for an anniversary trip xxPERIOD we made some friends but had plenty of privcacy as well xxPERIOD the rooms were great and everytime we left and came back it was cleaned , towels restocked and the bar was as well xxPERIOD \""
      ]
     },
     "execution_count": 7,
     "metadata": {},
     "output_type": "execute_result"
    }
   ],
   "source": [
    "docs_train.iloc[0][0]"
   ]
  },
  {
   "cell_type": "code",
   "execution_count": 8,
   "metadata": {
    "colab": {
     "base_uri": "https://localhost:8080/",
     "height": 204
    },
    "colab_type": "code",
    "executionInfo": {
     "elapsed": 448,
     "status": "ok",
     "timestamp": 1569095933730,
     "user": {
      "displayName": "aeryen Z",
      "photoUrl": "https://lh3.googleusercontent.com/a-/AAuE7mB9B8o-g7Bk7FNiOiB3NeIjUlkwmewejTdgq8tQqg=s64",
      "userId": "01125454621554722334"
     },
     "user_tz": 300
    },
    "id": "5zr2N7XnslY2",
    "outputId": "2c2aa4b1-9d3d-457e-c2b5-35f07cf6e271"
   },
   "outputs": [
    {
     "data": {
      "text/html": [
       "<div>\n",
       "<style scoped>\n",
       "    .dataframe tbody tr th:only-of-type {\n",
       "        vertical-align: middle;\n",
       "    }\n",
       "\n",
       "    .dataframe tbody tr th {\n",
       "        vertical-align: top;\n",
       "    }\n",
       "\n",
       "    .dataframe thead th {\n",
       "        text-align: right;\n",
       "    }\n",
       "</style>\n",
       "<table border=\"1\" class=\"dataframe\">\n",
       "  <thead>\n",
       "    <tr style=\"text-align: right;\">\n",
       "      <th></th>\n",
       "      <th>0</th>\n",
       "      <th>1</th>\n",
       "      <th>2</th>\n",
       "      <th>3</th>\n",
       "      <th>4</th>\n",
       "      <th>5</th>\n",
       "      <th>6</th>\n",
       "    </tr>\n",
       "  </thead>\n",
       "  <tbody>\n",
       "    <tr>\n",
       "      <th>0</th>\n",
       "      <td>4</td>\n",
       "      <td>4</td>\n",
       "      <td>4</td>\n",
       "      <td>4</td>\n",
       "      <td>4</td>\n",
       "      <td>4</td>\n",
       "      <td>we had the most wonderful time at the excellen...</td>\n",
       "    </tr>\n",
       "    <tr>\n",
       "      <th>1</th>\n",
       "      <td>4</td>\n",
       "      <td>3</td>\n",
       "      <td>4</td>\n",
       "      <td>4</td>\n",
       "      <td>4</td>\n",
       "      <td>4</td>\n",
       "      <td>a truly fantastic place xmas  we have just ret...</td>\n",
       "    </tr>\n",
       "    <tr>\n",
       "      <th>2</th>\n",
       "      <td>1</td>\n",
       "      <td>0</td>\n",
       "      <td>1</td>\n",
       "      <td>1</td>\n",
       "      <td>2</td>\n",
       "      <td>1</td>\n",
       "      <td>too sick to enjoy the ride to and form the air...</td>\n",
       "    </tr>\n",
       "    <tr>\n",
       "      <th>3</th>\n",
       "      <td>3</td>\n",
       "      <td>2</td>\n",
       "      <td>3</td>\n",
       "      <td>2</td>\n",
       "      <td>4</td>\n",
       "      <td>3</td>\n",
       "      <td>relaxing and fun , but xxPERIOD i rang in the ...</td>\n",
       "    </tr>\n",
       "    <tr>\n",
       "      <th>4</th>\n",
       "      <td>3</td>\n",
       "      <td>2</td>\n",
       "      <td>1</td>\n",
       "      <td>2</td>\n",
       "      <td>2</td>\n",
       "      <td>4</td>\n",
       "      <td>somewhat excellence we just returned from a on...</td>\n",
       "    </tr>\n",
       "  </tbody>\n",
       "</table>\n",
       "</div>"
      ],
      "text/plain": [
       "   0  1  2  3  4  5                                                  6\n",
       "0  4  4  4  4  4  4  we had the most wonderful time at the excellen...\n",
       "1  4  3  4  4  4  4  a truly fantastic place xmas  we have just ret...\n",
       "2  1  0  1  1  2  1  too sick to enjoy the ride to and form the air...\n",
       "3  3  2  3  2  4  3  relaxing and fun , but xxPERIOD i rang in the ...\n",
       "4  3  2  1  2  2  4  somewhat excellence we just returned from a on..."
      ]
     },
     "execution_count": 8,
     "metadata": {},
     "output_type": "execute_result"
    }
   ],
   "source": [
    "df_train = pd.concat( [aspect_rating_train, docs_train], axis=1, ignore_index=True )\n",
    "df_train.head()"
   ]
  },
  {
   "cell_type": "code",
   "execution_count": 9,
   "metadata": {
    "colab": {
     "base_uri": "https://localhost:8080/",
     "height": 34
    },
    "colab_type": "code",
    "executionInfo": {
     "elapsed": 431,
     "status": "ok",
     "timestamp": 1569095937657,
     "user": {
      "displayName": "aeryen Z",
      "photoUrl": "https://lh3.googleusercontent.com/a-/AAuE7mB9B8o-g7Bk7FNiOiB3NeIjUlkwmewejTdgq8tQqg=s64",
      "userId": "01125454621554722334"
     },
     "user_tz": 300
    },
    "id": "I5JxddUVqIGc",
    "outputId": "12232bb1-433f-4aa5-ae00-01bb3e0ac16b"
   },
   "outputs": [
    {
     "data": {
      "text/plain": [
       "(11173, 7)"
      ]
     },
     "execution_count": 9,
     "metadata": {},
     "output_type": "execute_result"
    }
   ],
   "source": [
    "df_train.shape"
   ]
  },
  {
   "cell_type": "markdown",
   "metadata": {},
   "source": [
    "## Load Testing Data"
   ]
  },
  {
   "cell_type": "code",
   "execution_count": 10,
   "metadata": {
    "colab": {
     "base_uri": "https://localhost:8080/",
     "height": 238
    },
    "colab_type": "code",
    "executionInfo": {
     "elapsed": 2885,
     "status": "ok",
     "timestamp": 1569095942939,
     "user": {
      "displayName": "aeryen Z",
      "photoUrl": "https://lh3.googleusercontent.com/a-/AAuE7mB9B8o-g7Bk7FNiOiB3NeIjUlkwmewejTdgq8tQqg=s64",
      "userId": "01125454621554722334"
     },
     "user_tz": 300
    },
    "id": "Tatp0G4rwD-w",
    "outputId": "d736f637-70d1-4993-d74e-c608fce0d1e3"
   },
   "outputs": [
    {
     "name": "stdout",
     "output_type": "stream",
     "text": [
      "[9, 30, 25, 33, 29]\n",
      "   0  1  2  3  4  5\n",
      "0  1  0  0  3  1  1\n",
      "1  2  2  1  2  3  3\n",
      "2  4  4  4  3  4  4\n",
      "3  3  2  3  3  3  4\n",
      "4  3  4  3  4  4  4\n",
      "                                                   0\n",
      "0  definitely not a 5 star resort i 'm dumbfounde...\n",
      "1  facilities need work xxPERIOD we visited excel...\n",
      "2  excellence was exactly that xxPERIOD my family...\n",
      "3  great service , nice hotel , mediocre food xxP...\n",
      "4  very relaxing experience just returned from my...\n"
     ]
    }
   ],
   "source": [
    "# Load Count\n",
    "sent_count_test = list(open(dataset_dir + sent_num_file[TEST_DATA], \"r\").readlines())\n",
    "sent_count_test = [int(s) for s in sent_count_test if (len(s) > 0 and s != \"\\n\")]\n",
    "print( sent_count_test[0:5] )\n",
    "\n",
    "# Load Ratings\n",
    "aspect_rating_test = list(open(dataset_dir + rating_file[TEST_DATA], \"r\").readlines())\n",
    "aspect_rating_test = [s for s in aspect_rating_test if (len(s) > 0 and s != \"\\n\")]\n",
    "\n",
    "aspect_rating_test = [s.split(\" \") for s in aspect_rating_test]\n",
    "aspect_rating_test = np.array(aspect_rating_test)[:, 0:-1]\n",
    "aspect_rating_test = aspect_rating_test.astype(np.int) - 1\n",
    "aspect_rating_test = pd.DataFrame(aspect_rating_test)\n",
    "print( aspect_rating_test.head() )\n",
    "\n",
    "# Load Sents\n",
    "sents_test = list(open(dataset_dir + content_file[TEST_DATA], \"r\").readlines())\n",
    "sents_test = [s.strip() for s in sents_test]\n",
    "\n",
    "# Sents to Doc\n",
    "docs_test = concat_to_doc(sents_test, sent_count_test)\n",
    "\n",
    "docs_test = pd.DataFrame(docs_test)\n",
    "print( docs_test.head() )"
   ]
  },
  {
   "cell_type": "code",
   "execution_count": 11,
   "metadata": {
    "colab": {
     "base_uri": "https://localhost:8080/",
     "height": 54
    },
    "colab_type": "code",
    "executionInfo": {
     "elapsed": 1109,
     "status": "ok",
     "timestamp": 1569095942940,
     "user": {
      "displayName": "aeryen Z",
      "photoUrl": "https://lh3.googleusercontent.com/a-/AAuE7mB9B8o-g7Bk7FNiOiB3NeIjUlkwmewejTdgq8tQqg=s64",
      "userId": "01125454621554722334"
     },
     "user_tz": 300
    },
    "id": "97IRI3Xlp1Uz",
    "outputId": "e6b3e840-1a03-4ba9-aab1-e40378a137d1"
   },
   "outputs": [
    {
     "data": {
      "text/plain": [
       "\"definitely not a 5 star resort i 'm dumbfounded that this hotel gets good reviews and is so highly rated xxPERIOD it 's decidedly a 3 star property , not 5 stars as indicated xxPERIOD the rooms are very dated and run down , old crappy beds and pillows , an old tv and overall poorly maintained xxPERIOD the whole property is pretty run down and old - looking xxPERIOD the food is subpar , not one meal i had would be called great xxPERIOD the service is uneven and the staff is poorly trained and uninformed xxPERIOD many do not comprehend english xxPERIOD the beach is great , it 's the only redeeming factor xxPERIOD however the resort is a 1- hour taxi trip from the airport xxPERIOD \""
      ]
     },
     "execution_count": 11,
     "metadata": {},
     "output_type": "execute_result"
    }
   ],
   "source": [
    "docs_test.iloc[0][0]"
   ]
  },
  {
   "cell_type": "code",
   "execution_count": 12,
   "metadata": {
    "colab": {
     "base_uri": "https://localhost:8080/",
     "height": 204
    },
    "colab_type": "code",
    "executionInfo": {
     "elapsed": 401,
     "status": "ok",
     "timestamp": 1569095945680,
     "user": {
      "displayName": "aeryen Z",
      "photoUrl": "https://lh3.googleusercontent.com/a-/AAuE7mB9B8o-g7Bk7FNiOiB3NeIjUlkwmewejTdgq8tQqg=s64",
      "userId": "01125454621554722334"
     },
     "user_tz": 300
    },
    "id": "Anvf9O9IptY3",
    "outputId": "00e3a9dc-661f-4daa-a19f-88b921f45b76"
   },
   "outputs": [
    {
     "data": {
      "text/html": [
       "<div>\n",
       "<style scoped>\n",
       "    .dataframe tbody tr th:only-of-type {\n",
       "        vertical-align: middle;\n",
       "    }\n",
       "\n",
       "    .dataframe tbody tr th {\n",
       "        vertical-align: top;\n",
       "    }\n",
       "\n",
       "    .dataframe thead th {\n",
       "        text-align: right;\n",
       "    }\n",
       "</style>\n",
       "<table border=\"1\" class=\"dataframe\">\n",
       "  <thead>\n",
       "    <tr style=\"text-align: right;\">\n",
       "      <th></th>\n",
       "      <th>0</th>\n",
       "      <th>1</th>\n",
       "      <th>2</th>\n",
       "      <th>3</th>\n",
       "      <th>4</th>\n",
       "      <th>5</th>\n",
       "      <th>6</th>\n",
       "    </tr>\n",
       "  </thead>\n",
       "  <tbody>\n",
       "    <tr>\n",
       "      <th>0</th>\n",
       "      <td>1</td>\n",
       "      <td>0</td>\n",
       "      <td>0</td>\n",
       "      <td>3</td>\n",
       "      <td>1</td>\n",
       "      <td>1</td>\n",
       "      <td>definitely not a 5 star resort i 'm dumbfounde...</td>\n",
       "    </tr>\n",
       "    <tr>\n",
       "      <th>1</th>\n",
       "      <td>2</td>\n",
       "      <td>2</td>\n",
       "      <td>1</td>\n",
       "      <td>2</td>\n",
       "      <td>3</td>\n",
       "      <td>3</td>\n",
       "      <td>facilities need work xxPERIOD we visited excel...</td>\n",
       "    </tr>\n",
       "    <tr>\n",
       "      <th>2</th>\n",
       "      <td>4</td>\n",
       "      <td>4</td>\n",
       "      <td>4</td>\n",
       "      <td>3</td>\n",
       "      <td>4</td>\n",
       "      <td>4</td>\n",
       "      <td>excellence was exactly that xxPERIOD my family...</td>\n",
       "    </tr>\n",
       "    <tr>\n",
       "      <th>3</th>\n",
       "      <td>3</td>\n",
       "      <td>2</td>\n",
       "      <td>3</td>\n",
       "      <td>3</td>\n",
       "      <td>3</td>\n",
       "      <td>4</td>\n",
       "      <td>great service , nice hotel , mediocre food xxP...</td>\n",
       "    </tr>\n",
       "    <tr>\n",
       "      <th>4</th>\n",
       "      <td>3</td>\n",
       "      <td>4</td>\n",
       "      <td>3</td>\n",
       "      <td>4</td>\n",
       "      <td>4</td>\n",
       "      <td>4</td>\n",
       "      <td>very relaxing experience just returned from my...</td>\n",
       "    </tr>\n",
       "  </tbody>\n",
       "</table>\n",
       "</div>"
      ],
      "text/plain": [
       "   0  1  2  3  4  5                                                  6\n",
       "0  1  0  0  3  1  1  definitely not a 5 star resort i 'm dumbfounde...\n",
       "1  2  2  1  2  3  3  facilities need work xxPERIOD we visited excel...\n",
       "2  4  4  4  3  4  4  excellence was exactly that xxPERIOD my family...\n",
       "3  3  2  3  3  3  4  great service , nice hotel , mediocre food xxP...\n",
       "4  3  4  3  4  4  4  very relaxing experience just returned from my..."
      ]
     },
     "execution_count": 12,
     "metadata": {},
     "output_type": "execute_result"
    }
   ],
   "source": [
    "df_test = pd.concat( [aspect_rating_test, docs_test], axis=1, ignore_index=True )\n",
    "df_test.head()"
   ]
  },
  {
   "cell_type": "code",
   "execution_count": 14,
   "metadata": {
    "colab": {
     "base_uri": "https://localhost:8080/",
     "height": 34
    },
    "colab_type": "code",
    "executionInfo": {
     "elapsed": 505,
     "status": "ok",
     "timestamp": 1569095946785,
     "user": {
      "displayName": "aeryen Z",
      "photoUrl": "https://lh3.googleusercontent.com/a-/AAuE7mB9B8o-g7Bk7FNiOiB3NeIjUlkwmewejTdgq8tQqg=s64",
      "userId": "01125454621554722334"
     },
     "user_tz": 300
    },
    "id": "7nhhjh2rrRf_",
    "outputId": "75bf2c3d-27ce-4ee1-9b7b-9aea93bf604b",
    "scrolled": true
   },
   "outputs": [
    {
     "data": {
      "text/plain": [
       "(3739, 7)"
      ]
     },
     "execution_count": 14,
     "metadata": {},
     "output_type": "execute_result"
    }
   ],
   "source": [
    "df_test.shape"
   ]
  },
  {
   "cell_type": "markdown",
   "metadata": {
    "colab_type": "text",
    "id": "X7yyK5algPD4"
   },
   "source": [
    "# Build Language Model Data Bunch"
   ]
  },
  {
   "cell_type": "code",
   "execution_count": 29,
   "metadata": {
    "colab": {},
    "colab_type": "code",
    "id": "Q8p7xdvSx710"
   },
   "outputs": [],
   "source": [
    "lmdb = TextLMDataBunch.from_df(\"./data/\", train_df=df_train, valid_df=df_test, text_cols=6, label_cols=[0,1,2,3,4,5])"
   ]
  },
  {
   "cell_type": "code",
   "execution_count": 30,
   "metadata": {
    "colab": {
     "base_uri": "https://localhost:8080/",
     "height": 34
    },
    "colab_type": "code",
    "executionInfo": {
     "elapsed": 563,
     "status": "ok",
     "timestamp": 1569034865643,
     "user": {
      "displayName": "aeryen Z",
      "photoUrl": "https://lh3.googleusercontent.com/a-/AAuE7mB9B8o-g7Bk7FNiOiB3NeIjUlkwmewejTdgq8tQqg=s64",
      "userId": "01125454621554722334"
     },
     "user_tz": 300
    },
    "id": "pWa2ph8p1Dor",
    "outputId": "76bcf9b0-655f-4174-c144-10d14a8b2fa6"
   },
   "outputs": [
    {
     "data": {
      "text/plain": [
       "23008"
      ]
     },
     "execution_count": 30,
     "metadata": {},
     "output_type": "execute_result"
    }
   ],
   "source": [
    "len( lmdb.vocab.itos )"
   ]
  },
  {
   "cell_type": "code",
   "execution_count": 14,
   "metadata": {
    "colab": {
     "base_uri": "https://localhost:8080/",
     "height": 34
    },
    "colab_type": "code",
    "executionInfo": {
     "elapsed": 1322,
     "status": "ok",
     "timestamp": 1569034874640,
     "user": {
      "displayName": "aeryen Z",
      "photoUrl": "https://lh3.googleusercontent.com/a-/AAuE7mB9B8o-g7Bk7FNiOiB3NeIjUlkwmewejTdgq8tQqg=s64",
      "userId": "01125454621554722334"
     },
     "user_tz": 300
    },
    "id": "ah1tn8ugsfpU",
    "outputId": "8001445e-7be9-435d-ce55-3ce438eeae31"
   },
   "outputs": [
    {
     "data": {
      "text/plain": [
       "['xxunk', 'xxpad', 'xxbos', 'xxeos', 'xxfld', 'xxmaj', 'xxup', 'xxrep']"
      ]
     },
     "execution_count": 14,
     "metadata": {},
     "output_type": "execute_result"
    }
   ],
   "source": [
    "lmdb.vocab.itos[0:8]"
   ]
  },
  {
   "cell_type": "code",
   "execution_count": 15,
   "metadata": {
    "colab": {
     "base_uri": "https://localhost:8080/",
     "height": 323
    },
    "colab_type": "code",
    "executionInfo": {
     "elapsed": 15463,
     "status": "ok",
     "timestamp": 1569034891727,
     "user": {
      "displayName": "aeryen Z",
      "photoUrl": "https://lh3.googleusercontent.com/a-/AAuE7mB9B8o-g7Bk7FNiOiB3NeIjUlkwmewejTdgq8tQqg=s64",
      "userId": "01125454621554722334"
     },
     "user_tz": 300
    },
    "id": "uxgLWC3dyCvX",
    "outputId": "41d43147-a3a5-4838-8c02-1a21e5b1304f"
   },
   "outputs": [
    {
     "data": {
      "text/html": [
       "<table border=\"1\" class=\"dataframe\">\n",
       "  <thead>\n",
       "    <tr style=\"text-align: right;\">\n",
       "      <th>idx</th>\n",
       "      <th>text</th>\n",
       "    </tr>\n",
       "  </thead>\n",
       "  <tbody>\n",
       "    <tr>\n",
       "      <td>0</td>\n",
       "      <td>were great especially the michael jackson and the 70 's 80 's night xxperiod the french resturant was probably our favorite xxperiod we will definately be back for an anniversary trip xxperiod we made some friends but had plenty of xxunk as well xxperiod the rooms were great and everytime we left and came back it was cleaned , towels restocked and the bar was as well xxperiod xxbos a</td>\n",
       "    </tr>\n",
       "    <tr>\n",
       "      <td>1</td>\n",
       "      <td>xxperiod if you 're craving the coconut meat inside the coconut ( which was tasty ) then ask the bartender to crack open the coconut after you ' ve finished your drink xxperiod the lobster house was * hot * and if it 's been a hot day i would not recommend eating there xxperiod also we found the steamed lobster to be much better than the grilled ( we</td>\n",
       "    </tr>\n",
       "    <tr>\n",
       "      <td>2</td>\n",
       "      <td>advance to arrange a taxi , driver was waiting with a sign xxperiod xxunk five minutes , sixty bucks and a ten dollar tip later arrived at excellence xxperiod the drive nothing to worry about , xxunk through the potholes , application of the horn as an occasional xxunk aid , all fairly standard in our experience xxperiod you never really get going all that fast xxperiod certainly less of</td>\n",
       "    </tr>\n",
       "    <tr>\n",
       "      <td>3</td>\n",
       "      <td>check more prices at the vendors nextdoor they will sell it xxperiod those guys are some competition with eachother xxperiod they put towels out each hour , around 3 pm they disappear but you can find them at the clubhouse ( on beach its a mini gift shop / where you meet for the horse ride ) or at the pool behind the bar there is a hut that they</td>\n",
       "    </tr>\n",
       "    <tr>\n",
       "      <td>4</td>\n",
       "      <td>might have been some xxunk with the hotel but that is to be expected as any place ages xxperiod the ride from the airport was about an hour in a mini van which was included in our package xxperiod our driver was great he stopped along the way so the guys could grab a couple of beers xxperiod our check - in was a breeze and the bellboys were very</td>\n",
       "    </tr>\n",
       "  </tbody>\n",
       "</table>"
      ],
      "text/plain": [
       "<IPython.core.display.HTML object>"
      ]
     },
     "metadata": {},
     "output_type": "display_data"
    }
   ],
   "source": [
    "lmdb.show_batch()"
   ]
  },
  {
   "cell_type": "code",
   "execution_count": 16,
   "metadata": {
    "colab": {},
    "colab_type": "code",
    "id": "DvSRdhWcgPEO"
   },
   "outputs": [],
   "source": [
    "moms = (0.8,0.7)"
   ]
  },
  {
   "cell_type": "code",
   "execution_count": 17,
   "metadata": {
    "colab": {
     "base_uri": "https://localhost:8080/",
     "height": 204
    },
    "colab_type": "code",
    "executionInfo": {
     "elapsed": 1666523,
     "status": "ok",
     "timestamp": 1568498526893,
     "user": {
      "displayName": "aeryen Z",
      "photoUrl": "https://lh3.googleusercontent.com/a-/AAuE7mB9B8o-g7Bk7FNiOiB3NeIjUlkwmewejTdgq8tQqg=s64",
      "userId": "01125454621554722334"
     },
     "user_tz": 300
    },
    "id": "GmdFalGxgPEQ",
    "outputId": "9780b9e1-f8a1-47c4-968d-7b7d9683ea51"
   },
   "outputs": [
    {
     "data": {
      "text/html": [
       "<table border=\"1\" class=\"dataframe\">\n",
       "  <thead>\n",
       "    <tr style=\"text-align: left;\">\n",
       "      <th>epoch</th>\n",
       "      <th>train_loss</th>\n",
       "      <th>valid_loss</th>\n",
       "      <th>accuracy</th>\n",
       "      <th>time</th>\n",
       "    </tr>\n",
       "  </thead>\n",
       "  <tbody>\n",
       "    <tr>\n",
       "      <td>0</td>\n",
       "      <td>4.000441</td>\n",
       "      <td>3.756649</td>\n",
       "      <td>0.287865</td>\n",
       "      <td>01:57</td>\n",
       "    </tr>\n",
       "    <tr>\n",
       "      <td>1</td>\n",
       "      <td>3.788871</td>\n",
       "      <td>3.586668</td>\n",
       "      <td>0.304594</td>\n",
       "      <td>02:02</td>\n",
       "    </tr>\n",
       "    <tr>\n",
       "      <td>2</td>\n",
       "      <td>3.631943</td>\n",
       "      <td>3.490414</td>\n",
       "      <td>0.315590</td>\n",
       "      <td>01:59</td>\n",
       "    </tr>\n",
       "    <tr>\n",
       "      <td>3</td>\n",
       "      <td>3.458348</td>\n",
       "      <td>3.431321</td>\n",
       "      <td>0.322942</td>\n",
       "      <td>01:59</td>\n",
       "    </tr>\n",
       "    <tr>\n",
       "      <td>4</td>\n",
       "      <td>3.387737</td>\n",
       "      <td>3.421412</td>\n",
       "      <td>0.324441</td>\n",
       "      <td>02:00</td>\n",
       "    </tr>\n",
       "  </tbody>\n",
       "</table>"
      ],
      "text/plain": [
       "<IPython.core.display.HTML object>"
      ]
     },
     "metadata": {},
     "output_type": "display_data"
    }
   ],
   "source": [
    "learn = language_model_learner(lmdb, AWD_LSTM)\n",
    "learn.unfreeze()\n",
    "learn.fit_one_cycle(5, slice(1e-2), moms=moms)"
   ]
  },
  {
   "cell_type": "code",
   "execution_count": 24,
   "metadata": {
    "colab": {
     "base_uri": "https://localhost:8080/",
     "height": 204
    },
    "colab_type": "code",
    "executionInfo": {
     "elapsed": 1666523,
     "status": "ok",
     "timestamp": 1568498526893,
     "user": {
      "displayName": "aeryen Z",
      "photoUrl": "https://lh3.googleusercontent.com/a-/AAuE7mB9B8o-g7Bk7FNiOiB3NeIjUlkwmewejTdgq8tQqg=s64",
      "userId": "01125454621554722334"
     },
     "user_tz": 300
    },
    "id": "GmdFalGxgPEQ",
    "outputId": "9780b9e1-f8a1-47c4-968d-7b7d9683ea51"
   },
   "outputs": [
    {
     "data": {
      "text/html": [
       "<table border=\"1\" class=\"dataframe\">\n",
       "  <thead>\n",
       "    <tr style=\"text-align: left;\">\n",
       "      <th>epoch</th>\n",
       "      <th>train_loss</th>\n",
       "      <th>valid_loss</th>\n",
       "      <th>accuracy</th>\n",
       "      <th>time</th>\n",
       "    </tr>\n",
       "  </thead>\n",
       "  <tbody>\n",
       "    <tr>\n",
       "      <td>0</td>\n",
       "      <td>3.961397</td>\n",
       "      <td>3.744603</td>\n",
       "      <td>0.289252</td>\n",
       "      <td>06:04</td>\n",
       "    </tr>\n",
       "    <tr>\n",
       "      <td>1</td>\n",
       "      <td>3.766985</td>\n",
       "      <td>3.583916</td>\n",
       "      <td>0.304960</td>\n",
       "      <td>06:13</td>\n",
       "    </tr>\n",
       "    <tr>\n",
       "      <td>2</td>\n",
       "      <td>3.601011</td>\n",
       "      <td>3.487880</td>\n",
       "      <td>0.315974</td>\n",
       "      <td>06:14</td>\n",
       "    </tr>\n",
       "    <tr>\n",
       "      <td>3</td>\n",
       "      <td>3.475492</td>\n",
       "      <td>3.431211</td>\n",
       "      <td>0.322712</td>\n",
       "      <td>06:15</td>\n",
       "    </tr>\n",
       "    <tr>\n",
       "      <td>4</td>\n",
       "      <td>3.398683</td>\n",
       "      <td>3.420531</td>\n",
       "      <td>0.324421</td>\n",
       "      <td>06:15</td>\n",
       "    </tr>\n",
       "  </tbody>\n",
       "</table>"
      ],
      "text/plain": [
       "<IPython.core.display.HTML object>"
      ]
     },
     "metadata": {},
     "output_type": "display_data"
    }
   ],
   "source": [
    "learn = language_model_learner(lmdb, AWD_LSTM)\n",
    "learn.unfreeze()\n",
    "learn.fit_one_cycle(5, slice(1e-2), moms=moms)"
   ]
  },
  {
   "cell_type": "code",
   "execution_count": 18,
   "metadata": {
    "colab": {},
    "colab_type": "code",
    "id": "5jurW3So0KYQ"
   },
   "outputs": [],
   "source": [
    "lmdb.save('lm_databunch_hotel.1115')"
   ]
  },
  {
   "cell_type": "code",
   "execution_count": 19,
   "metadata": {
    "colab": {},
    "colab_type": "code",
    "id": "dh9nWZFCgPEV"
   },
   "outputs": [],
   "source": [
    "learn.save('lm_learner_hotel.1115')"
   ]
  },
  {
   "cell_type": "code",
   "execution_count": 25,
   "metadata": {},
   "outputs": [],
   "source": [
    "learn.save_encoder('lm_enc_hotel.1115')"
   ]
  },
  {
   "cell_type": "markdown",
   "metadata": {
    "colab_type": "text",
    "id": "tl9z2TWMgPEa"
   },
   "source": [
    "# Build Classifier Data Bunch"
   ]
  },
  {
   "cell_type": "code",
   "execution_count": 38,
   "metadata": {},
   "outputs": [
    {
     "data": {
      "text/plain": [
       "(8969, 2204)"
      ]
     },
     "execution_count": 38,
     "metadata": {},
     "output_type": "execute_result"
    }
   ],
   "source": [
    "np.random.seed(42)\n",
    "msk = np.random.rand(len(df_train)) < 0.8\n",
    "df_train08 = df_train[msk]\n",
    "df_valid02 = df_train[~msk]\n",
    "len(df_train08), len(df_valid02)"
   ]
  },
  {
   "cell_type": "code",
   "execution_count": 39,
   "metadata": {},
   "outputs": [],
   "source": [
    "clas_db_tvt = TextClasDataBunch.from_df(\"./data/\",\n",
    "                                     train_df=df_train08,\n",
    "                                     valid_df=df_valid02,\n",
    "                                     test_df=df_test,\n",
    "                                     text_cols=6,\n",
    "                                     label_cols=[0,1,2,3,4,5],\n",
    "                                     vocab=lmdb.train_ds.vocab,\n",
    "                                     bs=42)"
   ]
  },
  {
   "cell_type": "code",
   "execution_count": 45,
   "metadata": {
    "colab": {},
    "colab_type": "code",
    "id": "92selqJMyPGq"
   },
   "outputs": [],
   "source": [
    "clas_db_tv = TextClasDataBunch.from_df(\"./data/\",\n",
    "                                     train_df=df_train,\n",
    "                                     valid_df=df_test,\n",
    "                                     text_cols=6,\n",
    "                                     label_cols=[0,1,2,3,4,5],\n",
    "                                     vocab=lmdb.train_ds.vocab,\n",
    "                                     bs=42)"
   ]
  },
  {
   "cell_type": "code",
   "execution_count": 40,
   "metadata": {
    "colab": {
     "base_uri": "https://localhost:8080/",
     "height": 357
    },
    "colab_type": "code",
    "executionInfo": {
     "elapsed": 1929,
     "status": "ok",
     "timestamp": 1569096033552,
     "user": {
      "displayName": "aeryen Z",
      "photoUrl": "https://lh3.googleusercontent.com/a-/AAuE7mB9B8o-g7Bk7FNiOiB3NeIjUlkwmewejTdgq8tQqg=s64",
      "userId": "01125454621554722334"
     },
     "user_tz": 300
    },
    "id": "07TQh-iS07Rm",
    "outputId": "96147741-7707-4572-8cfe-f2f39ccb13a8",
    "scrolled": false
   },
   "outputs": [
    {
     "data": {
      "text/html": [
       "<table border=\"1\" class=\"dataframe\">\n",
       "  <thead>\n",
       "    <tr style=\"text-align: right;\">\n",
       "      <th>text</th>\n",
       "      <th>target</th>\n",
       "    </tr>\n",
       "  </thead>\n",
       "  <tbody>\n",
       "    <tr>\n",
       "      <td>xxbos \" an extremely disappointing experience \" where do i beging xxperiod first let me just say that originally i had booked a reservation to stay at this hotel for 9 days instead of the two days that i lasted with my family at this hotel xxperiod the original comfirmed reservation was to have taken place from friday august 15 to sunday august xxunk in may this year i was</td>\n",
       "      <td></td>\n",
       "    </tr>\n",
       "    <tr>\n",
       "      <td>xxbos warning to all - read before going xxperiod we went to the bahia from may 4 - 11 xxperiod i felt it important to share my experience with all of you as i did read posts from this site prior to booking xxperiod day 1 friday : arrived at hotel , when you get off the bus , the hotel tags your luggage and they tell you to go</td>\n",
       "      <td></td>\n",
       "    </tr>\n",
       "    <tr>\n",
       "      <td>xxbos we had a fabulous stay xxperiod we stayed at the edenh from march 8 ? xxperiod our stay was beyond fantastic and our only complaint is that by this time next year we won ? ? be able to afford to stay there again xxperiod we arrived at the hotel at approximately 5:30pm , our check in was smooth with absolutely no problems , the bell boy took our</td>\n",
       "      <td></td>\n",
       "    </tr>\n",
       "    <tr>\n",
       "      <td>xxbos i had a free room two things , first xxperiod one , i ' m picky xxperiod two , this stay was free for me as a friend was attending a conference and her husband could not join her - - i was asked if i 'd like to come along and well , i work for an airline and get nearly free airfare and so , what could</td>\n",
       "      <td>2;4</td>\n",
       "    </tr>\n",
       "    <tr>\n",
       "      <td>xxbos interesting my husband , three year old and i just returned from punta cana tonight xxperiod so ends an interesting week xxperiod we flew to the dominican , for our 2nd visit , on valentine 's day xxperiod we had a private vehicle pick us up at the airport and arrived quite quickly xxperiod check - in was quick and we were given a very nice room xxperiod the</td>\n",
       "      <td></td>\n",
       "    </tr>\n",
       "  </tbody>\n",
       "</table>"
      ],
      "text/plain": [
       "<IPython.core.display.HTML object>"
      ]
     },
     "metadata": {},
     "output_type": "display_data"
    }
   ],
   "source": [
    "clas_db.show_batch()"
   ]
  },
  {
   "cell_type": "code",
   "execution_count": 33,
   "metadata": {
    "colab": {
     "base_uri": "https://localhost:8080/",
     "height": 102
    },
    "colab_type": "code",
    "executionInfo": {
     "elapsed": 1882,
     "status": "ok",
     "timestamp": 1569096035929,
     "user": {
      "displayName": "aeryen Z",
      "photoUrl": "https://lh3.googleusercontent.com/a-/AAuE7mB9B8o-g7Bk7FNiOiB3NeIjUlkwmewejTdgq8tQqg=s64",
      "userId": "01125454621554722334"
     },
     "user_tz": 300
    },
    "id": "T0mLVWQHt2ko",
    "outputId": "db808f37-a8f8-4a2e-e847-46ed1fdb2e26"
   },
   "outputs": [
    {
     "data": {
      "text/plain": [
       "tensor([[4., 3., 3., 3., 4., 4.],\n",
       "        [2., 4., 3., 4., 4., 1.],\n",
       "        [2., 4., 0., 3., 3., 0.],\n",
       "        [3., 2., 0., 3., 1., 2.],\n",
       "        [1., 2., 1., 3., 3., 4.]])"
      ]
     },
     "execution_count": 33,
     "metadata": {},
     "output_type": "execute_result"
    }
   ],
   "source": [
    "x,y = clas_db.one_batch()\n",
    "y[0:5]"
   ]
  },
  {
   "cell_type": "code",
   "execution_count": 23,
   "metadata": {
    "colab": {
     "base_uri": "https://localhost:8080/",
     "height": 34
    },
    "colab_type": "code",
    "executionInfo": {
     "elapsed": 238,
     "status": "ok",
     "timestamp": 1569037406316,
     "user": {
      "displayName": "aeryen Z",
      "photoUrl": "https://lh3.googleusercontent.com/a-/AAuE7mB9B8o-g7Bk7FNiOiB3NeIjUlkwmewejTdgq8tQqg=s64",
      "userId": "01125454621554722334"
     },
     "user_tz": 300
    },
    "id": "kakoH5HWgPEl",
    "outputId": "72551059-0043-45dd-a191-3f6090876e12"
   },
   "outputs": [
    {
     "data": {
      "text/plain": [
       "10"
      ]
     },
     "execution_count": 23,
     "metadata": {},
     "output_type": "execute_result"
    }
   ],
   "source": [
    "period_index = clas_db.vocab.stoi[\"xxperiod\"]\n",
    "period_index"
   ]
  },
  {
   "cell_type": "code",
   "execution_count": 32,
   "metadata": {
    "colab": {
     "base_uri": "https://localhost:8080/",
     "height": 34
    },
    "colab_type": "code",
    "executionInfo": {
     "elapsed": 267,
     "status": "ok",
     "timestamp": 1569037411334,
     "user": {
      "displayName": "aeryen Z",
      "photoUrl": "https://lh3.googleusercontent.com/a-/AAuE7mB9B8o-g7Bk7FNiOiB3NeIjUlkwmewejTdgq8tQqg=s64",
      "userId": "01125454621554722334"
     },
     "user_tz": 300
    },
    "id": "LDr1t0WvnazK",
    "outputId": "3ef6c1cc-d335-4fc8-e634-11a22fde4f7a"
   },
   "outputs": [
    {
     "data": {
      "text/plain": [
       "tensor([False, False, False, False, False, False, False, False, False, False,\n",
       "        False,  True, False, False, False, False, False, False, False, False,\n",
       "        False, False, False, False, False, False, False, False, False, False,\n",
       "        False, False, False, False, False, False, False, False, False, False,\n",
       "        False, False, False, False, False, False,  True, False, False, False])"
      ]
     },
     "execution_count": 32,
     "metadata": {},
     "output_type": "execute_result"
    }
   ],
   "source": [
    "x[0].cpu()[0:50] == period_index"
   ]
  },
  {
   "cell_type": "code",
   "execution_count": 34,
   "metadata": {
    "colab": {
     "base_uri": "https://localhost:8080/",
     "height": 54
    },
    "colab_type": "code",
    "executionInfo": {
     "elapsed": 212,
     "status": "ok",
     "timestamp": 1569037417599,
     "user": {
      "displayName": "aeryen Z",
      "photoUrl": "https://lh3.googleusercontent.com/a-/AAuE7mB9B8o-g7Bk7FNiOiB3NeIjUlkwmewejTdgq8tQqg=s64",
      "userId": "01125454621554722334"
     },
     "user_tz": 300
    },
    "id": "l3SMBfRFHgil",
    "outputId": "dfbfcb65-2418-4fd2-d427-9b31094a7909",
    "scrolled": true
   },
   "outputs": [
    {
     "data": {
      "text/plain": [
       "'xxbos better than expected with a toddler too xxperiod background about us : we are a traveling type of family from humid houston , texas and have been to numerous carribean resorts , this was our first time to the dr , punta cana xxperiod please note that we are'"
      ]
     },
     "execution_count": 34,
     "metadata": {},
     "output_type": "execute_result"
    }
   ],
   "source": [
    "clas_db.vocab.textify(x.cpu()[0,0:50])"
   ]
  },
  {
   "cell_type": "code",
   "execution_count": 41,
   "metadata": {
    "colab": {},
    "colab_type": "code",
    "id": "IzV244n66xXb"
   },
   "outputs": [],
   "source": [
    "clas_db_tvt.save(\"hotel_clas_databunch.TraValTes\")"
   ]
  },
  {
   "cell_type": "code",
   "execution_count": 46,
   "metadata": {
    "colab": {},
    "colab_type": "code",
    "id": "IzV244n66xXb"
   },
   "outputs": [],
   "source": [
    "clas_db_tv.save(\"hotel_clas_databunch.TraVal\")"
   ]
  },
  {
   "cell_type": "markdown",
   "metadata": {
    "colab_type": "text",
    "id": "Q0TeA8-z6GLP"
   },
   "source": [
    "##  -- load LM Databunch and LM Learner"
   ]
  },
  {
   "cell_type": "code",
   "execution_count": 4,
   "metadata": {
    "colab": {},
    "colab_type": "code",
    "id": "EKEjqX351GhF"
   },
   "outputs": [],
   "source": [
    "lmdb = load_data(\"./data/\", \"hotel_lm_databunch.1001\")"
   ]
  },
  {
   "cell_type": "code",
   "execution_count": 5,
   "metadata": {
    "colab": {},
    "colab_type": "code",
    "id": "ELlhNmT24xvm"
   },
   "outputs": [
    {
     "name": "stdout",
     "output_type": "stream",
     "text": [
      "freezing:WeightDropout(\n",
      "  (module): LSTM(400, 1152, batch_first=True)\n",
      ")\n",
      "freezing:RNNDropout()\n",
      "freezing:WeightDropout(\n",
      "  (module): LSTM(1152, 1152, batch_first=True)\n",
      ")\n",
      "freezing:RNNDropout()\n",
      "freezing:WeightDropout(\n",
      "  (module): LSTM(1152, 400, batch_first=True)\n",
      ")\n",
      "freezing:RNNDropout()\n"
     ]
    }
   ],
   "source": [
    "learn = language_model_learner(lmdb, AWD_LSTM)\n",
    "learn.unfreeze()\n",
    "learn = learn.load(\"lang_model_hotel\")"
   ]
  },
  {
   "cell_type": "markdown",
   "metadata": {
    "colab_type": "text",
    "id": "_CrQZNtU74Fq"
   },
   "source": [
    "## -- load databunch"
   ]
  },
  {
   "cell_type": "code",
   "execution_count": 6,
   "metadata": {
    "colab": {},
    "colab_type": "code",
    "id": "RwtIMD5T73GS"
   },
   "outputs": [],
   "source": [
    "clas_db = load_data(\"./data/\", \"hotel_cls_databunch.aspect_only\")"
   ]
  },
  {
   "cell_type": "code",
   "execution_count": 7,
   "metadata": {
    "colab": {},
    "colab_type": "code",
    "id": "-gvEDa4cISdR"
   },
   "outputs": [],
   "source": [
    "clas_db.batch_size=2"
   ]
  },
  {
   "cell_type": "code",
   "execution_count": 8,
   "metadata": {
    "colab": {
     "base_uri": "https://localhost:8080/",
     "height": 34
    },
    "colab_type": "code",
    "executionInfo": {
     "elapsed": 27811,
     "status": "ok",
     "timestamp": 1569120818943,
     "user": {
      "displayName": "aeryen Z",
      "photoUrl": "https://lh3.googleusercontent.com/a-/AAuE7mB9B8o-g7Bk7FNiOiB3NeIjUlkwmewejTdgq8tQqg=s64",
      "userId": "01125454621554722334"
     },
     "user_tz": 300
    },
    "id": "sbsl6iWkYh-P",
    "outputId": "6721b6e5-6616-45eb-cb45-f09897f84c86"
   },
   "outputs": [
    {
     "data": {
      "text/plain": [
       "5"
      ]
     },
     "execution_count": 8,
     "metadata": {},
     "output_type": "execute_result"
    }
   ],
   "source": [
    "clas_db.c"
   ]
  },
  {
   "cell_type": "code",
   "execution_count": 14,
   "metadata": {},
   "outputs": [
    {
     "name": "stdout",
     "output_type": "stream",
     "text": [
      "freezing:Embedding(23008, 400, padding_idx=1)\n",
      "freezing:EmbeddingDropout(\n",
      "  (emb): Embedding(23008, 400, padding_idx=1)\n",
      ")\n",
      "freezing:WeightDropout(\n",
      "  (module): LSTM(400, 1152, batch_first=True)\n",
      ")\n",
      "freezing:RNNDropout()\n",
      "freezing:WeightDropout(\n",
      "  (module): LSTM(1152, 1152, batch_first=True)\n",
      ")\n",
      "freezing:RNNDropout()\n",
      "freezing:WeightDropout(\n",
      "  (module): LSTM(1152, 400, batch_first=True)\n",
      ")\n",
      "freezing:RNNDropout()\n"
     ]
    }
   ],
   "source": [
    "cls_learn = text_classifier_learner(clas_db, AWD_LSTM)"
   ]
  },
  {
   "cell_type": "markdown",
   "metadata": {
    "colab_type": "text",
    "id": "HZ_31Rm6gPFK"
   },
   "source": [
    "# Model Test"
   ]
  },
  {
   "cell_type": "code",
   "execution_count": 8,
   "metadata": {
    "colab": {
     "base_uri": "https://localhost:8080/",
     "height": 408
    },
    "colab_type": "code",
    "executionInfo": {
     "elapsed": 335,
     "status": "ok",
     "timestamp": 1569121884111,
     "user": {
      "displayName": "aeryen Z",
      "photoUrl": "https://lh3.googleusercontent.com/a-/AAuE7mB9B8o-g7Bk7FNiOiB3NeIjUlkwmewejTdgq8tQqg=s64",
      "userId": "01125454621554722334"
     },
     "user_tz": 300
    },
    "id": "fwLNiaT8gPFL",
    "outputId": "5c44d41e-3511-47b9-dd19-97b7a4a067ca",
    "scrolled": true
   },
   "outputs": [],
   "source": [
    "encoder = learn.model[0]\n",
    "encoder.reset()"
   ]
  },
  {
   "cell_type": "code",
   "execution_count": 9,
   "metadata": {
    "colab": {
     "base_uri": "https://localhost:8080/",
     "height": 34
    },
    "colab_type": "code",
    "executionInfo": {
     "elapsed": 782,
     "status": "ok",
     "timestamp": 1569102956616,
     "user": {
      "displayName": "aeryen Z",
      "photoUrl": "https://lh3.googleusercontent.com/a-/AAuE7mB9B8o-g7Bk7FNiOiB3NeIjUlkwmewejTdgq8tQqg=s64",
      "userId": "01125454621554722334"
     },
     "user_tz": 300
    },
    "id": "JluJsA9GgPFN",
    "outputId": "96488910-c11b-4245-99ce-5a2c38bda33a"
   },
   "outputs": [
    {
     "data": {
      "text/plain": [
       "'the rooms are very prodding with this xxperiod we got this but we were excited about going to melia tropical due to the fact'"
      ]
     },
     "execution_count": 9,
     "metadata": {},
     "output_type": "execute_result"
    }
   ],
   "source": [
    "learn.predict(\"the rooms are very\", n_words=20)"
   ]
  },
  {
   "cell_type": "code",
   "execution_count": null,
   "metadata": {
    "colab": {},
    "colab_type": "code",
    "id": "puwPgoLvgPGP"
   },
   "outputs": [],
   "source": []
  }
 ],
 "metadata": {
  "accelerator": "GPU",
  "colab": {
   "collapsed_sections": [],
   "name": "Train_Hotel.ipynb",
   "provenance": [],
   "toc_visible": true
  },
  "kernelspec": {
   "display_name": "Python 3",
   "language": "python",
   "name": "python3"
  },
  "language_info": {
   "codemirror_mode": {
    "name": "ipython",
    "version": 3
   },
   "file_extension": ".py",
   "mimetype": "text/x-python",
   "name": "python",
   "nbconvert_exporter": "python",
   "pygments_lexer": "ipython3",
   "version": "3.7.5"
  }
 },
 "nbformat": 4,
 "nbformat_minor": 4
}
