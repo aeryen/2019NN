{
 "cells": [
  {
   "cell_type": "code",
   "execution_count": 1,
   "metadata": {
    "colab": {},
    "colab_type": "code",
    "id": "VJMaZhuQgPCy"
   },
   "outputs": [],
   "source": [
    "%reload_ext autoreload\n",
    "%autoreload 2\n",
    "%matplotlib inline"
   ]
  },
  {
   "cell_type": "code",
   "execution_count": 3,
   "metadata": {
    "colab": {
     "base_uri": "https://localhost:8080/",
     "height": 122
    },
    "colab_type": "code",
    "executionInfo": {
     "elapsed": 18900,
     "status": "ok",
     "timestamp": 1569120613226,
     "user": {
      "displayName": "aeryen Z",
      "photoUrl": "https://lh3.googleusercontent.com/a-/AAuE7mB9B8o-g7Bk7FNiOiB3NeIjUlkwmewejTdgq8tQqg=s64",
      "userId": "01125454621554722334"
     },
     "user_tz": 300
    },
    "id": "WTIB5x48Bc1m",
    "outputId": "f4bebf64-37d4-4a91-d724-6ef220a5f9b7"
   },
   "outputs": [
    {
     "name": "stdout",
     "output_type": "stream",
     "text": [
      "Go to this URL in a browser: https://accounts.google.com/o/oauth2/auth?client_id=947318989803-6bn6qk8qdgf4n4g3pfee6491hc0brc4i.apps.googleusercontent.com&redirect_uri=urn%3Aietf%3Awg%3Aoauth%3A2.0%3Aoob&scope=email%20https%3A%2F%2Fwww.googleapis.com%2Fauth%2Fdocs.test%20https%3A%2F%2Fwww.googleapis.com%2Fauth%2Fdrive%20https%3A%2F%2Fwww.googleapis.com%2Fauth%2Fdrive.photos.readonly%20https%3A%2F%2Fwww.googleapis.com%2Fauth%2Fpeopleapi.readonly&response_type=code\n",
      "\n",
      "Enter your authorization code:\n",
      "··········\n",
      "Mounted at /content/gdrive\n"
     ]
    }
   ],
   "source": [
    "from google.colab import drive\n",
    "drive.mount('/content/gdrive')"
   ]
  },
  {
   "cell_type": "code",
   "execution_count": 4,
   "metadata": {
    "colab": {
     "base_uri": "https://localhost:8080/",
     "height": 34
    },
    "colab_type": "code",
    "executionInfo": {
     "elapsed": 17554,
     "status": "ok",
     "timestamp": 1569120613230,
     "user": {
      "displayName": "aeryen Z",
      "photoUrl": "https://lh3.googleusercontent.com/a-/AAuE7mB9B8o-g7Bk7FNiOiB3NeIjUlkwmewejTdgq8tQqg=s64",
      "userId": "01125454621554722334"
     },
     "user_tz": 300
    },
    "id": "7iOVNdpnBnka",
    "outputId": "d0305665-c89b-4e1d-84a1-adcf90e72b71"
   },
   "outputs": [
    {
     "name": "stdout",
     "output_type": "stream",
     "text": [
      "/content/gdrive/My Drive/Colab Notebooks/2019NN\n"
     ]
    }
   ],
   "source": [
    "%cd /content/gdrive/My Drive/Colab Notebooks/2019NN/"
   ]
  },
  {
   "cell_type": "code",
   "execution_count": 1,
   "metadata": {
    "colab": {
     "base_uri": "https://localhost:8080/",
     "height": 85
    },
    "colab_type": "code",
    "executionInfo": {
     "elapsed": 1577,
     "status": "ok",
     "timestamp": 1569120617962,
     "user": {
      "displayName": "aeryen Z",
      "photoUrl": "https://lh3.googleusercontent.com/a-/AAuE7mB9B8o-g7Bk7FNiOiB3NeIjUlkwmewejTdgq8tQqg=s64",
      "userId": "01125454621554722334"
     },
     "user_tz": 300
    },
    "id": "7EE9qSuEBuAw",
    "outputId": "1997cbc1-7558-42ab-c424-c1cd67daccbe"
   },
   "outputs": [
    {
     "name": "stdout",
     "output_type": "stream",
     "text": [
      "data  data_helpers  Train_Hotel.ipynb  Train_Hotel.py\n"
     ]
    }
   ],
   "source": [
    "!ls"
   ]
  },
  {
   "cell_type": "code",
   "execution_count": 6,
   "metadata": {
    "colab": {
     "base_uri": "https://localhost:8080/",
     "height": 51
    },
    "colab_type": "code",
    "executionInfo": {
     "elapsed": 5832,
     "status": "ok",
     "timestamp": 1569120622645,
     "user": {
      "displayName": "aeryen Z",
      "photoUrl": "https://lh3.googleusercontent.com/a-/AAuE7mB9B8o-g7Bk7FNiOiB3NeIjUlkwmewejTdgq8tQqg=s64",
      "userId": "01125454621554722334"
     },
     "user_tz": 300
    },
    "id": "z220QV_gh_mw",
    "outputId": "94f385a3-3816-4aa9-e700-1565a50bf0c6"
   },
   "outputs": [
    {
     "name": "stdout",
     "output_type": "stream",
     "text": [
      "Updating fastai...\n",
      "Done.\n"
     ]
    }
   ],
   "source": [
    "!curl -s https://course.fast.ai/setup/colab | bash"
   ]
  },
  {
   "cell_type": "markdown",
   "metadata": {
    "colab_type": "text",
    "id": "afrCQUiGB4PO"
   },
   "source": [
    "# Start"
   ]
  },
  {
   "cell_type": "code",
   "execution_count": 1,
   "metadata": {
    "colab": {},
    "colab_type": "code",
    "id": "zWnO59eDBv6m"
   },
   "outputs": [],
   "source": [
    "from fastai.text import *\n",
    "from data_helpers.Data import *\n",
    "from fastai.text.transform import *"
   ]
  },
  {
   "cell_type": "code",
   "execution_count": 3,
   "metadata": {
    "colab": {
     "base_uri": "https://localhost:8080/",
     "height": 34
    },
    "colab_type": "code",
    "executionInfo": {
     "elapsed": 376,
     "status": "ok",
     "timestamp": 1569100899217,
     "user": {
      "displayName": "aeryen Z",
      "photoUrl": "https://lh3.googleusercontent.com/a-/AAuE7mB9B8o-g7Bk7FNiOiB3NeIjUlkwmewejTdgq8tQqg=s64",
      "userId": "01125454621554722334"
     },
     "user_tz": 300
    },
    "id": "SrUpsKpAgPDP",
    "outputId": "fca792fd-c824-4e9b-98de-eb00ae1c6531"
   },
   "outputs": [
    {
     "data": {
      "text/plain": [
       "True"
      ]
     },
     "execution_count": 3,
     "metadata": {},
     "output_type": "execute_result"
    }
   ],
   "source": [
    "torch.cuda.is_available()"
   ]
  },
  {
   "cell_type": "code",
   "execution_count": 4,
   "metadata": {
    "colab": {
     "base_uri": "https://localhost:8080/",
     "height": 34
    },
    "colab_type": "code",
    "executionInfo": {
     "elapsed": 292,
     "status": "ok",
     "timestamp": 1569033804714,
     "user": {
      "displayName": "aeryen Z",
      "photoUrl": "https://lh3.googleusercontent.com/a-/AAuE7mB9B8o-g7Bk7FNiOiB3NeIjUlkwmewejTdgq8tQqg=s64",
      "userId": "01125454621554722334"
     },
     "user_tz": 300
    },
    "id": "rEXnUmEmoiSV",
    "outputId": "3cb24603-1820-4dc3-af01-cbea41a0b1b2"
   },
   "outputs": [
    {
     "data": {
      "text/plain": [
       "1"
      ]
     },
     "execution_count": 4,
     "metadata": {},
     "output_type": "execute_result"
    }
   ],
   "source": [
    "torch.cuda.device_count()"
   ]
  },
  {
   "cell_type": "code",
   "execution_count": 5,
   "metadata": {
    "colab": {
     "base_uri": "https://localhost:8080/",
     "height": 34
    },
    "colab_type": "code",
    "executionInfo": {
     "elapsed": 424,
     "status": "ok",
     "timestamp": 1569034397150,
     "user": {
      "displayName": "aeryen Z",
      "photoUrl": "https://lh3.googleusercontent.com/a-/AAuE7mB9B8o-g7Bk7FNiOiB3NeIjUlkwmewejTdgq8tQqg=s64",
      "userId": "01125454621554722334"
     },
     "user_tz": 300
    },
    "id": "L_WLDOMmqhnF",
    "outputId": "270ed40a-32f3-4142-e979-4ea077c6d13d"
   },
   "outputs": [
    {
     "data": {
      "text/plain": [
       "'Tesla P4'"
      ]
     },
     "execution_count": 5,
     "metadata": {},
     "output_type": "execute_result"
    }
   ],
   "source": [
    "torch.cuda.get_device_name(device=0)"
   ]
  },
  {
   "cell_type": "code",
   "execution_count": 2,
   "metadata": {
    "colab": {},
    "colab_type": "code",
    "id": "XO6heDh_UXhG"
   },
   "outputs": [],
   "source": [
    "sent_num_file = [\"aspect_0.count\", \"test_aspect_0.count\"]\n",
    "rating_file = [\"aspect_0.rating\", \"test_aspect_0.rating\"]\n",
    "content_file = [\"aspect_0.txt\", \"test_aspect_0.txt\"]\n",
    "\n",
    "dataset_dir = \"./data/hotel_balance_LengthFix1_3000per/\""
   ]
  },
  {
   "cell_type": "code",
   "execution_count": 3,
   "metadata": {
    "colab": {},
    "colab_type": "code",
    "id": "e_gf-HvfUbWY"
   },
   "outputs": [],
   "source": [
    "def concat_to_doc(sent_list, sent_count):\n",
    "    start_index = 0\n",
    "    docs = []\n",
    "    for s in sent_count:\n",
    "        doc = \" xxPERIOD \".join(sent_list[start_index:start_index + s])\n",
    "        doc = doc + \" xxPERIOD \"\n",
    "        docs.append(doc)\n",
    "        start_index = start_index + s\n",
    "    return docs"
   ]
  },
  {
   "cell_type": "code",
   "execution_count": 4,
   "metadata": {
    "colab": {},
    "colab_type": "code",
    "id": "e57dcDj_UcTW"
   },
   "outputs": [],
   "source": [
    "TRAIN_DATA = 0\n",
    "TEST_DATA = 1"
   ]
  },
  {
   "cell_type": "code",
   "execution_count": 5,
   "metadata": {
    "colab": {
     "base_uri": "https://localhost:8080/",
     "height": 173
    },
    "colab_type": "code",
    "executionInfo": {
     "elapsed": 4203,
     "status": "ok",
     "timestamp": 1569095898017,
     "user": {
      "displayName": "aeryen Z",
      "photoUrl": "https://lh3.googleusercontent.com/a-/AAuE7mB9B8o-g7Bk7FNiOiB3NeIjUlkwmewejTdgq8tQqg=s64",
      "userId": "01125454621554722334"
     },
     "user_tz": 300
    },
    "id": "8kg5bDZcUdO_",
    "outputId": "325e43e2-b6a3-416d-f428-82eb965bb441"
   },
   "outputs": [
    {
     "name": "stdout",
     "output_type": "stream",
     "text": [
      "[10, 14, 14, 24, 23]\n",
      "   0  1  2  3  4  5\n",
      "0  4  4  4  4  4  4\n",
      "1  4  3  4  4  4  4\n",
      "2  1  0  1  1  2  1\n",
      "3  3  2  3  2  4  3\n",
      "4  3  2  1  2  2  4\n",
      "['we had the most wonderful time at the excellence', 'we opted for the excellence club and it was well worht it for the perks', 'roberto puello who was the club manager did an extra special job of making us feel welcomed', 'we took some great pictures that looked like postcards', 'the food was excellent the pizza was close to being our favorite']\n"
     ]
    }
   ],
   "source": [
    "# Load Count\n",
    "sent_count_train = list(open(dataset_dir + sent_num_file[TRAIN_DATA], \"r\").readlines())\n",
    "sent_count_train = [int(s) for s in sent_count_train if (len(s) > 0 and s != \"\\n\")]\n",
    "print( sent_count_train[0:5] )\n",
    "\n",
    "# Load Ratings\n",
    "aspect_rating_train = list(open(dataset_dir + rating_file[TRAIN_DATA], \"r\").readlines())\n",
    "aspect_rating_train = [s for s in aspect_rating_train if (len(s) > 0 and s != \"\\n\")]\n",
    "\n",
    "aspect_rating_train = [s.split(\" \") for s in aspect_rating_train]\n",
    "aspect_rating_train = np.array(aspect_rating_train)[:, 0:-1]\n",
    "aspect_rating_train = aspect_rating_train.astype(np.int) - 1\n",
    "aspect_rating_train = pd.DataFrame(aspect_rating_train)\n",
    "print( aspect_rating_train.head() )\n",
    "\n",
    "# Load Sents\n",
    "sents_train = list(open(dataset_dir + content_file[TRAIN_DATA], \"r\").readlines())\n",
    "sents_train = [s.strip() for s in sents_train]\n",
    "print( sents_train[0:5] )"
   ]
  },
  {
   "cell_type": "code",
   "execution_count": 6,
   "metadata": {
    "colab": {
     "base_uri": "https://localhost:8080/",
     "height": 204
    },
    "colab_type": "code",
    "executionInfo": {
     "elapsed": 569,
     "status": "ok",
     "timestamp": 1569095913787,
     "user": {
      "displayName": "aeryen Z",
      "photoUrl": "https://lh3.googleusercontent.com/a-/AAuE7mB9B8o-g7Bk7FNiOiB3NeIjUlkwmewejTdgq8tQqg=s64",
      "userId": "01125454621554722334"
     },
     "user_tz": 300
    },
    "id": "hVf-aEFDspR7",
    "outputId": "cc1e8a6d-7ac7-42eb-a112-43261bfa948a"
   },
   "outputs": [
    {
     "data": {
      "text/html": [
       "<div>\n",
       "<style scoped>\n",
       "    .dataframe tbody tr th:only-of-type {\n",
       "        vertical-align: middle;\n",
       "    }\n",
       "\n",
       "    .dataframe tbody tr th {\n",
       "        vertical-align: top;\n",
       "    }\n",
       "\n",
       "    .dataframe thead th {\n",
       "        text-align: right;\n",
       "    }\n",
       "</style>\n",
       "<table border=\"1\" class=\"dataframe\">\n",
       "  <thead>\n",
       "    <tr style=\"text-align: right;\">\n",
       "      <th></th>\n",
       "      <th>0</th>\n",
       "    </tr>\n",
       "  </thead>\n",
       "  <tbody>\n",
       "    <tr>\n",
       "      <td>0</td>\n",
       "      <td>we had the most wonderful time at the excellen...</td>\n",
       "    </tr>\n",
       "    <tr>\n",
       "      <td>1</td>\n",
       "      <td>a truly fantastic place xmas  we have just ret...</td>\n",
       "    </tr>\n",
       "    <tr>\n",
       "      <td>2</td>\n",
       "      <td>too sick to enjoy the ride to and form the air...</td>\n",
       "    </tr>\n",
       "    <tr>\n",
       "      <td>3</td>\n",
       "      <td>relaxing and fun , but xxPERIOD i rang in the ...</td>\n",
       "    </tr>\n",
       "    <tr>\n",
       "      <td>4</td>\n",
       "      <td>somewhat excellence we just returned from a on...</td>\n",
       "    </tr>\n",
       "  </tbody>\n",
       "</table>\n",
       "</div>"
      ],
      "text/plain": [
       "                                                   0\n",
       "0  we had the most wonderful time at the excellen...\n",
       "1  a truly fantastic place xmas  we have just ret...\n",
       "2  too sick to enjoy the ride to and form the air...\n",
       "3  relaxing and fun , but xxPERIOD i rang in the ...\n",
       "4  somewhat excellence we just returned from a on..."
      ]
     },
     "execution_count": 6,
     "metadata": {},
     "output_type": "execute_result"
    }
   ],
   "source": [
    "docs_train = concat_to_doc(sents_train, sent_count_train)\n",
    "\n",
    "docs_train = pd.DataFrame(docs_train)\n",
    "\n",
    "docs_train.head()"
   ]
  },
  {
   "cell_type": "code",
   "execution_count": 12,
   "metadata": {
    "colab": {
     "base_uri": "https://localhost:8080/",
     "height": 54
    },
    "colab_type": "code",
    "executionInfo": {
     "elapsed": 439,
     "status": "ok",
     "timestamp": 1569095920307,
     "user": {
      "displayName": "aeryen Z",
      "photoUrl": "https://lh3.googleusercontent.com/a-/AAuE7mB9B8o-g7Bk7FNiOiB3NeIjUlkwmewejTdgq8tQqg=s64",
      "userId": "01125454621554722334"
     },
     "user_tz": 300
    },
    "id": "u7nKTQSlv8yP",
    "outputId": "1830d46e-1a2a-49f2-c6fb-4b7109074ed3"
   },
   "outputs": [
    {
     "data": {
      "text/plain": [
       "\"we had the most wonderful time at the excellence xxPERIOD we opted for the excellence club and it was well worht it for the perks xxPERIOD roberto puello who was the club manager did an extra special job of making us feel welcomed xxPERIOD we took some great pictures that looked like postcards xxPERIOD the food was excellent the pizza was close to being our favorite xxPERIOD the shows were great especially the michael jackson and the 70's  80's night xxPERIOD the french resturant was probably our favorite xxPERIOD we will definately be back for an anniversary trip xxPERIOD we made some friends but had plenty of privcacy as well xxPERIOD the rooms were great and everytime we left and came back it was cleaned , towels restocked and the bar was as well xxPERIOD \""
      ]
     },
     "execution_count": 12,
     "metadata": {},
     "output_type": "execute_result"
    }
   ],
   "source": [
    "docs_train.iloc[0][0]"
   ]
  },
  {
   "cell_type": "code",
   "execution_count": 7,
   "metadata": {
    "colab": {
     "base_uri": "https://localhost:8080/",
     "height": 204
    },
    "colab_type": "code",
    "executionInfo": {
     "elapsed": 448,
     "status": "ok",
     "timestamp": 1569095933730,
     "user": {
      "displayName": "aeryen Z",
      "photoUrl": "https://lh3.googleusercontent.com/a-/AAuE7mB9B8o-g7Bk7FNiOiB3NeIjUlkwmewejTdgq8tQqg=s64",
      "userId": "01125454621554722334"
     },
     "user_tz": 300
    },
    "id": "5zr2N7XnslY2",
    "outputId": "2c2aa4b1-9d3d-457e-c2b5-35f07cf6e271"
   },
   "outputs": [
    {
     "data": {
      "text/html": [
       "<div>\n",
       "<style scoped>\n",
       "    .dataframe tbody tr th:only-of-type {\n",
       "        vertical-align: middle;\n",
       "    }\n",
       "\n",
       "    .dataframe tbody tr th {\n",
       "        vertical-align: top;\n",
       "    }\n",
       "\n",
       "    .dataframe thead th {\n",
       "        text-align: right;\n",
       "    }\n",
       "</style>\n",
       "<table border=\"1\" class=\"dataframe\">\n",
       "  <thead>\n",
       "    <tr style=\"text-align: right;\">\n",
       "      <th></th>\n",
       "      <th>0</th>\n",
       "      <th>1</th>\n",
       "      <th>2</th>\n",
       "      <th>3</th>\n",
       "      <th>4</th>\n",
       "      <th>5</th>\n",
       "      <th>6</th>\n",
       "    </tr>\n",
       "  </thead>\n",
       "  <tbody>\n",
       "    <tr>\n",
       "      <td>0</td>\n",
       "      <td>4</td>\n",
       "      <td>4</td>\n",
       "      <td>4</td>\n",
       "      <td>4</td>\n",
       "      <td>4</td>\n",
       "      <td>4</td>\n",
       "      <td>we had the most wonderful time at the excellen...</td>\n",
       "    </tr>\n",
       "    <tr>\n",
       "      <td>1</td>\n",
       "      <td>4</td>\n",
       "      <td>3</td>\n",
       "      <td>4</td>\n",
       "      <td>4</td>\n",
       "      <td>4</td>\n",
       "      <td>4</td>\n",
       "      <td>a truly fantastic place xmas  we have just ret...</td>\n",
       "    </tr>\n",
       "    <tr>\n",
       "      <td>2</td>\n",
       "      <td>1</td>\n",
       "      <td>0</td>\n",
       "      <td>1</td>\n",
       "      <td>1</td>\n",
       "      <td>2</td>\n",
       "      <td>1</td>\n",
       "      <td>too sick to enjoy the ride to and form the air...</td>\n",
       "    </tr>\n",
       "    <tr>\n",
       "      <td>3</td>\n",
       "      <td>3</td>\n",
       "      <td>2</td>\n",
       "      <td>3</td>\n",
       "      <td>2</td>\n",
       "      <td>4</td>\n",
       "      <td>3</td>\n",
       "      <td>relaxing and fun , but xxPERIOD i rang in the ...</td>\n",
       "    </tr>\n",
       "    <tr>\n",
       "      <td>4</td>\n",
       "      <td>3</td>\n",
       "      <td>2</td>\n",
       "      <td>1</td>\n",
       "      <td>2</td>\n",
       "      <td>2</td>\n",
       "      <td>4</td>\n",
       "      <td>somewhat excellence we just returned from a on...</td>\n",
       "    </tr>\n",
       "  </tbody>\n",
       "</table>\n",
       "</div>"
      ],
      "text/plain": [
       "   0  1  2  3  4  5                                                  6\n",
       "0  4  4  4  4  4  4  we had the most wonderful time at the excellen...\n",
       "1  4  3  4  4  4  4  a truly fantastic place xmas  we have just ret...\n",
       "2  1  0  1  1  2  1  too sick to enjoy the ride to and form the air...\n",
       "3  3  2  3  2  4  3  relaxing and fun , but xxPERIOD i rang in the ...\n",
       "4  3  2  1  2  2  4  somewhat excellence we just returned from a on..."
      ]
     },
     "execution_count": 7,
     "metadata": {},
     "output_type": "execute_result"
    }
   ],
   "source": [
    "df_train = pd.concat( [aspect_rating_train, docs_train], axis=1, ignore_index=True )\n",
    "df_train.head()"
   ]
  },
  {
   "cell_type": "code",
   "execution_count": 14,
   "metadata": {
    "colab": {
     "base_uri": "https://localhost:8080/",
     "height": 34
    },
    "colab_type": "code",
    "executionInfo": {
     "elapsed": 431,
     "status": "ok",
     "timestamp": 1569095937657,
     "user": {
      "displayName": "aeryen Z",
      "photoUrl": "https://lh3.googleusercontent.com/a-/AAuE7mB9B8o-g7Bk7FNiOiB3NeIjUlkwmewejTdgq8tQqg=s64",
      "userId": "01125454621554722334"
     },
     "user_tz": 300
    },
    "id": "I5JxddUVqIGc",
    "outputId": "12232bb1-433f-4aa5-ae00-01bb3e0ac16b"
   },
   "outputs": [
    {
     "data": {
      "text/plain": [
       "(11173, 7)"
      ]
     },
     "execution_count": 14,
     "metadata": {},
     "output_type": "execute_result"
    }
   ],
   "source": [
    "df_train.shape"
   ]
  },
  {
   "cell_type": "code",
   "execution_count": 8,
   "metadata": {
    "colab": {
     "base_uri": "https://localhost:8080/",
     "height": 238
    },
    "colab_type": "code",
    "executionInfo": {
     "elapsed": 2885,
     "status": "ok",
     "timestamp": 1569095942939,
     "user": {
      "displayName": "aeryen Z",
      "photoUrl": "https://lh3.googleusercontent.com/a-/AAuE7mB9B8o-g7Bk7FNiOiB3NeIjUlkwmewejTdgq8tQqg=s64",
      "userId": "01125454621554722334"
     },
     "user_tz": 300
    },
    "id": "Tatp0G4rwD-w",
    "outputId": "d736f637-70d1-4993-d74e-c608fce0d1e3"
   },
   "outputs": [
    {
     "name": "stdout",
     "output_type": "stream",
     "text": [
      "[9, 30, 25, 33, 29]\n",
      "   0  1  2  3  4  5\n",
      "0  1  0  0  3  1  1\n",
      "1  2  2  1  2  3  3\n",
      "2  4  4  4  3  4  4\n",
      "3  3  2  3  3  3  4\n",
      "4  3  4  3  4  4  4\n",
      "                                                   0\n",
      "0  definitely not a 5 star resort i 'm dumbfounde...\n",
      "1  facilities need work xxPERIOD we visited excel...\n",
      "2  excellence was exactly that xxPERIOD my family...\n",
      "3  great service , nice hotel , mediocre food xxP...\n",
      "4  very relaxing experience just returned from my...\n"
     ]
    }
   ],
   "source": [
    "# Load Count\n",
    "sent_count_test = list(open(dataset_dir + sent_num_file[TEST_DATA], \"r\").readlines())\n",
    "sent_count_test = [int(s) for s in sent_count_test if (len(s) > 0 and s != \"\\n\")]\n",
    "print( sent_count_test[0:5] )\n",
    "\n",
    "# Load Ratings\n",
    "aspect_rating_test = list(open(dataset_dir + rating_file[TEST_DATA], \"r\").readlines())\n",
    "aspect_rating_test = [s for s in aspect_rating_test if (len(s) > 0 and s != \"\\n\")]\n",
    "\n",
    "aspect_rating_test = [s.split(\" \") for s in aspect_rating_test]\n",
    "aspect_rating_test = np.array(aspect_rating_test)[:, 0:-1]\n",
    "aspect_rating_test = aspect_rating_test.astype(np.int) - 1\n",
    "aspect_rating_test = pd.DataFrame(aspect_rating_test)\n",
    "print( aspect_rating_test.head() )\n",
    "\n",
    "# Load Sents\n",
    "sents_test = list(open(dataset_dir + content_file[TEST_DATA], \"r\").readlines())\n",
    "sents_test = [s.strip() for s in sents_test]\n",
    "\n",
    "# Sents to Doc\n",
    "docs_test = concat_to_doc(sents_test, sent_count_test)\n",
    "\n",
    "docs_test = pd.DataFrame(docs_test)\n",
    "print( docs_test.head() )"
   ]
  },
  {
   "cell_type": "code",
   "execution_count": 9,
   "metadata": {
    "colab": {
     "base_uri": "https://localhost:8080/",
     "height": 54
    },
    "colab_type": "code",
    "executionInfo": {
     "elapsed": 1109,
     "status": "ok",
     "timestamp": 1569095942940,
     "user": {
      "displayName": "aeryen Z",
      "photoUrl": "https://lh3.googleusercontent.com/a-/AAuE7mB9B8o-g7Bk7FNiOiB3NeIjUlkwmewejTdgq8tQqg=s64",
      "userId": "01125454621554722334"
     },
     "user_tz": 300
    },
    "id": "97IRI3Xlp1Uz",
    "outputId": "e6b3e840-1a03-4ba9-aab1-e40378a137d1"
   },
   "outputs": [
    {
     "data": {
      "text/plain": [
       "\"definitely not a 5 star resort i 'm dumbfounded that this hotel gets good reviews and is so highly rated xxPERIOD it 's decidedly a 3 star property , not 5 stars as indicated xxPERIOD the rooms are very dated and run down , old crappy beds and pillows , an old tv and overall poorly maintained xxPERIOD the whole property is pretty run down and old - looking xxPERIOD the food is subpar , not one meal i had would be called great xxPERIOD the service is uneven and the staff is poorly trained and uninformed xxPERIOD many do not comprehend english xxPERIOD the beach is great , it 's the only redeeming factor xxPERIOD however the resort is a 1- hour taxi trip from the airport xxPERIOD \""
      ]
     },
     "execution_count": 9,
     "metadata": {},
     "output_type": "execute_result"
    }
   ],
   "source": [
    "docs_test.iloc[0][0]"
   ]
  },
  {
   "cell_type": "code",
   "execution_count": 10,
   "metadata": {
    "colab": {
     "base_uri": "https://localhost:8080/",
     "height": 204
    },
    "colab_type": "code",
    "executionInfo": {
     "elapsed": 401,
     "status": "ok",
     "timestamp": 1569095945680,
     "user": {
      "displayName": "aeryen Z",
      "photoUrl": "https://lh3.googleusercontent.com/a-/AAuE7mB9B8o-g7Bk7FNiOiB3NeIjUlkwmewejTdgq8tQqg=s64",
      "userId": "01125454621554722334"
     },
     "user_tz": 300
    },
    "id": "Anvf9O9IptY3",
    "outputId": "00e3a9dc-661f-4daa-a19f-88b921f45b76"
   },
   "outputs": [
    {
     "data": {
      "text/html": [
       "<div>\n",
       "<style scoped>\n",
       "    .dataframe tbody tr th:only-of-type {\n",
       "        vertical-align: middle;\n",
       "    }\n",
       "\n",
       "    .dataframe tbody tr th {\n",
       "        vertical-align: top;\n",
       "    }\n",
       "\n",
       "    .dataframe thead th {\n",
       "        text-align: right;\n",
       "    }\n",
       "</style>\n",
       "<table border=\"1\" class=\"dataframe\">\n",
       "  <thead>\n",
       "    <tr style=\"text-align: right;\">\n",
       "      <th></th>\n",
       "      <th>0</th>\n",
       "      <th>1</th>\n",
       "      <th>2</th>\n",
       "      <th>3</th>\n",
       "      <th>4</th>\n",
       "      <th>5</th>\n",
       "      <th>6</th>\n",
       "    </tr>\n",
       "  </thead>\n",
       "  <tbody>\n",
       "    <tr>\n",
       "      <td>0</td>\n",
       "      <td>1</td>\n",
       "      <td>0</td>\n",
       "      <td>0</td>\n",
       "      <td>3</td>\n",
       "      <td>1</td>\n",
       "      <td>1</td>\n",
       "      <td>definitely not a 5 star resort i 'm dumbfounde...</td>\n",
       "    </tr>\n",
       "    <tr>\n",
       "      <td>1</td>\n",
       "      <td>2</td>\n",
       "      <td>2</td>\n",
       "      <td>1</td>\n",
       "      <td>2</td>\n",
       "      <td>3</td>\n",
       "      <td>3</td>\n",
       "      <td>facilities need work xxPERIOD we visited excel...</td>\n",
       "    </tr>\n",
       "    <tr>\n",
       "      <td>2</td>\n",
       "      <td>4</td>\n",
       "      <td>4</td>\n",
       "      <td>4</td>\n",
       "      <td>3</td>\n",
       "      <td>4</td>\n",
       "      <td>4</td>\n",
       "      <td>excellence was exactly that xxPERIOD my family...</td>\n",
       "    </tr>\n",
       "    <tr>\n",
       "      <td>3</td>\n",
       "      <td>3</td>\n",
       "      <td>2</td>\n",
       "      <td>3</td>\n",
       "      <td>3</td>\n",
       "      <td>3</td>\n",
       "      <td>4</td>\n",
       "      <td>great service , nice hotel , mediocre food xxP...</td>\n",
       "    </tr>\n",
       "    <tr>\n",
       "      <td>4</td>\n",
       "      <td>3</td>\n",
       "      <td>4</td>\n",
       "      <td>3</td>\n",
       "      <td>4</td>\n",
       "      <td>4</td>\n",
       "      <td>4</td>\n",
       "      <td>very relaxing experience just returned from my...</td>\n",
       "    </tr>\n",
       "  </tbody>\n",
       "</table>\n",
       "</div>"
      ],
      "text/plain": [
       "   0  1  2  3  4  5                                                  6\n",
       "0  1  0  0  3  1  1  definitely not a 5 star resort i 'm dumbfounde...\n",
       "1  2  2  1  2  3  3  facilities need work xxPERIOD we visited excel...\n",
       "2  4  4  4  3  4  4  excellence was exactly that xxPERIOD my family...\n",
       "3  3  2  3  3  3  4  great service , nice hotel , mediocre food xxP...\n",
       "4  3  4  3  4  4  4  very relaxing experience just returned from my..."
      ]
     },
     "execution_count": 10,
     "metadata": {},
     "output_type": "execute_result"
    }
   ],
   "source": [
    "df_test = pd.concat( [aspect_rating_test, docs_test], axis=1, ignore_index=True )\n",
    "df_test.head()"
   ]
  },
  {
   "cell_type": "code",
   "execution_count": 11,
   "metadata": {
    "colab": {
     "base_uri": "https://localhost:8080/",
     "height": 34
    },
    "colab_type": "code",
    "executionInfo": {
     "elapsed": 505,
     "status": "ok",
     "timestamp": 1569095946785,
     "user": {
      "displayName": "aeryen Z",
      "photoUrl": "https://lh3.googleusercontent.com/a-/AAuE7mB9B8o-g7Bk7FNiOiB3NeIjUlkwmewejTdgq8tQqg=s64",
      "userId": "01125454621554722334"
     },
     "user_tz": 300
    },
    "id": "7nhhjh2rrRf_",
    "outputId": "75bf2c3d-27ce-4ee1-9b7b-9aea93bf604b"
   },
   "outputs": [
    {
     "data": {
      "text/plain": [
       "(3739, 7)"
      ]
     },
     "execution_count": 11,
     "metadata": {},
     "output_type": "execute_result"
    }
   ],
   "source": [
    "df_test.shape"
   ]
  },
  {
   "cell_type": "markdown",
   "metadata": {
    "colab_type": "text",
    "id": "X7yyK5algPD4"
   },
   "source": [
    "# Language Model Data Bunch"
   ]
  },
  {
   "cell_type": "code",
   "execution_count": 12,
   "metadata": {
    "colab": {},
    "colab_type": "code",
    "id": "Q8p7xdvSx710"
   },
   "outputs": [],
   "source": [
    "lmdb = TextLMDataBunch.from_df(\"./data/\", train_df=df_train, valid_df=df_test, text_cols=6, label_cols=[0,1,2,3,4,5])"
   ]
  },
  {
   "cell_type": "code",
   "execution_count": 13,
   "metadata": {
    "colab": {
     "base_uri": "https://localhost:8080/",
     "height": 34
    },
    "colab_type": "code",
    "executionInfo": {
     "elapsed": 563,
     "status": "ok",
     "timestamp": 1569034865643,
     "user": {
      "displayName": "aeryen Z",
      "photoUrl": "https://lh3.googleusercontent.com/a-/AAuE7mB9B8o-g7Bk7FNiOiB3NeIjUlkwmewejTdgq8tQqg=s64",
      "userId": "01125454621554722334"
     },
     "user_tz": 300
    },
    "id": "pWa2ph8p1Dor",
    "outputId": "76bcf9b0-655f-4174-c144-10d14a8b2fa6"
   },
   "outputs": [
    {
     "data": {
      "text/plain": [
       "23008"
      ]
     },
     "execution_count": 13,
     "metadata": {},
     "output_type": "execute_result"
    }
   ],
   "source": [
    "len( lmdb.vocab.itos )"
   ]
  },
  {
   "cell_type": "code",
   "execution_count": 14,
   "metadata": {
    "colab": {
     "base_uri": "https://localhost:8080/",
     "height": 34
    },
    "colab_type": "code",
    "executionInfo": {
     "elapsed": 1322,
     "status": "ok",
     "timestamp": 1569034874640,
     "user": {
      "displayName": "aeryen Z",
      "photoUrl": "https://lh3.googleusercontent.com/a-/AAuE7mB9B8o-g7Bk7FNiOiB3NeIjUlkwmewejTdgq8tQqg=s64",
      "userId": "01125454621554722334"
     },
     "user_tz": 300
    },
    "id": "ah1tn8ugsfpU",
    "outputId": "8001445e-7be9-435d-ce55-3ce438eeae31"
   },
   "outputs": [
    {
     "data": {
      "text/plain": [
       "['xxunk', 'xxpad', 'xxbos', 'xxeos', 'xxfld', 'xxmaj', 'xxup', 'xxrep']"
      ]
     },
     "execution_count": 14,
     "metadata": {},
     "output_type": "execute_result"
    }
   ],
   "source": [
    "lmdb.vocab.itos[0:8]"
   ]
  },
  {
   "cell_type": "code",
   "execution_count": 15,
   "metadata": {
    "colab": {
     "base_uri": "https://localhost:8080/",
     "height": 323
    },
    "colab_type": "code",
    "executionInfo": {
     "elapsed": 15463,
     "status": "ok",
     "timestamp": 1569034891727,
     "user": {
      "displayName": "aeryen Z",
      "photoUrl": "https://lh3.googleusercontent.com/a-/AAuE7mB9B8o-g7Bk7FNiOiB3NeIjUlkwmewejTdgq8tQqg=s64",
      "userId": "01125454621554722334"
     },
     "user_tz": 300
    },
    "id": "uxgLWC3dyCvX",
    "outputId": "41d43147-a3a5-4838-8c02-1a21e5b1304f"
   },
   "outputs": [
    {
     "data": {
      "text/html": [
       "<table border=\"1\" class=\"dataframe\">\n",
       "  <thead>\n",
       "    <tr style=\"text-align: right;\">\n",
       "      <th>idx</th>\n",
       "      <th>text</th>\n",
       "    </tr>\n",
       "  </thead>\n",
       "  <tbody>\n",
       "    <tr>\n",
       "      <td>0</td>\n",
       "      <td>were great especially the michael jackson and the 70 's 80 's night xxperiod the french resturant was probably our favorite xxperiod we will definately be back for an anniversary trip xxperiod we made some friends but had plenty of xxunk as well xxperiod the rooms were great and everytime we left and came back it was cleaned , towels restocked and the bar was as well xxperiod xxbos a</td>\n",
       "    </tr>\n",
       "    <tr>\n",
       "      <td>1</td>\n",
       "      <td>xxperiod if you 're craving the coconut meat inside the coconut ( which was tasty ) then ask the bartender to crack open the coconut after you ' ve finished your drink xxperiod the lobster house was * hot * and if it 's been a hot day i would not recommend eating there xxperiod also we found the steamed lobster to be much better than the grilled ( we</td>\n",
       "    </tr>\n",
       "    <tr>\n",
       "      <td>2</td>\n",
       "      <td>advance to arrange a taxi , driver was waiting with a sign xxperiod xxunk five minutes , sixty bucks and a ten dollar tip later arrived at excellence xxperiod the drive nothing to worry about , xxunk through the potholes , application of the horn as an occasional xxunk aid , all fairly standard in our experience xxperiod you never really get going all that fast xxperiod certainly less of</td>\n",
       "    </tr>\n",
       "    <tr>\n",
       "      <td>3</td>\n",
       "      <td>check more prices at the vendors nextdoor they will sell it xxperiod those guys are some competition with eachother xxperiod they put towels out each hour , around 3 pm they disappear but you can find them at the clubhouse ( on beach its a mini gift shop / where you meet for the horse ride ) or at the pool behind the bar there is a hut that they</td>\n",
       "    </tr>\n",
       "    <tr>\n",
       "      <td>4</td>\n",
       "      <td>might have been some xxunk with the hotel but that is to be expected as any place ages xxperiod the ride from the airport was about an hour in a mini van which was included in our package xxperiod our driver was great he stopped along the way so the guys could grab a couple of beers xxperiod our check - in was a breeze and the bellboys were very</td>\n",
       "    </tr>\n",
       "  </tbody>\n",
       "</table>"
      ],
      "text/plain": [
       "<IPython.core.display.HTML object>"
      ]
     },
     "metadata": {},
     "output_type": "display_data"
    }
   ],
   "source": [
    "lmdb.show_batch()"
   ]
  },
  {
   "cell_type": "code",
   "execution_count": 16,
   "metadata": {
    "colab": {},
    "colab_type": "code",
    "id": "DvSRdhWcgPEO"
   },
   "outputs": [],
   "source": [
    "moms = (0.8,0.7)"
   ]
  },
  {
   "cell_type": "code",
   "execution_count": 17,
   "metadata": {
    "colab": {
     "base_uri": "https://localhost:8080/",
     "height": 204
    },
    "colab_type": "code",
    "executionInfo": {
     "elapsed": 1666523,
     "status": "ok",
     "timestamp": 1568498526893,
     "user": {
      "displayName": "aeryen Z",
      "photoUrl": "https://lh3.googleusercontent.com/a-/AAuE7mB9B8o-g7Bk7FNiOiB3NeIjUlkwmewejTdgq8tQqg=s64",
      "userId": "01125454621554722334"
     },
     "user_tz": 300
    },
    "id": "GmdFalGxgPEQ",
    "outputId": "9780b9e1-f8a1-47c4-968d-7b7d9683ea51"
   },
   "outputs": [
    {
     "data": {
      "text/html": [
       "<table border=\"1\" class=\"dataframe\">\n",
       "  <thead>\n",
       "    <tr style=\"text-align: left;\">\n",
       "      <th>epoch</th>\n",
       "      <th>train_loss</th>\n",
       "      <th>valid_loss</th>\n",
       "      <th>accuracy</th>\n",
       "      <th>time</th>\n",
       "    </tr>\n",
       "  </thead>\n",
       "  <tbody>\n",
       "    <tr>\n",
       "      <td>0</td>\n",
       "      <td>4.000441</td>\n",
       "      <td>3.756649</td>\n",
       "      <td>0.287865</td>\n",
       "      <td>01:57</td>\n",
       "    </tr>\n",
       "    <tr>\n",
       "      <td>1</td>\n",
       "      <td>3.788871</td>\n",
       "      <td>3.586668</td>\n",
       "      <td>0.304594</td>\n",
       "      <td>02:02</td>\n",
       "    </tr>\n",
       "    <tr>\n",
       "      <td>2</td>\n",
       "      <td>3.631943</td>\n",
       "      <td>3.490414</td>\n",
       "      <td>0.315590</td>\n",
       "      <td>01:59</td>\n",
       "    </tr>\n",
       "    <tr>\n",
       "      <td>3</td>\n",
       "      <td>3.458348</td>\n",
       "      <td>3.431321</td>\n",
       "      <td>0.322942</td>\n",
       "      <td>01:59</td>\n",
       "    </tr>\n",
       "    <tr>\n",
       "      <td>4</td>\n",
       "      <td>3.387737</td>\n",
       "      <td>3.421412</td>\n",
       "      <td>0.324441</td>\n",
       "      <td>02:00</td>\n",
       "    </tr>\n",
       "  </tbody>\n",
       "</table>"
      ],
      "text/plain": [
       "<IPython.core.display.HTML object>"
      ]
     },
     "metadata": {},
     "output_type": "display_data"
    }
   ],
   "source": [
    "learn = language_model_learner(lmdb, AWD_LSTM)\n",
    "learn.unfreeze()\n",
    "learn.fit_one_cycle(5, slice(1e-2), moms=moms)"
   ]
  },
  {
   "cell_type": "code",
   "execution_count": 24,
   "metadata": {
    "colab": {
     "base_uri": "https://localhost:8080/",
     "height": 204
    },
    "colab_type": "code",
    "executionInfo": {
     "elapsed": 1666523,
     "status": "ok",
     "timestamp": 1568498526893,
     "user": {
      "displayName": "aeryen Z",
      "photoUrl": "https://lh3.googleusercontent.com/a-/AAuE7mB9B8o-g7Bk7FNiOiB3NeIjUlkwmewejTdgq8tQqg=s64",
      "userId": "01125454621554722334"
     },
     "user_tz": 300
    },
    "id": "GmdFalGxgPEQ",
    "outputId": "9780b9e1-f8a1-47c4-968d-7b7d9683ea51"
   },
   "outputs": [
    {
     "data": {
      "text/html": [
       "<table border=\"1\" class=\"dataframe\">\n",
       "  <thead>\n",
       "    <tr style=\"text-align: left;\">\n",
       "      <th>epoch</th>\n",
       "      <th>train_loss</th>\n",
       "      <th>valid_loss</th>\n",
       "      <th>accuracy</th>\n",
       "      <th>time</th>\n",
       "    </tr>\n",
       "  </thead>\n",
       "  <tbody>\n",
       "    <tr>\n",
       "      <td>0</td>\n",
       "      <td>3.961397</td>\n",
       "      <td>3.744603</td>\n",
       "      <td>0.289252</td>\n",
       "      <td>06:04</td>\n",
       "    </tr>\n",
       "    <tr>\n",
       "      <td>1</td>\n",
       "      <td>3.766985</td>\n",
       "      <td>3.583916</td>\n",
       "      <td>0.304960</td>\n",
       "      <td>06:13</td>\n",
       "    </tr>\n",
       "    <tr>\n",
       "      <td>2</td>\n",
       "      <td>3.601011</td>\n",
       "      <td>3.487880</td>\n",
       "      <td>0.315974</td>\n",
       "      <td>06:14</td>\n",
       "    </tr>\n",
       "    <tr>\n",
       "      <td>3</td>\n",
       "      <td>3.475492</td>\n",
       "      <td>3.431211</td>\n",
       "      <td>0.322712</td>\n",
       "      <td>06:15</td>\n",
       "    </tr>\n",
       "    <tr>\n",
       "      <td>4</td>\n",
       "      <td>3.398683</td>\n",
       "      <td>3.420531</td>\n",
       "      <td>0.324421</td>\n",
       "      <td>06:15</td>\n",
       "    </tr>\n",
       "  </tbody>\n",
       "</table>"
      ],
      "text/plain": [
       "<IPython.core.display.HTML object>"
      ]
     },
     "metadata": {},
     "output_type": "display_data"
    }
   ],
   "source": [
    "learn = language_model_learner(lmdb, AWD_LSTM)\n",
    "learn.unfreeze()\n",
    "learn.fit_one_cycle(5, slice(1e-2), moms=moms)"
   ]
  },
  {
   "cell_type": "code",
   "execution_count": 18,
   "metadata": {
    "colab": {},
    "colab_type": "code",
    "id": "5jurW3So0KYQ"
   },
   "outputs": [],
   "source": [
    "lmdb.save('lm_databunch_hotel.1115')"
   ]
  },
  {
   "cell_type": "code",
   "execution_count": 19,
   "metadata": {
    "colab": {},
    "colab_type": "code",
    "id": "dh9nWZFCgPEV"
   },
   "outputs": [],
   "source": [
    "learn.save('lm_learner_hotel.1115')"
   ]
  },
  {
   "cell_type": "code",
   "execution_count": 25,
   "metadata": {},
   "outputs": [],
   "source": [
    "learn.save_encoder('lm_enc_hotel.1115')"
   ]
  },
  {
   "cell_type": "markdown",
   "metadata": {
    "colab_type": "text",
    "id": "tl9z2TWMgPEa"
   },
   "source": [
    "# Classifier Data Bunch"
   ]
  },
  {
   "cell_type": "code",
   "execution_count": 20,
   "metadata": {
    "colab": {},
    "colab_type": "code",
    "id": "92selqJMyPGq"
   },
   "outputs": [],
   "source": [
    "clas_db = TextClasDataBunch.from_df(\"./data/\",\n",
    "                                     train_df=df_train,\n",
    "                                     valid_df=df_test,\n",
    "                                     text_cols=6,\n",
    "                                     label_cols=[0,1,2,3,4,5],\n",
    "                                     vocab=lmdb.train_ds.vocab,\n",
    "                                     bs=42)\n",
    "# TODO: currently only loading the aspect sentiment labels"
   ]
  },
  {
   "cell_type": "code",
   "execution_count": 21,
   "metadata": {
    "colab": {
     "base_uri": "https://localhost:8080/",
     "height": 357
    },
    "colab_type": "code",
    "executionInfo": {
     "elapsed": 1929,
     "status": "ok",
     "timestamp": 1569096033552,
     "user": {
      "displayName": "aeryen Z",
      "photoUrl": "https://lh3.googleusercontent.com/a-/AAuE7mB9B8o-g7Bk7FNiOiB3NeIjUlkwmewejTdgq8tQqg=s64",
      "userId": "01125454621554722334"
     },
     "user_tz": 300
    },
    "id": "07TQh-iS07Rm",
    "outputId": "96147741-7707-4572-8cfe-f2f39ccb13a8"
   },
   "outputs": [
    {
     "data": {
      "text/html": [
       "<table border=\"1\" class=\"dataframe\">\n",
       "  <thead>\n",
       "    <tr style=\"text-align: right;\">\n",
       "      <th>text</th>\n",
       "      <th>target</th>\n",
       "    </tr>\n",
       "  </thead>\n",
       "  <tbody>\n",
       "    <tr>\n",
       "      <td>xxbos \" an extremely disappointing experience \" where do i beging xxperiod first let me just say that originally i had booked a reservation to stay at this hotel for 9 days instead of the two days that i lasted with my family at this hotel xxperiod the original comfirmed reservation was to have taken place from friday august 15 to sunday august xxunk in may this year i was</td>\n",
       "      <td></td>\n",
       "    </tr>\n",
       "    <tr>\n",
       "      <td>xxbos money well spent first of all let me assure everyone that the gran bahia principe ( punta cana ) is a fabulous resort xxperiod my wife myself have just returned home to the uk from a superb two week vacation staying in the punta cana section of the resort xxperiod weeks prior to our departure reviews on tripadvisor were constantly xxunk giving negative comments about the resort ( mainly</td>\n",
       "      <td></td>\n",
       "    </tr>\n",
       "    <tr>\n",
       "      <td>xxbos warning to all - read before going xxperiod we went to the bahia from may 4 - 11 xxperiod i felt it important to share my experience with all of you as i did read posts from this site prior to booking xxperiod day 1 friday : arrived at hotel , when you get off the bus , the hotel tags your luggage and they tell you to go</td>\n",
       "      <td></td>\n",
       "    </tr>\n",
       "    <tr>\n",
       "      <td>xxbos great budget resort with good food , poor service and terrible rooms me and my friend booked this vacation with air canada vacations , we stayed at this hotel as it was the cheapest and we were on a budget xxperiod our luggage was lost so that was not a good start to the trip xxperiod the air canada rep at the hotel is fairly useless , her only</td>\n",
       "      <td></td>\n",
       "    </tr>\n",
       "    <tr>\n",
       "      <td>xxbos we had a fabulous stay xxperiod we stayed at the edenh from march 8 ? xxperiod our stay was beyond fantastic and our only complaint is that by this time next year we won ? ? be able to afford to stay there again xxperiod we arrived at the hotel at approximately 5:30pm , our check in was smooth with absolutely no problems , the bell boy took our</td>\n",
       "      <td></td>\n",
       "    </tr>\n",
       "  </tbody>\n",
       "</table>"
      ],
      "text/plain": [
       "<IPython.core.display.HTML object>"
      ]
     },
     "metadata": {},
     "output_type": "display_data"
    }
   ],
   "source": [
    "clas_db.show_batch()"
   ]
  },
  {
   "cell_type": "code",
   "execution_count": 22,
   "metadata": {
    "colab": {
     "base_uri": "https://localhost:8080/",
     "height": 102
    },
    "colab_type": "code",
    "executionInfo": {
     "elapsed": 1882,
     "status": "ok",
     "timestamp": 1569096035929,
     "user": {
      "displayName": "aeryen Z",
      "photoUrl": "https://lh3.googleusercontent.com/a-/AAuE7mB9B8o-g7Bk7FNiOiB3NeIjUlkwmewejTdgq8tQqg=s64",
      "userId": "01125454621554722334"
     },
     "user_tz": 300
    },
    "id": "T0mLVWQHt2ko",
    "outputId": "db808f37-a8f8-4a2e-e847-46ed1fdb2e26"
   },
   "outputs": [
    {
     "data": {
      "text/plain": [
       "tensor([[0., 0., 2., 2., 2., 2.],\n",
       "        [2., 4., 3., 4., 4., 1.],\n",
       "        [0., 0., 4., 2., 4., 0.],\n",
       "        [2., 4., 0., 3., 3., 0.],\n",
       "        [3., 3., 3., 4., 4., 4.]])"
      ]
     },
     "execution_count": 22,
     "metadata": {},
     "output_type": "execute_result"
    }
   ],
   "source": [
    "x,y = clas_db.one_batch()\n",
    "y[0:5]"
   ]
  },
  {
   "cell_type": "code",
   "execution_count": 23,
   "metadata": {
    "colab": {
     "base_uri": "https://localhost:8080/",
     "height": 34
    },
    "colab_type": "code",
    "executionInfo": {
     "elapsed": 238,
     "status": "ok",
     "timestamp": 1569037406316,
     "user": {
      "displayName": "aeryen Z",
      "photoUrl": "https://lh3.googleusercontent.com/a-/AAuE7mB9B8o-g7Bk7FNiOiB3NeIjUlkwmewejTdgq8tQqg=s64",
      "userId": "01125454621554722334"
     },
     "user_tz": 300
    },
    "id": "kakoH5HWgPEl",
    "outputId": "72551059-0043-45dd-a191-3f6090876e12"
   },
   "outputs": [
    {
     "data": {
      "text/plain": [
       "10"
      ]
     },
     "execution_count": 23,
     "metadata": {},
     "output_type": "execute_result"
    }
   ],
   "source": [
    "period_index = clas_db.vocab.stoi[\"xxperiod\"]\n",
    "period_index"
   ]
  },
  {
   "cell_type": "code",
   "execution_count": 32,
   "metadata": {
    "colab": {
     "base_uri": "https://localhost:8080/",
     "height": 34
    },
    "colab_type": "code",
    "executionInfo": {
     "elapsed": 267,
     "status": "ok",
     "timestamp": 1569037411334,
     "user": {
      "displayName": "aeryen Z",
      "photoUrl": "https://lh3.googleusercontent.com/a-/AAuE7mB9B8o-g7Bk7FNiOiB3NeIjUlkwmewejTdgq8tQqg=s64",
      "userId": "01125454621554722334"
     },
     "user_tz": 300
    },
    "id": "LDr1t0WvnazK",
    "outputId": "3ef6c1cc-d335-4fc8-e634-11a22fde4f7a"
   },
   "outputs": [
    {
     "data": {
      "text/plain": [
       "tensor([False, False, False, False, False, False, False, False, False, False,\n",
       "        False,  True, False, False, False, False, False, False, False, False,\n",
       "        False, False, False, False, False, False, False, False, False, False,\n",
       "        False, False, False, False, False, False, False, False, False, False,\n",
       "        False, False, False, False, False, False,  True, False, False, False])"
      ]
     },
     "execution_count": 32,
     "metadata": {},
     "output_type": "execute_result"
    }
   ],
   "source": [
    "x[0].cpu()[0:50] == period_index"
   ]
  },
  {
   "cell_type": "code",
   "execution_count": 33,
   "metadata": {
    "colab": {
     "base_uri": "https://localhost:8080/",
     "height": 54
    },
    "colab_type": "code",
    "executionInfo": {
     "elapsed": 212,
     "status": "ok",
     "timestamp": 1569037417599,
     "user": {
      "displayName": "aeryen Z",
      "photoUrl": "https://lh3.googleusercontent.com/a-/AAuE7mB9B8o-g7Bk7FNiOiB3NeIjUlkwmewejTdgq8tQqg=s64",
      "userId": "01125454621554722334"
     },
     "user_tz": 300
    },
    "id": "l3SMBfRFHgil",
    "outputId": "dfbfcb65-2418-4fd2-d427-9b31094a7909",
    "scrolled": true
   },
   "outputs": [
    {
     "data": {
      "text/plain": [
       "'xxbos \" an extremely disappointing experience \" where do i beging xxperiod first let me just say that originally i had booked a reservation to stay at this hotel for 9 days instead of the two days that i lasted with my family at this hotel xxperiod the original comfirmed'"
      ]
     },
     "execution_count": 33,
     "metadata": {},
     "output_type": "execute_result"
    }
   ],
   "source": [
    "clas_db.vocab.textify(x.cpu()[0,0:50])"
   ]
  },
  {
   "cell_type": "code",
   "execution_count": 24,
   "metadata": {
    "colab": {},
    "colab_type": "code",
    "id": "IzV244n66xXb"
   },
   "outputs": [],
   "source": [
    "clas_db.save(\"cls_databunch_hotel.allaspect.1115\")"
   ]
  },
  {
   "cell_type": "markdown",
   "metadata": {
    "colab_type": "text",
    "id": "Q0TeA8-z6GLP"
   },
   "source": [
    "##  -- load LM Databunch and LM Learner"
   ]
  },
  {
   "cell_type": "code",
   "execution_count": 4,
   "metadata": {
    "colab": {},
    "colab_type": "code",
    "id": "EKEjqX351GhF"
   },
   "outputs": [],
   "source": [
    "lmdb = load_data(\"./data/\", \"hotel_lm_databunch.1001\")"
   ]
  },
  {
   "cell_type": "code",
   "execution_count": 5,
   "metadata": {
    "colab": {},
    "colab_type": "code",
    "id": "ELlhNmT24xvm"
   },
   "outputs": [
    {
     "name": "stdout",
     "output_type": "stream",
     "text": [
      "freezing:WeightDropout(\n",
      "  (module): LSTM(400, 1152, batch_first=True)\n",
      ")\n",
      "freezing:RNNDropout()\n",
      "freezing:WeightDropout(\n",
      "  (module): LSTM(1152, 1152, batch_first=True)\n",
      ")\n",
      "freezing:RNNDropout()\n",
      "freezing:WeightDropout(\n",
      "  (module): LSTM(1152, 400, batch_first=True)\n",
      ")\n",
      "freezing:RNNDropout()\n"
     ]
    }
   ],
   "source": [
    "learn = language_model_learner(lmdb, AWD_LSTM)\n",
    "learn.unfreeze()\n",
    "learn = learn.load(\"lang_model_hotel\")"
   ]
  },
  {
   "cell_type": "markdown",
   "metadata": {
    "colab_type": "text",
    "id": "_CrQZNtU74Fq"
   },
   "source": [
    "## -- load databunch"
   ]
  },
  {
   "cell_type": "code",
   "execution_count": 6,
   "metadata": {
    "colab": {},
    "colab_type": "code",
    "id": "RwtIMD5T73GS"
   },
   "outputs": [],
   "source": [
    "clas_db = load_data(\"./data/\", \"hotel_cls_databunch.aspect_only\")"
   ]
  },
  {
   "cell_type": "code",
   "execution_count": 7,
   "metadata": {
    "colab": {},
    "colab_type": "code",
    "id": "-gvEDa4cISdR"
   },
   "outputs": [],
   "source": [
    "clas_db.batch_size=2"
   ]
  },
  {
   "cell_type": "code",
   "execution_count": 8,
   "metadata": {
    "colab": {
     "base_uri": "https://localhost:8080/",
     "height": 34
    },
    "colab_type": "code",
    "executionInfo": {
     "elapsed": 27811,
     "status": "ok",
     "timestamp": 1569120818943,
     "user": {
      "displayName": "aeryen Z",
      "photoUrl": "https://lh3.googleusercontent.com/a-/AAuE7mB9B8o-g7Bk7FNiOiB3NeIjUlkwmewejTdgq8tQqg=s64",
      "userId": "01125454621554722334"
     },
     "user_tz": 300
    },
    "id": "sbsl6iWkYh-P",
    "outputId": "6721b6e5-6616-45eb-cb45-f09897f84c86"
   },
   "outputs": [
    {
     "data": {
      "text/plain": [
       "5"
      ]
     },
     "execution_count": 8,
     "metadata": {},
     "output_type": "execute_result"
    }
   ],
   "source": [
    "clas_db.c"
   ]
  },
  {
   "cell_type": "code",
   "execution_count": 14,
   "metadata": {},
   "outputs": [
    {
     "name": "stdout",
     "output_type": "stream",
     "text": [
      "freezing:Embedding(23008, 400, padding_idx=1)\n",
      "freezing:EmbeddingDropout(\n",
      "  (emb): Embedding(23008, 400, padding_idx=1)\n",
      ")\n",
      "freezing:WeightDropout(\n",
      "  (module): LSTM(400, 1152, batch_first=True)\n",
      ")\n",
      "freezing:RNNDropout()\n",
      "freezing:WeightDropout(\n",
      "  (module): LSTM(1152, 1152, batch_first=True)\n",
      ")\n",
      "freezing:RNNDropout()\n",
      "freezing:WeightDropout(\n",
      "  (module): LSTM(1152, 400, batch_first=True)\n",
      ")\n",
      "freezing:RNNDropout()\n"
     ]
    }
   ],
   "source": [
    "cls_learn = text_classifier_learner(clas_db, AWD_LSTM)"
   ]
  },
  {
   "cell_type": "markdown",
   "metadata": {},
   "source": [
    "## ++ classifier test"
   ]
  },
  {
   "cell_type": "code",
   "execution_count": 11,
   "metadata": {},
   "outputs": [],
   "source": [
    "cls_learn = text_classifier_learner(clas_db, AWD_LSTM)"
   ]
  },
  {
   "cell_type": "code",
   "execution_count": 55,
   "metadata": {},
   "outputs": [
    {
     "data": {
      "text/plain": [
       "False"
      ]
     },
     "execution_count": 55,
     "metadata": {},
     "output_type": "execute_result"
    }
   ],
   "source": [
    "requires_grad(cls_learn.model[0].module.rnns[0].module)"
   ]
  },
  {
   "cell_type": "code",
   "execution_count": 53,
   "metadata": {},
   "outputs": [
    {
     "data": {
      "text/plain": [
       "SequentialRNN(\n",
       "  (0): MultiBatchEncoder(\n",
       "    (module): AWD_LSTM(\n",
       "      (encoder): Embedding(23008, 400, padding_idx=1)\n",
       "      (encoder_dp): EmbeddingDropout(\n",
       "        (emb): Embedding(23008, 400, padding_idx=1)\n",
       "      )\n",
       "      (rnns): ModuleList(\n",
       "        (0): WeightDropout(\n",
       "          (module): LSTM(400, 1152, batch_first=True)\n",
       "        )\n",
       "        (1): WeightDropout(\n",
       "          (module): LSTM(1152, 1152, batch_first=True)\n",
       "        )\n",
       "        (2): WeightDropout(\n",
       "          (module): LSTM(1152, 400, batch_first=True)\n",
       "        )\n",
       "      )\n",
       "      (input_dp): RNNDropout()\n",
       "      (hidden_dps): ModuleList(\n",
       "        (0): RNNDropout()\n",
       "        (1): RNNDropout()\n",
       "        (2): RNNDropout()\n",
       "      )\n",
       "    )\n",
       "  )\n",
       "  (1): PoolingLinearClassifier(\n",
       "    (layers): Sequential(\n",
       "      (0): BatchNorm1d(1200, eps=1e-05, momentum=0.1, affine=True, track_running_stats=True)\n",
       "      (1): Dropout(p=0.4, inplace=False)\n",
       "      (2): Linear(in_features=1200, out_features=50, bias=True)\n",
       "      (3): ReLU(inplace=True)\n",
       "      (4): BatchNorm1d(50, eps=1e-05, momentum=0.1, affine=True, track_running_stats=True)\n",
       "      (5): Dropout(p=0.1, inplace=False)\n",
       "      (6): Linear(in_features=50, out_features=5, bias=True)\n",
       "    )\n",
       "  )\n",
       ")"
      ]
     },
     "execution_count": 53,
     "metadata": {},
     "output_type": "execute_result"
    }
   ],
   "source": [
    "cls_learn.model"
   ]
  },
  {
   "cell_type": "markdown",
   "metadata": {
    "colab_type": "text",
    "id": "HZ_31Rm6gPFK"
   },
   "source": [
    "# Model Test"
   ]
  },
  {
   "cell_type": "code",
   "execution_count": 8,
   "metadata": {
    "colab": {
     "base_uri": "https://localhost:8080/",
     "height": 408
    },
    "colab_type": "code",
    "executionInfo": {
     "elapsed": 335,
     "status": "ok",
     "timestamp": 1569121884111,
     "user": {
      "displayName": "aeryen Z",
      "photoUrl": "https://lh3.googleusercontent.com/a-/AAuE7mB9B8o-g7Bk7FNiOiB3NeIjUlkwmewejTdgq8tQqg=s64",
      "userId": "01125454621554722334"
     },
     "user_tz": 300
    },
    "id": "fwLNiaT8gPFL",
    "outputId": "5c44d41e-3511-47b9-dd19-97b7a4a067ca",
    "scrolled": true
   },
   "outputs": [],
   "source": [
    "encoder = learn.model[0]\n",
    "encoder.reset()"
   ]
  },
  {
   "cell_type": "code",
   "execution_count": 9,
   "metadata": {
    "colab": {
     "base_uri": "https://localhost:8080/",
     "height": 34
    },
    "colab_type": "code",
    "executionInfo": {
     "elapsed": 782,
     "status": "ok",
     "timestamp": 1569102956616,
     "user": {
      "displayName": "aeryen Z",
      "photoUrl": "https://lh3.googleusercontent.com/a-/AAuE7mB9B8o-g7Bk7FNiOiB3NeIjUlkwmewejTdgq8tQqg=s64",
      "userId": "01125454621554722334"
     },
     "user_tz": 300
    },
    "id": "JluJsA9GgPFN",
    "outputId": "96488910-c11b-4245-99ce-5a2c38bda33a"
   },
   "outputs": [
    {
     "data": {
      "text/plain": [
       "'the rooms are very prodding with this xxperiod we got this but we were excited about going to melia tropical due to the fact'"
      ]
     },
     "execution_count": 9,
     "metadata": {},
     "output_type": "execute_result"
    }
   ],
   "source": [
    "learn.predict(\"the rooms are very\", n_words=20)"
   ]
  },
  {
   "cell_type": "code",
   "execution_count": 3,
   "metadata": {},
   "outputs": [],
   "source": [
    "class PoolingLinearClassifier(Module):\n",
    "    \"Create a linear classifier with pooling.\"\n",
    "    def __init__(self, layers:Collection[int], drops:Collection[float]):\n",
    "        mod_layers = []\n",
    "        if len(drops) != len(layers)-1: raise ValueError(\"Number of layers and dropout values do not match.\")\n",
    "        activs = [nn.ReLU(inplace=True)] * (len(layers) - 2) + [None]\n",
    "        for n_in, n_out, p, actn in zip(layers[:-1], layers[1:], drops, activs):\n",
    "            mod_layers += bn_drop_lin(n_in, n_out, p=p, actn=actn)\n",
    "        self.layers = nn.Sequential(*mod_layers)\n",
    "\n",
    "    def forward(self, input:Tuple[Tensor,Tensor, Tensor])->Tuple[Tensor,Tensor,Tensor]:\n",
    "        raw_outputs,outputs,mask = input\n",
    "        x = masked_concat_pool(outputs, mask)\n",
    "        x = self.layers(x)\n",
    "        return x, raw_outputs, outputs"
   ]
  },
  {
   "cell_type": "code",
   "execution_count": 3,
   "metadata": {},
   "outputs": [],
   "source": [
    "class ClsModule(Module):\n",
    "    \"Create a linear classifier with pooling.\"\n",
    "    def __init__(self, layers:Collection[int], drops:Collection[float]):\n",
    "        self.sentiment = torch.nn.Linear(1200, 5)\n",
    "        self.sentiment_sm = torch.nn.Softmax(dim=1)\n",
    "        self.aspect = torch.nn.Linear(1200, 5)\n",
    "        self.aspect_sm = torch.nn.Softmax(dim=1)\n",
    "\n",
    "    def forward(self, input:Tuple[Tensor,Tensor, Tensor])->Tuple[Tensor,Tensor,Tensor]:\n",
    "        raw_outputs,outputs,mask = input\n",
    "        \n",
    "        # flatten doc length dimension\n",
    "        doc_enc = outputs.contiguous().view(-1, 400)  # [batch_size * doc_length, embedding400]\n",
    "        # print(\"number of sentences in docs:\")\n",
    "        n_sent = torch.sum( input==self.vocab.stoi[\"xxperiod\"] , dim=1)\n",
    "        # print(\"locating period marks\")\n",
    "        period_index = input.view(-1)==self.vocab.stoi[\"xxperiod\"]\n",
    "        # selecting only the encoder output at period marks\n",
    "        sent_output = doc_enc[period_index, :]  # [total n_sentence, embedding]\n",
    "        \n",
    "        return x, raw_outputs, outputs"
   ]
  },
  {
   "cell_type": "code",
   "execution_count": 10,
   "metadata": {
    "colab": {},
    "colab_type": "code",
    "id": "b56kux4PAFn3"
   },
   "outputs": [],
   "source": [
    "class ClsNet(torch.nn.Module):\n",
    "    def __init__(self, encoder, vocab):\n",
    "        super(ClsNet, self).__init__()\n",
    "        self.vocab = vocab\n",
    "        self.enc = encoder\n",
    "        self.sentiment = torch.nn.Linear(400, 5)\n",
    "        self.sentiment_sm = torch.nn.Softmax(dim=1)\n",
    "        self.aspect = torch.nn.Linear(400, 5)\n",
    "        self.aspect_sm = torch.nn.Softmax(dim=1)\n",
    "        \n",
    "    def forward(self, x):\n",
    "        # encode whole doc\n",
    "        enc_result = self.enc(x)\n",
    "        doc_enc = enc_result[0][2]  # [batch_size, doc_length, embedding]\n",
    "        # print(\"shape of doc encoder:\")\n",
    "        # print( doc_enc.shape )\n",
    "        # print(\"doc_enc grad_fn:\")\n",
    "        # print(doc_enc.grad_fn)\n",
    "        \n",
    "        # flatten doc length dimension\n",
    "        doc_enc = doc_enc.contiguous().view(-1, 400)  # [batch_size * doc_length]\n",
    "        # print(\"doc_enc grad_fn:\")\n",
    "        # print(doc_enc.grad_fn)\n",
    "        \n",
    "        # print(\"number of sentences in docs:\")\n",
    "        n_sent = torch.sum( x==self.vocab.stoi[\"xxperiod\"] , dim=1)\n",
    "        # print(n_sent)\n",
    "        \n",
    "        # print(\"locating period marks\")\n",
    "        period_index = x.view(-1)==self.vocab.stoi[\"xxperiod\"]\n",
    "        # print(period_index.shape)\n",
    "        # print(torch.sum(period_index))\n",
    "\n",
    "        # selecting only the encoder output at period marks\n",
    "        sent_output = doc_enc[period_index, :]  # [total n_sentence, embedding]\n",
    "        # print(sent_output)\n",
    "        # print(sent_output.shape)\n",
    "        \n",
    "        sentiment_dist = self.sentiment(sent_output)   # [total n_sentence, embedding]\n",
    "        sentiment_dist = self.sentiment_sm(sentiment_dist)\n",
    "        aspect_dist = self.aspect(sent_output)         # [total n_sentence, embedding]\n",
    "        aspect_dist = self.aspect_sm(aspect_dist)\n",
    "        # print(\"sentiment dist weight:\")\n",
    "        # print(sentiment_dist.grad_fn)\n",
    "        # print(\"aspect dist weight:\")\n",
    "        # print(aspect_dist.grad_fn)\n",
    "        \n",
    "        sent_bmm = torch.bmm(sentiment_dist.unsqueeze(2), aspect_dist.unsqueeze(1))\n",
    "        # print(\"sent bmm:\")\n",
    "        # print(sent_bmm.dtype)\n",
    "        # print(sent_bmm.shape)  # [total n_sentence, sentiment, aspect]\n",
    "        # print(sent_bmm.grad_fn)\n",
    "        \n",
    "        cur = 0\n",
    "        result = []\n",
    "        for n_sent in n_sent :\n",
    "            # print(\"-----\")\n",
    "            doc = sent_bmm[(cur):(cur+n_sent), :, :]\n",
    "            # print(doc.shape)\n",
    "            doc = torch.mean(doc, dim=0, keepdim=True)\n",
    "            # print(doc.shape)\n",
    "            result.append(doc)\n",
    "        \n",
    "        result = torch.cat( result, dim=0 )\n",
    "        # print(result.dtype)\n",
    "        \n",
    "        return result\n",
    "        "
   ]
  },
  {
   "cell_type": "code",
   "execution_count": 11,
   "metadata": {
    "colab": {
     "base_uri": "https://localhost:8080/",
     "height": 510
    },
    "colab_type": "code",
    "executionInfo": {
     "elapsed": 721,
     "status": "ok",
     "timestamp": 1569125188071,
     "user": {
      "displayName": "aeryen Z",
      "photoUrl": "https://lh3.googleusercontent.com/a-/AAuE7mB9B8o-g7Bk7FNiOiB3NeIjUlkwmewejTdgq8tQqg=s64",
      "userId": "01125454621554722334"
     },
     "user_tz": 300
    },
    "id": "YvnXD-_ZgPFR",
    "outputId": "ea71ad90-2a6c-4fa7-99e9-d9a7a88ff5bc",
    "scrolled": true
   },
   "outputs": [
    {
     "data": {
      "text/plain": [
       "ClsNet(\n",
       "  (enc): AWD_LSTM(\n",
       "    (encoder): Embedding(23008, 400, padding_idx=1)\n",
       "    (encoder_dp): EmbeddingDropout(\n",
       "      (emb): Embedding(23008, 400, padding_idx=1)\n",
       "    )\n",
       "    (rnns): ModuleList(\n",
       "      (0): WeightDropout(\n",
       "        (module): LSTM(400, 1152, batch_first=True)\n",
       "      )\n",
       "      (1): WeightDropout(\n",
       "        (module): LSTM(1152, 1152, batch_first=True)\n",
       "      )\n",
       "      (2): WeightDropout(\n",
       "        (module): LSTM(1152, 400, batch_first=True)\n",
       "      )\n",
       "    )\n",
       "    (input_dp): RNNDropout()\n",
       "    (hidden_dps): ModuleList(\n",
       "      (0): RNNDropout()\n",
       "      (1): RNNDropout()\n",
       "      (2): RNNDropout()\n",
       "    )\n",
       "  )\n",
       "  (sentiment): Linear(in_features=400, out_features=5, bias=True)\n",
       "  (sentiment_sm): Softmax(dim=1)\n",
       "  (aspect): Linear(in_features=400, out_features=5, bias=True)\n",
       "  (aspect_sm): Softmax(dim=1)\n",
       ")"
      ]
     },
     "execution_count": 11,
     "metadata": {},
     "output_type": "execute_result"
    }
   ],
   "source": [
    "net = ClsNet(encoder, lmdb.vocab)\n",
    "net.train()"
   ]
  },
  {
   "cell_type": "markdown",
   "metadata": {
    "colab_type": "text",
    "id": "wB5L2ZGfgPFU"
   },
   "source": [
    "### // run the net"
   ]
  },
  {
   "cell_type": "code",
   "execution_count": null,
   "metadata": {
    "colab": {
     "base_uri": "https://localhost:8080/",
     "height": 51
    },
    "colab_type": "code",
    "executionInfo": {
     "elapsed": 3003,
     "status": "ok",
     "timestamp": 1569040997108,
     "user": {
      "displayName": "aeryen Z",
      "photoUrl": "https://lh3.googleusercontent.com/a-/AAuE7mB9B8o-g7Bk7FNiOiB3NeIjUlkwmewejTdgq8tQqg=s64",
      "userId": "01125454621554722334"
     },
     "user_tz": 300
    },
    "id": "PVCvcyY6gPFV",
    "outputId": "d0ac796b-1850-4148-af41-08980d00475d"
   },
   "outputs": [
    {
     "data": {
      "text/plain": [
       "tensor([[0., 0., 2., 2., 2., 2.],\n",
       "        [4., 4., 3., 3., 3., 3.]])"
      ]
     },
     "execution_count": 23,
     "metadata": {
      "tags": []
     },
     "output_type": "execute_result"
    }
   ],
   "source": [
    "x,y = clas_db.one_batch()\n",
    "input = x[0:2]\n",
    "label = y[0:2]\n",
    "label"
   ]
  },
  {
   "cell_type": "code",
   "execution_count": null,
   "metadata": {
    "colab": {
     "base_uri": "https://localhost:8080/",
     "height": 34
    },
    "colab_type": "code",
    "executionInfo": {
     "elapsed": 999,
     "status": "ok",
     "timestamp": 1569041050975,
     "user": {
      "displayName": "aeryen Z",
      "photoUrl": "https://lh3.googleusercontent.com/a-/AAuE7mB9B8o-g7Bk7FNiOiB3NeIjUlkwmewejTdgq8tQqg=s64",
      "userId": "01125454621554722334"
     },
     "user_tz": 300
    },
    "id": "OwPmi7SEIcb4",
    "outputId": "33427a52-6f24-4c32-abad-2088b07ee893"
   },
   "outputs": [
    {
     "data": {
      "text/plain": [
       "torch.Size([48, 2400])"
      ]
     },
     "execution_count": 27,
     "metadata": {
      "tags": []
     },
     "output_type": "execute_result"
    }
   ],
   "source": [
    "x.shape"
   ]
  },
  {
   "cell_type": "code",
   "execution_count": null,
   "metadata": {
    "colab": {
     "base_uri": "https://localhost:8080/",
     "height": 34
    },
    "colab_type": "code",
    "executionInfo": {
     "elapsed": 994,
     "status": "ok",
     "timestamp": 1569041058988,
     "user": {
      "displayName": "aeryen Z",
      "photoUrl": "https://lh3.googleusercontent.com/a-/AAuE7mB9B8o-g7Bk7FNiOiB3NeIjUlkwmewejTdgq8tQqg=s64",
      "userId": "01125454621554722334"
     },
     "user_tz": 300
    },
    "id": "w6B7-asrInqM",
    "outputId": "d5b3314c-d5fe-4986-dba0-070835be2a2e"
   },
   "outputs": [
    {
     "data": {
      "text/plain": [
       "torch.Size([48, 6])"
      ]
     },
     "execution_count": 28,
     "metadata": {
      "tags": []
     },
     "output_type": "execute_result"
    }
   ],
   "source": [
    "y.shape"
   ]
  },
  {
   "cell_type": "code",
   "execution_count": null,
   "metadata": {
    "colab": {},
    "colab_type": "code",
    "id": "Bq2VLPb7gPFY",
    "outputId": "2cc7b5a3-3170-4322-af36-b2c6953a7efa"
   },
   "outputs": [
    {
     "data": {
      "text/plain": [
       "tensor([[0., 2., 2., 2., 2.],\n",
       "        [3., 3., 4., 4., 4.]], device='cuda:0')"
      ]
     },
     "execution_count": 59,
     "metadata": {
      "tags": []
     },
     "output_type": "execute_result"
    }
   ],
   "source": [
    "alabel = label[:,1:6]\n",
    "alabel = alabel.cuda()\n",
    "alabel"
   ]
  },
  {
   "cell_type": "code",
   "execution_count": null,
   "metadata": {
    "colab": {},
    "colab_type": "code",
    "id": "nzl34RAjgPFZ",
    "outputId": "45419aa7-5ca6-4aa2-c28f-07443e9ae061",
    "scrolled": true
   },
   "outputs": [
    {
     "name": "stdout",
     "output_type": "stream",
     "text": [
      "shape of doc encoder:\n",
      "torch.Size([2, 2400, 400])\n",
      "doc_enc grad_fn:\n",
      "<CudnnRnnBackward object at 0x7f788d3acf60>\n",
      "doc_enc grad_fn:\n",
      "<ViewBackward object at 0x7f788d30feb8>\n",
      "number of sentences in docs:\n",
      "tensor([80, 79], device='cuda:0')\n",
      "locating period marks\n",
      "sentiment dist weight:\n",
      "<SoftmaxBackward object at 0x7f788d3acf60>\n",
      "aspect dist weight:\n",
      "<SoftmaxBackward object at 0x7f788d3acf60>\n",
      "sent bmm:\n",
      "torch.float32\n",
      "torch.Size([159, 5, 5])\n",
      "<BmmBackward object at 0x7f788d3acf60>\n",
      "-----\n",
      "torch.Size([80, 5, 5])\n",
      "torch.Size([1, 5, 5])\n",
      "-----\n",
      "torch.Size([79, 5, 5])\n",
      "torch.Size([1, 5, 5])\n",
      "torch.float32\n"
     ]
    }
   ],
   "source": [
    "result = net(input.cuda())"
   ]
  },
  {
   "cell_type": "code",
   "execution_count": null,
   "metadata": {
    "colab": {},
    "colab_type": "code",
    "id": "AhJFnh1AgPFb",
    "outputId": "11c3f84c-66b3-49c2-e027-b6c2cf541162"
   },
   "outputs": [
    {
     "data": {
      "text/plain": [
       "torch.Size([2, 5, 5])"
      ]
     },
     "execution_count": 55,
     "metadata": {
      "tags": []
     },
     "output_type": "execute_result"
    }
   ],
   "source": [
    "result.shape"
   ]
  },
  {
   "cell_type": "code",
   "execution_count": null,
   "metadata": {
    "colab": {},
    "colab_type": "code",
    "id": "YiaSydhKgPFc",
    "outputId": "302bb57a-e7ec-40af-e6c8-7e115855bdc6"
   },
   "outputs": [
    {
     "data": {
      "text/plain": [
       "tensor([[[0.0444, 0.0395, 0.0406, 0.0400, 0.0398],\n",
       "         [0.0419, 0.0373, 0.0383, 0.0377, 0.0375],\n",
       "         [0.0390, 0.0347, 0.0357, 0.0351, 0.0350],\n",
       "         [0.0439, 0.0390, 0.0401, 0.0395, 0.0393],\n",
       "         [0.0482, 0.0428, 0.0441, 0.0434, 0.0431]],\n",
       "\n",
       "        [[0.0444, 0.0395, 0.0406, 0.0400, 0.0398],\n",
       "         [0.0419, 0.0373, 0.0383, 0.0378, 0.0375],\n",
       "         [0.0390, 0.0347, 0.0357, 0.0352, 0.0350],\n",
       "         [0.0439, 0.0390, 0.0401, 0.0395, 0.0393],\n",
       "         [0.0482, 0.0428, 0.0440, 0.0434, 0.0431]]], device='cuda:0',\n",
       "       grad_fn=<CatBackward>)"
      ]
     },
     "execution_count": 58,
     "metadata": {
      "tags": []
     },
     "output_type": "execute_result"
    }
   ],
   "source": [
    "result"
   ]
  },
  {
   "cell_type": "markdown",
   "metadata": {
    "colab_type": "text",
    "id": "LJ8WC1MkxM7u"
   },
   "source": [
    "## define loss"
   ]
  },
  {
   "cell_type": "code",
   "execution_count": 14,
   "metadata": {
    "colab": {},
    "colab_type": "code",
    "id": "3hvT7k7cgPFe"
   },
   "outputs": [],
   "source": [
    "class MultiLabelCEL(nn.CrossEntropyLoss):\n",
    "    def forward(self, input, target):\n",
    "        # print(\"in multi label cel\")\n",
    "#         print(input.shape)\n",
    "#         print(target.shape)\n",
    "        i = input.view(-1, 5)    # flatten the aspect dimension, [batch*aspect, sentiment]\n",
    "        t = target.contiguous().view(-1).long()  # flatten the aspect dimension\n",
    "#         print(i.shape)\n",
    "#         print(t.shape)\n",
    "        loss = super(MultiLabelCEL, self).forward(i, t)\n",
    "        return loss"
   ]
  },
  {
   "cell_type": "code",
   "execution_count": 15,
   "metadata": {
    "colab": {},
    "colab_type": "code",
    "id": "vBGrqbtGgPFh"
   },
   "outputs": [],
   "source": [
    "l = MultiLabelCEL()"
   ]
  },
  {
   "cell_type": "markdown",
   "metadata": {},
   "source": [
    "## // test loss"
   ]
  },
  {
   "cell_type": "code",
   "execution_count": 39,
   "metadata": {
    "colab": {
     "base_uri": "https://localhost:8080/",
     "height": 181
    },
    "colab_type": "code",
    "executionInfo": {
     "elapsed": 670,
     "status": "error",
     "timestamp": 1569102838169,
     "user": {
      "displayName": "aeryen Z",
      "photoUrl": "https://lh3.googleusercontent.com/a-/AAuE7mB9B8o-g7Bk7FNiOiB3NeIjUlkwmewejTdgq8tQqg=s64",
      "userId": "01125454621554722334"
     },
     "user_tz": 300
    },
    "id": "TPHLiwTvgPFj",
    "outputId": "b8dd8949-9a89-4970-9444-34b9ec601962",
    "scrolled": true
   },
   "outputs": [
    {
     "ename": "NameError",
     "evalue": "ignored",
     "output_type": "error",
     "traceback": [
      "\u001b[0;31m---------------------------------------------------------------------------\u001b[0m",
      "\u001b[0;31mNameError\u001b[0m                                 Traceback (most recent call last)",
      "\u001b[0;32m<ipython-input-39-e6575c6dd2a4>\u001b[0m in \u001b[0;36m<module>\u001b[0;34m()\u001b[0m\n\u001b[0;32m----> 1\u001b[0;31m \u001b[0moutput\u001b[0m \u001b[0;34m=\u001b[0m \u001b[0ml\u001b[0m\u001b[0;34m(\u001b[0m\u001b[0mresult\u001b[0m\u001b[0;34m,\u001b[0m \u001b[0malabel\u001b[0m\u001b[0;34m.\u001b[0m\u001b[0mlong\u001b[0m\u001b[0;34m(\u001b[0m\u001b[0;34m)\u001b[0m \u001b[0;34m)\u001b[0m\u001b[0;34m\u001b[0m\u001b[0;34m\u001b[0m\u001b[0m\n\u001b[0m\u001b[1;32m      2\u001b[0m \u001b[0moutput\u001b[0m\u001b[0;34m\u001b[0m\u001b[0;34m\u001b[0m\u001b[0m\n",
      "\u001b[0;31mNameError\u001b[0m: name 'result' is not defined"
     ]
    }
   ],
   "source": [
    "output = l(result, alabel.long() )\n",
    "output"
   ]
  },
  {
   "cell_type": "code",
   "execution_count": null,
   "metadata": {
    "colab": {},
    "colab_type": "code",
    "id": "hYpKly8UgPFm"
   },
   "outputs": [],
   "source": [
    "output.backward()"
   ]
  },
  {
   "cell_type": "code",
   "execution_count": null,
   "metadata": {
    "colab": {},
    "colab_type": "code",
    "id": "rdQXpjstgPFp",
    "outputId": "7fd160b9-c093-4c94-ea03-0619140e6246",
    "scrolled": true
   },
   "outputs": [
    {
     "data": {
      "text/plain": [
       "tensor([[ 1.5610e-04, -3.1482e-04, -9.7833e-05,  ..., -4.2091e-04,\n",
       "         -1.0611e-05,  1.2952e-04],\n",
       "        [ 2.8048e-04, -5.6867e-04, -1.7160e-04,  ..., -7.5715e-04,\n",
       "         -2.0188e-05,  2.2874e-04],\n",
       "        [-2.9111e-04,  5.8928e-04,  1.7540e-04,  ...,  7.9670e-04,\n",
       "          2.0656e-05, -2.3726e-04],\n",
       "        [-1.3928e-06, -4.8399e-06, -3.8973e-07,  ..., -8.2829e-06,\n",
       "         -6.2778e-07,  5.3859e-07],\n",
       "        [-1.4408e-04,  2.9905e-04,  9.4420e-05,  ...,  3.8965e-04,\n",
       "          1.0771e-05, -1.2154e-04]], device='cuda:0')"
      ]
     },
     "execution_count": 62,
     "metadata": {
      "tags": []
     },
     "output_type": "execute_result"
    }
   ],
   "source": [
    "net.aspect.weight.grad"
   ]
  },
  {
   "cell_type": "code",
   "execution_count": null,
   "metadata": {
    "colab": {
     "base_uri": "https://localhost:8080/",
     "height": 34
    },
    "colab_type": "code",
    "executionInfo": {
     "elapsed": 418,
     "status": "ok",
     "timestamp": 1569044259033,
     "user": {
      "displayName": "aeryen Z",
      "photoUrl": "https://lh3.googleusercontent.com/a-/AAuE7mB9B8o-g7Bk7FNiOiB3NeIjUlkwmewejTdgq8tQqg=s64",
      "userId": "01125454621554722334"
     },
     "user_tz": 300
    },
    "id": "3CrrnJPQKczi",
    "outputId": "ec9d3d93-9d54-48cf-9674-11fa2eaacf4d"
   },
   "outputs": [
    {
     "data": {
      "text/plain": [
       "device(type='cuda', index=0)"
      ]
     },
     "execution_count": 42,
     "metadata": {
      "tags": []
     },
     "output_type": "execute_result"
    }
   ],
   "source": [
    "net.aspect.weight.device"
   ]
  },
  {
   "cell_type": "code",
   "execution_count": 61,
   "metadata": {
    "colab": {},
    "colab_type": "code",
    "id": "N1WjCPVdxXTS"
   },
   "outputs": [],
   "source": [
    "net.enc.reset()"
   ]
  },
  {
   "cell_type": "code",
   "execution_count": 20,
   "metadata": {
    "colab": {
     "base_uri": "https://localhost:8080/",
     "height": 34
    },
    "colab_type": "code",
    "executionInfo": {
     "elapsed": 351,
     "status": "ok",
     "timestamp": 1569104282435,
     "user": {
      "displayName": "aeryen Z",
      "photoUrl": "https://lh3.googleusercontent.com/a-/AAuE7mB9B8o-g7Bk7FNiOiB3NeIjUlkwmewejTdgq8tQqg=s64",
      "userId": "01125454621554722334"
     },
     "user_tz": 300
    },
    "id": "oWOqC8xD49zI",
    "outputId": "f5bdcaf8-4e0d-4c7c-d737-d733e338ffd8"
   },
   "outputs": [
    {
     "data": {
      "text/plain": [
       "False"
      ]
     },
     "execution_count": 20,
     "metadata": {},
     "output_type": "execute_result"
    }
   ],
   "source": [
    "requires_grad(net.enc.rnns[0].module)"
   ]
  },
  {
   "cell_type": "markdown",
   "metadata": {
    "colab_type": "text",
    "id": "Dg7q7m-QxYHb"
   },
   "source": [
    "## training"
   ]
  },
  {
   "cell_type": "code",
   "execution_count": 1,
   "metadata": {
    "colab": {
     "base_uri": "https://localhost:8080/",
     "height": 306
    },
    "colab_type": "code",
    "executionInfo": {
     "elapsed": 1709,
     "status": "ok",
     "timestamp": 1569120044232,
     "user": {
      "displayName": "aeryen Z",
      "photoUrl": "https://lh3.googleusercontent.com/a-/AAuE7mB9B8o-g7Bk7FNiOiB3NeIjUlkwmewejTdgq8tQqg=s64",
      "userId": "01125454621554722334"
     },
     "user_tz": 300
    },
    "id": "s1qqeTg61-IR",
    "outputId": "2403a064-6671-4ce1-c9e5-d5bca17d8e1d"
   },
   "outputs": [
    {
     "name": "stdout",
     "output_type": "stream",
     "text": [
      "Thu Oct 10 22:20:42 2019       \n",
      "+-----------------------------------------------------------------------------+\n",
      "| NVIDIA-SMI 410.104      Driver Version: 410.104      CUDA Version: 10.0     |\n",
      "|-------------------------------+----------------------+----------------------+\n",
      "| GPU  Name        Persistence-M| Bus-Id        Disp.A | Volatile Uncorr. ECC |\n",
      "| Fan  Temp  Perf  Pwr:Usage/Cap|         Memory-Usage | GPU-Util  Compute M. |\n",
      "|===============================+======================+======================|\n",
      "|   0  Tesla P4            Off  | 00000000:00:04.0 Off |                    0 |\n",
      "| N/A   52C    P0    24W /  75W |    699MiB /  7611MiB |      0%      Default |\n",
      "+-------------------------------+----------------------+----------------------+\n",
      "                                                                               \n",
      "+-----------------------------------------------------------------------------+\n",
      "| Processes:                                                       GPU Memory |\n",
      "|  GPU       PID   Type   Process name                             Usage      |\n",
      "|=============================================================================|\n",
      "|    0      4550      C   /opt/anaconda3/bin/python                    689MiB |\n",
      "+-----------------------------------------------------------------------------+\n"
     ]
    }
   ],
   "source": [
    "!nvidia-smi"
   ]
  },
  {
   "cell_type": "code",
   "execution_count": 17,
   "metadata": {},
   "outputs": [],
   "source": [
    "def model_split(model:nn.Module) -> List[nn.Module]:\n",
    "    \"Split a RNN `model` in groups for differential learning rates.\"\n",
    "    groups = [[model.enc.encoder, model.enc.encoder_dp]]\n",
    "    groups += [[rnn, dp] for rnn, dp in zip(model.enc.rnns, model.enc.hidden_dps)]\n",
    "    return groups + [[ model.sentiment, model.aspect ]]"
   ]
  },
  {
   "cell_type": "code",
   "execution_count": 18,
   "metadata": {},
   "outputs": [],
   "source": [
    "my_learner = RNNLearner(data=clas_db,\n",
    "                     model=net,\n",
    "                     split_func=model_split,\n",
    "                     opt_func=torch.optim.Adam,\n",
    "                     loss_func=l)"
   ]
  },
  {
   "cell_type": "code",
   "execution_count": 19,
   "metadata": {},
   "outputs": [
    {
     "name": "stdout",
     "output_type": "stream",
     "text": [
      "freezing:Embedding(23008, 400, padding_idx=1)\n",
      "freezing:EmbeddingDropout(\n",
      "  (emb): Embedding(23008, 400, padding_idx=1)\n",
      ")\n",
      "freezing:WeightDropout(\n",
      "  (module): LSTM(400, 1152, batch_first=True)\n",
      ")\n",
      "freezing:RNNDropout()\n",
      "freezing:WeightDropout(\n",
      "  (module): LSTM(1152, 1152, batch_first=True)\n",
      ")\n",
      "freezing:RNNDropout()\n",
      "freezing:WeightDropout(\n",
      "  (module): LSTM(1152, 400, batch_first=True)\n",
      ")\n",
      "freezing:RNNDropout()\n"
     ]
    }
   ],
   "source": [
    "my_learner.freeze()"
   ]
  },
  {
   "cell_type": "code",
   "execution_count": 24,
   "metadata": {},
   "outputs": [],
   "source": [
    "moms = (0.8, 0.8, 0.8, 0.8, 0.7)"
   ]
  },
  {
   "cell_type": "code",
   "execution_count": 1,
   "metadata": {
    "colab": {
     "base_uri": "https://localhost:8080/",
     "height": 95
    },
    "colab_type": "code",
    "executionInfo": {
     "elapsed": 983,
     "status": "error",
     "timestamp": 1569041116685,
     "user": {
      "displayName": "aeryen Z",
      "photoUrl": "https://lh3.googleusercontent.com/a-/AAuE7mB9B8o-g7Bk7FNiOiB3NeIjUlkwmewejTdgq8tQqg=s64",
      "userId": "01125454621554722334"
     },
     "user_tz": 300
    },
    "id": "LPIrpwOogPFx",
    "outputId": "90437b19-23c5-4555-9473-5962729b3837"
   },
   "outputs": [
    {
     "ename": "NameError",
     "evalue": "name 'my_learner' is not defined",
     "output_type": "error",
     "traceback": [
      "\u001b[0;31m---------------------------------------------------------------------------\u001b[0m",
      "\u001b[0;31mNameError\u001b[0m                                 Traceback (most recent call last)",
      "\u001b[0;32m<ipython-input-1-63b9663d3a12>\u001b[0m in \u001b[0;36m<module>\u001b[0;34m\u001b[0m\n\u001b[0;32m----> 1\u001b[0;31m \u001b[0mmy_learner\u001b[0m\u001b[0;34m.\u001b[0m\u001b[0mfit_one_cycle\u001b[0m\u001b[0;34m(\u001b[0m\u001b[0;36m4\u001b[0m\u001b[0;34m,\u001b[0m \u001b[0mmoms\u001b[0m\u001b[0;34m)\u001b[0m\u001b[0;34m\u001b[0m\u001b[0;34m\u001b[0m\u001b[0m\n\u001b[0m",
      "\u001b[0;31mNameError\u001b[0m: name 'my_learner' is not defined"
     ]
    }
   ],
   "source": [
    "my_learner.fit_one_cycle(4, moms)"
   ]
  },
  {
   "cell_type": "markdown",
   "metadata": {
    "colab_type": "text",
    "id": "_nNviY0OgPFz"
   },
   "source": [
    "# TESTS"
   ]
  },
  {
   "cell_type": "code",
   "execution_count": null,
   "metadata": {
    "colab": {},
    "colab_type": "code",
    "id": "B7QWOCBSgPFz",
    "outputId": "3f7de920-fc83-47a2-ce7a-d5644af20e81"
   },
   "outputs": [
    {
     "data": {
      "text/plain": [
       "tensor([[[1, 2],\n",
       "         [3, 4]],\n",
       "\n",
       "        [[5, 6],\n",
       "         [7, 8]]])"
      ]
     },
     "execution_count": 96,
     "metadata": {
      "tags": []
     },
     "output_type": "execute_result"
    }
   ],
   "source": [
    "a = torch.tensor([ [[1,2],[3,4]], [[5,6],[7,8]] ] )\n",
    "a"
   ]
  },
  {
   "cell_type": "code",
   "execution_count": null,
   "metadata": {
    "colab": {},
    "colab_type": "code",
    "id": "7PU081RBgPF1",
    "outputId": "c978aea3-19b2-4967-86cc-27dcacc6b273"
   },
   "outputs": [
    {
     "data": {
      "text/plain": [
       "torch.Size([2, 2, 2])"
      ]
     },
     "execution_count": 98,
     "metadata": {
      "tags": []
     },
     "output_type": "execute_result"
    }
   ],
   "source": [
    "a.shape"
   ]
  },
  {
   "cell_type": "code",
   "execution_count": null,
   "metadata": {
    "colab": {},
    "colab_type": "code",
    "id": "m6bY9xVNgPF2",
    "outputId": "77867c20-adc6-4ad6-e32f-cbceb6001325"
   },
   "outputs": [
    {
     "data": {
      "text/plain": [
       "tensor([[1, 2],\n",
       "        [3, 4],\n",
       "        [5, 6],\n",
       "        [7, 8]])"
      ]
     },
     "execution_count": 102,
     "metadata": {
      "tags": []
     },
     "output_type": "execute_result"
    }
   ],
   "source": [
    "a.view(-1,2)"
   ]
  },
  {
   "cell_type": "code",
   "execution_count": null,
   "metadata": {
    "colab": {},
    "colab_type": "code",
    "id": "nh-sHItegPF3",
    "outputId": "8d576d68-3c3e-4965-c02a-804347f0522c",
    "scrolled": true
   },
   "outputs": [
    {
     "data": {
      "text/plain": [
       "'xxbos \" an extremely disappointing experience \" where do i beging xxperiod first let me just say that originally i had booked a reservation to stay at this hotel for 9 days instead of the two days that i lasted with my family at this hotel xxperiod the original comfirmed reservation was to have taken place from friday august 15 to sunday august xxunk in may this year i was considering going back to puerto rico for a longer stay than the 6 days i stood at the san juan marriott resort and stellaris casino in the condado area last year in october xxperiod we had such a great time specially at the marriott that i wrote a beautiful review about the hotel here on tripadvisor and in the review i had stated that if we will ever go back to puerto rico this will be the hotel that we will go back to xxperiod i made a decision back in may this year to at least try another hotel just to see how good other hotels may fair against the marriott xxperiod that is why after reading so many reviews about the condado plaza hotel and casino ( some good ones and some bad ones ) i felt that the good ones were more than enough to make me want to stay at this hotel xxperiod when i made the reservation through the hotel \\'s website and obtaining my confirmation # , right away i placed a call to the hotel directly from ny just to make sure that everything was as schedule specially confirming my request of an ocean vista room , high floor and most of all a room with two beds since i was traveling with xxperiod my lovely girlfriend and my adorable 12 year old daughter xxperiod after talking to an agent from the hotel she assured me that everything will be as scheduled xxperiod she told me that upon my arrival to the hotel there will be an ocean vista room high floor with two beds waiting for us xxperiod not only did i called on the day of the reservation but i also called on june and this time i spoke to gabriel who assured me that everything was fine with the reservation an that i will be getting a room just as i have requested with two beds , high floor and facing the ocean xxperiod i placed another called the first week of august to make sure once again that all was as schedule with my reservation and thn again i spoke to another agent from the hotel who again told me that everything is ready and that my room exactly as i have requested it will be waiting for me upon my arrival xxperiod upon our arrival at the hotel on friday august 15 with my rented car from hertz i was just about to get into the hotel entrance when we realized that it was been blocked by a barrier with a police officer standing in front of it xxperiod the police officer came to the car an told me that i could not get it but i explained to her that i was a guest at the hotel and that i had just arrived from ny and i was going to check in into the hotel xxperiod she told me to wait a second and she went to talk to another officer where at one point they started some sort of an argument because they wanted to decide who was going to move the barrier so i can get into the hotel xxperiod after letting my drive into the hotel i came to the valet parking area where i had to wait for at least 20 minutes before anyone can come to help us with the luggage or even take the car xxperiod finally a guy from the valet parking came in and asked me if i was checking in and i told him yes and also mentioned to him that i will need a bellman to bring our luggage to the room to which he replied that he did not know where the bellman was xxperiod at this point i just said to him just park the car for me and we will carry our on luggage into the hotel xxperiod when the doors from the hotel opened we could not believe what we were seeing xxperiod there was so many people in the lobby drinking an partying and the music was so loud that we were trying to get thru the people and at some point we had to yelled excuse me so they could move so we can make it to the front desk to check in xxperiod we finally made it to the front desk and were greeted by fernando to whom i had to speak out loud so he can hear me because of the loud music being played in the lobby xxperiod i gave him my name and told him that i had a reservation for a high floor , ocean vista room with two double beds xxperiod i could tell right away that something was wrong immediately because of the expression on his face xxperiod he said to me that i did have an ocean vista room on the 9th floor but only 1 bed xxperiod with everything that has been going on so far since we arrived at the hotel i started to get a little upset but chose to be a little diplomatic about it and told fernando that i have been calling the hotel every month since i made the reservation to make sure everything was as schedule an that the most important thing was having two xxperiod beds and that everytime i called i was assured that i will get a room with two beds xxperiod he said that they only had a room with only one bed xxperiod i asked him why a hotel with over 500 rooms and with a comfirmed reservation that was made almost three months ago can provide me me with what i asked for to which he replied that all the hotel does guarantee is an ocean vista room but not the specific amount of beds i said to him how do you expect the three of xxperiod us to sleep on the same bed when i am almost 6\\'2 xxperiod he said that he could send me an air mattress to our room at least for the night and that i can speak to the manager in the morning so he can change out room to one with two beds xxperiod at his point was almost 9 pm and we were so tired and hungry that i agreed to take the room with the air mattress and wait until the next day to be transfer to another room with two beds xxperiod i asked him why the hotel so so crowded and he told me that the hotel had booked a local political convention and that is why the hotel was so packed xxperiod he said to leave the luggage by the front desk and that he will have a bellman take them upstairs xxperiod i took my room keys and asked him to tell me where the elevators where so i can go up to my room and when he pointed the elevators to me i could not believe what i saw xxperiod there was a line so long to take the elevators that i knew it was going to take us a while just to get in them xxperiod after waiting for about 15 minutes waiting for an elevator since everytime they came to the lobby they were full to capacity from people going up an down i asked him if there was another way to get to the room he told me that there was another elevator in the back towards the pool that not too many people know about xxperiod when we got to this elevator there was also a lot of people but not as much as the main / front elevators so this time we only waited for around 5 minutes to get in xxperiod we arrived to room # 912 and found the room to be clean with one bed and an l shaped sofa in front of the tv xxperiod the bellman showed up around 20 minutes later with our luggage an i asked him if he knew where was our air mattress xxperiod he said not to worry about it because it will be brought up to our room and we did not need to be there since houskeeping has the key to the room xxperiod we decided to go out the hotel to get something to eat and we felt that by the time we came back the air mattress will be in the room xxperiod this time on the way down we had to take th stairs because when we wen to the elevator area in our floor there was a lot of people waiting for the elevators xxperiod we came back to the room around almost 11:00pm and when we got ot the room there was no air mattress to be found , i called the front desk for at least 5 minutes before anyone came to answer the phone xxperiod this is not an exaggeration xxperiod this is a fact xxperiod finally when i got someone to anwer they promise that they will send and air mattress right away xxperiod this was at xxunk and we all went to sleep around 1 am and still no air mattress xxperiod in had to sleep in the l shaped sofa that was in the room so my daughter and girlfriend can sleep in th bed xxperiod this was very uncomfortable because i am almost 6\\'2 and i wanted my daughter an girlfriend to get a good night sleep since we have been up since 5 am that day because our 9 am flight was canceled by xxunk and we had to booked another flight thru american airlines just to make it to puerto rico xxperiod while sleeping we kept waking up because our room was right across the ice making machine which at that time it became a hang out place for the drinking guests of the political convention that was taken place at the hotel and these people were talking so loud and and laughing right the front of our room to early hours in the morning xxperiod all i remember was that the last time i heard people talking was around 3:00am but i was so tired that i kept sleeping xxperiod the following day saturday august 16th i was downstairs at 8 am so i can speak to the front desk manager mr xxperiod jean pierre aponte xxperiod i explained to him my situation to which he was really very apologetic and he told me that he will do whatever he could to get me a room with two beds xxperiod i gave him my cell phone number to call me because we had plans to go to the old san juan during the day xxperiod aponte called me xxunk 2 pm but did not have good news for me xxperiod he could not find a room with two beds and most of all he did not even have an air mattress to offer me xxperiod he told me that he will take $ 25 off my bill for every day that i did not have an air mattress xxperiod i told mr xxperiod aponte that this is not what i wanted but i will have to think what i was going to do xxperiod we came back to the hotel around 5 pm to find out the same old story xxperiod over packed lobby with people holding drinks , extremely loud live music and a line of people waiting for elevators xxperiod we went to the back of the lobby to use elevator near the pool which it was not as busy as the main ones an to our surprise the elevator was out of service xxperiod we decided to go up the stairs because it was going to take a while if we were going to wait for the elevators xxperiod it took us a little longer because my daughter as a problem with one of her knees and it takes her a while to go up stairs xxperiod we made it to our room and decided to just change an relax at the pool xxperiod huge xxunk we arrived at the pool , the pool was so packed with the guest and friends of the political convention that there was no chairs available at all xxperiod we decided to go to the beach instead and when we went to get the chairs by the beach they were all tied up with ropes xxperiod we asked why xxperiod and they told us that the beach chairs can only be used until 6 pm xxperiod i looked at the time and it was xxunk xxperiod our luck well we had no choice but to sit on the sand and do the best we could xxperiod while seating on the beach i looked at my daughters face and i saw how sad she was xxperiod she was also in pain because her knee started to hurt because of the climbing thru the stairs to our room xxperiod it was at this point that i decided that i had enough of the condado plaza hotel xxperiod i told my girlfriend , packed the suitcases because we are checking out of this lousy hotel and we are going to the marriott xxperiod i walked to the san juan marriott hotel and right away they found me a room with 2 beds xxperiod it was costing me over $ 500 more that the condado plaza hotel but guess what xxperiod it was worth it xxperiod i returned to the condado an had to carried part of our luggage downstairs because we waited for 25 minutes in the room and when i called the front desk ( which i had to call 3 times before anyone answer the phone ) i was told that it was taking longer than expected because they only had 1 bellman working that night'"
      ]
     },
     "execution_count": 119,
     "metadata": {
      "tags": []
     },
     "output_type": "execute_result"
    }
   ],
   "source": [
    "clas_db.vocab.textify(input.cpu()[0,:])"
   ]
  },
  {
   "cell_type": "code",
   "execution_count": null,
   "metadata": {
    "colab": {},
    "colab_type": "code",
    "id": "PnS3_PWGgPF4"
   },
   "outputs": [],
   "source": []
  },
  {
   "cell_type": "code",
   "execution_count": null,
   "metadata": {
    "colab": {},
    "colab_type": "code",
    "id": "GGLU_IgIgPF7",
    "outputId": "c3842a05-f75c-48ba-8761-2aa0caea8f60"
   },
   "outputs": [
    {
     "data": {
      "text/plain": [
       "tensor([[1, 2],\n",
       "        [3, 4]])"
      ]
     },
     "execution_count": 139,
     "metadata": {
      "tags": []
     },
     "output_type": "execute_result"
    }
   ],
   "source": [
    "b = torch.tensor([ [1,2], [3,4] ])\n",
    "b"
   ]
  },
  {
   "cell_type": "code",
   "execution_count": null,
   "metadata": {
    "colab": {},
    "colab_type": "code",
    "id": "AADhni2_gPF-",
    "outputId": "a6a68e85-c2c9-4c08-b0a7-e13ea1dff6b8"
   },
   "outputs": [
    {
     "data": {
      "text/plain": [
       "tensor([[1, 1, 1],\n",
       "        [2, 2, 2]])"
      ]
     },
     "execution_count": 140,
     "metadata": {
      "tags": []
     },
     "output_type": "execute_result"
    }
   ],
   "source": [
    "c = torch.tensor([ [1,1,1], [2,2,2] ])\n",
    "c"
   ]
  },
  {
   "cell_type": "code",
   "execution_count": null,
   "metadata": {
    "colab": {},
    "colab_type": "code",
    "id": "OqFjKxYkgPGA",
    "outputId": "b34349b5-41a4-4e20-ea86-c92d881f92da"
   },
   "outputs": [
    {
     "data": {
      "text/plain": [
       "tensor([[[1, 1, 1],\n",
       "         [2, 2, 2]],\n",
       "\n",
       "        [[6, 6, 6],\n",
       "         [8, 8, 8]]])"
      ]
     },
     "execution_count": 142,
     "metadata": {
      "tags": []
     },
     "output_type": "execute_result"
    }
   ],
   "source": [
    "result = torch.bmm(b.unsqueeze(2), c.unsqueeze(1))\n",
    "result"
   ]
  },
  {
   "cell_type": "code",
   "execution_count": null,
   "metadata": {
    "colab": {},
    "colab_type": "code",
    "id": "_4unctL3gPGB",
    "outputId": "c0ceb87b-f250-44f9-891a-a42a0c9cd14a"
   },
   "outputs": [
    {
     "data": {
      "text/plain": [
       "torch.Size([2, 2, 3])"
      ]
     },
     "execution_count": 143,
     "metadata": {
      "tags": []
     },
     "output_type": "execute_result"
    }
   ],
   "source": [
    "result.shape"
   ]
  },
  {
   "cell_type": "code",
   "execution_count": null,
   "metadata": {
    "colab": {},
    "colab_type": "code",
    "id": "abM76nRRgPGD",
    "outputId": "0f8212fe-456f-424b-8ada-95c203d8fdbd"
   },
   "outputs": [
    {
     "data": {
      "text/plain": [
       "tensor([0, 0, 1, 0, 0, 0, 0, 1, 0, 0, 0, 1])"
      ]
     },
     "execution_count": 152,
     "metadata": {
      "tags": []
     },
     "output_type": "execute_result"
    }
   ],
   "source": [
    "b = torch.tensor( [0,0,1,0,0,0,0,1,0,0,0,1] )\n",
    "b"
   ]
  },
  {
   "cell_type": "code",
   "execution_count": null,
   "metadata": {
    "colab": {},
    "colab_type": "code",
    "id": "la3V3BVFgPGH",
    "outputId": "bb1977b8-0f11-4b76-c4de-4fbcc4871794"
   },
   "outputs": [
    {
     "data": {
      "text/plain": [
       "tensor([0, 0, 1, 0, 0, 0, 0, 1, 0, 0, 0, 1], dtype=torch.uint8)"
      ]
     },
     "execution_count": 154,
     "metadata": {
      "tags": []
     },
     "output_type": "execute_result"
    }
   ],
   "source": [
    "ind = b == 1\n",
    "ind"
   ]
  },
  {
   "cell_type": "code",
   "execution_count": null,
   "metadata": {
    "colab": {},
    "colab_type": "code",
    "id": "nKeHKzmRgPGI",
    "outputId": "5d2403ec-ec05-46a0-d8a0-91163ae3c35a"
   },
   "outputs": [
    {
     "ename": "AttributeError",
     "evalue": "'function' object has no attribute 'reduceat'",
     "output_type": "error",
     "traceback": [
      "\u001b[0;31m---------------------------------------------------------------------------\u001b[0m",
      "\u001b[0;31mAttributeError\u001b[0m                            Traceback (most recent call last)",
      "\u001b[0;32m<ipython-input-159-cd16e917f105>\u001b[0m in \u001b[0;36m<module>\u001b[0;34m\u001b[0m\n\u001b[0;32m----> 1\u001b[0;31m \u001b[0mnp\u001b[0m\u001b[0;34m.\u001b[0m\u001b[0maverage\u001b[0m\u001b[0;34m.\u001b[0m\u001b[0mreduceat\u001b[0m\u001b[0;34m(\u001b[0m\u001b[0mb\u001b[0m\u001b[0;34m,\u001b[0m \u001b[0;34m[\u001b[0m\u001b[0;36m0\u001b[0m\u001b[0;34m,\u001b[0m\u001b[0;36m3\u001b[0m\u001b[0;34m,\u001b[0m\u001b[0;36m8\u001b[0m\u001b[0;34m]\u001b[0m\u001b[0;34m)\u001b[0m\u001b[0;34m\u001b[0m\u001b[0;34m\u001b[0m\u001b[0m\n\u001b[0m",
      "\u001b[0;31mAttributeError\u001b[0m: 'function' object has no attribute 'reduceat'"
     ]
    }
   ],
   "source": [
    "np.add.reduceat(b, [0,3,8])"
   ]
  },
  {
   "cell_type": "code",
   "execution_count": null,
   "metadata": {
    "colab": {},
    "colab_type": "code",
    "id": "t067t4QggPGL",
    "outputId": "931db194-ac1a-4077-f255-15ca1a0cc797"
   },
   "outputs": [
    {
     "data": {
      "text/plain": [
       "tensor([ 79, 158])"
      ]
     },
     "execution_count": 182,
     "metadata": {
      "tags": []
     },
     "output_type": "execute_result"
    }
   ],
   "source": [
    "torch.cumsum(torch.tensor([79,79]),0)"
   ]
  },
  {
   "cell_type": "code",
   "execution_count": null,
   "metadata": {
    "colab": {},
    "colab_type": "code",
    "id": "DT9hKK8WgPGO",
    "outputId": "11807ca4-b402-4de7-881e-75c605d03616"
   },
   "outputs": [
    {
     "data": {
      "text/plain": [
       "tensor([0, 0, 1, 0, 0, 0, 0, 1, 0, 0, 0])"
      ]
     },
     "execution_count": 184,
     "metadata": {
      "tags": []
     },
     "output_type": "execute_result"
    }
   ],
   "source": [
    "b[0:-1]"
   ]
  },
  {
   "cell_type": "code",
   "execution_count": null,
   "metadata": {
    "colab": {},
    "colab_type": "code",
    "id": "puwPgoLvgPGP"
   },
   "outputs": [],
   "source": []
  }
 ],
 "metadata": {
  "accelerator": "GPU",
  "colab": {
   "collapsed_sections": [],
   "name": "Train_Hotel.ipynb",
   "provenance": [],
   "toc_visible": true
  },
  "kernelspec": {
   "display_name": "Python 3",
   "language": "python",
   "name": "python3"
  },
  "language_info": {
   "codemirror_mode": {
    "name": "ipython",
    "version": 3
   },
   "file_extension": ".py",
   "mimetype": "text/x-python",
   "name": "python",
   "nbconvert_exporter": "python",
   "pygments_lexer": "ipython3",
   "version": "3.7.4"
  }
 },
 "nbformat": 4,
 "nbformat_minor": 4
}
