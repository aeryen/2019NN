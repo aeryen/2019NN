{
 "cells": [
  {
   "cell_type": "code",
   "execution_count": 1,
   "metadata": {},
   "outputs": [],
   "source": [
    "from fastai.text import *\n",
    "from data_helpers.Data import *"
   ]
  },
  {
   "cell_type": "code",
   "execution_count": 2,
   "metadata": {},
   "outputs": [],
   "source": [
    "sent_num_file = [\"aspect_0.count\", \"test_aspect_0.count\"]\n",
    "rating_file = [\"aspect_0.rating\", \"test_aspect_0.rating\"]\n",
    "content_file = [\"aspect_0.txt\", \"test_aspect_0.txt\"]\n",
    "\n",
    "dataset_dir = \"./data/hotel_balance_LengthFix1_3000per/\""
   ]
  },
  {
   "cell_type": "code",
   "execution_count": 3,
   "metadata": {},
   "outputs": [],
   "source": [
    "def concat_to_doc(sent_list, sent_count):\n",
    "    start_index = 0\n",
    "    docs = []\n",
    "    for s in sent_count:\n",
    "        doc = \" . \".join(sent_list[start_index:start_index + s])\n",
    "        docs.append(doc)\n",
    "        start_index = start_index + s\n",
    "    return docs"
   ]
  },
  {
   "cell_type": "code",
   "execution_count": 4,
   "metadata": {},
   "outputs": [],
   "source": [
    "TRAIN_DATA = 0\n",
    "TEST_DATA = 1"
   ]
  },
  {
   "cell_type": "markdown",
   "metadata": {},
   "source": [
    "### load train"
   ]
  },
  {
   "cell_type": "code",
   "execution_count": 5,
   "metadata": {},
   "outputs": [
    {
     "data": {
      "text/plain": [
       "[10, 14, 14, 24, 23]"
      ]
     },
     "execution_count": 5,
     "metadata": {},
     "output_type": "execute_result"
    }
   ],
   "source": [
    "sent_count_train = list(open(dataset_dir + sent_num_file[TRAIN_DATA], \"r\").readlines())\n",
    "sent_count_train = [int(s) for s in sent_count_train if (len(s) > 0 and s != \"\\n\")]\n",
    "sent_count_train[0:5]"
   ]
  },
  {
   "cell_type": "code",
   "execution_count": 6,
   "metadata": {},
   "outputs": [
    {
     "data": {
      "text/plain": [
       "['5 5 5 5 5 5 \\n',\n",
       " '5 4 5 5 5 5 \\n',\n",
       " '2 1 2 2 3 2 \\n',\n",
       " '4 3 4 3 5 4 \\n',\n",
       " '4 3 2 3 3 5 \\n']"
      ]
     },
     "execution_count": 6,
     "metadata": {},
     "output_type": "execute_result"
    }
   ],
   "source": [
    "aspect_rating_train = list(open(dataset_dir + rating_file[TRAIN_DATA], \"r\").readlines())\n",
    "aspect_rating_train = [s for s in aspect_rating_train if (len(s) > 0 and s != \"\\n\")]\n",
    "aspect_rating_train[0:5]"
   ]
  },
  {
   "cell_type": "code",
   "execution_count": 7,
   "metadata": {},
   "outputs": [
    {
     "data": {
      "text/plain": [
       "array([[4, 4, 4, 4, 4, 4],\n",
       "       [4, 3, 4, 4, 4, 4],\n",
       "       [1, 0, 1, 1, 2, 1],\n",
       "       [3, 2, 3, 2, 4, 3],\n",
       "       [3, 2, 1, 2, 2, 4]])"
      ]
     },
     "execution_count": 7,
     "metadata": {},
     "output_type": "execute_result"
    }
   ],
   "source": [
    "aspect_rating_train = [s.split(\" \") for s in aspect_rating_train]\n",
    "aspect_rating_train = np.array(aspect_rating_train)[:, 0:-1]\n",
    "aspect_rating_train = aspect_rating_train.astype(np.int) - 1\n",
    "aspect_rating_train[0:5]"
   ]
  },
  {
   "cell_type": "code",
   "execution_count": 9,
   "metadata": {},
   "outputs": [
    {
     "data": {
      "text/plain": [
       "265556"
      ]
     },
     "execution_count": 9,
     "metadata": {},
     "output_type": "execute_result"
    }
   ],
   "source": [
    "sents_train = list(open(dataset_dir + content_file[TRAIN_DATA], \"r\").readlines())\n",
    "sents_train = [s.strip() for s in sents_train]\n",
    "len(sents_train)"
   ]
  },
  {
   "cell_type": "code",
   "execution_count": 10,
   "metadata": {},
   "outputs": [
    {
     "data": {
      "text/plain": [
       "['we had the most wonderful time at the excellence',\n",
       " 'we opted for the excellence club and it was well worht it for the perks',\n",
       " 'roberto puello who was the club manager did an extra special job of making us feel welcomed',\n",
       " 'we took some great pictures that looked like postcards',\n",
       " 'the food was excellent the pizza was close to being our favorite']"
      ]
     },
     "execution_count": 10,
     "metadata": {},
     "output_type": "execute_result"
    }
   ],
   "source": [
    "sents_train[0:5]"
   ]
  },
  {
   "cell_type": "code",
   "execution_count": 11,
   "metadata": {
    "scrolled": true
   },
   "outputs": [
    {
     "data": {
      "text/plain": [
       "\"we had the most wonderful time at the excellence . we opted for the excellence club and it was well worht it for the perks . roberto puello who was the club manager did an extra special job of making us feel welcomed . we took some great pictures that looked like postcards . the food was excellent the pizza was close to being our favorite . the shows were great especially the michael jackson and the 70's  80's night . the french resturant was probably our favorite . we will definately be back for an anniversary trip . we made some friends but had plenty of privcacy as well . the rooms were great and everytime we left and came back it was cleaned , towels restocked and the bar was as well\""
      ]
     },
     "execution_count": 11,
     "metadata": {},
     "output_type": "execute_result"
    }
   ],
   "source": [
    "docs_train = concat_to_doc(sents_train, sent_count_train)\n",
    "docs_train[0]"
   ]
  },
  {
   "cell_type": "code",
   "execution_count": 13,
   "metadata": {},
   "outputs": [
    {
     "data": {
      "text/html": [
       "<div>\n",
       "<style scoped>\n",
       "    .dataframe tbody tr th:only-of-type {\n",
       "        vertical-align: middle;\n",
       "    }\n",
       "\n",
       "    .dataframe tbody tr th {\n",
       "        vertical-align: top;\n",
       "    }\n",
       "\n",
       "    .dataframe thead th {\n",
       "        text-align: right;\n",
       "    }\n",
       "</style>\n",
       "<table border=\"1\" class=\"dataframe\">\n",
       "  <thead>\n",
       "    <tr style=\"text-align: right;\">\n",
       "      <th></th>\n",
       "      <th>0</th>\n",
       "    </tr>\n",
       "  </thead>\n",
       "  <tbody>\n",
       "    <tr>\n",
       "      <th>0</th>\n",
       "      <td>we had the most wonderful time at the excellen...</td>\n",
       "    </tr>\n",
       "    <tr>\n",
       "      <th>1</th>\n",
       "      <td>a truly fantastic place xmas  we have just ret...</td>\n",
       "    </tr>\n",
       "    <tr>\n",
       "      <th>2</th>\n",
       "      <td>too sick to enjoy the ride to and form the air...</td>\n",
       "    </tr>\n",
       "    <tr>\n",
       "      <th>3</th>\n",
       "      <td>relaxing and fun , but . i rang in the new yea...</td>\n",
       "    </tr>\n",
       "    <tr>\n",
       "      <th>4</th>\n",
       "      <td>somewhat excellence we just returned from a on...</td>\n",
       "    </tr>\n",
       "  </tbody>\n",
       "</table>\n",
       "</div>"
      ],
      "text/plain": [
       "                                                   0\n",
       "0  we had the most wonderful time at the excellen...\n",
       "1  a truly fantastic place xmas  we have just ret...\n",
       "2  too sick to enjoy the ride to and form the air...\n",
       "3  relaxing and fun , but . i rang in the new yea...\n",
       "4  somewhat excellence we just returned from a on..."
      ]
     },
     "execution_count": 13,
     "metadata": {},
     "output_type": "execute_result"
    }
   ],
   "source": [
    "df_train = pd.DataFrame(docs_train)\n",
    "df_train.head()"
   ]
  },
  {
   "cell_type": "code",
   "execution_count": null,
   "metadata": {},
   "outputs": [],
   "source": []
  },
  {
   "cell_type": "markdown",
   "metadata": {},
   "source": [
    "### load test"
   ]
  },
  {
   "cell_type": "code",
   "execution_count": 14,
   "metadata": {},
   "outputs": [
    {
     "data": {
      "text/plain": [
       "[9, 30, 25, 33, 29]"
      ]
     },
     "execution_count": 14,
     "metadata": {},
     "output_type": "execute_result"
    }
   ],
   "source": [
    "sent_count_test = list(open(dataset_dir + sent_num_file[TEST_DATA], \"r\").readlines())\n",
    "sent_count_test = [int(s) for s in sent_count_test if (len(s) > 0 and s != \"\\n\")]\n",
    "sent_count_test[0:5]"
   ]
  },
  {
   "cell_type": "code",
   "execution_count": 15,
   "metadata": {
    "scrolled": true
   },
   "outputs": [
    {
     "data": {
      "text/plain": [
       "['2 1 1 4 2 2 \\n',\n",
       " '3 3 2 3 4 4 \\n',\n",
       " '5 5 5 4 5 5 \\n',\n",
       " '4 3 4 4 4 5 \\n',\n",
       " '4 5 4 5 5 5 \\n']"
      ]
     },
     "execution_count": 15,
     "metadata": {},
     "output_type": "execute_result"
    }
   ],
   "source": [
    "aspect_rating_test = list(open(dataset_dir + rating_file[TEST_DATA], \"r\").readlines())\n",
    "aspect_rating_test = [s for s in aspect_rating_test if (len(s) > 0 and s != \"\\n\")]\n",
    "aspect_rating_test[0:5]"
   ]
  },
  {
   "cell_type": "code",
   "execution_count": 16,
   "metadata": {
    "scrolled": true
   },
   "outputs": [
    {
     "data": {
      "text/plain": [
       "array([[1, 0, 0, 3, 1, 1],\n",
       "       [2, 2, 1, 2, 3, 3],\n",
       "       [4, 4, 4, 3, 4, 4],\n",
       "       [3, 2, 3, 3, 3, 4],\n",
       "       [3, 4, 3, 4, 4, 4]])"
      ]
     },
     "execution_count": 16,
     "metadata": {},
     "output_type": "execute_result"
    }
   ],
   "source": [
    "aspect_rating_test = [s.split(\" \") for s in aspect_rating_test]\n",
    "aspect_rating_test = np.array(aspect_rating_test)[:, 0:-1]\n",
    "aspect_rating_test = aspect_rating_test.astype(np.int) - 1\n",
    "aspect_rating_test[0:5]"
   ]
  },
  {
   "cell_type": "code",
   "execution_count": 17,
   "metadata": {},
   "outputs": [
    {
     "data": {
      "text/plain": [
       "88444"
      ]
     },
     "execution_count": 17,
     "metadata": {},
     "output_type": "execute_result"
    }
   ],
   "source": [
    "sents_test = list(open(dataset_dir + content_file[TEST_DATA], \"r\").readlines())\n",
    "sents_test = [s.strip() for s in sents_test]\n",
    "len(sents_test)"
   ]
  },
  {
   "cell_type": "code",
   "execution_count": 18,
   "metadata": {
    "scrolled": false
   },
   "outputs": [
    {
     "data": {
      "text/plain": [
       "[\"definitely not a 5 star resort i 'm dumbfounded that this hotel gets good reviews and is so highly rated\",\n",
       " \"it 's decidedly a 3 star property , not 5 stars as indicated\",\n",
       " 'the rooms are very dated and run down , old crappy beds and pillows , an old tv and overall poorly maintained',\n",
       " 'the whole property is pretty run down and old - looking',\n",
       " 'the food is subpar , not one meal i had would be called great']"
      ]
     },
     "execution_count": 18,
     "metadata": {},
     "output_type": "execute_result"
    }
   ],
   "source": [
    "sents_test[0:5]"
   ]
  },
  {
   "cell_type": "code",
   "execution_count": 19,
   "metadata": {
    "scrolled": true
   },
   "outputs": [
    {
     "data": {
      "text/plain": [
       "\"definitely not a 5 star resort i 'm dumbfounded that this hotel gets good reviews and is so highly rated . it 's decidedly a 3 star property , not 5 stars as indicated . the rooms are very dated and run down , old crappy beds and pillows , an old tv and overall poorly maintained . the whole property is pretty run down and old - looking . the food is subpar , not one meal i had would be called great . the service is uneven and the staff is poorly trained and uninformed . many do not comprehend english . the beach is great , it 's the only redeeming factor . however the resort is a 1- hour taxi trip from the airport\""
      ]
     },
     "execution_count": 19,
     "metadata": {},
     "output_type": "execute_result"
    }
   ],
   "source": [
    "docs_test = concat_to_doc(sents_test, sent_count_test)\n",
    "docs_test[0]"
   ]
  },
  {
   "cell_type": "code",
   "execution_count": 20,
   "metadata": {},
   "outputs": [
    {
     "data": {
      "text/html": [
       "<div>\n",
       "<style scoped>\n",
       "    .dataframe tbody tr th:only-of-type {\n",
       "        vertical-align: middle;\n",
       "    }\n",
       "\n",
       "    .dataframe tbody tr th {\n",
       "        vertical-align: top;\n",
       "    }\n",
       "\n",
       "    .dataframe thead th {\n",
       "        text-align: right;\n",
       "    }\n",
       "</style>\n",
       "<table border=\"1\" class=\"dataframe\">\n",
       "  <thead>\n",
       "    <tr style=\"text-align: right;\">\n",
       "      <th></th>\n",
       "      <th>0</th>\n",
       "    </tr>\n",
       "  </thead>\n",
       "  <tbody>\n",
       "    <tr>\n",
       "      <th>0</th>\n",
       "      <td>definitely not a 5 star resort i 'm dumbfounde...</td>\n",
       "    </tr>\n",
       "    <tr>\n",
       "      <th>1</th>\n",
       "      <td>facilities need work . we visited excellence f...</td>\n",
       "    </tr>\n",
       "    <tr>\n",
       "      <th>2</th>\n",
       "      <td>excellence was exactly that . my family and i ...</td>\n",
       "    </tr>\n",
       "    <tr>\n",
       "      <th>3</th>\n",
       "      <td>great service , nice hotel , mediocre food . m...</td>\n",
       "    </tr>\n",
       "    <tr>\n",
       "      <th>4</th>\n",
       "      <td>very relaxing experience just returned from my...</td>\n",
       "    </tr>\n",
       "  </tbody>\n",
       "</table>\n",
       "</div>"
      ],
      "text/plain": [
       "                                                   0\n",
       "0  definitely not a 5 star resort i 'm dumbfounde...\n",
       "1  facilities need work . we visited excellence f...\n",
       "2  excellence was exactly that . my family and i ...\n",
       "3  great service , nice hotel , mediocre food . m...\n",
       "4  very relaxing experience just returned from my..."
      ]
     },
     "execution_count": 20,
     "metadata": {},
     "output_type": "execute_result"
    }
   ],
   "source": [
    "df_test = pd.DataFrame(docs_test)\n",
    "df_test.head()"
   ]
  },
  {
   "cell_type": "code",
   "execution_count": null,
   "metadata": {},
   "outputs": [],
   "source": []
  },
  {
   "cell_type": "code",
   "execution_count": 24,
   "metadata": {},
   "outputs": [],
   "source": [
    "lmdb = TextLMDataBunch.from_df(\"./data/\", train_df=df_train, valid_df=df_test, text_cols=0)"
   ]
  },
  {
   "cell_type": "code",
   "execution_count": null,
   "metadata": {},
   "outputs": [],
   "source": []
  },
  {
   "cell_type": "code",
   "execution_count": 27,
   "metadata": {
    "scrolled": true
   },
   "outputs": [
    {
     "data": {
      "text/html": [
       "<table border=\"1\" class=\"dataframe\">\n",
       "  <thead>\n",
       "    <tr style=\"text-align: right;\">\n",
       "      <th>idx</th>\n",
       "      <th>text</th>\n",
       "    </tr>\n",
       "  </thead>\n",
       "  <tbody>\n",
       "    <tr>\n",
       "      <td>0</td>\n",
       "      <td>were great especially the michael jackson and the 70 's 80 's night . the french resturant was probably our favorite . we will definately be back for an anniversary trip . we made some friends but had plenty of xxunk as well . the rooms were great and everytime we left and came back it was cleaned , towels restocked and the bar was as well xxbos a truly</td>\n",
       "    </tr>\n",
       "    <tr>\n",
       "      <td>1</td>\n",
       "      <td>critter outside our room that would not stop chirping . other tips : banana mama 's were great pool drinks , as were coco locos ( drinks served inside coconuts ) . if you 're craving the coconut meat inside the coconut ( which was tasty ) then ask the bartender to crack open the coconut after you ' ve finished your drink . the lobster house was * hot</td>\n",
       "    </tr>\n",
       "    <tr>\n",
       "      <td>2</td>\n",
       "      <td>spanish language , but willing to make an effort . arrival , departure , and transfers , punta cana airport / excellence : among the easiest we??e ever experienced . breezed through customs on arrival , $ 10 visa fee apiece , porters aggressive but manageable . contacted the resort in advance to arrange a taxi , driver was waiting with a sign . xxunk five minutes , sixty bucks</td>\n",
       "    </tr>\n",
       "    <tr>\n",
       "      <td>3</td>\n",
       "      <td>horse ride ) will try to swap you sodas and whiskey ( you can requst bottles at no charge for your mini bar ) for some souvineers . they 'll give $ 25 for jack daniels at the ' walmart shack ' . what ever they gave us a price on , we paid half of the half ( ex : asking $ 100 we gave them $ 25 )</td>\n",
       "    </tr>\n",
       "    <tr>\n",
       "      <td>4</td>\n",
       "      <td>for us . if you??e ever in the usa please look us up ? ? ? . you??e like family to us . great vacation for honeymooner , wedding , anniversaries or if you just want to get away to a quiet and romantic paradise . best part no kids . thanks cecilia garcia xxbos my husband and i are seasoned travellers and we have to say that our eight</td>\n",
       "    </tr>\n",
       "  </tbody>\n",
       "</table>"
      ],
      "text/plain": [
       "<IPython.core.display.HTML object>"
      ]
     },
     "metadata": {},
     "output_type": "display_data"
    }
   ],
   "source": [
    "lmdb.show_batch()"
   ]
  },
  {
   "cell_type": "code",
   "execution_count": null,
   "metadata": {},
   "outputs": [],
   "source": []
  },
  {
   "cell_type": "code",
   "execution_count": 30,
   "metadata": {},
   "outputs": [],
   "source": [
    "x,y = next(iter(lmdb.train_dl))"
   ]
  },
  {
   "cell_type": "code",
   "execution_count": 31,
   "metadata": {},
   "outputs": [
    {
     "data": {
      "text/plain": [
       "tensor([[ 381,  115, 5829,  ..., 3138,   10,   58],\n",
       "        [ 594,   12,   52,  ...,   45,  608,  845],\n",
       "        [  12,   14, 1789,  ...,   19,   66,   24],\n",
       "        ...,\n",
       "        [  34,  607,   11,  ...,   87,   19,   57],\n",
       "        [  28,   28,   16,  ...,   19,   14, 2707],\n",
       "        [   2,  449,  107,  ...,   19,    9, 6772]], device='cuda:0')"
      ]
     },
     "execution_count": 31,
     "metadata": {},
     "output_type": "execute_result"
    }
   ],
   "source": [
    "x"
   ]
  },
  {
   "cell_type": "code",
   "execution_count": 32,
   "metadata": {},
   "outputs": [
    {
     "data": {
      "text/plain": [
       "tensor([[  115,  5829,    16,  ...,    10,    58,   789],\n",
       "        [   12,    52,    21,  ...,   608,   845,    34],\n",
       "        [   14,  1789,  1050,  ...,    66,    24,    82],\n",
       "        ...,\n",
       "        [  607,    11,    12,  ...,    19,    57,    18],\n",
       "        [   28,    16, 10502,  ...,    14,  2707,  1339],\n",
       "        [  449,   107,     9,  ...,     9,  6772,    15]], device='cuda:0')"
      ]
     },
     "execution_count": 32,
     "metadata": {},
     "output_type": "execute_result"
    }
   ],
   "source": [
    "y"
   ]
  },
  {
   "cell_type": "code",
   "execution_count": 33,
   "metadata": {},
   "outputs": [
    {
     "data": {
      "text/plain": [
       "torch.Tensor"
      ]
     },
     "execution_count": 33,
     "metadata": {},
     "output_type": "execute_result"
    }
   ],
   "source": [
    "type(x)"
   ]
  },
  {
   "cell_type": "code",
   "execution_count": 39,
   "metadata": {},
   "outputs": [],
   "source": [
    "example = x[:15,:15].cpu()"
   ]
  },
  {
   "cell_type": "code",
   "execution_count": 40,
   "metadata": {},
   "outputs": [
    {
     "data": {
      "text/plain": [
       "tensor([[  381,   115,  5829,    16,    39,    65,   361,    49,    14,   106,\n",
       "           186,  5829,   212,   297,   962],\n",
       "        [  594,    12,    52,    21,    84,   121,    14,   268,    69,    17,\n",
       "            53,    20,   204,   703,    36],\n",
       "        [   12,    14,  1789,  1050,   341,   420,   239,    25,   408,    10,\n",
       "             9,   865,   248,    13,  1421],\n",
       "        [   10,    52,    23,    65,   535,    13,   166,    23,   368,   169,\n",
       "            13,   141,   104,   681,    25],\n",
       "        [   69,    87,    25,   408,   184,   185,   502,  1054,   914,    13,\n",
       "             9,  2721,    15,     9,    57],\n",
       "        [  494,    34,    35,     9,  1085,    69,    10,   882,   499,   123,\n",
       "           290,    19,     9,   178,    24],\n",
       "        [  526,    25,    86,    11,   244,    10,    73,    15,    99,    77,\n",
       "            10,   273,    36,    33,     0],\n",
       "        [  162,    21,    15,  1077,    80,  1667,   218,    10,     9,    51,\n",
       "            15,   303,    10,    21,    15],\n",
       "        [  159,    13,    82,  3996,    10,    16,    26,  1459,     9,   947,\n",
       "            11,   792,   595,    11,   150],\n",
       "        [  406,    19,     9,   479,    75,    10,   311,    14,  4961,    10,\n",
       "          1643,     9,   213,    92,    20],\n",
       "        [ 2426,   332,    39,  7095,    21,    19, 11494,    12,  2028,    10,\n",
       "             9,   475,   233,    74,     9],\n",
       "        [18511,   151,    59,    74,   382,  1188,   191,    20,    13,  1945,\n",
       "            34,  1786,    31,     9,  1886],\n",
       "        [   73,    32,    38,  2591,    15,     9,  2117,   155,    30,   455,\n",
       "            49,    58,    13,   250,    10],\n",
       "        [  433,    13,   719,    14,    35,    30,     9,   383,    63,   701,\n",
       "           177,    24,     0,   205,   987],\n",
       "        [   22,     9,  1232,    66,    17,    39,   107,    25,    76,  2666,\n",
       "            12,    36,    15,   209,   104]])"
      ]
     },
     "execution_count": 40,
     "metadata": {},
     "output_type": "execute_result"
    }
   ],
   "source": [
    "example"
   ]
  },
  {
   "cell_type": "code",
   "execution_count": 41,
   "metadata": {},
   "outputs": [
    {
     "data": {
      "text/html": [
       "<div>\n",
       "<style scoped>\n",
       "    .dataframe tbody tr th:only-of-type {\n",
       "        vertical-align: middle;\n",
       "    }\n",
       "\n",
       "    .dataframe tbody tr th {\n",
       "        vertical-align: top;\n",
       "    }\n",
       "\n",
       "    .dataframe thead th {\n",
       "        text-align: right;\n",
       "    }\n",
       "</style>\n",
       "<table border=\"1\" class=\"dataframe\">\n",
       "  <thead>\n",
       "    <tr style=\"text-align: right;\">\n",
       "      <th></th>\n",
       "      <th>0</th>\n",
       "      <th>1</th>\n",
       "      <th>2</th>\n",
       "      <th>3</th>\n",
       "      <th>4</th>\n",
       "      <th>5</th>\n",
       "      <th>6</th>\n",
       "      <th>7</th>\n",
       "      <th>8</th>\n",
       "      <th>9</th>\n",
       "      <th>10</th>\n",
       "      <th>11</th>\n",
       "      <th>12</th>\n",
       "      <th>13</th>\n",
       "      <th>14</th>\n",
       "    </tr>\n",
       "  </thead>\n",
       "  <tbody>\n",
       "    <tr>\n",
       "      <th>0</th>\n",
       "      <td>fantastic</td>\n",
       "      <td>place</td>\n",
       "      <td>xmas</td>\n",
       "      <td>we</td>\n",
       "      <td>have</td>\n",
       "      <td>just</td>\n",
       "      <td>returned</td>\n",
       "      <td>from</td>\n",
       "      <td>a</td>\n",
       "      <td>2</td>\n",
       "      <td>week</td>\n",
       "      <td>xmas</td>\n",
       "      <td>new</td>\n",
       "      <td>year</td>\n",
       "      <td>break</td>\n",
       "    </tr>\n",
       "    <tr>\n",
       "      <th>1</th>\n",
       "      <td>*</td>\n",
       "      <td>and</td>\n",
       "      <td>if</td>\n",
       "      <td>it</td>\n",
       "      <td>'s</td>\n",
       "      <td>been</td>\n",
       "      <td>a</td>\n",
       "      <td>hot</td>\n",
       "      <td>day</td>\n",
       "      <td>i</td>\n",
       "      <td>would</td>\n",
       "      <td>not</td>\n",
       "      <td>recommend</td>\n",
       "      <td>eating</td>\n",
       "      <td>there</td>\n",
       "    </tr>\n",
       "    <tr>\n",
       "      <th>2</th>\n",
       "      <td>and</td>\n",
       "      <td>a</td>\n",
       "      <td>ten</td>\n",
       "      <td>dollar</td>\n",
       "      <td>tip</td>\n",
       "      <td>later</td>\n",
       "      <td>arrived</td>\n",
       "      <td>at</td>\n",
       "      <td>excellence</td>\n",
       "      <td>.</td>\n",
       "      <td>the</td>\n",
       "      <td>drive</td>\n",
       "      <td>nothing</td>\n",
       "      <td>to</td>\n",
       "      <td>worry</td>\n",
       "    </tr>\n",
       "    <tr>\n",
       "      <th>3</th>\n",
       "      <td>.</td>\n",
       "      <td>if</td>\n",
       "      <td>you</td>\n",
       "      <td>just</td>\n",
       "      <td>start</td>\n",
       "      <td>to</td>\n",
       "      <td>say</td>\n",
       "      <td>you</td>\n",
       "      <td>'re</td>\n",
       "      <td>going</td>\n",
       "      <td>to</td>\n",
       "      <td>check</td>\n",
       "      <td>more</td>\n",
       "      <td>prices</td>\n",
       "      <td>at</td>\n",
       "    </tr>\n",
       "    <tr>\n",
       "      <th>4</th>\n",
       "      <td>day</td>\n",
       "      <td>stay</td>\n",
       "      <td>at</td>\n",
       "      <td>excellence</td>\n",
       "      <td>punta</td>\n",
       "      <td>cana</td>\n",
       "      <td>between</td>\n",
       "      <td>march</td>\n",
       "      <td>3rd</td>\n",
       "      <td>to</td>\n",
       "      <td>the</td>\n",
       "      <td>10th</td>\n",
       "      <td>was</td>\n",
       "      <td>the</td>\n",
       "      <td>one</td>\n",
       "    </tr>\n",
       "    <tr>\n",
       "      <th>5</th>\n",
       "      <td>change</td>\n",
       "      <td>our</td>\n",
       "      <td>room</td>\n",
       "      <td>the</td>\n",
       "      <td>following</td>\n",
       "      <td>day</td>\n",
       "      <td>.</td>\n",
       "      <td>despite</td>\n",
       "      <td>waiting</td>\n",
       "      <td>two</td>\n",
       "      <td>hours</td>\n",
       "      <td>in</td>\n",
       "      <td>the</td>\n",
       "      <td>lobby</td>\n",
       "      <td>for</td>\n",
       "    </tr>\n",
       "    <tr>\n",
       "      <th>6</th>\n",
       "      <td>quiet</td>\n",
       "      <td>at</td>\n",
       "      <td>night</td>\n",
       "      <td>,</td>\n",
       "      <td>etc</td>\n",
       "      <td>.</td>\n",
       "      <td>which</td>\n",
       "      <td>was</td>\n",
       "      <td>really</td>\n",
       "      <td>nice</td>\n",
       "      <td>.</td>\n",
       "      <td>everyone</td>\n",
       "      <td>there</td>\n",
       "      <td>had</td>\n",
       "      <td>xxunk</td>\n",
       "    </tr>\n",
       "    <tr>\n",
       "      <th>7</th>\n",
       "      <td>where</td>\n",
       "      <td>it</td>\n",
       "      <td>was</td>\n",
       "      <td>missing</td>\n",
       "      <td>some</td>\n",
       "      <td>tiles</td>\n",
       "      <td>though</td>\n",
       "      <td>.</td>\n",
       "      <td>the</td>\n",
       "      <td>beach</td>\n",
       "      <td>was</td>\n",
       "      <td>amazing</td>\n",
       "      <td>.</td>\n",
       "      <td>it</td>\n",
       "      <td>was</td>\n",
       "    </tr>\n",
       "    <tr>\n",
       "      <th>8</th>\n",
       "      <td>off</td>\n",
       "      <td>to</td>\n",
       "      <td>your</td>\n",
       "      <td>accomodation</td>\n",
       "      <td>.</td>\n",
       "      <td>we</td>\n",
       "      <td>were</td>\n",
       "      <td>round</td>\n",
       "      <td>the</td>\n",
       "      <td>corner</td>\n",
       "      <td>,</td>\n",
       "      <td>block</td>\n",
       "      <td>12</td>\n",
       "      <td>,</td>\n",
       "      <td>next</td>\n",
       "    </tr>\n",
       "    <tr>\n",
       "      <th>9</th>\n",
       "      <td>staying</td>\n",
       "      <td>in</td>\n",
       "      <td>the</td>\n",
       "      <td>royal</td>\n",
       "      <td>service</td>\n",
       "      <td>.</td>\n",
       "      <td>bring</td>\n",
       "      <td>a</td>\n",
       "      <td>stroller</td>\n",
       "      <td>.</td>\n",
       "      <td>cause</td>\n",
       "      <td>the</td>\n",
       "      <td>kids</td>\n",
       "      <td>will</td>\n",
       "      <td>not</td>\n",
       "    </tr>\n",
       "    <tr>\n",
       "      <th>10</th>\n",
       "      <td>newer</td>\n",
       "      <td>resorts</td>\n",
       "      <td>have</td>\n",
       "      <td>surpassed</td>\n",
       "      <td>it</td>\n",
       "      <td>in</td>\n",
       "      <td>amenites</td>\n",
       "      <td>and</td>\n",
       "      <td>beauty</td>\n",
       "      <td>.</td>\n",
       "      <td>the</td>\n",
       "      <td>worst</td>\n",
       "      <td>thing</td>\n",
       "      <td>about</td>\n",
       "      <td>the</td>\n",
       "    </tr>\n",
       "    <tr>\n",
       "      <th>11</th>\n",
       "      <td>announcer</td>\n",
       "      <td>told</td>\n",
       "      <td>us</td>\n",
       "      <td>about</td>\n",
       "      <td>20</td>\n",
       "      <td>+</td>\n",
       "      <td>times</td>\n",
       "      <td>not</td>\n",
       "      <td>to</td>\n",
       "      <td>brush</td>\n",
       "      <td>our</td>\n",
       "      <td>teeth</td>\n",
       "      <td>with</td>\n",
       "      <td>the</td>\n",
       "      <td>tap</td>\n",
       "    </tr>\n",
       "    <tr>\n",
       "      <th>12</th>\n",
       "      <td>which</td>\n",
       "      <td>they</td>\n",
       "      <td>are</td>\n",
       "      <td>listed</td>\n",
       "      <td>was</td>\n",
       "      <td>the</td>\n",
       "      <td>groups</td>\n",
       "      <td>take</td>\n",
       "      <td>on</td>\n",
       "      <td>quality</td>\n",
       "      <td>from</td>\n",
       "      <td>great</td>\n",
       "      <td>to</td>\n",
       "      <td>ok</td>\n",
       "      <td>.</td>\n",
       "    </tr>\n",
       "    <tr>\n",
       "      <th>13</th>\n",
       "      <td>suite</td>\n",
       "      <td>to</td>\n",
       "      <td>request</td>\n",
       "      <td>a</td>\n",
       "      <td>room</td>\n",
       "      <td>on</td>\n",
       "      <td>the</td>\n",
       "      <td>second</td>\n",
       "      <td>or</td>\n",
       "      <td>third</td>\n",
       "      <td>floor</td>\n",
       "      <td>for</td>\n",
       "      <td>xxunk</td>\n",
       "      <td>ocean</td>\n",
       "      <td>views</td>\n",
       "    </tr>\n",
       "    <tr>\n",
       "      <th>14</th>\n",
       "      <td>is</td>\n",
       "      <td>the</td>\n",
       "      <td>1st</td>\n",
       "      <td>time</td>\n",
       "      <td>i</td>\n",
       "      <td>have</td>\n",
       "      <td>stayed</td>\n",
       "      <td>at</td>\n",
       "      <td>an</td>\n",
       "      <td>ai</td>\n",
       "      <td>and</td>\n",
       "      <td>there</td>\n",
       "      <td>was</td>\n",
       "      <td>nt</td>\n",
       "      <td>more</td>\n",
       "    </tr>\n",
       "  </tbody>\n",
       "</table>\n",
       "</div>"
      ],
      "text/plain": [
       "           0        1        2             3          4      5         6   \\\n",
       "0   fantastic    place     xmas            we       have   just  returned   \n",
       "1           *      and       if            it         's   been         a   \n",
       "2         and        a      ten        dollar        tip  later   arrived   \n",
       "3           .       if      you          just      start     to       say   \n",
       "4         day     stay       at    excellence      punta   cana   between   \n",
       "5      change      our     room           the  following    day         .   \n",
       "6       quiet       at    night             ,        etc      .     which   \n",
       "7       where       it      was       missing       some  tiles    though   \n",
       "8         off       to     your  accomodation          .     we      were   \n",
       "9     staying       in      the         royal    service      .     bring   \n",
       "10      newer  resorts     have     surpassed         it     in  amenites   \n",
       "11  announcer     told       us         about         20      +     times   \n",
       "12      which     they      are        listed        was    the    groups   \n",
       "13      suite       to  request             a       room     on       the   \n",
       "14         is      the      1st          time          i   have    stayed   \n",
       "\n",
       "         7           8        9      10        11         12      13     14  \n",
       "0      from           a        2   week      xmas        new    year  break  \n",
       "1       hot         day        i  would       not  recommend  eating  there  \n",
       "2        at  excellence        .    the     drive    nothing      to  worry  \n",
       "3       you         're    going     to     check       more  prices     at  \n",
       "4     march         3rd       to    the      10th        was     the    one  \n",
       "5   despite     waiting      two  hours        in        the   lobby    for  \n",
       "6       was      really     nice      .  everyone      there     had  xxunk  \n",
       "7         .         the    beach    was   amazing          .      it    was  \n",
       "8     round         the   corner      ,     block         12       ,   next  \n",
       "9         a    stroller        .  cause       the       kids    will    not  \n",
       "10      and      beauty        .    the     worst      thing   about    the  \n",
       "11      not          to    brush    our     teeth       with     the    tap  \n",
       "12     take          on  quality   from     great         to      ok      .  \n",
       "13   second          or    third  floor       for      xxunk   ocean  views  \n",
       "14       at          an       ai    and     there        was      nt   more  "
      ]
     },
     "execution_count": 41,
     "metadata": {},
     "output_type": "execute_result"
    }
   ],
   "source": [
    "pd.DataFrame([lmdb.train_ds.vocab.textify(l).split(' ') for l in example])"
   ]
  },
  {
   "cell_type": "code",
   "execution_count": null,
   "metadata": {},
   "outputs": [],
   "source": []
  },
  {
   "cell_type": "markdown",
   "metadata": {},
   "source": [
    "### start train"
   ]
  },
  {
   "cell_type": "code",
   "execution_count": 42,
   "metadata": {},
   "outputs": [],
   "source": [
    "moms = (0.8,0.7)"
   ]
  },
  {
   "cell_type": "code",
   "execution_count": null,
   "metadata": {},
   "outputs": [],
   "source": [
    "learn = language_model_learner(lmdb, AWD_LSTM)\n",
    "learn.unfreeze()\n",
    "learn.fit_one_cycle(4, slice(1e-2), moms=moms)"
   ]
  }
 ],
 "metadata": {
  "kernelspec": {
   "display_name": "Python 3",
   "language": "python",
   "name": "python3"
  },
  "language_info": {
   "codemirror_mode": {
    "name": "ipython",
    "version": 3
   },
   "file_extension": ".py",
   "mimetype": "text/x-python",
   "name": "python",
   "nbconvert_exporter": "python",
   "pygments_lexer": "ipython3",
   "version": "3.7.3"
  }
 },
 "nbformat": 4,
 "nbformat_minor": 2
}
