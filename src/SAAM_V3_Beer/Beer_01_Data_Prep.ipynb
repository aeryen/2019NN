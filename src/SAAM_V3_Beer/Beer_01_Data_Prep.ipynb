{
 "cells": [
  {
   "cell_type": "markdown",
   "metadata": {},
   "source": [
    "# Only for Colab"
   ]
  },
  {
   "cell_type": "code",
   "execution_count": 1,
   "metadata": {
    "colab": {},
    "colab_type": "code",
    "id": "VJMaZhuQgPCy"
   },
   "outputs": [],
   "source": [
    "%reload_ext autoreload\n",
    "%autoreload 2\n",
    "%matplotlib inline"
   ]
  },
  {
   "cell_type": "code",
   "execution_count": 3,
   "metadata": {
    "colab": {
     "base_uri": "https://localhost:8080/",
     "height": 122
    },
    "colab_type": "code",
    "executionInfo": {
     "elapsed": 18900,
     "status": "ok",
     "timestamp": 1569120613226,
     "user": {
      "displayName": "aeryen Z",
      "photoUrl": "https://lh3.googleusercontent.com/a-/AAuE7mB9B8o-g7Bk7FNiOiB3NeIjUlkwmewejTdgq8tQqg=s64",
      "userId": "01125454621554722334"
     },
     "user_tz": 300
    },
    "id": "WTIB5x48Bc1m",
    "outputId": "f4bebf64-37d4-4a91-d724-6ef220a5f9b7"
   },
   "outputs": [
    {
     "name": "stdout",
     "output_type": "stream",
     "text": [
      "Go to this URL in a browser: https://accounts.google.com/o/oauth2/auth?client_id=947318989803-6bn6qk8qdgf4n4g3pfee6491hc0brc4i.apps.googleusercontent.com&redirect_uri=urn%3Aietf%3Awg%3Aoauth%3A2.0%3Aoob&scope=email%20https%3A%2F%2Fwww.googleapis.com%2Fauth%2Fdocs.test%20https%3A%2F%2Fwww.googleapis.com%2Fauth%2Fdrive%20https%3A%2F%2Fwww.googleapis.com%2Fauth%2Fdrive.photos.readonly%20https%3A%2F%2Fwww.googleapis.com%2Fauth%2Fpeopleapi.readonly&response_type=code\n",
      "\n",
      "Enter your authorization code:\n",
      "··········\n",
      "Mounted at /content/gdrive\n"
     ]
    }
   ],
   "source": [
    "from google.colab import drive\n",
    "drive.mount('/content/gdrive')"
   ]
  },
  {
   "cell_type": "code",
   "execution_count": 4,
   "metadata": {
    "colab": {
     "base_uri": "https://localhost:8080/",
     "height": 34
    },
    "colab_type": "code",
    "executionInfo": {
     "elapsed": 17554,
     "status": "ok",
     "timestamp": 1569120613230,
     "user": {
      "displayName": "aeryen Z",
      "photoUrl": "https://lh3.googleusercontent.com/a-/AAuE7mB9B8o-g7Bk7FNiOiB3NeIjUlkwmewejTdgq8tQqg=s64",
      "userId": "01125454621554722334"
     },
     "user_tz": 300
    },
    "id": "7iOVNdpnBnka",
    "outputId": "d0305665-c89b-4e1d-84a1-adcf90e72b71"
   },
   "outputs": [
    {
     "name": "stdout",
     "output_type": "stream",
     "text": [
      "/content/gdrive/My Drive/Colab Notebooks/2019NN\n"
     ]
    }
   ],
   "source": [
    "%cd /content/gdrive/My Drive/Colab Notebooks/2019NN/"
   ]
  },
  {
   "cell_type": "code",
   "execution_count": 1,
   "metadata": {
    "colab": {
     "base_uri": "https://localhost:8080/",
     "height": 85
    },
    "colab_type": "code",
    "executionInfo": {
     "elapsed": 1577,
     "status": "ok",
     "timestamp": 1569120617962,
     "user": {
      "displayName": "aeryen Z",
      "photoUrl": "https://lh3.googleusercontent.com/a-/AAuE7mB9B8o-g7Bk7FNiOiB3NeIjUlkwmewejTdgq8tQqg=s64",
      "userId": "01125454621554722334"
     },
     "user_tz": 300
    },
    "id": "7EE9qSuEBuAw",
    "outputId": "1997cbc1-7558-42ab-c424-c1cd67daccbe"
   },
   "outputs": [
    {
     "name": "stdout",
     "output_type": "stream",
     "text": [
      "data  data_helpers  Train_Hotel.ipynb  Train_Hotel.py\n"
     ]
    }
   ],
   "source": [
    "!ls"
   ]
  },
  {
   "cell_type": "code",
   "execution_count": 6,
   "metadata": {
    "colab": {
     "base_uri": "https://localhost:8080/",
     "height": 51
    },
    "colab_type": "code",
    "executionInfo": {
     "elapsed": 5832,
     "status": "ok",
     "timestamp": 1569120622645,
     "user": {
      "displayName": "aeryen Z",
      "photoUrl": "https://lh3.googleusercontent.com/a-/AAuE7mB9B8o-g7Bk7FNiOiB3NeIjUlkwmewejTdgq8tQqg=s64",
      "userId": "01125454621554722334"
     },
     "user_tz": 300
    },
    "id": "z220QV_gh_mw",
    "outputId": "94f385a3-3816-4aa9-e700-1565a50bf0c6"
   },
   "outputs": [
    {
     "name": "stdout",
     "output_type": "stream",
     "text": [
      "Updating fastai...\n",
      "Done.\n"
     ]
    }
   ],
   "source": [
    "!curl -s https://course.fast.ai/setup/colab | bash"
   ]
  },
  {
   "cell_type": "markdown",
   "metadata": {
    "colab_type": "text",
    "id": "afrCQUiGB4PO"
   },
   "source": [
    "# Start"
   ]
  },
  {
   "cell_type": "code",
   "execution_count": 1,
   "metadata": {
    "colab": {},
    "colab_type": "code",
    "id": "zWnO59eDBv6m"
   },
   "outputs": [],
   "source": [
    "from fastai.text import *\n",
    "from data_helpers.Data import *\n",
    "from fastai.text.transform import *"
   ]
  },
  {
   "cell_type": "code",
   "execution_count": 2,
   "metadata": {
    "colab": {},
    "colab_type": "code",
    "id": "XO6heDh_UXhG"
   },
   "outputs": [],
   "source": [
    "sent_num_file = [\"train.count\", \"test.count\"]\n",
    "rating_file = [\"train.rating\", \"test.rating\"]\n",
    "content_file = [\"train.txt\", \"test.txt\"]\n",
    "\n",
    "dataset_dir = \"./data/beer_100k/\""
   ]
  },
  {
   "cell_type": "code",
   "execution_count": 3,
   "metadata": {
    "colab": {},
    "colab_type": "code",
    "id": "e_gf-HvfUbWY"
   },
   "outputs": [],
   "source": [
    "def concat_to_doc(sent_list, sent_count):\n",
    "    start_index = 0\n",
    "    docs = []\n",
    "    for s in sent_count:\n",
    "        doc = \" xxPERIOD \".join(sent_list[start_index:start_index + s])\n",
    "        doc = doc + \" xxPERIOD \"\n",
    "        docs.append(doc)\n",
    "        start_index = start_index + s\n",
    "    return docs"
   ]
  },
  {
   "cell_type": "code",
   "execution_count": 4,
   "metadata": {
    "colab": {},
    "colab_type": "code",
    "id": "e57dcDj_UcTW"
   },
   "outputs": [],
   "source": [
    "TRAIN_DATA = 0\n",
    "TEST_DATA = 1"
   ]
  },
  {
   "cell_type": "markdown",
   "metadata": {},
   "source": [
    "## Load Training Data"
   ]
  },
  {
   "cell_type": "code",
   "execution_count": 61,
   "metadata": {
    "colab": {
     "base_uri": "https://localhost:8080/",
     "height": 173
    },
    "colab_type": "code",
    "executionInfo": {
     "elapsed": 4203,
     "status": "ok",
     "timestamp": 1569095898017,
     "user": {
      "displayName": "aeryen Z",
      "photoUrl": "https://lh3.googleusercontent.com/a-/AAuE7mB9B8o-g7Bk7FNiOiB3NeIjUlkwmewejTdgq8tQqg=s64",
      "userId": "01125454621554722334"
     },
     "user_tz": 300
    },
    "id": "8kg5bDZcUdO_",
    "outputId": "325e43e2-b6a3-416d-f428-82eb965bb441",
    "scrolled": true
   },
   "outputs": [
    {
     "name": "stdout",
     "output_type": "stream",
     "text": [
      "[8, 7, 9, 14, 12]\n",
      "     0    1    2    3    4\n",
      "0  0.5  1.5  0.5  0.5  1.0\n",
      "1  2.0  2.0  2.0  2.0  1.5\n",
      "2  2.0  2.0  2.0  2.0  1.5\n",
      "3  2.0  2.5  2.0  1.5  2.0\n",
      "4  2.5  2.5  3.0  3.0  2.5\n",
      "['A lot of foam', 'But a lot', 'In the smell some banana, and then lactic and tart', 'Not a good start', 'Quite dark orange in color, with a lively carbonation (now visible, under the foam)']\n"
     ]
    }
   ],
   "source": [
    "# Load Count\n",
    "sent_count_train = list(open(dataset_dir + sent_num_file[TRAIN_DATA], \"r\").readlines())\n",
    "sent_count_train = [int(s) for s in sent_count_train if (len(s) > 0 and s != \"\\n\")]\n",
    "print( sent_count_train[0:5] )\n",
    "\n",
    "# Load Ratings\n",
    "aspect_rating_train = list(open(dataset_dir + rating_file[TRAIN_DATA], \"r\").readlines())\n",
    "aspect_rating_train = [s for s in aspect_rating_train if (len(s) > 0 and s != \"\\n\")]\n",
    "\n",
    "aspect_rating_train = [s.split(\" \") for s in aspect_rating_train]\n",
    "aspect_rating_train = np.array(aspect_rating_train)[:, :]\n",
    "aspect_rating_train = aspect_rating_train.astype(np.float) - 1\n",
    "# aspect_rating_train = np.rint(aspect_rating_train).astype(int)  # ROUND TO INTEGER =================\n",
    "aspect_rating_train = pd.DataFrame(aspect_rating_train)\n",
    "print( aspect_rating_train.head() )\n",
    "\n",
    "# Load Sents\n",
    "sents_train = list(open(dataset_dir + content_file[TRAIN_DATA], \"r\").readlines())\n",
    "sents_train = [s.strip() for s in sents_train]\n",
    "sents_train = [s[:-1] for s in sents_train if s.endswith(\".\")]\n",
    "print( sents_train[0:5] )"
   ]
  },
  {
   "cell_type": "code",
   "execution_count": 62,
   "metadata": {
    "colab": {
     "base_uri": "https://localhost:8080/",
     "height": 204
    },
    "colab_type": "code",
    "executionInfo": {
     "elapsed": 569,
     "status": "ok",
     "timestamp": 1569095913787,
     "user": {
      "displayName": "aeryen Z",
      "photoUrl": "https://lh3.googleusercontent.com/a-/AAuE7mB9B8o-g7Bk7FNiOiB3NeIjUlkwmewejTdgq8tQqg=s64",
      "userId": "01125454621554722334"
     },
     "user_tz": 300
    },
    "id": "hVf-aEFDspR7",
    "outputId": "cc1e8a6d-7ac7-42eb-a112-43261bfa948a"
   },
   "outputs": [
    {
     "data": {
      "text/html": [
       "<div>\n",
       "<style scoped>\n",
       "    .dataframe tbody tr th:only-of-type {\n",
       "        vertical-align: middle;\n",
       "    }\n",
       "\n",
       "    .dataframe tbody tr th {\n",
       "        vertical-align: top;\n",
       "    }\n",
       "\n",
       "    .dataframe thead th {\n",
       "        text-align: right;\n",
       "    }\n",
       "</style>\n",
       "<table border=\"1\" class=\"dataframe\">\n",
       "  <thead>\n",
       "    <tr style=\"text-align: right;\">\n",
       "      <th></th>\n",
       "      <th>0</th>\n",
       "    </tr>\n",
       "  </thead>\n",
       "  <tbody>\n",
       "    <tr>\n",
       "      <th>0</th>\n",
       "      <td>A lot of foam xxPERIOD But a lot xxPERIOD In t...</td>\n",
       "    </tr>\n",
       "    <tr>\n",
       "      <th>1</th>\n",
       "      <td>Dark red color, light beige foam, average xxPE...</td>\n",
       "    </tr>\n",
       "    <tr>\n",
       "      <th>2</th>\n",
       "      <td>Almost totally black xxPERIOD Beige foam, quit...</td>\n",
       "    </tr>\n",
       "    <tr>\n",
       "      <th>3</th>\n",
       "      <td>Golden yellow color xxPERIOD White, compact fo...</td>\n",
       "    </tr>\n",
       "    <tr>\n",
       "      <th>4</th>\n",
       "      <td>22 oz bottle from \"Lifesource\" Salem xxPERIOD ...</td>\n",
       "    </tr>\n",
       "  </tbody>\n",
       "</table>\n",
       "</div>"
      ],
      "text/plain": [
       "                                                   0\n",
       "0  A lot of foam xxPERIOD But a lot xxPERIOD In t...\n",
       "1  Dark red color, light beige foam, average xxPE...\n",
       "2  Almost totally black xxPERIOD Beige foam, quit...\n",
       "3  Golden yellow color xxPERIOD White, compact fo...\n",
       "4  22 oz bottle from \"Lifesource\" Salem xxPERIOD ..."
      ]
     },
     "execution_count": 62,
     "metadata": {},
     "output_type": "execute_result"
    }
   ],
   "source": [
    "docs_train = concat_to_doc(sents_train, sent_count_train)\n",
    "\n",
    "docs_train = pd.DataFrame(docs_train)\n",
    "\n",
    "docs_train.head()"
   ]
  },
  {
   "cell_type": "code",
   "execution_count": 63,
   "metadata": {
    "colab": {
     "base_uri": "https://localhost:8080/",
     "height": 54
    },
    "colab_type": "code",
    "executionInfo": {
     "elapsed": 439,
     "status": "ok",
     "timestamp": 1569095920307,
     "user": {
      "displayName": "aeryen Z",
      "photoUrl": "https://lh3.googleusercontent.com/a-/AAuE7mB9B8o-g7Bk7FNiOiB3NeIjUlkwmewejTdgq8tQqg=s64",
      "userId": "01125454621554722334"
     },
     "user_tz": 300
    },
    "id": "u7nKTQSlv8yP",
    "outputId": "1830d46e-1a2a-49f2-c6fb-4b7109074ed3"
   },
   "outputs": [
    {
     "data": {
      "text/plain": [
       "'A lot of foam xxPERIOD But a lot xxPERIOD In the smell some banana, and then lactic and tart xxPERIOD Not a good start xxPERIOD Quite dark orange in color, with a lively carbonation (now visible, under the foam) xxPERIOD Again tending to lactic sourness xxPERIOD Same for the taste xxPERIOD With some yeast and banana xxPERIOD '"
      ]
     },
     "execution_count": 63,
     "metadata": {},
     "output_type": "execute_result"
    }
   ],
   "source": [
    "docs_train.iloc[0][0]"
   ]
  },
  {
   "cell_type": "code",
   "execution_count": 64,
   "metadata": {
    "colab": {
     "base_uri": "https://localhost:8080/",
     "height": 204
    },
    "colab_type": "code",
    "executionInfo": {
     "elapsed": 448,
     "status": "ok",
     "timestamp": 1569095933730,
     "user": {
      "displayName": "aeryen Z",
      "photoUrl": "https://lh3.googleusercontent.com/a-/AAuE7mB9B8o-g7Bk7FNiOiB3NeIjUlkwmewejTdgq8tQqg=s64",
      "userId": "01125454621554722334"
     },
     "user_tz": 300
    },
    "id": "5zr2N7XnslY2",
    "outputId": "2c2aa4b1-9d3d-457e-c2b5-35f07cf6e271",
    "scrolled": true
   },
   "outputs": [
    {
     "data": {
      "text/html": [
       "<div>\n",
       "<style scoped>\n",
       "    .dataframe tbody tr th:only-of-type {\n",
       "        vertical-align: middle;\n",
       "    }\n",
       "\n",
       "    .dataframe tbody tr th {\n",
       "        vertical-align: top;\n",
       "    }\n",
       "\n",
       "    .dataframe thead th {\n",
       "        text-align: right;\n",
       "    }\n",
       "</style>\n",
       "<table border=\"1\" class=\"dataframe\">\n",
       "  <thead>\n",
       "    <tr style=\"text-align: right;\">\n",
       "      <th></th>\n",
       "      <th>0</th>\n",
       "      <th>1</th>\n",
       "      <th>2</th>\n",
       "      <th>3</th>\n",
       "      <th>4</th>\n",
       "      <th>5</th>\n",
       "    </tr>\n",
       "  </thead>\n",
       "  <tbody>\n",
       "    <tr>\n",
       "      <th>0</th>\n",
       "      <td>0.5</td>\n",
       "      <td>1.5</td>\n",
       "      <td>0.5</td>\n",
       "      <td>0.5</td>\n",
       "      <td>1.0</td>\n",
       "      <td>A lot of foam xxPERIOD But a lot xxPERIOD In t...</td>\n",
       "    </tr>\n",
       "    <tr>\n",
       "      <th>1</th>\n",
       "      <td>2.0</td>\n",
       "      <td>2.0</td>\n",
       "      <td>2.0</td>\n",
       "      <td>2.0</td>\n",
       "      <td>1.5</td>\n",
       "      <td>Dark red color, light beige foam, average xxPE...</td>\n",
       "    </tr>\n",
       "    <tr>\n",
       "      <th>2</th>\n",
       "      <td>2.0</td>\n",
       "      <td>2.0</td>\n",
       "      <td>2.0</td>\n",
       "      <td>2.0</td>\n",
       "      <td>1.5</td>\n",
       "      <td>Almost totally black xxPERIOD Beige foam, quit...</td>\n",
       "    </tr>\n",
       "    <tr>\n",
       "      <th>3</th>\n",
       "      <td>2.0</td>\n",
       "      <td>2.5</td>\n",
       "      <td>2.0</td>\n",
       "      <td>1.5</td>\n",
       "      <td>2.0</td>\n",
       "      <td>Golden yellow color xxPERIOD White, compact fo...</td>\n",
       "    </tr>\n",
       "    <tr>\n",
       "      <th>4</th>\n",
       "      <td>2.5</td>\n",
       "      <td>2.5</td>\n",
       "      <td>3.0</td>\n",
       "      <td>3.0</td>\n",
       "      <td>2.5</td>\n",
       "      <td>22 oz bottle from \"Lifesource\" Salem xxPERIOD ...</td>\n",
       "    </tr>\n",
       "  </tbody>\n",
       "</table>\n",
       "</div>"
      ],
      "text/plain": [
       "     0    1    2    3    4                                                  5\n",
       "0  0.5  1.5  0.5  0.5  1.0  A lot of foam xxPERIOD But a lot xxPERIOD In t...\n",
       "1  2.0  2.0  2.0  2.0  1.5  Dark red color, light beige foam, average xxPE...\n",
       "2  2.0  2.0  2.0  2.0  1.5  Almost totally black xxPERIOD Beige foam, quit...\n",
       "3  2.0  2.5  2.0  1.5  2.0  Golden yellow color xxPERIOD White, compact fo...\n",
       "4  2.5  2.5  3.0  3.0  2.5  22 oz bottle from \"Lifesource\" Salem xxPERIOD ..."
      ]
     },
     "execution_count": 64,
     "metadata": {},
     "output_type": "execute_result"
    }
   ],
   "source": [
    "df_train = pd.concat( [aspect_rating_train, docs_train], axis=1, ignore_index=True )\n",
    "df_train.head()"
   ]
  },
  {
   "cell_type": "code",
   "execution_count": 65,
   "metadata": {},
   "outputs": [
    {
     "data": {
      "text/plain": [
       "0   -1.0\n",
       "1   -1.0\n",
       "2    0.0\n",
       "3    0.0\n",
       "4    0.0\n",
       "dtype: float64"
      ]
     },
     "execution_count": 65,
     "metadata": {},
     "output_type": "execute_result"
    }
   ],
   "source": [
    "df_train.iloc[:,0:5].min(axis=0)"
   ]
  },
  {
   "cell_type": "code",
   "execution_count": 66,
   "metadata": {},
   "outputs": [
    {
     "data": {
      "text/plain": [
       "(75116, 6)"
      ]
     },
     "execution_count": 66,
     "metadata": {},
     "output_type": "execute_result"
    }
   ],
   "source": [
    "df_train.shape"
   ]
  },
  {
   "cell_type": "code",
   "execution_count": 67,
   "metadata": {},
   "outputs": [],
   "source": [
    "df_train = df_train[df_train.iloc[:,0:5].min(axis=1) >= 0]"
   ]
  },
  {
   "cell_type": "code",
   "execution_count": 68,
   "metadata": {
    "colab": {
     "base_uri": "https://localhost:8080/",
     "height": 34
    },
    "colab_type": "code",
    "executionInfo": {
     "elapsed": 431,
     "status": "ok",
     "timestamp": 1569095937657,
     "user": {
      "displayName": "aeryen Z",
      "photoUrl": "https://lh3.googleusercontent.com/a-/AAuE7mB9B8o-g7Bk7FNiOiB3NeIjUlkwmewejTdgq8tQqg=s64",
      "userId": "01125454621554722334"
     },
     "user_tz": 300
    },
    "id": "I5JxddUVqIGc",
    "outputId": "12232bb1-433f-4aa5-ae00-01bb3e0ac16b"
   },
   "outputs": [
    {
     "data": {
      "text/plain": [
       "(75113, 6)"
      ]
     },
     "execution_count": 68,
     "metadata": {},
     "output_type": "execute_result"
    }
   ],
   "source": [
    "df_train.shape"
   ]
  },
  {
   "cell_type": "markdown",
   "metadata": {},
   "source": [
    "## Load Testing Data"
   ]
  },
  {
   "cell_type": "code",
   "execution_count": 69,
   "metadata": {
    "colab": {
     "base_uri": "https://localhost:8080/",
     "height": 238
    },
    "colab_type": "code",
    "executionInfo": {
     "elapsed": 2885,
     "status": "ok",
     "timestamp": 1569095942939,
     "user": {
      "displayName": "aeryen Z",
      "photoUrl": "https://lh3.googleusercontent.com/a-/AAuE7mB9B8o-g7Bk7FNiOiB3NeIjUlkwmewejTdgq8tQqg=s64",
      "userId": "01125454621554722334"
     },
     "user_tz": 300
    },
    "id": "Tatp0G4rwD-w",
    "outputId": "d736f637-70d1-4993-d74e-c608fce0d1e3"
   },
   "outputs": [
    {
     "name": "stdout",
     "output_type": "stream",
     "text": [
      "[13, 12, 7, 9, 6]\n",
      "     0    1    2    3    4\n",
      "0  3.0  3.0  3.5  3.0  3.5\n",
      "1  2.0  2.5  2.5  2.0  2.5\n",
      "2  3.0  3.0  3.0  2.5  3.0\n",
      "3  3.0  2.0  2.0  1.5  3.5\n",
      "4  2.0  1.5  2.0  2.0  2.0\n",
      "                                                   0\n",
      "0  According to the website, the style for the Ca...\n",
      "1  Poured from the bottle into a Chimay goblet. x...\n",
      "2  Notes from 6/24. xxPERIOD A: Bright golden glo...\n",
      "3  22 oz. xxPERIOD bomber,. xxPERIOD A: Pours a c...\n",
      "4  Brown in color, somewhere between a porter and...\n"
     ]
    }
   ],
   "source": [
    "# Load Count\n",
    "sent_count_test = list(open(dataset_dir + sent_num_file[TEST_DATA], \"r\").readlines())\n",
    "sent_count_test = [int(s) for s in sent_count_test if (len(s) > 0 and s != \"\\n\")]\n",
    "print( sent_count_test[0:5] )\n",
    "\n",
    "# Load Ratings\n",
    "aspect_rating_test = list(open(dataset_dir + rating_file[TEST_DATA], \"r\").readlines())\n",
    "aspect_rating_test = [s for s in aspect_rating_test if (len(s) > 0 and s != \"\\n\")]\n",
    "\n",
    "aspect_rating_test = [s.split(\" \") for s in aspect_rating_test]\n",
    "aspect_rating_test = np.array(aspect_rating_test)[:, :]\n",
    "aspect_rating_test = aspect_rating_test.astype(np.float) - 1\n",
    "# aspect_rating_test = np.rint(aspect_rating_test).astype(int)  # ROUND TO INTEGER =================\n",
    "aspect_rating_test = pd.DataFrame(aspect_rating_test)\n",
    "print( aspect_rating_test.head() )\n",
    "\n",
    "# Load Sents\n",
    "sents_test = list(open(dataset_dir + content_file[TEST_DATA], \"r\").readlines())\n",
    "sents_test = [s.strip() for s in sents_test]\n",
    "\n",
    "# Sents to Doc\n",
    "docs_test = concat_to_doc(sents_test, sent_count_test)\n",
    "\n",
    "docs_test = pd.DataFrame(docs_test)\n",
    "print( docs_test.head() )"
   ]
  },
  {
   "cell_type": "code",
   "execution_count": 70,
   "metadata": {
    "colab": {
     "base_uri": "https://localhost:8080/",
     "height": 54
    },
    "colab_type": "code",
    "executionInfo": {
     "elapsed": 1109,
     "status": "ok",
     "timestamp": 1569095942940,
     "user": {
      "displayName": "aeryen Z",
      "photoUrl": "https://lh3.googleusercontent.com/a-/AAuE7mB9B8o-g7Bk7FNiOiB3NeIjUlkwmewejTdgq8tQqg=s64",
      "userId": "01125454621554722334"
     },
     "user_tz": 300
    },
    "id": "97IRI3Xlp1Uz",
    "outputId": "e6b3e840-1a03-4ba9-aab1-e40378a137d1"
   },
   "outputs": [
    {
     "data": {
      "text/plain": [
       "\"According to the website, the style for the Caldera Cauldron changes every year. xxPERIOD The current release is a DIPA, which frankly is the only cauldron I'm familiar with (it was an IPA/DIPA the last time I ordered a cauldron at the horsebrass several years back). xxPERIOD In any event. xxPERIOD at the Horse Brass yesterday. xxPERIOD The beer pours an orange copper color with good head retention and lacing. xxPERIOD The nose is all hoppy IPA goodness, showcasing a huge aroma of dry citrus, pine and sandlewood. xxPERIOD The flavor profile replicates the nose pretty closely in this West Coast all the way DIPA. xxPERIOD This DIPA is not for the faint of heart and is a bit much even for a hophead like myslf. xxPERIOD The finish is quite dry and hoppy, and there's barely enough sweet malt to balance and hold up the avalanche of hoppy bitterness in this beer. xxPERIOD Mouthfeel is actually fairly light, with a long, persistentely bitter finish. xxPERIOD Drinkability is good, with the alcohol barely noticeable in this well crafted beer. xxPERIOD Still, this beer is so hugely hoppy/bitter, it's really hard for me to imagine ordering more than a single glass. xxPERIOD Regardless, this is a very impressive beer from the folks at Caldera. xxPERIOD \""
      ]
     },
     "execution_count": 70,
     "metadata": {},
     "output_type": "execute_result"
    }
   ],
   "source": [
    "docs_test.iloc[0][0]"
   ]
  },
  {
   "cell_type": "code",
   "execution_count": 71,
   "metadata": {
    "colab": {
     "base_uri": "https://localhost:8080/",
     "height": 204
    },
    "colab_type": "code",
    "executionInfo": {
     "elapsed": 401,
     "status": "ok",
     "timestamp": 1569095945680,
     "user": {
      "displayName": "aeryen Z",
      "photoUrl": "https://lh3.googleusercontent.com/a-/AAuE7mB9B8o-g7Bk7FNiOiB3NeIjUlkwmewejTdgq8tQqg=s64",
      "userId": "01125454621554722334"
     },
     "user_tz": 300
    },
    "id": "Anvf9O9IptY3",
    "outputId": "00e3a9dc-661f-4daa-a19f-88b921f45b76"
   },
   "outputs": [
    {
     "data": {
      "text/html": [
       "<div>\n",
       "<style scoped>\n",
       "    .dataframe tbody tr th:only-of-type {\n",
       "        vertical-align: middle;\n",
       "    }\n",
       "\n",
       "    .dataframe tbody tr th {\n",
       "        vertical-align: top;\n",
       "    }\n",
       "\n",
       "    .dataframe thead th {\n",
       "        text-align: right;\n",
       "    }\n",
       "</style>\n",
       "<table border=\"1\" class=\"dataframe\">\n",
       "  <thead>\n",
       "    <tr style=\"text-align: right;\">\n",
       "      <th></th>\n",
       "      <th>0</th>\n",
       "      <th>1</th>\n",
       "      <th>2</th>\n",
       "      <th>3</th>\n",
       "      <th>4</th>\n",
       "      <th>5</th>\n",
       "    </tr>\n",
       "  </thead>\n",
       "  <tbody>\n",
       "    <tr>\n",
       "      <th>0</th>\n",
       "      <td>3.0</td>\n",
       "      <td>3.0</td>\n",
       "      <td>3.5</td>\n",
       "      <td>3.0</td>\n",
       "      <td>3.5</td>\n",
       "      <td>According to the website, the style for the Ca...</td>\n",
       "    </tr>\n",
       "    <tr>\n",
       "      <th>1</th>\n",
       "      <td>2.0</td>\n",
       "      <td>2.5</td>\n",
       "      <td>2.5</td>\n",
       "      <td>2.0</td>\n",
       "      <td>2.5</td>\n",
       "      <td>Poured from the bottle into a Chimay goblet. x...</td>\n",
       "    </tr>\n",
       "    <tr>\n",
       "      <th>2</th>\n",
       "      <td>3.0</td>\n",
       "      <td>3.0</td>\n",
       "      <td>3.0</td>\n",
       "      <td>2.5</td>\n",
       "      <td>3.0</td>\n",
       "      <td>Notes from 6/24. xxPERIOD A: Bright golden glo...</td>\n",
       "    </tr>\n",
       "    <tr>\n",
       "      <th>3</th>\n",
       "      <td>3.0</td>\n",
       "      <td>2.0</td>\n",
       "      <td>2.0</td>\n",
       "      <td>1.5</td>\n",
       "      <td>3.5</td>\n",
       "      <td>22 oz. xxPERIOD bomber,. xxPERIOD A: Pours a c...</td>\n",
       "    </tr>\n",
       "    <tr>\n",
       "      <th>4</th>\n",
       "      <td>2.0</td>\n",
       "      <td>1.5</td>\n",
       "      <td>2.0</td>\n",
       "      <td>2.0</td>\n",
       "      <td>2.0</td>\n",
       "      <td>Brown in color, somewhere between a porter and...</td>\n",
       "    </tr>\n",
       "  </tbody>\n",
       "</table>\n",
       "</div>"
      ],
      "text/plain": [
       "     0    1    2    3    4                                                  5\n",
       "0  3.0  3.0  3.5  3.0  3.5  According to the website, the style for the Ca...\n",
       "1  2.0  2.5  2.5  2.0  2.5  Poured from the bottle into a Chimay goblet. x...\n",
       "2  3.0  3.0  3.0  2.5  3.0  Notes from 6/24. xxPERIOD A: Bright golden glo...\n",
       "3  3.0  2.0  2.0  1.5  3.5  22 oz. xxPERIOD bomber,. xxPERIOD A: Pours a c...\n",
       "4  2.0  1.5  2.0  2.0  2.0  Brown in color, somewhere between a porter and..."
      ]
     },
     "execution_count": 71,
     "metadata": {},
     "output_type": "execute_result"
    }
   ],
   "source": [
    "df_test = pd.concat( [aspect_rating_test, docs_test], axis=1, ignore_index=True )\n",
    "df_test.head()"
   ]
  },
  {
   "cell_type": "code",
   "execution_count": 53,
   "metadata": {
    "colab": {
     "base_uri": "https://localhost:8080/",
     "height": 34
    },
    "colab_type": "code",
    "executionInfo": {
     "elapsed": 505,
     "status": "ok",
     "timestamp": 1569095946785,
     "user": {
      "displayName": "aeryen Z",
      "photoUrl": "https://lh3.googleusercontent.com/a-/AAuE7mB9B8o-g7Bk7FNiOiB3NeIjUlkwmewejTdgq8tQqg=s64",
      "userId": "01125454621554722334"
     },
     "user_tz": 300
    },
    "id": "7nhhjh2rrRf_",
    "outputId": "75bf2c3d-27ce-4ee1-9b7b-9aea93bf604b",
    "scrolled": true
   },
   "outputs": [
    {
     "data": {
      "text/plain": [
       "(24884, 6)"
      ]
     },
     "execution_count": 53,
     "metadata": {},
     "output_type": "execute_result"
    }
   ],
   "source": [
    "df_test.shape"
   ]
  },
  {
   "cell_type": "code",
   "execution_count": 72,
   "metadata": {},
   "outputs": [
    {
     "data": {
      "text/plain": [
       "0    0.0\n",
       "1    0.0\n",
       "2    0.0\n",
       "3    0.0\n",
       "4    0.0\n",
       "dtype: float64"
      ]
     },
     "execution_count": 72,
     "metadata": {},
     "output_type": "execute_result"
    }
   ],
   "source": [
    "df_test.iloc[:,0:5].min(axis=0)"
   ]
  },
  {
   "cell_type": "markdown",
   "metadata": {
    "colab_type": "text",
    "id": "X7yyK5algPD4"
   },
   "source": [
    "# Build Language Model Data Bunch"
   ]
  },
  {
   "cell_type": "code",
   "execution_count": 14,
   "metadata": {
    "colab": {},
    "colab_type": "code",
    "id": "Q8p7xdvSx710"
   },
   "outputs": [],
   "source": [
    "lmdb = TextLMDataBunch.from_df(\"./data/\", train_df=df_train, valid_df=df_test, text_cols=5, label_cols=[0,1,2,3,4])"
   ]
  },
  {
   "cell_type": "code",
   "execution_count": 15,
   "metadata": {
    "colab": {
     "base_uri": "https://localhost:8080/",
     "height": 34
    },
    "colab_type": "code",
    "executionInfo": {
     "elapsed": 563,
     "status": "ok",
     "timestamp": 1569034865643,
     "user": {
      "displayName": "aeryen Z",
      "photoUrl": "https://lh3.googleusercontent.com/a-/AAuE7mB9B8o-g7Bk7FNiOiB3NeIjUlkwmewejTdgq8tQqg=s64",
      "userId": "01125454621554722334"
     },
     "user_tz": 300
    },
    "id": "pWa2ph8p1Dor",
    "outputId": "76bcf9b0-655f-4174-c144-10d14a8b2fa6"
   },
   "outputs": [
    {
     "data": {
      "text/plain": [
       "31600"
      ]
     },
     "execution_count": 15,
     "metadata": {},
     "output_type": "execute_result"
    }
   ],
   "source": [
    "len( lmdb.vocab.itos )"
   ]
  },
  {
   "cell_type": "code",
   "execution_count": 16,
   "metadata": {
    "colab": {
     "base_uri": "https://localhost:8080/",
     "height": 34
    },
    "colab_type": "code",
    "executionInfo": {
     "elapsed": 1322,
     "status": "ok",
     "timestamp": 1569034874640,
     "user": {
      "displayName": "aeryen Z",
      "photoUrl": "https://lh3.googleusercontent.com/a-/AAuE7mB9B8o-g7Bk7FNiOiB3NeIjUlkwmewejTdgq8tQqg=s64",
      "userId": "01125454621554722334"
     },
     "user_tz": 300
    },
    "id": "ah1tn8ugsfpU",
    "outputId": "8001445e-7be9-435d-ce55-3ce438eeae31"
   },
   "outputs": [
    {
     "data": {
      "text/plain": [
       "['xxunk', 'xxpad', 'xxbos', 'xxeos', 'xxfld', 'xxmaj', 'xxup', 'xxrep']"
      ]
     },
     "execution_count": 16,
     "metadata": {},
     "output_type": "execute_result"
    }
   ],
   "source": [
    "lmdb.vocab.itos[0:8]"
   ]
  },
  {
   "cell_type": "code",
   "execution_count": 17,
   "metadata": {
    "colab": {
     "base_uri": "https://localhost:8080/",
     "height": 323
    },
    "colab_type": "code",
    "executionInfo": {
     "elapsed": 15463,
     "status": "ok",
     "timestamp": 1569034891727,
     "user": {
      "displayName": "aeryen Z",
      "photoUrl": "https://lh3.googleusercontent.com/a-/AAuE7mB9B8o-g7Bk7FNiOiB3NeIjUlkwmewejTdgq8tQqg=s64",
      "userId": "01125454621554722334"
     },
     "user_tz": 300
    },
    "id": "uxgLWC3dyCvX",
    "outputId": "41d43147-a3a5-4838-8c02-1a21e5b1304f"
   },
   "outputs": [
    {
     "data": {
      "text/html": [
       "<table border=\"1\" class=\"dataframe\">\n",
       "  <thead>\n",
       "    <tr style=\"text-align: right;\">\n",
       "      <th>idx</th>\n",
       "      <th>text</th>\n",
       "    </tr>\n",
       "  </thead>\n",
       "  <tbody>\n",
       "    <tr>\n",
       "      <td>0</td>\n",
       "      <td>xxbos xxmaj dark red color , light beige foam , average xxperiod xxmaj in the smell malt and caramel , not really light xxperiod xxmaj again malt and caramel in the taste , not bad in the end xxperiod xxmaj maybe a note of honey in teh back , and a light fruitiness xxperiod xxmaj average body xxperiod xxmaj in the aftertaste a light bitterness , with the malt and</td>\n",
       "    </tr>\n",
       "    <tr>\n",
       "      <td>1</td>\n",
       "      <td>balanced , but yet again , i could n't detect the rosemary in the beer xxperiod xxmaj none xxperiod xxmaj zip xxperiod xxmaj zilch xxperiod xxmaj nada xxperiod xxmaj the mouthfeel was fine xxperiod xxmaj it 's well carbonated and tastes fine right down to the last drop xxperiod xxmaj overall , i just wish they 'd added more rosemary to the beer xxperiod xxmaj rosemary is such an assertive</td>\n",
       "    </tr>\n",
       "    <tr>\n",
       "      <td>2</td>\n",
       "      <td>xxperiod xxmaj the beer is extremely smooth xxperiod xxmaj overall this beer is excellent xxperiod i 'm not sure i have had a barrel - aged beer , barleywine or otherwise , that has been this well rounded and complex so close to bottling xxperiod xxmaj this one did n't come with all the hype and fanfare of some beers of this stature , in fact i only picked it</td>\n",
       "    </tr>\n",
       "    <tr>\n",
       "      <td>3</td>\n",
       "      <td>meet up tasting in xxmaj bakersfield at xxmaj imbibe xxmaj wine xxmaj bar xxperiod xxmaj it poured nicely , smallish head , pitch black and a tinge of chocolate brown for the head xxperiod xxmaj the smell , whilst alcoholic , was not overpowering xxperiod i smelled vanilla , dark chocolate , caramel , flavored coffee too xxperiod xxmaj now comes the fun part xxperiod the taste xxperiod xxmaj it</td>\n",
       "    </tr>\n",
       "    <tr>\n",
       "      <td>4</td>\n",
       "      <td>4 s : 3 xxperiod 5 t : 4 m : 4 o : 3 xxperiod 5 xxperiod xxmaj update : 09 / 2011 xxperiod xxmaj bottle purchased in xxmaj cambridge , xxup uk in xxmaj may 2011 xxperiod opened in xxmaj september xxperiod xxmaj just as delicious , pleasant , and delightful as i remember it being in ' 07 xxperiod i 've adjusted my ratings numbers to reflect</td>\n",
       "    </tr>\n",
       "  </tbody>\n",
       "</table>"
      ],
      "text/plain": [
       "<IPython.core.display.HTML object>"
      ]
     },
     "metadata": {},
     "output_type": "display_data"
    }
   ],
   "source": [
    "lmdb.show_batch()"
   ]
  },
  {
   "cell_type": "code",
   "execution_count": 18,
   "metadata": {
    "colab": {},
    "colab_type": "code",
    "id": "DvSRdhWcgPEO"
   },
   "outputs": [],
   "source": [
    "moms = (0.8,0.7)"
   ]
  },
  {
   "cell_type": "code",
   "execution_count": 19,
   "metadata": {
    "colab": {
     "base_uri": "https://localhost:8080/",
     "height": 204
    },
    "colab_type": "code",
    "executionInfo": {
     "elapsed": 1666523,
     "status": "ok",
     "timestamp": 1568498526893,
     "user": {
      "displayName": "aeryen Z",
      "photoUrl": "https://lh3.googleusercontent.com/a-/AAuE7mB9B8o-g7Bk7FNiOiB3NeIjUlkwmewejTdgq8tQqg=s64",
      "userId": "01125454621554722334"
     },
     "user_tz": 300
    },
    "id": "GmdFalGxgPEQ",
    "outputId": "9780b9e1-f8a1-47c4-968d-7b7d9683ea51",
    "scrolled": true
   },
   "outputs": [
    {
     "name": "stdout",
     "output_type": "stream",
     "text": [
      "FREEZING\n",
      "Sequential(\n",
      "  (0): WeightDropout(\n",
      "    (module): LSTM(400, 1152, batch_first=True)\n",
      "  )\n",
      "  (1): RNNDropout()\n",
      ")\n",
      "FREEZING\n",
      "Sequential(\n",
      "  (0): WeightDropout(\n",
      "    (module): LSTM(1152, 1152, batch_first=True)\n",
      "  )\n",
      "  (1): RNNDropout()\n",
      ")\n",
      "FREEZING\n",
      "Sequential(\n",
      "  (0): WeightDropout(\n",
      "    (module): LSTM(1152, 400, batch_first=True)\n",
      "  )\n",
      "  (1): RNNDropout()\n",
      ")\n",
      "UN-FREEZING\n",
      "Sequential(\n",
      "  (0): Embedding(31600, 400, padding_idx=1)\n",
      "  (1): EmbeddingDropout(\n",
      "    (emb): Embedding(31600, 400, padding_idx=1)\n",
      "  )\n",
      "  (2): LinearDecoder(\n",
      "    (decoder): Linear(in_features=400, out_features=31600, bias=True)\n",
      "    (output_dp): RNNDropout()\n",
      "  )\n",
      ")\n",
      "UN-FREEZING\n",
      "Sequential(\n",
      "  (0): WeightDropout(\n",
      "    (module): LSTM(400, 1152, batch_first=True)\n",
      "  )\n",
      "  (1): RNNDropout()\n",
      ")\n",
      "UN-FREEZING\n",
      "Sequential(\n",
      "  (0): WeightDropout(\n",
      "    (module): LSTM(1152, 1152, batch_first=True)\n",
      "  )\n",
      "  (1): RNNDropout()\n",
      ")\n",
      "UN-FREEZING\n",
      "Sequential(\n",
      "  (0): WeightDropout(\n",
      "    (module): LSTM(1152, 400, batch_first=True)\n",
      "  )\n",
      "  (1): RNNDropout()\n",
      ")\n",
      "UN-FREEZING\n",
      "Sequential(\n",
      "  (0): Embedding(31600, 400, padding_idx=1)\n",
      "  (1): EmbeddingDropout(\n",
      "    (emb): Embedding(31600, 400, padding_idx=1)\n",
      "  )\n",
      "  (2): LinearDecoder(\n",
      "    (decoder): Linear(in_features=400, out_features=31600, bias=True)\n",
      "    (output_dp): RNNDropout()\n",
      "  )\n",
      ")\n"
     ]
    },
    {
     "data": {
      "text/html": [
       "<table border=\"1\" class=\"dataframe\">\n",
       "  <thead>\n",
       "    <tr style=\"text-align: left;\">\n",
       "      <th>epoch</th>\n",
       "      <th>train_loss</th>\n",
       "      <th>valid_loss</th>\n",
       "      <th>accuracy</th>\n",
       "      <th>time</th>\n",
       "    </tr>\n",
       "  </thead>\n",
       "  <tbody>\n",
       "    <tr>\n",
       "      <td>0</td>\n",
       "      <td>3.418838</td>\n",
       "      <td>3.557895</td>\n",
       "      <td>0.337829</td>\n",
       "      <td>05:42</td>\n",
       "    </tr>\n",
       "    <tr>\n",
       "      <td>1</td>\n",
       "      <td>3.252795</td>\n",
       "      <td>3.440653</td>\n",
       "      <td>0.352359</td>\n",
       "      <td>05:51</td>\n",
       "    </tr>\n",
       "    <tr>\n",
       "      <td>2</td>\n",
       "      <td>3.171182</td>\n",
       "      <td>3.391150</td>\n",
       "      <td>0.361088</td>\n",
       "      <td>05:51</td>\n",
       "    </tr>\n",
       "    <tr>\n",
       "      <td>3</td>\n",
       "      <td>3.095272</td>\n",
       "      <td>3.347114</td>\n",
       "      <td>0.359018</td>\n",
       "      <td>06:01</td>\n",
       "    </tr>\n",
       "    <tr>\n",
       "      <td>4</td>\n",
       "      <td>3.038630</td>\n",
       "      <td>3.333527</td>\n",
       "      <td>0.364209</td>\n",
       "      <td>05:51</td>\n",
       "    </tr>\n",
       "    <tr>\n",
       "      <td>5</td>\n",
       "      <td>3.002490</td>\n",
       "      <td>3.295170</td>\n",
       "      <td>0.366441</td>\n",
       "      <td>05:51</td>\n",
       "    </tr>\n",
       "    <tr>\n",
       "      <td>6</td>\n",
       "      <td>2.959563</td>\n",
       "      <td>3.276685</td>\n",
       "      <td>0.370258</td>\n",
       "      <td>05:51</td>\n",
       "    </tr>\n",
       "    <tr>\n",
       "      <td>7</td>\n",
       "      <td>2.890160</td>\n",
       "      <td>3.261306</td>\n",
       "      <td>0.372872</td>\n",
       "      <td>05:50</td>\n",
       "    </tr>\n",
       "    <tr>\n",
       "      <td>8</td>\n",
       "      <td>2.876720</td>\n",
       "      <td>3.253816</td>\n",
       "      <td>0.372780</td>\n",
       "      <td>05:51</td>\n",
       "    </tr>\n",
       "    <tr>\n",
       "      <td>9</td>\n",
       "      <td>2.862697</td>\n",
       "      <td>3.254771</td>\n",
       "      <td>0.372463</td>\n",
       "      <td>05:52</td>\n",
       "    </tr>\n",
       "  </tbody>\n",
       "</table>"
      ],
      "text/plain": [
       "<IPython.core.display.HTML object>"
      ]
     },
     "metadata": {},
     "output_type": "display_data"
    }
   ],
   "source": [
    "learn = language_model_learner(lmdb, AWD_LSTM)\n",
    "learn.unfreeze()\n",
    "learn.fit_one_cycle(10, slice(1e-2), moms=moms)"
   ]
  },
  {
   "cell_type": "code",
   "execution_count": 20,
   "metadata": {
    "colab": {},
    "colab_type": "code",
    "id": "5jurW3So0KYQ"
   },
   "outputs": [],
   "source": [
    "lmdb.save('lm_databunch_beer.1115')"
   ]
  },
  {
   "cell_type": "code",
   "execution_count": 21,
   "metadata": {
    "colab": {},
    "colab_type": "code",
    "id": "dh9nWZFCgPEV"
   },
   "outputs": [],
   "source": [
    "learn.save('lm_learner_beer.1115')"
   ]
  },
  {
   "cell_type": "code",
   "execution_count": 22,
   "metadata": {},
   "outputs": [],
   "source": [
    "learn.save_encoder('lm_enc_beer.1115')"
   ]
  },
  {
   "cell_type": "markdown",
   "metadata": {
    "colab_type": "text",
    "id": "tl9z2TWMgPEa"
   },
   "source": [
    "# Build Classifier Data Bunch"
   ]
  },
  {
   "cell_type": "code",
   "execution_count": 73,
   "metadata": {},
   "outputs": [
    {
     "data": {
      "text/plain": [
       "(63909, 11204)"
      ]
     },
     "execution_count": 73,
     "metadata": {},
     "output_type": "execute_result"
    }
   ],
   "source": [
    "np.random.seed(42)\n",
    "msk = np.random.rand(len(df_train)) < 0.85\n",
    "df_train08 = df_train[msk]\n",
    "df_valid02 = df_train[~msk]\n",
    "len(df_train08), len(df_valid02)"
   ]
  },
  {
   "cell_type": "code",
   "execution_count": 74,
   "metadata": {},
   "outputs": [],
   "source": [
    "clas_db_tvt = TextClasDataBunch.from_df(\"./data/\",\n",
    "                                     train_df=df_train08,\n",
    "                                     valid_df=df_valid02,\n",
    "                                     test_df=df_test,\n",
    "                                     text_cols=5,\n",
    "                                     label_cols=[0,1,2,3,4],\n",
    "                                     vocab=lmdb.train_ds.vocab,\n",
    "                                     bs=42)"
   ]
  },
  {
   "cell_type": "code",
   "execution_count": 45,
   "metadata": {
    "colab": {},
    "colab_type": "code",
    "id": "92selqJMyPGq"
   },
   "outputs": [],
   "source": [
    "# clas_db_tv = TextClasDataBunch.from_df(\"./data/\",\n",
    "#                                      train_df=df_train,\n",
    "#                                      valid_df=df_test,\n",
    "#                                      text_cols=5,\n",
    "#                                      label_cols=[0,1,2,3,4],\n",
    "#                                      vocab=lmdb.train_ds.vocab,\n",
    "#                                      bs=42)"
   ]
  },
  {
   "cell_type": "code",
   "execution_count": 75,
   "metadata": {
    "colab": {
     "base_uri": "https://localhost:8080/",
     "height": 357
    },
    "colab_type": "code",
    "executionInfo": {
     "elapsed": 1929,
     "status": "ok",
     "timestamp": 1569096033552,
     "user": {
      "displayName": "aeryen Z",
      "photoUrl": "https://lh3.googleusercontent.com/a-/AAuE7mB9B8o-g7Bk7FNiOiB3NeIjUlkwmewejTdgq8tQqg=s64",
      "userId": "01125454621554722334"
     },
     "user_tz": 300
    },
    "id": "07TQh-iS07Rm",
    "outputId": "96147741-7707-4572-8cfe-f2f39ccb13a8"
   },
   "outputs": [
    {
     "data": {
      "text/html": [
       "<table border=\"1\" class=\"dataframe\">\n",
       "  <thead>\n",
       "    <tr style=\"text-align: right;\">\n",
       "      <th>text</th>\n",
       "      <th>target</th>\n",
       "    </tr>\n",
       "  </thead>\n",
       "  <tbody>\n",
       "    <tr>\n",
       "      <td>xxbos xxmaj watching some football tonight ( xxup xxunk ) and having the last of my 2005 and 2006 xxmaj bigfoots ( xxmaj bigfeet ? ? ) xxperiod xxmaj lots of malt in there xxperiod toffee and caramel xxperiod very xxmaj english - like these days xxperiod quite tasty xxperiod xxmaj just one 2004 left xxperiod :-( xxmaj cheers ! ! xxperiod * * * * * * xxperiod xxmaj</td>\n",
       "      <td></td>\n",
       "    </tr>\n",
       "    <tr>\n",
       "      <td>xxbos xxmaj acquired this beauty thanks to beerchitect xxperiod i 've been dreaming of cracking this open for weeks xxperiod i 've woken up in a cold sweat a few times dreaming of dancing xxmaj founders bottles with xxup kbs letters flying out at me and into my mouth , and rivers of dark tasty liquid showering me in droves of awesomeness xxperiod xxmaj and now its finally time to</td>\n",
       "      <td></td>\n",
       "    </tr>\n",
       "    <tr>\n",
       "      <td>xxbos 750 ml bottle from xxmaj wine xxmaj warehouse , poured in to a cervoise xxperiod xxmaj appearance : xxmaj pours a thoroughly hazed tangerine peach , with ( unusually ) one large stream of fast , densely - packed carbonation moving not nearly as fast as i would expect from a beer with this much head xxperiod xxmaj that is , the beer looks it 's gon na be</td>\n",
       "      <td></td>\n",
       "    </tr>\n",
       "    <tr>\n",
       "      <td>xxbos xxmaj picked up this 750 from xxmaj hop xxmaj city out in xxmaj atlanta xxperiod xxmaj the description on the bottle caught my eye , so i figured what the hell xxperiod i think the bottle was about $ 9 xxperiod 00 or so xxperiod xxmaj served up in a tulip xxperiod a : xxmaj pours a very intersting light yellow in color , almost champagne like in appearance</td>\n",
       "      <td></td>\n",
       "    </tr>\n",
       "    <tr>\n",
       "      <td>xxbos 2008 bottling xxperiod i 've been sitting on this since xxmaj january , when i decided it was a bit too rough for me at the time xxperiod xxmaj hopefully four months has mellowed it more to my tastes xxperiod xxmaj looks as good as i remember from before when poured into a goblet xxperiod xxmaj like a cherry - wood color , with strawberry red brightness when held</td>\n",
       "      <td></td>\n",
       "    </tr>\n",
       "  </tbody>\n",
       "</table>"
      ],
      "text/plain": [
       "<IPython.core.display.HTML object>"
      ]
     },
     "metadata": {},
     "output_type": "display_data"
    }
   ],
   "source": [
    "clas_db_tvt.show_batch()"
   ]
  },
  {
   "cell_type": "code",
   "execution_count": 76,
   "metadata": {
    "colab": {},
    "colab_type": "code",
    "id": "IzV244n66xXb"
   },
   "outputs": [],
   "source": [
    "clas_db_tvt.save(\"beer_clas_databunch_float.TraValTes\")"
   ]
  },
  {
   "cell_type": "code",
   "execution_count": 46,
   "metadata": {
    "colab": {},
    "colab_type": "code",
    "id": "IzV244n66xXb"
   },
   "outputs": [],
   "source": [
    "# clas_db_tv.save(\"beer_clas_databunch_rint.TraVal\")"
   ]
  },
  {
   "cell_type": "markdown",
   "metadata": {
    "colab_type": "text",
    "id": "Q0TeA8-z6GLP"
   },
   "source": [
    "##  -- load LM Databunch and LM Learner"
   ]
  },
  {
   "cell_type": "code",
   "execution_count": 4,
   "metadata": {
    "colab": {},
    "colab_type": "code",
    "id": "EKEjqX351GhF"
   },
   "outputs": [],
   "source": [
    "lmdb = load_data(\"./data/\", \"hotel_lm_databunch.1001\")"
   ]
  },
  {
   "cell_type": "code",
   "execution_count": 5,
   "metadata": {
    "colab": {},
    "colab_type": "code",
    "id": "ELlhNmT24xvm"
   },
   "outputs": [
    {
     "name": "stdout",
     "output_type": "stream",
     "text": [
      "freezing:WeightDropout(\n",
      "  (module): LSTM(400, 1152, batch_first=True)\n",
      ")\n",
      "freezing:RNNDropout()\n",
      "freezing:WeightDropout(\n",
      "  (module): LSTM(1152, 1152, batch_first=True)\n",
      ")\n",
      "freezing:RNNDropout()\n",
      "freezing:WeightDropout(\n",
      "  (module): LSTM(1152, 400, batch_first=True)\n",
      ")\n",
      "freezing:RNNDropout()\n"
     ]
    }
   ],
   "source": [
    "learn = language_model_learner(lmdb, AWD_LSTM)\n",
    "learn.unfreeze()\n",
    "learn = learn.load(\"lang_model_hotel\")"
   ]
  },
  {
   "cell_type": "markdown",
   "metadata": {
    "colab_type": "text",
    "id": "_CrQZNtU74Fq"
   },
   "source": [
    "## -- load databunch"
   ]
  },
  {
   "cell_type": "code",
   "execution_count": 6,
   "metadata": {
    "colab": {},
    "colab_type": "code",
    "id": "RwtIMD5T73GS"
   },
   "outputs": [],
   "source": [
    "clas_db = load_data(\"./data/\", \"hotel_cls_databunch.aspect_only\")"
   ]
  },
  {
   "cell_type": "code",
   "execution_count": 7,
   "metadata": {
    "colab": {},
    "colab_type": "code",
    "id": "-gvEDa4cISdR"
   },
   "outputs": [],
   "source": [
    "clas_db.batch_size=2"
   ]
  },
  {
   "cell_type": "code",
   "execution_count": 8,
   "metadata": {
    "colab": {
     "base_uri": "https://localhost:8080/",
     "height": 34
    },
    "colab_type": "code",
    "executionInfo": {
     "elapsed": 27811,
     "status": "ok",
     "timestamp": 1569120818943,
     "user": {
      "displayName": "aeryen Z",
      "photoUrl": "https://lh3.googleusercontent.com/a-/AAuE7mB9B8o-g7Bk7FNiOiB3NeIjUlkwmewejTdgq8tQqg=s64",
      "userId": "01125454621554722334"
     },
     "user_tz": 300
    },
    "id": "sbsl6iWkYh-P",
    "outputId": "6721b6e5-6616-45eb-cb45-f09897f84c86"
   },
   "outputs": [
    {
     "data": {
      "text/plain": [
       "5"
      ]
     },
     "execution_count": 8,
     "metadata": {},
     "output_type": "execute_result"
    }
   ],
   "source": [
    "clas_db.c"
   ]
  },
  {
   "cell_type": "code",
   "execution_count": 14,
   "metadata": {},
   "outputs": [
    {
     "name": "stdout",
     "output_type": "stream",
     "text": [
      "freezing:Embedding(23008, 400, padding_idx=1)\n",
      "freezing:EmbeddingDropout(\n",
      "  (emb): Embedding(23008, 400, padding_idx=1)\n",
      ")\n",
      "freezing:WeightDropout(\n",
      "  (module): LSTM(400, 1152, batch_first=True)\n",
      ")\n",
      "freezing:RNNDropout()\n",
      "freezing:WeightDropout(\n",
      "  (module): LSTM(1152, 1152, batch_first=True)\n",
      ")\n",
      "freezing:RNNDropout()\n",
      "freezing:WeightDropout(\n",
      "  (module): LSTM(1152, 400, batch_first=True)\n",
      ")\n",
      "freezing:RNNDropout()\n"
     ]
    }
   ],
   "source": [
    "cls_learn = text_classifier_learner(clas_db, AWD_LSTM)"
   ]
  },
  {
   "cell_type": "markdown",
   "metadata": {
    "colab_type": "text",
    "id": "HZ_31Rm6gPFK"
   },
   "source": [
    "# Model Test"
   ]
  },
  {
   "cell_type": "code",
   "execution_count": 8,
   "metadata": {
    "colab": {
     "base_uri": "https://localhost:8080/",
     "height": 408
    },
    "colab_type": "code",
    "executionInfo": {
     "elapsed": 335,
     "status": "ok",
     "timestamp": 1569121884111,
     "user": {
      "displayName": "aeryen Z",
      "photoUrl": "https://lh3.googleusercontent.com/a-/AAuE7mB9B8o-g7Bk7FNiOiB3NeIjUlkwmewejTdgq8tQqg=s64",
      "userId": "01125454621554722334"
     },
     "user_tz": 300
    },
    "id": "fwLNiaT8gPFL",
    "outputId": "5c44d41e-3511-47b9-dd19-97b7a4a067ca",
    "scrolled": true
   },
   "outputs": [],
   "source": [
    "encoder = learn.model[0]\n",
    "encoder.reset()"
   ]
  },
  {
   "cell_type": "code",
   "execution_count": 31,
   "metadata": {
    "colab": {
     "base_uri": "https://localhost:8080/",
     "height": 34
    },
    "colab_type": "code",
    "executionInfo": {
     "elapsed": 782,
     "status": "ok",
     "timestamp": 1569102956616,
     "user": {
      "displayName": "aeryen Z",
      "photoUrl": "https://lh3.googleusercontent.com/a-/AAuE7mB9B8o-g7Bk7FNiOiB3NeIjUlkwmewejTdgq8tQqg=s64",
      "userId": "01125454621554722334"
     },
     "user_tz": 300
    },
    "id": "JluJsA9GgPFN",
    "outputId": "96488910-c11b-4245-99ce-5a2c38bda33a"
   },
   "outputs": [
    {
     "data": {
      "text/plain": [
       "\"the finish is  kinda sweet xxperiod very nice , but not overly complex xxperiod it 's a dark muddled brown with good head\""
      ]
     },
     "execution_count": 31,
     "metadata": {},
     "output_type": "execute_result"
    }
   ],
   "source": [
    "learn.predict(\"the finish is \", n_words=20)"
   ]
  },
  {
   "cell_type": "code",
   "execution_count": null,
   "metadata": {
    "colab": {},
    "colab_type": "code",
    "id": "puwPgoLvgPGP"
   },
   "outputs": [],
   "source": []
  }
 ],
 "metadata": {
  "accelerator": "GPU",
  "colab": {
   "collapsed_sections": [],
   "name": "Train_Hotel.ipynb",
   "provenance": [],
   "toc_visible": true
  },
  "kernelspec": {
   "display_name": "Python 3",
   "language": "python",
   "name": "python3"
  },
  "language_info": {
   "codemirror_mode": {
    "name": "ipython",
    "version": 3
   },
   "file_extension": ".py",
   "mimetype": "text/x-python",
   "name": "python",
   "nbconvert_exporter": "python",
   "pygments_lexer": "ipython3",
   "version": "3.8.2"
  }
 },
 "nbformat": 4,
 "nbformat_minor": 4
}
