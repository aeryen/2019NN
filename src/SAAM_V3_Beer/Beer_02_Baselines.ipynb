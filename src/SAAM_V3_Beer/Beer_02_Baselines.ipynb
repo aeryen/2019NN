{
 "cells": [
  {
   "cell_type": "code",
   "execution_count": 1,
   "metadata": {},
   "outputs": [],
   "source": [
    "%reload_ext autoreload\n",
    "%autoreload 2\n",
    "%matplotlib inline"
   ]
  },
  {
   "cell_type": "code",
   "execution_count": 2,
   "metadata": {},
   "outputs": [
    {
     "name": "stderr",
     "output_type": "stream",
     "text": [
      "COMET INFO: Experiment is live on comet.ml https://www.comet.ml/aeryen/2019nn-beer/0c03f5d8f60d414c98978d8288ad9e80\n",
      "\n"
     ]
    }
   ],
   "source": [
    "import comet_ml\n",
    "experiment = comet_ml.Experiment(project_name=\"2019nn_beer\")"
   ]
  },
  {
   "cell_type": "code",
   "execution_count": 1,
   "metadata": {},
   "outputs": [],
   "source": [
    "# %%\n",
    "from fastai.text import *\n",
    "from data_helpers.Data import *\n",
    "from fastai.text.transform import *"
   ]
  },
  {
   "cell_type": "code",
   "execution_count": 2,
   "metadata": {},
   "outputs": [],
   "source": [
    "hyper_params = {\n",
    "    \"max_sequence_length\": 20*70,\n",
    "    \"batch_size\": 32,\n",
    "    \"num_epochs1\": 12,\n",
    "    \"num_epochs2\": 15,\n",
    "    \"num_aspect\": 5,\n",
    "    \"num_rating\": 5,\n",
    "}"
   ]
  },
  {
   "cell_type": "code",
   "execution_count": 3,
   "metadata": {},
   "outputs": [
    {
     "ename": "NameError",
     "evalue": "name 'experiment' is not defined",
     "output_type": "error",
     "traceback": [
      "\u001b[0;31m---------------------------------------------------------------------------\u001b[0m\n\u001b[0;31mNameError\u001b[0m                                 Traceback (most recent call last)",
      "In  \u001b[0;34m[3]\u001b[0m:\nLine \u001b[0;34m1\u001b[0m:     experiment.log_parameters(hyper_params)\n",
      "\u001b[0;31mNameError\u001b[0m: name 'experiment' is not defined\n\u001b[0;31m---------------------------------------------------------------------------\u001b[0m"
     ]
    }
   ],
   "source": [
    "experiment.log_parameters(hyper_params)"
   ]
  },
  {
   "cell_type": "markdown",
   "metadata": {},
   "source": [
    "# Load LM Databunch and LM Learner"
   ]
  },
  {
   "cell_type": "code",
   "execution_count": 6,
   "metadata": {},
   "outputs": [],
   "source": [
    "# lm_db = load_data(\"./data/\", \"hotel_lm_databunch.1001\")\n",
    "# lm_learn = language_model_learner(lm_db, AWD_LSTM)\n",
    "# lm_learn = lm_learn.load(\"lang_model_hotel\")"
   ]
  },
  {
   "cell_type": "code",
   "execution_count": 7,
   "metadata": {},
   "outputs": [],
   "source": [
    "# lm_learn.save_encoder('lang_model_hotel_enc')"
   ]
  },
  {
   "cell_type": "code",
   "execution_count": 4,
   "metadata": {},
   "outputs": [
    {
     "data": {
      "text/plain": [
       "32"
      ]
     },
     "execution_count": 4,
     "metadata": {},
     "output_type": "execute_result"
    }
   ],
   "source": [
    "cls_db = load_data(\"./data/\", \"beer_clas_databunch_rint.TraValTes\")\n",
    "cls_db.batch_size=hyper_params[\"batch_size\"]\n",
    "cls_db.batch_size"
   ]
  },
  {
   "cell_type": "code",
   "execution_count": 16,
   "metadata": {},
   "outputs": [],
   "source": [
    "x,y = cls_db.one_batch()"
   ]
  },
  {
   "cell_type": "code",
   "execution_count": 17,
   "metadata": {},
   "outputs": [
    {
     "data": {
      "text/plain": [
       "torch.Size([32, 1347])"
      ]
     },
     "execution_count": 17,
     "metadata": {},
     "output_type": "execute_result"
    }
   ],
   "source": [
    "x.shape"
   ]
  },
  {
   "cell_type": "code",
   "execution_count": 19,
   "metadata": {},
   "outputs": [
    {
     "data": {
      "text/plain": [
       "tensor([[4., 4., 4., 4., 4.],\n",
       "        [2., 3., 2., 2., 2.],\n",
       "        [2., 3., 4., 3., 3.],\n",
       "        [4., 3., 4., 3., 4.],\n",
       "        [3., 3., 3., 2., 3.],\n",
       "        [2., 4., 4., 3., 4.],\n",
       "        [4., 3., 4., 4., 4.],\n",
       "        [3., 3., 4., 4., 4.],\n",
       "        [4., 4., 4., 4., 4.],\n",
       "        [4., 4., 4., 4., 4.]])"
      ]
     },
     "execution_count": 19,
     "metadata": {},
     "output_type": "execute_result"
    }
   ],
   "source": [
    "y[:10]"
   ]
  },
  {
   "cell_type": "markdown",
   "metadata": {},
   "source": [
    "# Tools"
   ]
  },
  {
   "cell_type": "markdown",
   "metadata": {},
   "source": [
    "### Sentence Feature Pooling"
   ]
  },
  {
   "cell_type": "code",
   "execution_count": 5,
   "metadata": {},
   "outputs": [],
   "source": [
    "def pool_combo(output, start, end):\n",
    "    avg_pool = output[start:end, :].mean(dim=0)\n",
    "    max_pool = output[start:end, :].max(dim=0)[0]\n",
    "    x = torch.cat([output[-1,:], max_pool, avg_pool], 0)\n",
    "    return x\n",
    "\n",
    "def sentence_pool_1200(outputs, mask, p_index):\n",
    "    \"Pool MultiBatchEncoder outputs into one vector [last_hidden, max_pool, avg_pool].\"\n",
    "    output = outputs[-1]\n",
    "    seq_max = output.size(1)\n",
    "    doc_start = mask.int().sum(dim=1)\n",
    "    \n",
    "    batch = []\n",
    "    for doci in range(0,output.shape[0]):\n",
    "        pi = p_index[doci,:].nonzero(as_tuple=True)[0].int()\n",
    "        doc = []\n",
    "        for senti in range( len(pi) ):\n",
    "            if senti==0:\n",
    "                doc.append( pool_combo(output[doci,:,:], doc_start[doci], pi[senti]) )\n",
    "            else:\n",
    "                doc.append( pool_combo(output[doci,:,:], pi[senti-1]+1, pi[senti]) )\n",
    "            \n",
    "        batch.append( torch.stack(doc, 0) )\n",
    "\n",
    "    return batch\n",
    "\n",
    "def sentence_pool_400(outputs, mask, p_index):\n",
    "    output = outputs[-1]\n",
    "    \n",
    "    batch = []\n",
    "    for doci in range(0,output.shape[0]):\n",
    "        doc = output[doci,p_index[doci,:],:]\n",
    "        batch.append( doc )\n",
    "\n",
    "    return batch\n",
    "\n",
    "def masked_concat_pool(outputs, mask):\n",
    "    \"Pool MultiBatchEncoder outputs into one vector [last_hidden, max_pool, avg_pool].\"\n",
    "    output = outputs[-1]\n",
    "    avg_pool = output.masked_fill(mask[:, :, None], 0).mean(dim=1)\n",
    "    avg_pool *= output.size(1) / (output.size(1)-mask.type(avg_pool.dtype).sum(dim=1))[:,None]\n",
    "    max_pool = output.masked_fill(mask[:,:,None], -float('inf')).max(dim=1)[0]\n",
    "    x = torch.cat([output[:,-1], max_pool, avg_pool], 1)\n",
    "    return x"
   ]
  },
  {
   "cell_type": "markdown",
   "metadata": {},
   "source": [
    "## DEFINE MODEL"
   ]
  },
  {
   "cell_type": "code",
   "execution_count": 6,
   "metadata": {},
   "outputs": [],
   "source": [
    "class SentenceEncoder(Module):\n",
    "    \"Create an encoder over `module` that can process a full sentence.\"\n",
    "    def __init__(self, bptt:int, max_len:int, module:nn.Module, vocab, pad_idx:int=1):\n",
    "        print(\"Encoder init\")\n",
    "        self.max_len,self.bptt,self.module,self.pad_idx = max_len,bptt,module,pad_idx\n",
    "        self.vocab = vocab\n",
    "        self.period_index = self.vocab.stoi[\"xxperiod\"]\n",
    "\n",
    "    def concat(self, arrs:Collection[Tensor])->Tensor:\n",
    "        \"Concatenate the `arrs` along the batch dimension.\"\n",
    "        return [torch.cat([l[si] for l in arrs], dim=1) for si in range_of(arrs[0])]\n",
    "\n",
    "    def reset(self):\n",
    "        if hasattr(self.module, 'reset'): self.module.reset()\n",
    "\n",
    "    def forward(self, input:LongTensor)->Tuple[Tensor,Tensor]:\n",
    "        bs,sl = input.size()\n",
    "        self.reset()\n",
    "        raw_outputs,outputs,masks = [],[],[]\n",
    "        p_index = []\n",
    "        for i in range(0, sl, self.bptt):\n",
    "            r, o = self.module(input[:,i: min(i+self.bptt, sl)])\n",
    "            if i>(sl-self.max_len):\n",
    "                masks.append(input[:,i: min(i+self.bptt, sl)] == self.pad_idx)\n",
    "                raw_outputs.append(r)\n",
    "                outputs.append(o)\n",
    "                p_index.append( input[:,i: min(i+self.bptt, sl)] == self.period_index )\n",
    "                \n",
    "#         print(\"number of sentences in docs:\")\n",
    "#         n_sent = torch.sum( x==self.vocab.stoi[\"xxperiod\"] , dim=1)\n",
    "#         print(n_sent)\n",
    "        \n",
    "        period_index = torch.cat(p_index,dim=1)\n",
    "        \n",
    "        return self.concat(raw_outputs),self.concat(outputs), \\\n",
    "               torch.cat(masks,dim=1),period_index"
   ]
  },
  {
   "cell_type": "markdown",
   "metadata": {},
   "source": [
    "### Baseline 01: Fastai Default"
   ]
  },
  {
   "cell_type": "code",
   "execution_count": 8,
   "metadata": {},
   "outputs": [],
   "source": [
    "# experiment.add_tag(\"base01\")\n",
    "\n",
    "class Base01Module(Module):\n",
    "    def __init__(self, n_asp:int, n_rat:int, layers:Collection[int], drops:Collection[float]):\n",
    "        print(\"base01 init\")\n",
    "        print(\"Num Aspect: \"+str(n_asp) )\n",
    "        print(\"Num Rating: \"+str(n_rat) )\n",
    "        self.n_asp = n_asp\n",
    "        self.n_rat = n_rat\n",
    "        \n",
    "        mod_layers = []\n",
    "        mod_layers += bn_drop_lin(1200, 50, p=0.5, actn=nn.ReLU(inplace=True))\n",
    "        mod_layers += bn_drop_lin(50, n_asp*n_rat, p=0.1, actn=None)\n",
    "        self.layers = nn.Sequential(*mod_layers)\n",
    "\n",
    "    def forward(self, input:Tuple[Tensor,Tensor,Tensor,Tensor])->Tuple[Tensor,Tensor,Tensor]:\n",
    "        raw_outputs,outputs,mask,p_index = input\n",
    "        \n",
    "        x = masked_concat_pool(outputs, mask)\n",
    "\n",
    "        sentiment_dist = self.layers(x)\n",
    "        sentiment_dist = sentiment_dist.view(-1, self.n_asp, self.n_rat)\n",
    "        \n",
    "        return sentiment_dist,raw_outputs,outputs"
   ]
  },
  {
   "cell_type": "markdown",
   "metadata": {},
   "source": [
    "### Baseline 02: Sentence feature (400) extract then estimate distribution, sent. dist. sumed to doc output"
   ]
  },
  {
   "cell_type": "code",
   "execution_count": 11,
   "metadata": {},
   "outputs": [],
   "source": [
    "experiment.add_tag(\"base02\")\n",
    "\n",
    "class SimpleSentModule(Module):\n",
    "    \"Create a linear classifier with pooling.\"\n",
    "    def __init__(self, n_asp:int, n_rat:int, layers:Collection[int], drops:Collection[float]):\n",
    "        print(\"SimpleSentModule init\")\n",
    "        print(\"Num Aspect: \"+str(n_asp) )\n",
    "        print(\"Num Rating: \"+str(n_rat) )\n",
    "        self.n_asp = n_asp\n",
    "        self.n_rat = n_rat\n",
    "        \n",
    "        mod_layers = []\n",
    "#         mod_layers += bn_drop_lin(400, 60, p=0.4, actn=nn.ReLU(inplace=True))\n",
    "        mod_layers += bn_drop_lin(400, n_asp*n_rat, p=0, actn=None)\n",
    "        self.layers = nn.Sequential(*mod_layers)\n",
    "\n",
    "    def forward(self, input:Tuple[Tensor,Tensor,Tensor,Tensor])->Tuple[Tensor,Tensor,Tensor]:\n",
    "        raw_outputs,outputs,mask,p_index = input\n",
    "\n",
    "        # takes only last layer output\n",
    "        output = outputs[-1] # [batch, seq_len, emb_size]\n",
    "\n",
    "        result = []\n",
    "        for bati in range(0,output.shape[0]):\n",
    "            sent_output = output[bati, p_index[bati,:], :]\n",
    "            sentiment_dist = self.layers(sent_output)\n",
    "            sentiment_dist = torch.sum(sentiment_dist, dim=0, keepdim=True)\n",
    "            sentiment_dist = sentiment_dist.view(-1, self.n_asp, self.n_rat)\n",
    "            result.append(sentiment_dist)\n",
    "        \n",
    "        result = torch.cat( result, dim=0 )\n",
    "        \n",
    "        return result,raw_outputs,outputs"
   ]
  },
  {
   "cell_type": "markdown",
   "metadata": {},
   "source": [
    "### Baseline 03: average sentence combo pool feature then do document BMM"
   ]
  },
  {
   "cell_type": "code",
   "execution_count": null,
   "metadata": {},
   "outputs": [],
   "source": [
    "experiment.add_tag(\"base03\")\n",
    "\n",
    "class ClsModule1200avg(Module):\n",
    "    \"Create a linear classifier with pooling.\"\n",
    "    def __init__(self, n_asp:int, n_rat:int, layers:Collection[int], drops:Collection[float]):\n",
    "        print(\"CLS init\")\n",
    "        print(\"Num Aspect: \"+str(n_asp) )\n",
    "        print(\"Num Rating: \"+str(n_rat) )\n",
    "        self.n_asp = n_asp\n",
    "        self.n_rat = n_rat\n",
    "        \n",
    "        mod_layers = []\n",
    "        mod_layers += bn_drop_lin( 1200, 50, p=0.5, actn=nn.ReLU(inplace=True) )\n",
    "        mod_layers += bn_drop_lin( 50, self.n_asp+1, p=0, actn=torch.nn.Softmax(dim=1) )\n",
    "#         mod_layers += bn_drop_lin( 1200, self.n_asp+1, p=0, actn=torch.nn.Softmax(dim=1) )\n",
    "        self.aspect = nn.Sequential(*mod_layers)\n",
    "        \n",
    "        mod_layers = []\n",
    "        mod_layers += bn_drop_lin( 1200, 50, p=0.5, actn=nn.ReLU(inplace=True) )\n",
    "        mod_layers += bn_drop_lin( 50, self.n_rat, p=0, actn=torch.nn.Softmax(dim=1) )\n",
    "#         mod_layers += bn_drop_lin( 1200, self.n_rat, p=0, actn=torch.nn.Softmax(dim=1) )\n",
    "        self.sentiment = nn.Sequential(*mod_layers)\n",
    "\n",
    "    def forward(self, input:Tuple[Tensor,Tensor,Tensor,Tensor])->Tuple[Tensor,Tensor,Tensor]:\n",
    "        raw_outputs,outputs,mask,p_index = input\n",
    "\n",
    "        output = outputs[-1] # [batch, seq_len, emb_size]\n",
    "\n",
    "        # print(\"number of sentences in docs:\")\n",
    "        n_sent = torch.sum( p_index , dim=1)\n",
    "\n",
    "        batch = sentence_extract_pool(outputs, mask, p_index)\n",
    "        doc_list = []\n",
    "        result = []\n",
    "        for doci in range(0,output.shape[0]):\n",
    "            sent_output = batch[doci]\n",
    "            doc_output = sent_output.mean(dim=0, keepdim=True)\n",
    "            doc_list.append(doc_output)\n",
    "\n",
    "        doc_list = torch.cat( doc_list, dim=0 )\n",
    "        aspect_dist = self.aspect(doc_list)         # [aspect]\n",
    "        sentiment_dist = self.sentiment(doc_list)   # [sentiment]\n",
    "        result = torch.bmm(aspect_dist.unsqueeze(2), sentiment_dist.unsqueeze(1))\n",
    "        \n",
    "        return result,raw_outputs,outputs"
   ]
  },
  {
   "cell_type": "markdown",
   "metadata": {},
   "source": [
    "# Building Learner"
   ]
  },
  {
   "cell_type": "code",
   "execution_count": 9,
   "metadata": {},
   "outputs": [],
   "source": [
    "def get_text_classifier(arch:Callable, vocab_sz:int, vocab, n_class:int, bptt:int=70, max_len:int=20*70, config:dict=None,\n",
    "                        drop_mult:float=1., lin_ftrs:Collection[int]=None, ps:Collection[float]=None,\n",
    "                        pad_idx:int=1) -> nn.Module:\n",
    "    \"Create a text classifier from `arch` and its `config`, maybe `pretrained`.\"\n",
    "    print(\"CUSTOM DEFINED CLASSIFIER\")\n",
    "    meta = text.learner._model_meta[arch]\n",
    "    config = ifnone(config, meta['config_clas']).copy()\n",
    "    for k in config.keys():\n",
    "        if k.endswith('_p'): config[k] *= drop_mult\n",
    "    if lin_ftrs is None: lin_ftrs = [50]\n",
    "    if ps is None:  ps = [0.1]*len(lin_ftrs)\n",
    "    layers = [config[meta['hid_name']] * 3] + lin_ftrs + [n_class]\n",
    "    ps = [config.pop('output_p')] + ps\n",
    "    init = config.pop('init') if 'init' in config else None\n",
    "    encoder = SentenceEncoder(bptt, max_len, arch(vocab_sz, **config), vocab, pad_idx=pad_idx)\n",
    "    cls_layer = Base01Module(n_asp=hyper_params[\"num_aspect\"], n_rat=hyper_params[\"num_rating\"], layers=layers, drops=ps)\n",
    "    model = SequentialRNN(encoder, cls_layer)\n",
    "    return model if init is None else model.apply(init)"
   ]
  },
  {
   "cell_type": "code",
   "execution_count": 10,
   "metadata": {},
   "outputs": [],
   "source": [
    "def text_classifier_learner(data:DataBunch, arch:Callable, bptt:int=70, max_len:int=20*70, config:dict=None,\n",
    "                            pretrained:bool=True, drop_mult:float=1., lin_ftrs:Collection[int]=None,\n",
    "                            ps:Collection[float]=None, **learn_kwargs) -> 'TextClassifierLearner':\n",
    "    \"Create a `Learner` with a text classifier from `data` and `arch`.\"\n",
    "    model = get_text_classifier(arch, len(data.vocab.itos), data.vocab, data.c, bptt=bptt, max_len=max_len,\n",
    "                                config=config, drop_mult=drop_mult, lin_ftrs=lin_ftrs, ps=ps)\n",
    "    meta = text.learner._model_meta[arch]\n",
    "    learn = RNNLearner(data, model, split_func=meta['split_clas'], **learn_kwargs)\n",
    "    if pretrained:\n",
    "        if 'url' not in meta:\n",
    "            warn(\"There are no pretrained weights for that architecture yet!\")\n",
    "            return learn\n",
    "        model_path = untar_data(meta['url'], data=False)\n",
    "        fnames = [list(model_path.glob(f'*.{ext}'))[0] for ext in ['pth', 'pkl']]\n",
    "        print(fnames)\n",
    "        learn = learn.load_pretrained(*fnames, strict=False)\n",
    "        learn.freeze()\n",
    "    return learn"
   ]
  },
  {
   "cell_type": "markdown",
   "metadata": {},
   "source": [
    "## Classification loss and metrics"
   ]
  },
  {
   "cell_type": "code",
   "execution_count": 11,
   "metadata": {},
   "outputs": [],
   "source": [
    "class MultiLabelCEL(nn.CrossEntropyLoss):\n",
    "    def forward(self, input, target, nasp=hyper_params[\"num_aspect\"]):\n",
    "        target = target.long()\n",
    "        loss = 0\n",
    "        for i in range(nasp):\n",
    "            loss = loss + super(MultiLabelCEL, self).forward(input[:,i,:], target[:,i])\n",
    "        \n",
    "        return loss"
   ]
  },
  {
   "cell_type": "code",
   "execution_count": 12,
   "metadata": {},
   "outputs": [],
   "source": [
    "def multi_acc(preds, targs, nasp=hyper_params[\"num_aspect\"], nrat=5):\n",
    "    preds = preds[:,0:nasp,:]\n",
    "    preds = preds.contiguous().view(-1, nrat)\n",
    "    preds = torch.max(preds, dim=1)[1]\n",
    "    targs = targs.contiguous().view(-1).long()\n",
    "    return (preds==targs).float().mean()"
   ]
  },
  {
   "cell_type": "code",
   "execution_count": 13,
   "metadata": {
    "scrolled": true
   },
   "outputs": [],
   "source": [
    "def get_clas_acc(asp_index):\n",
    "    def asp_acc(preds, targs):\n",
    "        preds = torch.max(preds, dim=2)[1]\n",
    "        targs = targs.contiguous().long()\n",
    "        return (preds[:,asp_index]==targs[:,asp_index]).float().mean()\n",
    "    return asp_acc"
   ]
  },
  {
   "cell_type": "code",
   "execution_count": 14,
   "metadata": {},
   "outputs": [],
   "source": [
    "def get_clas_mse(asp_index):\n",
    "    def asp_mse(preds, targs):\n",
    "        preds = torch.max(preds, dim=2)[1].float()[:,asp_index]\n",
    "        targs = targs.contiguous().float()[:,asp_index]\n",
    "        return torch.nn.functional.mse_loss(preds, targs)\n",
    "    return asp_mse"
   ]
  },
  {
   "cell_type": "markdown",
   "metadata": {},
   "source": [
    "## create the objects"
   ]
  },
  {
   "cell_type": "code",
   "execution_count": 15,
   "metadata": {},
   "outputs": [],
   "source": [
    "macc=[get_clas_acc(ai) for ai in range(hyper_params[\"num_aspect\"])]\n",
    "for ai in range(hyper_params[\"num_aspect\"]): macc[ai].__name__ = \"clas_acc_\"+str(ai)\n",
    "mmse=[get_clas_mse(ai) for ai in range(hyper_params[\"num_aspect\"])]\n",
    "for ai in range(hyper_params[\"num_aspect\"]): mmse[ai].__name__ = \"clas_mse_\"+str(ai)"
   ]
  },
  {
   "cell_type": "code",
   "execution_count": 16,
   "metadata": {
    "scrolled": true
   },
   "outputs": [
    {
     "name": "stdout",
     "output_type": "stream",
     "text": [
      "CUSTOM DEFINED CLASSIFIER\n",
      "Encoder init\n",
      "base01 init\n",
      "Num Aspect: 5\n",
      "Num Rating: 5\n",
      "[PosixPath('/home/aeryen/.fastai/models/wt103-fwd/lstm_fwd.pth'), PosixPath('/home/aeryen/.fastai/models/wt103-fwd/itos_wt103.pkl')]\n",
      "FREEZING\n",
      "Sequential(\n",
      "  (0): Embedding(31600, 400, padding_idx=1)\n",
      "  (1): EmbeddingDropout(\n",
      "    (emb): Embedding(31600, 400, padding_idx=1)\n",
      "  )\n",
      ")\n",
      "FREEZING\n",
      "Sequential(\n",
      "  (0): WeightDropout(\n",
      "    (module): LSTM(400, 1152, batch_first=True)\n",
      "  )\n",
      "  (1): RNNDropout()\n",
      ")\n",
      "FREEZING\n",
      "Sequential(\n",
      "  (0): WeightDropout(\n",
      "    (module): LSTM(1152, 1152, batch_first=True)\n",
      "  )\n",
      "  (1): RNNDropout()\n",
      ")\n",
      "FREEZING\n",
      "Sequential(\n",
      "  (0): WeightDropout(\n",
      "    (module): LSTM(1152, 400, batch_first=True)\n",
      "  )\n",
      "  (1): RNNDropout()\n",
      ")\n",
      "UN-FREEZING\n",
      "Sequential(\n",
      "  (0): Base01Module(\n",
      "    (layers): Sequential(\n",
      "      (0): BatchNorm1d(1200, eps=1e-05, momentum=0.1, affine=True, track_running_stats=True)\n",
      "      (1): Dropout(p=0.5, inplace=False)\n",
      "      (2): Linear(in_features=1200, out_features=50, bias=True)\n",
      "      (3): ReLU(inplace=True)\n",
      "      (4): BatchNorm1d(50, eps=1e-05, momentum=0.1, affine=True, track_running_stats=True)\n",
      "      (5): Dropout(p=0.1, inplace=False)\n",
      "      (6): Linear(in_features=50, out_features=25, bias=True)\n",
      "    )\n",
      "  )\n",
      ")\n"
     ]
    }
   ],
   "source": [
    "mloss = MultiLabelCEL()\n",
    "# mloss = MultiLabelMSE()\n",
    "cls_learn = text_classifier_learner(cls_db, AWD_LSTM, \n",
    "                                    loss_func=mloss,\n",
    "                                    metrics=[multi_acc]+macc+mmse,\n",
    "                                    bptt=70,\n",
    "                                    max_len=hyper_params[\"max_sequence_length\"])"
   ]
  },
  {
   "cell_type": "code",
   "execution_count": 20,
   "metadata": {
    "scrolled": true
   },
   "outputs": [
    {
     "name": "stdout",
     "output_type": "stream",
     "text": [
      "FREEZING\n",
      "Sequential(\n",
      "  (0): Embedding(31600, 400, padding_idx=1)\n",
      "  (1): EmbeddingDropout(\n",
      "    (emb): Embedding(31600, 400, padding_idx=1)\n",
      "  )\n",
      ")\n",
      "FREEZING\n",
      "Sequential(\n",
      "  (0): WeightDropout(\n",
      "    (module): LSTM(400, 1152, batch_first=True)\n",
      "  )\n",
      "  (1): RNNDropout()\n",
      ")\n",
      "FREEZING\n",
      "Sequential(\n",
      "  (0): WeightDropout(\n",
      "    (module): LSTM(1152, 1152, batch_first=True)\n",
      "  )\n",
      "  (1): RNNDropout()\n",
      ")\n",
      "FREEZING\n",
      "Sequential(\n",
      "  (0): WeightDropout(\n",
      "    (module): LSTM(1152, 400, batch_first=True)\n",
      "  )\n",
      "  (1): RNNDropout()\n",
      ")\n",
      "UN-FREEZING\n",
      "Sequential(\n",
      "  (0): Base01Module(\n",
      "    (layers): Sequential(\n",
      "      (0): BatchNorm1d(1200, eps=1e-05, momentum=0.1, affine=True, track_running_stats=True)\n",
      "      (1): Dropout(p=0.5, inplace=False)\n",
      "      (2): Linear(in_features=1200, out_features=50, bias=True)\n",
      "      (3): ReLU(inplace=True)\n",
      "      (4): BatchNorm1d(50, eps=1e-05, momentum=0.1, affine=True, track_running_stats=True)\n",
      "      (5): Dropout(p=0.1, inplace=False)\n",
      "      (6): Linear(in_features=50, out_features=25, bias=True)\n",
      "    )\n",
      "  )\n",
      ")\n"
     ]
    }
   ],
   "source": [
    "_=cls_learn.load_encoder('lm_enc_beer.1115')"
   ]
  },
  {
   "cell_type": "markdown",
   "metadata": {},
   "source": [
    "# Train log"
   ]
  },
  {
   "cell_type": "markdown",
   "metadata": {},
   "source": [
    "## BASE 01"
   ]
  },
  {
   "cell_type": "code",
   "execution_count": 21,
   "metadata": {
    "scrolled": true
   },
   "outputs": [
    {
     "data": {
      "text/html": [
       "\n",
       "    <div>\n",
       "        <style>\n",
       "            /* Turns off some styling */\n",
       "            progress {\n",
       "                /* gets rid of default border in Firefox and Opera. */\n",
       "                border: none;\n",
       "                /* Needs to be in here for Safari polyfill so background images work as expected. */\n",
       "                background-size: auto;\n",
       "            }\n",
       "            .progress-bar-interrupted, .progress-bar-interrupted::-webkit-progress-bar {\n",
       "                background: #F44336;\n",
       "            }\n",
       "        </style>\n",
       "      <progress value='6' class='' max='12', style='width:300px; height:20px; vertical-align: middle;'></progress>\n",
       "      50.00% [6/12 10:11<10:11]\n",
       "    </div>\n",
       "    \n",
       "<table border=\"1\" class=\"dataframe\">\n",
       "  <thead>\n",
       "    <tr style=\"text-align: left;\">\n",
       "      <th>epoch</th>\n",
       "      <th>train_loss</th>\n",
       "      <th>valid_loss</th>\n",
       "      <th>multi_acc</th>\n",
       "      <th>clas_acc_0</th>\n",
       "      <th>clas_acc_1</th>\n",
       "      <th>clas_acc_2</th>\n",
       "      <th>clas_acc_3</th>\n",
       "      <th>clas_acc_4</th>\n",
       "      <th>clas_mse_0</th>\n",
       "      <th>clas_mse_1</th>\n",
       "      <th>clas_mse_2</th>\n",
       "      <th>clas_mse_3</th>\n",
       "      <th>clas_mse_4</th>\n",
       "      <th>time</th>\n",
       "    </tr>\n",
       "  </thead>\n",
       "  <tbody>\n",
       "    <tr>\n",
       "      <td>0</td>\n",
       "      <td>4.965792</td>\n",
       "      <td>4.524176</td>\n",
       "      <td>0.585059</td>\n",
       "      <td>0.582828</td>\n",
       "      <td>0.555248</td>\n",
       "      <td>0.631382</td>\n",
       "      <td>0.579704</td>\n",
       "      <td>0.576134</td>\n",
       "      <td>0.547572</td>\n",
       "      <td>0.517583</td>\n",
       "      <td>0.467155</td>\n",
       "      <td>0.510264</td>\n",
       "      <td>0.533113</td>\n",
       "      <td>01:42</td>\n",
       "    </tr>\n",
       "    <tr>\n",
       "      <td>1</td>\n",
       "      <td>4.811499</td>\n",
       "      <td>4.475307</td>\n",
       "      <td>0.584863</td>\n",
       "      <td>0.583006</td>\n",
       "      <td>0.549000</td>\n",
       "      <td>0.629954</td>\n",
       "      <td>0.581310</td>\n",
       "      <td>0.581042</td>\n",
       "      <td>0.538736</td>\n",
       "      <td>0.512406</td>\n",
       "      <td>0.470100</td>\n",
       "      <td>0.503124</td>\n",
       "      <td>0.528829</td>\n",
       "      <td>01:41</td>\n",
       "    </tr>\n",
       "    <tr>\n",
       "      <td>2</td>\n",
       "      <td>4.866889</td>\n",
       "      <td>4.472421</td>\n",
       "      <td>0.585684</td>\n",
       "      <td>0.577829</td>\n",
       "      <td>0.552481</td>\n",
       "      <td>0.629240</td>\n",
       "      <td>0.580328</td>\n",
       "      <td>0.588540</td>\n",
       "      <td>0.554266</td>\n",
       "      <td>0.502231</td>\n",
       "      <td>0.476705</td>\n",
       "      <td>0.495359</td>\n",
       "      <td>0.517137</td>\n",
       "      <td>01:36</td>\n",
       "    </tr>\n",
       "    <tr>\n",
       "      <td>3</td>\n",
       "      <td>4.867322</td>\n",
       "      <td>4.457306</td>\n",
       "      <td>0.588343</td>\n",
       "      <td>0.588629</td>\n",
       "      <td>0.550161</td>\n",
       "      <td>0.636737</td>\n",
       "      <td>0.578186</td>\n",
       "      <td>0.588004</td>\n",
       "      <td>0.527758</td>\n",
       "      <td>0.505444</td>\n",
       "      <td>0.452606</td>\n",
       "      <td>0.483310</td>\n",
       "      <td>0.516066</td>\n",
       "      <td>01:44</td>\n",
       "    </tr>\n",
       "    <tr>\n",
       "      <td>4</td>\n",
       "      <td>4.824244</td>\n",
       "      <td>4.432539</td>\n",
       "      <td>0.592342</td>\n",
       "      <td>0.588629</td>\n",
       "      <td>0.558372</td>\n",
       "      <td>0.632899</td>\n",
       "      <td>0.589611</td>\n",
       "      <td>0.592199</td>\n",
       "      <td>0.523117</td>\n",
       "      <td>0.535791</td>\n",
       "      <td>0.447876</td>\n",
       "      <td>0.497144</td>\n",
       "      <td>0.509818</td>\n",
       "      <td>01:43</td>\n",
       "    </tr>\n",
       "    <tr>\n",
       "      <td>5</td>\n",
       "      <td>4.796693</td>\n",
       "      <td>4.438394</td>\n",
       "      <td>0.589486</td>\n",
       "      <td>0.588718</td>\n",
       "      <td>0.558015</td>\n",
       "      <td>0.631025</td>\n",
       "      <td>0.583899</td>\n",
       "      <td>0.585773</td>\n",
       "      <td>0.517047</td>\n",
       "      <td>0.500536</td>\n",
       "      <td>0.450286</td>\n",
       "      <td>0.487504</td>\n",
       "      <td>0.518654</td>\n",
       "      <td>01:43</td>\n",
       "    </tr>\n",
       "  </tbody>\n",
       "</table><p>\n",
       "\n",
       "    <div>\n",
       "        <style>\n",
       "            /* Turns off some styling */\n",
       "            progress {\n",
       "                /* gets rid of default border in Firefox and Opera. */\n",
       "                border: none;\n",
       "                /* Needs to be in here for Safari polyfill so background images work as expected. */\n",
       "                background-size: auto;\n",
       "            }\n",
       "            .progress-bar-interrupted, .progress-bar-interrupted::-webkit-progress-bar {\n",
       "                background: #F44336;\n",
       "            }\n",
       "        </style>\n",
       "      <progress value='0' class='progress-bar-interrupted' max='1997', style='width:300px; height:20px; vertical-align: middle;'></progress>\n",
       "      Interrupted\n",
       "    </div>\n",
       "    "
      ],
      "text/plain": [
       "<IPython.core.display.HTML object>"
      ]
     },
     "metadata": {},
     "output_type": "display_data"
    },
    {
     "ename": "KeyboardInterrupt",
     "evalue": "",
     "output_type": "error",
     "traceback": [
      "\u001b[0;31m---------------------------------------------------------------------------\u001b[0m",
      "\u001b[0;31mKeyboardInterrupt\u001b[0m                         Traceback (most recent call last)",
      "\u001b[0;32m<ipython-input-21-96b85dfb4bff>\u001b[0m in \u001b[0;36m<module>\u001b[0;34m\u001b[0m\n\u001b[1;32m      1\u001b[0m \u001b[0;32mwith\u001b[0m \u001b[0mexperiment\u001b[0m\u001b[0;34m.\u001b[0m\u001b[0mtrain\u001b[0m\u001b[0;34m(\u001b[0m\u001b[0;34m)\u001b[0m\u001b[0;34m:\u001b[0m\u001b[0;34m\u001b[0m\u001b[0;34m\u001b[0m\u001b[0m\n\u001b[0;32m----> 2\u001b[0;31m     \u001b[0mcls_learn\u001b[0m\u001b[0;34m.\u001b[0m\u001b[0mfit_one_cycle\u001b[0m\u001b[0;34m(\u001b[0m\u001b[0mhyper_params\u001b[0m\u001b[0;34m[\u001b[0m\u001b[0;34m\"num_epochs1\"\u001b[0m\u001b[0;34m]\u001b[0m\u001b[0;34m)\u001b[0m\u001b[0;34m\u001b[0m\u001b[0;34m\u001b[0m\u001b[0m\n\u001b[0m",
      "\u001b[0;32m~/Code/fastai/fastai/train.py\u001b[0m in \u001b[0;36mfit_one_cycle\u001b[0;34m(learn, cyc_len, max_lr, moms, div_factor, pct_start, final_div, wd, callbacks, tot_epochs, start_epoch)\u001b[0m\n\u001b[1;32m     21\u001b[0m     callbacks.append(OneCycleScheduler(learn, max_lr, moms=moms, div_factor=div_factor, pct_start=pct_start,\n\u001b[1;32m     22\u001b[0m                                        final_div=final_div, tot_epochs=tot_epochs, start_epoch=start_epoch))\n\u001b[0;32m---> 23\u001b[0;31m     \u001b[0mlearn\u001b[0m\u001b[0;34m.\u001b[0m\u001b[0mfit\u001b[0m\u001b[0;34m(\u001b[0m\u001b[0mcyc_len\u001b[0m\u001b[0;34m,\u001b[0m \u001b[0mmax_lr\u001b[0m\u001b[0;34m,\u001b[0m \u001b[0mwd\u001b[0m\u001b[0;34m=\u001b[0m\u001b[0mwd\u001b[0m\u001b[0;34m,\u001b[0m \u001b[0mcallbacks\u001b[0m\u001b[0;34m=\u001b[0m\u001b[0mcallbacks\u001b[0m\u001b[0;34m)\u001b[0m\u001b[0;34m\u001b[0m\u001b[0;34m\u001b[0m\u001b[0m\n\u001b[0m\u001b[1;32m     24\u001b[0m \u001b[0;34m\u001b[0m\u001b[0m\n\u001b[1;32m     25\u001b[0m def fit_fc(learn:Learner, tot_epochs:int=1, lr:float=defaults.lr,  moms:Tuple[float,float]=(0.95,0.85), start_pct:float=0.72,\n",
      "\u001b[0;32m~/Code/fastai/fastai/basic_train.py\u001b[0m in \u001b[0;36mfit\u001b[0;34m(self, epochs, lr, wd, callbacks)\u001b[0m\n\u001b[1;32m    200\u001b[0m         \u001b[0;32melse\u001b[0m\u001b[0;34m:\u001b[0m \u001b[0mself\u001b[0m\u001b[0;34m.\u001b[0m\u001b[0mopt\u001b[0m\u001b[0;34m.\u001b[0m\u001b[0mlr\u001b[0m\u001b[0;34m,\u001b[0m\u001b[0mself\u001b[0m\u001b[0;34m.\u001b[0m\u001b[0mopt\u001b[0m\u001b[0;34m.\u001b[0m\u001b[0mwd\u001b[0m \u001b[0;34m=\u001b[0m \u001b[0mlr\u001b[0m\u001b[0;34m,\u001b[0m\u001b[0mwd\u001b[0m\u001b[0;34m\u001b[0m\u001b[0;34m\u001b[0m\u001b[0m\n\u001b[1;32m    201\u001b[0m         \u001b[0mcallbacks\u001b[0m \u001b[0;34m=\u001b[0m \u001b[0;34m[\u001b[0m\u001b[0mcb\u001b[0m\u001b[0;34m(\u001b[0m\u001b[0mself\u001b[0m\u001b[0;34m)\u001b[0m \u001b[0;32mfor\u001b[0m \u001b[0mcb\u001b[0m \u001b[0;32min\u001b[0m \u001b[0mself\u001b[0m\u001b[0;34m.\u001b[0m\u001b[0mcallback_fns\u001b[0m \u001b[0;34m+\u001b[0m \u001b[0mlistify\u001b[0m\u001b[0;34m(\u001b[0m\u001b[0mdefaults\u001b[0m\u001b[0;34m.\u001b[0m\u001b[0mextra_callback_fns\u001b[0m\u001b[0;34m)\u001b[0m\u001b[0;34m]\u001b[0m \u001b[0;34m+\u001b[0m \u001b[0mlistify\u001b[0m\u001b[0;34m(\u001b[0m\u001b[0mcallbacks\u001b[0m\u001b[0;34m)\u001b[0m\u001b[0;34m\u001b[0m\u001b[0;34m\u001b[0m\u001b[0m\n\u001b[0;32m--> 202\u001b[0;31m         \u001b[0mfit\u001b[0m\u001b[0;34m(\u001b[0m\u001b[0mepochs\u001b[0m\u001b[0;34m,\u001b[0m \u001b[0mself\u001b[0m\u001b[0;34m,\u001b[0m \u001b[0mmetrics\u001b[0m\u001b[0;34m=\u001b[0m\u001b[0mself\u001b[0m\u001b[0;34m.\u001b[0m\u001b[0mmetrics\u001b[0m\u001b[0;34m,\u001b[0m \u001b[0mcallbacks\u001b[0m\u001b[0;34m=\u001b[0m\u001b[0mself\u001b[0m\u001b[0;34m.\u001b[0m\u001b[0mcallbacks\u001b[0m\u001b[0;34m+\u001b[0m\u001b[0mcallbacks\u001b[0m\u001b[0;34m)\u001b[0m\u001b[0;34m\u001b[0m\u001b[0;34m\u001b[0m\u001b[0m\n\u001b[0m\u001b[1;32m    203\u001b[0m \u001b[0;34m\u001b[0m\u001b[0m\n\u001b[1;32m    204\u001b[0m     \u001b[0;32mdef\u001b[0m \u001b[0mcreate_opt\u001b[0m\u001b[0;34m(\u001b[0m\u001b[0mself\u001b[0m\u001b[0;34m,\u001b[0m \u001b[0mlr\u001b[0m\u001b[0;34m:\u001b[0m\u001b[0mFloats\u001b[0m\u001b[0;34m,\u001b[0m \u001b[0mwd\u001b[0m\u001b[0;34m:\u001b[0m\u001b[0mFloats\u001b[0m\u001b[0;34m=\u001b[0m\u001b[0;36m0.\u001b[0m\u001b[0;34m)\u001b[0m\u001b[0;34m->\u001b[0m\u001b[0;32mNone\u001b[0m\u001b[0;34m:\u001b[0m\u001b[0;34m\u001b[0m\u001b[0;34m\u001b[0m\u001b[0m\n",
      "\u001b[0;32m~/Code/fastai/fastai/basic_train.py\u001b[0m in \u001b[0;36mfit\u001b[0;34m(epochs, learn, callbacks, metrics)\u001b[0m\n\u001b[1;32m    101\u001b[0m             \u001b[0;32mfor\u001b[0m \u001b[0mxb\u001b[0m\u001b[0;34m,\u001b[0m\u001b[0myb\u001b[0m \u001b[0;32min\u001b[0m \u001b[0mprogress_bar\u001b[0m\u001b[0;34m(\u001b[0m\u001b[0mlearn\u001b[0m\u001b[0;34m.\u001b[0m\u001b[0mdata\u001b[0m\u001b[0;34m.\u001b[0m\u001b[0mtrain_dl\u001b[0m\u001b[0;34m,\u001b[0m \u001b[0mparent\u001b[0m\u001b[0;34m=\u001b[0m\u001b[0mpbar\u001b[0m\u001b[0;34m)\u001b[0m\u001b[0;34m:\u001b[0m\u001b[0;34m\u001b[0m\u001b[0;34m\u001b[0m\u001b[0m\n\u001b[1;32m    102\u001b[0m                 \u001b[0mxb\u001b[0m\u001b[0;34m,\u001b[0m \u001b[0myb\u001b[0m \u001b[0;34m=\u001b[0m \u001b[0mcb_handler\u001b[0m\u001b[0;34m.\u001b[0m\u001b[0mon_batch_begin\u001b[0m\u001b[0;34m(\u001b[0m\u001b[0mxb\u001b[0m\u001b[0;34m,\u001b[0m \u001b[0myb\u001b[0m\u001b[0;34m)\u001b[0m\u001b[0;34m\u001b[0m\u001b[0;34m\u001b[0m\u001b[0m\n\u001b[0;32m--> 103\u001b[0;31m                 \u001b[0mloss\u001b[0m \u001b[0;34m=\u001b[0m \u001b[0mloss_batch\u001b[0m\u001b[0;34m(\u001b[0m\u001b[0mlearn\u001b[0m\u001b[0;34m.\u001b[0m\u001b[0mmodel\u001b[0m\u001b[0;34m,\u001b[0m \u001b[0mxb\u001b[0m\u001b[0;34m,\u001b[0m \u001b[0myb\u001b[0m\u001b[0;34m,\u001b[0m \u001b[0mlearn\u001b[0m\u001b[0;34m.\u001b[0m\u001b[0mloss_func\u001b[0m\u001b[0;34m,\u001b[0m \u001b[0mlearn\u001b[0m\u001b[0;34m.\u001b[0m\u001b[0mopt\u001b[0m\u001b[0;34m,\u001b[0m \u001b[0mcb_handler\u001b[0m\u001b[0;34m)\u001b[0m\u001b[0;34m\u001b[0m\u001b[0;34m\u001b[0m\u001b[0m\n\u001b[0m\u001b[1;32m    104\u001b[0m                 \u001b[0;32mif\u001b[0m \u001b[0mcb_handler\u001b[0m\u001b[0;34m.\u001b[0m\u001b[0mon_batch_end\u001b[0m\u001b[0;34m(\u001b[0m\u001b[0mloss\u001b[0m\u001b[0;34m)\u001b[0m\u001b[0;34m:\u001b[0m \u001b[0;32mbreak\u001b[0m\u001b[0;34m\u001b[0m\u001b[0;34m\u001b[0m\u001b[0m\n\u001b[1;32m    105\u001b[0m \u001b[0;34m\u001b[0m\u001b[0m\n",
      "\u001b[0;32m~/Code/fastai/fastai/basic_train.py\u001b[0m in \u001b[0;36mloss_batch\u001b[0;34m(model, xb, yb, loss_func, opt, cb_handler)\u001b[0m\n\u001b[1;32m     31\u001b[0m \u001b[0;34m\u001b[0m\u001b[0m\n\u001b[1;32m     32\u001b[0m     \u001b[0;32mif\u001b[0m \u001b[0mopt\u001b[0m \u001b[0;32mis\u001b[0m \u001b[0;32mnot\u001b[0m \u001b[0;32mNone\u001b[0m\u001b[0;34m:\u001b[0m\u001b[0;34m\u001b[0m\u001b[0;34m\u001b[0m\u001b[0m\n\u001b[0;32m---> 33\u001b[0;31m         \u001b[0mloss\u001b[0m\u001b[0;34m,\u001b[0m\u001b[0mskip_bwd\u001b[0m \u001b[0;34m=\u001b[0m \u001b[0mcb_handler\u001b[0m\u001b[0;34m.\u001b[0m\u001b[0mon_backward_begin\u001b[0m\u001b[0;34m(\u001b[0m\u001b[0mloss\u001b[0m\u001b[0;34m)\u001b[0m\u001b[0;34m\u001b[0m\u001b[0;34m\u001b[0m\u001b[0m\n\u001b[0m\u001b[1;32m     34\u001b[0m         \u001b[0;32mif\u001b[0m \u001b[0;32mnot\u001b[0m \u001b[0mskip_bwd\u001b[0m\u001b[0;34m:\u001b[0m                     \u001b[0mloss\u001b[0m\u001b[0;34m.\u001b[0m\u001b[0mbackward\u001b[0m\u001b[0;34m(\u001b[0m\u001b[0;34m)\u001b[0m\u001b[0;34m\u001b[0m\u001b[0;34m\u001b[0m\u001b[0m\n\u001b[1;32m     35\u001b[0m         \u001b[0;32mif\u001b[0m \u001b[0;32mnot\u001b[0m \u001b[0mcb_handler\u001b[0m\u001b[0;34m.\u001b[0m\u001b[0mon_backward_end\u001b[0m\u001b[0;34m(\u001b[0m\u001b[0;34m)\u001b[0m\u001b[0;34m:\u001b[0m \u001b[0mopt\u001b[0m\u001b[0;34m.\u001b[0m\u001b[0mstep\u001b[0m\u001b[0;34m(\u001b[0m\u001b[0;34m)\u001b[0m\u001b[0;34m\u001b[0m\u001b[0;34m\u001b[0m\u001b[0m\n",
      "\u001b[0;32m~/Code/fastai/fastai/callback.py\u001b[0m in \u001b[0;36mon_backward_begin\u001b[0;34m(self, loss)\u001b[0m\n\u001b[1;32m    288\u001b[0m     \u001b[0;32mdef\u001b[0m \u001b[0mon_backward_begin\u001b[0m\u001b[0;34m(\u001b[0m\u001b[0mself\u001b[0m\u001b[0;34m,\u001b[0m \u001b[0mloss\u001b[0m\u001b[0;34m:\u001b[0m\u001b[0mTensor\u001b[0m\u001b[0;34m)\u001b[0m\u001b[0;34m->\u001b[0m\u001b[0mTuple\u001b[0m\u001b[0;34m[\u001b[0m\u001b[0mAny\u001b[0m\u001b[0;34m,\u001b[0m\u001b[0mAny\u001b[0m\u001b[0;34m]\u001b[0m\u001b[0;34m:\u001b[0m\u001b[0;34m\u001b[0m\u001b[0;34m\u001b[0m\u001b[0m\n\u001b[1;32m    289\u001b[0m         \u001b[0;34m\"Handle gradient calculation on `loss`.\"\u001b[0m\u001b[0;34m\u001b[0m\u001b[0;34m\u001b[0m\u001b[0m\n\u001b[0;32m--> 290\u001b[0;31m         \u001b[0mself\u001b[0m\u001b[0;34m.\u001b[0m\u001b[0msmoothener\u001b[0m\u001b[0;34m.\u001b[0m\u001b[0madd_value\u001b[0m\u001b[0;34m(\u001b[0m\u001b[0mloss\u001b[0m\u001b[0;34m.\u001b[0m\u001b[0mfloat\u001b[0m\u001b[0;34m(\u001b[0m\u001b[0;34m)\u001b[0m\u001b[0;34m.\u001b[0m\u001b[0mdetach\u001b[0m\u001b[0;34m(\u001b[0m\u001b[0;34m)\u001b[0m\u001b[0;34m.\u001b[0m\u001b[0mcpu\u001b[0m\u001b[0;34m(\u001b[0m\u001b[0;34m)\u001b[0m\u001b[0;34m)\u001b[0m\u001b[0;34m\u001b[0m\u001b[0;34m\u001b[0m\u001b[0m\n\u001b[0m\u001b[1;32m    291\u001b[0m         \u001b[0mself\u001b[0m\u001b[0;34m.\u001b[0m\u001b[0mstate_dict\u001b[0m\u001b[0;34m[\u001b[0m\u001b[0;34m'last_loss'\u001b[0m\u001b[0;34m]\u001b[0m\u001b[0;34m,\u001b[0m \u001b[0mself\u001b[0m\u001b[0;34m.\u001b[0m\u001b[0mstate_dict\u001b[0m\u001b[0;34m[\u001b[0m\u001b[0;34m'smooth_loss'\u001b[0m\u001b[0;34m]\u001b[0m \u001b[0;34m=\u001b[0m \u001b[0mloss\u001b[0m\u001b[0;34m,\u001b[0m \u001b[0mself\u001b[0m\u001b[0;34m.\u001b[0m\u001b[0msmoothener\u001b[0m\u001b[0;34m.\u001b[0m\u001b[0msmooth\u001b[0m\u001b[0;34m\u001b[0m\u001b[0;34m\u001b[0m\u001b[0m\n\u001b[1;32m    292\u001b[0m         \u001b[0mself\u001b[0m\u001b[0;34m(\u001b[0m\u001b[0;34m'backward_begin'\u001b[0m\u001b[0;34m,\u001b[0m \u001b[0mcall_mets\u001b[0m\u001b[0;34m=\u001b[0m\u001b[0;32mFalse\u001b[0m\u001b[0;34m)\u001b[0m\u001b[0;34m\u001b[0m\u001b[0;34m\u001b[0m\u001b[0m\n",
      "\u001b[0;31mKeyboardInterrupt\u001b[0m: "
     ]
    }
   ],
   "source": [
    "with experiment.train():\n",
    "    cls_learn.fit_one_cycle(5)"
   ]
  },
  {
   "cell_type": "code",
   "execution_count": 22,
   "metadata": {
    "scrolled": true
   },
   "outputs": [
    {
     "data": {
      "text/plain": [
       "{'web': 'https://www.comet.ml/api/image/download?imageId=f424c26ee10d450eb3d0963a0c3caef0&experimentKey=0c03f5d8f60d414c98978d8288ad9e80',\n",
       " 'api': 'https://www.comet.ml/api/rest/v1/image/get-image?imageId=f424c26ee10d450eb3d0963a0c3caef0&experimentKey=0c03f5d8f60d414c98978d8288ad9e80',\n",
       " 'imageId': 'f424c26ee10d450eb3d0963a0c3caef0'}"
      ]
     },
     "execution_count": 22,
     "metadata": {},
     "output_type": "execute_result"
    },
    {
     "data": {
      "image/png": "[encoded data removed]",
      "text/plain": [
       "<Figure size 432x288 with 1 Axes>"
      ]
     },
     "metadata": {
      "needs_background": "light"
     },
     "output_type": "display_data"
    }
   ],
   "source": [
    "fig = cls_learn.recorder.plot_losses()\n",
    "experiment.log_figure(figure_name=\"train loss 01\", figure=fig)"
   ]
  },
  {
   "cell_type": "code",
   "execution_count": 23,
   "metadata": {},
   "outputs": [],
   "source": [
    "cls_learn.save('beer.clas.base01.1.learner')"
   ]
  },
  {
   "cell_type": "code",
   "execution_count": 20,
   "metadata": {
    "collapsed": true,
    "jupyter": {
     "outputs_hidden": true
    }
   },
   "outputs": [
    {
     "data": {
      "text/plain": [
       "RNNLearner(data=TextClasDataBunch;\n",
       "\n",
       "Train: LabelList (8969 items)\n",
       "x: TextList\n",
       "xxbos we had the most wonderful time at the excellence xxperiod we opted for the excellence club and it was well worht it for the perks xxperiod roberto puello who was the club manager did an extra special job of making us feel welcomed xxperiod we took some great pictures that looked like postcards xxperiod the food was excellent the pizza was close to being our favorite xxperiod the shows were great especially the michael jackson and the 70 's 80 's night xxperiod the french resturant was probably our favorite xxperiod we will definately be back for an anniversary trip xxperiod we made some friends but had plenty of xxunk as well xxperiod the rooms were great and everytime we left and came back it was cleaned , towels restocked and the bar was as well xxperiod,xxbos too sick to enjoy the ride to and form the airport is not good xxperiod very bumpy road and you can really see the poor living conditions xxperiod when you get to the resort it is like another world xxperiod we were told not to drink the tap or shower water - keep your mouth shut in the shower etc xxperiod but we have since heard that not all properties in punta cana have a water problem xxperiod in some resorts they have a huge purification system and the tap water is safe xxperiod both my husband and i were sick with diarrhea while we were there and put it down to the unclean water used to prepare food xxperiod we will not go on any more holidays where we have to worry about our health xxperiod each night at about 10 pm when we were settling down to sleep the music started up and we like fresh air but we had to close our patio doors to mute the sound xxperiod we really wanted a quieter resort xxperiod it was disappointing xxperiod it was partially our fault for not doing our research properly xxperiod some people did not hear the bands play at night but we could nt change our swim up room for a quieter one xxperiod we will not be returning to dominican republic xxperiod,xxbos relaxing and fun , but xxperiod i rang in the new year at excellence punta cana xxperiod since new york was freezing at the time , i was just happy to be in the sun xxperiod my husband and i had a great time overall xxperiod however , i was a little surprised to see this hotel rating itself as a 5- star facility ( more like a 4 ) xxperiod all of the basics were covered , but some of the details that i would expect from a 5- star place were missing xxperiod the bed , although comfortable creaked loudly and i couldn ? ? tell whether or not the headboard was attached properly xxperiod the staff were friendly and helpful overall , but in keeping up with the island mentality , their sense of urgency was lacking ( we had to ask two different people for hand towels and our one small room service order took close to an hour to arrive ) xxperiod actually , as mentioned by another reviewer , the food was the worst part xxperiod the presentation was excellent ( clean buffet areas , nicely decorated theme restaurants ) , but the dinner food quality wasn ? ? the best xxperiod one night i didn ? ? even finish my meal ( at the ? ? xxunk ? xxperiod on - site ) xxperiod lunch ( indoor buffet or beach bbq ) was usually the best bet xxperiod actually , everything on the beach ? ? xxunk the wait xxunk great xxperiod considering all of this , the excellence was a great setting for relaxation xxperiod the grounds were beautiful , the weather was pleasant and there were many options for activities ( and spa treatments ) if you wanted them xxperiod i would definitely go back xxperiod one note - coordinate travel to and from the hotel beforehand if you can xxperiod the hotel is over an hour away from the airport , so you 'll want to skip the can i help you , sir xxperiod bidding wars between different transportation companies xxperiod one more note - the resort is on the atlantic side of the ocean xxperiod that means rough seas and cold ( er ) water xxperiod if you intend to spend your entire vacation in the ocean , you may want to skip this place xxperiod i went in a few times , but i quickly became content just relaxing by the water when i couldn ? ? go in it xxperiod,xxbos somewhat excellence we just returned from a one week stay at excellence punta cana from xxunk to xxunk xxperiod we are seasoned travelers and have stayed at a dozen all inclusives xxperiod we stayed at excellence punta cana in 2007 for two weeks , then excellence mayan riviera and then playa mujeres and now just returned from our second time to punta cana xxperiod we love excellence xxperiod so here goes the staff at excellence i rate 5 star all the way they are an amazing group of people friendly hard working and makes your stay wonderful xxperiod pool beach and grounds a solid five star ca not say more then wow xxperiod now for the rooms we traveled as three couples all oceanview excellence club seen all three rooms and they are all in need of work the rooms are showing there age all over the place a 4 rating is generous xxperiod food a 3 rating very incosistent cold most of the time under cooked over cooked , the new ala carte menus has less selection and was not impressed at all xxperiod deffinately a great decline since our last trip two years ago xxperiod excellence club we did it in 2007 and that is why we all choose to do it again i rate it a three the only thing good was the view and the ability for late check out as we had a late flight home xxperiod but for its service i rate it a 3 xxperiod excellence club was closed upon our late arrival so they gave us our keys and sent us on our way in pitch darkness we knew where we where going so we led the other two couples we traveled with too their rooms xxperiod their service was very inconsistent beach towels in all of our three club rooms only once xxperiod went to excellence club three times for a channel changer in the end tipped staff and they got one from an unoccupied room xxperiod turn down hit and miss had to ask for bathroom amenities , would not exchange any liquor bottles in room which they did the first time we where there xxperiod the club lounge it self which used to have plenty of food to choose from literally had nothing during the day and evening cheese some fruit and bread not at all like it was excellence club has xxunk there service big time xxperiod the staff tended better to you then excellence club staff xxperiod we requested top floor for all three rooms and after all our returns we thought that was not an unreasonable request and we did not get one top floor room xxperiod save your money and shame on you excellence club for your lack of service xxperiod all three rooms had very xxunk fridge stalking and was only resolved with a tip and even then once when givin a tip was not done xxperiod i will not be returning to excellence punta cana and it is sliding down the charts for a reason xxperiod in saying all this we traveled with two other couples and we all had a fabulous time we just feel we did not get what we xxunk for xxperiod anyone with questions please do not hesitate to contact me xxperiod,xxbos beautiful resort but be careful of a few things xxperiod my husband and i just got back from a one - week trip to this resort xxperiod our vacation did not start well xxperiod this hotel overbooks the nicest rooms xxperiod when we arrived they immediately downgraded us b / c they did not have the room we booked available xxperiod there was also an issue of miscommunication b / w our travel agent and the hotel and the hotel staff was totally unhelpful in resolving the issue xxperiod we had to do all of the xxunk ourselves xxperiod at one point the concierge told us they could not phone our travel agency b / c that phone call would cost $ xxperiod that 's customer service xxperiod once all was resolved and we were in our proper room , the trip was wonderful xxperiod the property is gorgeous and well maintained xxperiod there are lots of restaurants to choose from and the food was as good or better than anything we ' ve had in the carribean xxperiod apart from the front desk staff , all of the other employees are very friendly and helpful xxperiod booking the excellence club is worth it - just make sure the documents you get back from your travel agency clearly state that your booking includes the club xxperiod\n",
       "y: MultiCategoryList\n",
       ",0;2;3;5,,2,\n",
       "Path: data;\n",
       "\n",
       "Valid: LabelList (2204 items)\n",
       "x: TextList\n",
       "xxbos a truly fantastic place xmas we have just returned from a 2 week xmas new year break at the excellence punta cana xxperiod the hotel is magnificent and we have never experienced such incredible service before xxperiod the restaurants are great , with plenty of choice xxperiod the whole complex is so good that we only did one trip and that was for my wife to swim with the dolphins xxperiod great beaches and pools xxperiod the staff fall over each other to look after you xxperiod we stayed in a junior suite on ground level and it was spotlessly clean , great maid service and room service on tap 24 / 7 xxperiod overall i would say this is probably the best hotel we have ever stayed in on xxunk i am extremely fussy xxperiod the journey to the resort is a little uncomfortable , with the roads in a bad state xxperiod but once you are checked in the pace of life xxunk down and you forget about the outside world xxperiod worthy of special mention and our sincere thanks are : pedro from the cielo bar / pool an absolute gentleman xxperiod miguel the bell boy and also carlos from the xxunk bar xxperiod we will definately be booking again , probably for next christmas xxperiod jim eileen ( xxunk uk ) xxperiod,xxbos my husband and i stayed here for six days on our honeymoon xxperiod it was the most incredible resort xxperiod the rooms were comfortable and lovely , and the service was impeccable xxperiod we were so impressed we are looking into the other excellence resorts for our next vacation xxperiod we loved that it was all - inclusive xxperiod get hungry at 3 am xxperiod no problem , just call room service xxperiod the restaurants were impressive , and the bars were really nice xxperiod everything about the resort was visually appealing , clean , and luxurious xxperiod there were all sorts of things to do , also xxperiod we went horseback riding , spent a day in the spa ( amazing xxperiod ) , saw a circus and a magic show , and walked through the botanical garden , all within the resort xxperiod most other places ( marinarium , bavaro tours ) will pick you up right in front of the lobby if you want to do activities outside the resort xxperiod i definitely would not rent a car , though , unless you are comfortable driving amongst maniacs xxperiod seriously , though , if you are looking for a place to get away from everything , excellence at punta cana is the perfect choice xxperiod our honeymoon could not have been better xxperiod,xxbos best hotel in the dominican it was our 4th time to the domincan , this hotel was by far a superior class xxperiod resort : a very private resort where noise is kept to a minimum as it is chidren free and geared towards adults xxperiod plently of places to relax so it is not over - crowded xxperiod there were lots of different seating ranging from loungers to four poster beds both on the beach and around the pool , with plently of towels xxperiod the reception is large and spacious and very comfortable xxperiod the reception staff are very helpful , especially charismatic edwin xxperiod the unique design of the resort means that you do not get wet walking from the rooms to the restaurants during the tropical showers xxperiod rooms : there was a 4 poster bed , luxury furnishings and it was very comfortable xxperiod well maintained and clean xxperiod it was a spacious room with good seperate shower xxperiod dvd players in the room xxperiod the tv channels are limited and very geared towards the us market , no english footie or news xxperiod facilities : there is waiter service wherever you lay your hat xxperiod they will take drinks orders as well as deliver pizza on the beach xxperiod there are 8 restaurants for the evening dinners to satisfy most taste buds xxperiod if you have any special food requirements e xxperiod vegetarian , see ramon , manager of barcelona restaurant , he will make anything for you xxperiod ( thank you ramon , you made our holiday ) xxperiod the head chef , mr dettweitler is world xxunk and ensures that all of the food is of the highest quality , they are very lucky to have him there xxperiod the breakfast and lunch buffets are fantastic offering a large choice of food xxperiod felix the manager of the toscana is very polite and helpful xxperiod the gym is the most modern we have ever seen in a hotel with state of the art equipment and it is well maintained xxperiod general : they create a very comfortable atmosphere and nobody violates your space in any way , but they are always there if you need them xxperiod it is a very easy place to settle in to xxperiod go for it , you will not be disappointed xxperiod mr and mrs xxunk xxperiod,xxbos our trip our trip to the dominican republic was okay xxperiod we stayed at the excellence resort xxperiod it would have been excellent if we did not have so many problems getting the service that we paid for xxperiod when we called to get something fixed like the leaking ceiling or the toliet that stopped working , it took forever xxperiod numerous times there was not any towels for the next day or the mini bar was not restocked with the things that we liked xxperiod the thing that saved the trip was the entertainment staff xxperiod they were always smiling and asking if you were having a good time xxperiod they got you involved in the activities that were going on like dancing and spanish lessons xxperiod also , they had really good shows that were funny and entertaining xxperiod juan carlos , cesar and all the girls there were excellent xxperiod i think that it is very beautiful and relaxing there but i would definately let my friends know about the advantages and disadvantages of my trip and let them decide of they would want to go xxperiod,xxbos not the same the second time my wife and i just returned from excellence where we stayed from 11 / 21 - 11 / 26 xxperiod this was our second time staying at excellence and was far less enjoyable than our first visit in july 2007 xxperiod here are some of the issues we noticed this time : * the pool chair / towel insanity xxperiod as previous reviewers have mentioned , most pool chairs are reserved with towels and personal belongings by 9:00 am and all towels are gone from the towel shelves by this time as well xxperiod so if you have a massage in the morning or go horse back riding at 10 am or simply want to sleep in you literally will have no place to sit at the pool and no way to get a pool towel xxperiod there seems to be no recognition from the staff that this is a problem xxperiod * the food xxperiod while i appreciate the resort 's variety of food options , including asian , french , mexican , pizza , hamburgers / sandwiches , and italian , the result is that none of the food is particularly good xxperiod the best food is the simplest , like breakfast buffet items and food from the grill like hamburgers xxperiod asking chefs in a tropical resort to be experts in japanese or french food is going to lead to disappointment for most people xxperiod some of the food was okay , but we left dinner most night unsatisfied and sometimes still hungry xxperiod xxunk the problem is that the menus are written by workers with a limited command of english , describing food that they probably do not have a good idea about xxperiod as a result you sometimes literally have no idea what you are ordering xxperiod like others have mentioned , both my wife and i got sick during our time at excellence xxperiod since we never left the resort , we can only assume that some food or drink at the resort was the problem xxperiod we have traveled to various places in the caribbean and to xxunk in africa and have never gotten sick like we did at excellence xxperiod while we enjoyed aspects of our trip , we were disappointed that we would have to deal with these issues at a 5 star resort xxperiod\n",
       "y: MultiCategoryList\n",
       ",,,1;2;4;5,0;1\n",
       "Path: data;\n",
       "\n",
       "Test: LabelList (3739 items)\n",
       "x: TextList\n",
       "xxbos definitely not a 5 star resort i ' m dumbfounded that this hotel gets good reviews and is so highly rated xxperiod it 's decidedly a 3 star property , not 5 stars as indicated xxperiod the rooms are very dated and run down , old crappy beds and pillows , an old tv and overall poorly maintained xxperiod the whole property is pretty run down and old - looking xxperiod the food is subpar , not one meal i had would be called great xxperiod the service is uneven and the staff is poorly trained and uninformed xxperiod many do not comprehend english xxperiod the beach is great , it 's the only redeeming factor xxperiod however the resort is a 1- hour taxi trip from the airport xxperiod,xxbos facilities need work xxperiod we visited excellence for 5 nights in december xxperiod our first room , # xxunk , had a safe that did not work and so - so air conditioning xxperiod when we went to the front desk to complain , we were told to go to the room and someone would be there within 15 minutes xxperiod 45 minutes later , the safe guy showed up , but nobody for the a / c xxperiod the safe guy could not fix it xxperiod when he left , the electricity went out xxperiod it went out a second time before we finally went to the front desk to change rooms xxperiod we had dinner that night in the lobster house xxperiod do not waste your time on this one xxperiod the lobster tails had about 2 bites of food included xxperiod while we were in there , the electricity went out again xxperiod room xxunk served us pretty well , until night # 3 when my partner got up to go to the bathroom and stepped into an inch of water xxperiod a hose had broken on the back of the toilet and flooded our room xxperiod it would ' ve been ok , but when we went to the front desk we were told that we needed to wait until noon to see if perhaps they could move us to another room xxperiod the front desk clerks were not xxunk to just move us xxperiod my partner was infuriated that they wanted us to wait 4 hours for a new room xxperiod finally , matias at the front desk finally arranged to have us moved to another upgraded room - xxunk xxperiod we walked in and saw the leak coming from the ceiling and nearly flipped xxperiod we finally got into # xxunk , which was a gorgeous suite with a beautiful view xxperiod on the positive side , the food at the other restaurants was very good xxperiod i particularly liked the french restaurant , while my partner liked the asian restaurant xxperiod the breakfast buffet was like nothing i 'd ever seen before - lots of choices xxperiod the ocean was way too rough to enjoy , particularly if you 're not a strong swimmer xxperiod much of the beach was black flagged the entire time we were there , so if you 're a big ocean fan , i do not recommend this resort xxperiod my favorite part , by far , though , were the beds next to the pools and ocean xxperiod they were amazing xxperiod i guess you could particularly say so since the beds in the rooms were hard as rocks xxperiod all in all , a good trip - highly recommend the zip line tour xxperiod it was worth every penny xxperiod,xxbos excellence was exactly that xxperiod my family and i stayed at the excellence punta cana from december 22 to december 29 of this year xxperiod it was an amazing time had by all that attended xxperiod we arrived at the resort around 4 am because of a delay at the airport in vancouver , but even at 4 am , the service of the bellhops and the front desk was up to par xxperiod our bags were unloaded and immediately tagged and set to one side of the lobby while we were handed cold scented towels to cool off with xxperiod check in was fairly expedient and we were in our rooms within twenty minutes xxperiod i had never been to an all inclusive resort before , and wasted no time enjoying the pleasures of the mini bar in the room , as well as the ample storage space for our things xxperiod room service even at 4 am was great , the girl on the phone said it would be about 40 minutes for the food , which seemed a little long , but i think they only say that to cover there butts , because it took about 25 minutes at most xxperiod the activities during the day were well thought out , though , there was some delays and cancellations due to weather conditions ( beach volleyball cancelled to due strong winds xxperiod the entertainment staff was amazing and extremely friendly , a special thanks to all my friends , ines ( my fiance , ) altagracia ( who lovingly xxunk to me as xxunk loco , which translates into crazy skinny guy , ) xxunk and johanna ( my disco dance partners , ) sexy cesar ( who taught me all the sexy dance moves i xxperiod now know , ) julio cesar ( the mc for the games and parties xxperiod the restaurants i ca not offer too much help with , i did not eat at all of them , but of the few i did eat at , i recommend toscana for the huge buffet everyday , breakfast here is well prepared and quite delicious ( although i do not recommend the scrambled eggs xxperiod the omlettes are delicious and you have to try one xxperiod for lunch , you have to check out the grill on the beach , different food everyday , always good , and makes the beach smell amazing xxperiod for dinner , i liked spice ( asian cuisine , ) agave ( mexican , but do not eat the xxunk from here , very rubbery , ) the pizza that is delivered to the pool and the beach is awesome , make sure you try that xxperiod the bars were awesome , you get accustomed to speaking the language when ordering drinks , instead of drinking your usual bacardi and coke , try the brugal extra anejo , they call it the dominican xxunk , and it 's obvious why once you try it xxperiod the stuff tastes amazing and it does magic for someone trying to loosen up on the dance floor xxperiod the disco is great too , although sometimes a little empty , but still worth checking out xxperiod the worst part of my trip was the vendors , they do not let up , and i am a very well mannered person , which makes it hard to shut them down over and over again , make sure you do not tell them you like anything until you know you 're going to buy it , otherwise you 'll have to beat xxperiod them off with a stick to get away xxperiod try to make it to the theatre for the shows at 10 pm every night , they are worth it xxperiod the ice breaker shows are fun too , it gets people into the swing of things xxperiod all in all , i would highly recommend this resort for anyone going on a honeymoon or a romantic time with the better half , there is not a very big single crowd , so parents beware taking your single sons and daughters to this resort if they 're looking to party with other singles xxperiod hope this helps you xxperiod adios amigos and xxunk xxperiod,xxbos great service , nice hotel , mediocre food xxperiod my husband and i stayed at excellence for five nights mid - november xxperiod we booked our trip at the very last minute so we were not able to do a ton of research on the dominican but the hotel receives high ratings xxunk the web xxperiod after the one hour ride from the airport we arrived at the hotel and were greeted by everyone we met xxperiod i have to say that the staff at the hotel were very nice and made every effort to learn our names and greet us by name each time they saw us xxperiod we opted to upgrade to the excellence club and we are still trying to decide if we think it was worth it or not xxperiod as part of the excellence club , you are ushered to the club 's private lobby for check - in but , really , it almost just creates an xxunk step in the check - in process and adds another person or two you feel like you should tip xxperiod the biggest benefits of the excellence club for us were the unlimited internet access , beach towels in the room ( they were hard to get otherwise ) , and the beach bag in our room xxperiod we did eat breakfast each morning in the excellence club which was nice because it was a small buffet and you did not have to deal with a crowd xxperiod the hotel itself was clean , the staff was very friendly , and nothing ever felt crowded xxperiod however , the food was not great xxperiod it was not bad - but it was not great xxperiod i ' m not a big eater but i was prepared to indulge on my vacation and there just was not anything i was crazy about xxperiod the presentation of the food was nice but it was just bland xxperiod i think that is the best way to describe it xxperiod the pizzas that were delivered to the pool area were good but it was unpredictable because you never knew when they would arrive xxperiod we went on two excursions - swimming with the sting - rays / sharks and the zip - line tour xxperiod we loved the zip - line excursion xxperiod the staff was great and our bus driver and tour guide were great xxperiod it was interesting to visit the sting - rays and swim with the sharks but the reef where we snorkeled was disappointing xxperiod the fish were very small and there was not much to see xxperiod the electricity went out in our room a handful of times , especially when i used the hairdryer xxperiod also , our ac was terrible xxperiod they tried to repair it but it just never got cool xxperiod our room was big , though , and clean xxperiod we always got housekeeping service twice a day and they refilled our mini - bar daily xxperiod in many of the reviews , people said they got sick xxperiod our representative at the hotel ( through aaa ) warned us that many people think they get sick from the water or the food but they do not realize that having too many drinks with coconut in them will also do it xxperiod coconut is a natural laxative so you need to limit your consumption xxperiod i would still pack the immodium just to be sure xxperiod i could not decide if i wanted to give this hotel a 3 / 5 or a 4 / 5 but i decided to go up because of the friendly staff and the cleanliness of our room xxperiod i do not think i would go back because of the food but we had a nice time while we were there xxperiod we met a lot of great people at the swim up bar xxperiod,xxbos very relaxing experience just returned from my 40th birthday romantic getaway with my husband xxperiod this was our first time in the dominican republic , and we have literally been to every single island in the caribbean xxperiod so i can assure you that my review will be short , sweet , and comprehensive xxperiod in general , we liked the dr , and the excellence was very nice xxperiod the top reasons why we liked excellence were : 1 ) no kids ( ie xxperiod , if i want to get away from my own kids , i definitely do not want to vacation with other peoples ' kids ) xxperiod it was so quiet xxperiod 2 ) the staff and the people in the dr in general xxperiod so genuinely friendly , helpful , and wonderful xxperiod believe me , this is not true in most other areas of the caribbean xxperiod the all - inclusive feature xxperiod loved being served , served , served xxperiod i wanted to sit on my [ - - ] all day and just be a xxunk pig xxperiod and this is the perfect place to do it xxperiod 4 ) the best selection of beach and pool lounge chairs , beds , and hammocks i ' ve ever seen xxperiod there were palapas everywhere , so there was no shortage of shade xxperiod there were so many beds , you did not have to worry about not getting one xxperiod i 'd never had the chance to sleep on a beach bed , because usually hotels have only a few , so you end up looking xxunk at the lucky few who get them xxperiod ok , so here 's what i did not love about excellence :1 ) beach is not swimmable xxperiod way too rough most of the time xxperiod for this reason alone , i 'd not return here xxperiod i ' m a beach fan , and love to swim in the warm caribbean sea xxperiod i ' m no food snob , but some of the food was downright bad xxperiod and you end up eating in the same spot for breakfast and lunch xxperiod even though they have like 7 restaurants - the majority of them are only open for dinner xxperiod we only stayed 4 nights , and we were definitely getting very tired of the breakfast / lunch selection by the 3rd day xxperiod overall , if you just want to relax by the pool and you do not care about not going in the beach , this is a very beautiful resort xxperiod the staff is wonderful xxperiod if you are looking for a place to party and be loud and crazy , this is not your place xxperiod\n",
       "y: EmptyLabelList\n",
       ",,,,\n",
       "Path: data, model=SequentialRNN(\n",
       "  (0): SentenceEncoder(\n",
       "    (module): AWD_LSTM(\n",
       "      (encoder): Embedding(23008, 400, padding_idx=1)\n",
       "      (encoder_dp): EmbeddingDropout(\n",
       "        (emb): Embedding(23008, 400, padding_idx=1)\n",
       "      )\n",
       "      (rnns): ModuleList(\n",
       "        (0): WeightDropout(\n",
       "          (module): LSTM(400, 1152, batch_first=True)\n",
       "        )\n",
       "        (1): WeightDropout(\n",
       "          (module): LSTM(1152, 1152, batch_first=True)\n",
       "        )\n",
       "        (2): WeightDropout(\n",
       "          (module): LSTM(1152, 400, batch_first=True)\n",
       "        )\n",
       "      )\n",
       "      (input_dp): RNNDropout()\n",
       "      (hidden_dps): ModuleList(\n",
       "        (0): RNNDropout()\n",
       "        (1): RNNDropout()\n",
       "        (2): RNNDropout()\n",
       "      )\n",
       "    )\n",
       "  )\n",
       "  (1): Base01Module(\n",
       "    (layers): Sequential(\n",
       "      (0): BatchNorm1d(1200, eps=1e-05, momentum=0.1, affine=True, track_running_stats=True)\n",
       "      (1): Dropout(p=0.5, inplace=False)\n",
       "      (2): Linear(in_features=1200, out_features=50, bias=True)\n",
       "      (3): ReLU(inplace=True)\n",
       "      (4): BatchNorm1d(50, eps=1e-05, momentum=0.1, affine=True, track_running_stats=True)\n",
       "      (5): Dropout(p=0.1, inplace=False)\n",
       "      (6): Linear(in_features=50, out_features=30, bias=True)\n",
       "    )\n",
       "  )\n",
       "), opt_func=functools.partial(<class 'torch.optim.adam.Adam'>, betas=(0.9, 0.99)), loss_func=MultiLabelCEL(), metrics=[<function multi_acc at 0x7fcfd552f170>, <function acc_0 at 0x7fd04af72320>, <function acc_1 at 0x7fcfd552f4d0>, <function acc_2 at 0x7fcfd552f5f0>, <function acc_3 at 0x7fcfd552f710>, <function acc_4 at 0x7fcfd552f830>, <function acc_5 at 0x7fcfd552f950>, <function clas_mse0 at 0x7fcfd552f050>, <function clas_mse1 at 0x7fcfd552f9e0>, <function clas_mse2 at 0x7fcfd552fc20>, <function clas_mse3 at 0x7fcfd552fd40>, <function clas_mse4 at 0x7fcfd552fe60>, <function clas_mse5 at 0x7fcfd552ff80>], true_wd=True, bn_wd=True, wd=0.01, train_bn=True, path=PosixPath('data'), model_dir='models', callback_fns=[functools.partial(<class 'fastai.basic_train.Recorder'>, add_time=True, silent=False)], callbacks=[RNNTrainer\n",
       "learn: ...\n",
       "alpha: 2.0\n",
       "beta: 1.0], layer_groups=[Sequential(\n",
       "  (0): Embedding(23008, 400, padding_idx=1)\n",
       "  (1): EmbeddingDropout(\n",
       "    (emb): Embedding(23008, 400, padding_idx=1)\n",
       "  )\n",
       "), Sequential(\n",
       "  (0): WeightDropout(\n",
       "    (module): LSTM(400, 1152, batch_first=True)\n",
       "  )\n",
       "  (1): RNNDropout()\n",
       "), Sequential(\n",
       "  (0): WeightDropout(\n",
       "    (module): LSTM(1152, 1152, batch_first=True)\n",
       "  )\n",
       "  (1): RNNDropout()\n",
       "), Sequential(\n",
       "  (0): WeightDropout(\n",
       "    (module): LSTM(1152, 400, batch_first=True)\n",
       "  )\n",
       "  (1): RNNDropout()\n",
       "), Sequential(\n",
       "  (0): Base01Module(\n",
       "    (layers): Sequential(\n",
       "      (0): BatchNorm1d(1200, eps=1e-05, momentum=0.1, affine=True, track_running_stats=True)\n",
       "      (1): Dropout(p=0.5, inplace=False)\n",
       "      (2): Linear(in_features=1200, out_features=50, bias=True)\n",
       "      (3): ReLU(inplace=True)\n",
       "      (4): BatchNorm1d(50, eps=1e-05, momentum=0.1, affine=True, track_running_stats=True)\n",
       "      (5): Dropout(p=0.1, inplace=False)\n",
       "      (6): Linear(in_features=50, out_features=30, bias=True)\n",
       "    )\n",
       "  )\n",
       ")], add_time=True, silent=False)"
      ]
     },
     "execution_count": 20,
     "metadata": {},
     "output_type": "execute_result"
    }
   ],
   "source": [
    "cls_learn.load('beer.clas.base01.1.learner')"
   ]
  },
  {
   "cell_type": "code",
   "execution_count": 24,
   "metadata": {
    "scrolled": true
   },
   "outputs": [
    {
     "name": "stdout",
     "output_type": "stream",
     "text": [
      "UN-FREEZING\n",
      "Sequential(\n",
      "  (0): Embedding(31600, 400, padding_idx=1)\n",
      "  (1): EmbeddingDropout(\n",
      "    (emb): Embedding(31600, 400, padding_idx=1)\n",
      "  )\n",
      ")\n",
      "UN-FREEZING\n",
      "Sequential(\n",
      "  (0): WeightDropout(\n",
      "    (module): LSTM(400, 1152, batch_first=True)\n",
      "  )\n",
      "  (1): RNNDropout()\n",
      ")\n",
      "UN-FREEZING\n",
      "Sequential(\n",
      "  (0): WeightDropout(\n",
      "    (module): LSTM(1152, 1152, batch_first=True)\n",
      "  )\n",
      "  (1): RNNDropout()\n",
      ")\n",
      "UN-FREEZING\n",
      "Sequential(\n",
      "  (0): WeightDropout(\n",
      "    (module): LSTM(1152, 400, batch_first=True)\n",
      "  )\n",
      "  (1): RNNDropout()\n",
      ")\n",
      "UN-FREEZING\n",
      "Sequential(\n",
      "  (0): Base01Module(\n",
      "    (layers): Sequential(\n",
      "      (0): BatchNorm1d(1200, eps=1e-05, momentum=0.1, affine=True, track_running_stats=True)\n",
      "      (1): Dropout(p=0.5, inplace=False)\n",
      "      (2): Linear(in_features=1200, out_features=50, bias=True)\n",
      "      (3): ReLU(inplace=True)\n",
      "      (4): BatchNorm1d(50, eps=1e-05, momentum=0.1, affine=True, track_running_stats=True)\n",
      "      (5): Dropout(p=0.1, inplace=False)\n",
      "      (6): Linear(in_features=50, out_features=25, bias=True)\n",
      "    )\n",
      "  )\n",
      ")\n"
     ]
    }
   ],
   "source": [
    "cls_learn.unfreeze()"
   ]
  },
  {
   "cell_type": "code",
   "execution_count": 25,
   "metadata": {},
   "outputs": [
    {
     "data": {
      "text/html": [
       "<table border=\"1\" class=\"dataframe\">\n",
       "  <thead>\n",
       "    <tr style=\"text-align: left;\">\n",
       "      <th>epoch</th>\n",
       "      <th>train_loss</th>\n",
       "      <th>valid_loss</th>\n",
       "      <th>multi_acc</th>\n",
       "      <th>clas_acc_0</th>\n",
       "      <th>clas_acc_1</th>\n",
       "      <th>clas_acc_2</th>\n",
       "      <th>clas_acc_3</th>\n",
       "      <th>clas_acc_4</th>\n",
       "      <th>clas_mse_0</th>\n",
       "      <th>clas_mse_1</th>\n",
       "      <th>clas_mse_2</th>\n",
       "      <th>clas_mse_3</th>\n",
       "      <th>clas_mse_4</th>\n",
       "      <th>time</th>\n",
       "    </tr>\n",
       "  </thead>\n",
       "  <tbody>\n",
       "    <tr>\n",
       "      <td>0</td>\n",
       "      <td>4.601430</td>\n",
       "      <td>4.331111</td>\n",
       "      <td>0.601571</td>\n",
       "      <td>0.602463</td>\n",
       "      <td>0.567297</td>\n",
       "      <td>0.648072</td>\n",
       "      <td>0.596037</td>\n",
       "      <td>0.593984</td>\n",
       "      <td>0.513656</td>\n",
       "      <td>0.500000</td>\n",
       "      <td>0.434220</td>\n",
       "      <td>0.496608</td>\n",
       "      <td>0.506694</td>\n",
       "      <td>03:45</td>\n",
       "    </tr>\n",
       "    <tr>\n",
       "      <td>1</td>\n",
       "      <td>4.600609</td>\n",
       "      <td>4.228543</td>\n",
       "      <td>0.611924</td>\n",
       "      <td>0.613263</td>\n",
       "      <td>0.588897</td>\n",
       "      <td>0.652803</td>\n",
       "      <td>0.605052</td>\n",
       "      <td>0.599607</td>\n",
       "      <td>0.482506</td>\n",
       "      <td>0.456890</td>\n",
       "      <td>0.419047</td>\n",
       "      <td>0.468136</td>\n",
       "      <td>0.483845</td>\n",
       "      <td>03:51</td>\n",
       "    </tr>\n",
       "    <tr>\n",
       "      <td>2</td>\n",
       "      <td>4.368520</td>\n",
       "      <td>4.135220</td>\n",
       "      <td>0.622510</td>\n",
       "      <td>0.622546</td>\n",
       "      <td>0.604070</td>\n",
       "      <td>0.662085</td>\n",
       "      <td>0.608265</td>\n",
       "      <td>0.615584</td>\n",
       "      <td>0.470903</td>\n",
       "      <td>0.439397</td>\n",
       "      <td>0.411996</td>\n",
       "      <td>0.467779</td>\n",
       "      <td>0.476437</td>\n",
       "      <td>03:56</td>\n",
       "    </tr>\n",
       "    <tr>\n",
       "      <td>3</td>\n",
       "      <td>4.332958</td>\n",
       "      <td>4.047858</td>\n",
       "      <td>0.629846</td>\n",
       "      <td>0.628526</td>\n",
       "      <td>0.608800</td>\n",
       "      <td>0.663692</td>\n",
       "      <td>0.621564</td>\n",
       "      <td>0.626651</td>\n",
       "      <td>0.458675</td>\n",
       "      <td>0.444216</td>\n",
       "      <td>0.401107</td>\n",
       "      <td>0.442342</td>\n",
       "      <td>0.438683</td>\n",
       "      <td>03:57</td>\n",
       "    </tr>\n",
       "    <tr>\n",
       "      <td>4</td>\n",
       "      <td>4.214263</td>\n",
       "      <td>4.003508</td>\n",
       "      <td>0.635380</td>\n",
       "      <td>0.629864</td>\n",
       "      <td>0.615316</td>\n",
       "      <td>0.670207</td>\n",
       "      <td>0.631828</td>\n",
       "      <td>0.629686</td>\n",
       "      <td>0.462335</td>\n",
       "      <td>0.446537</td>\n",
       "      <td>0.402624</td>\n",
       "      <td>0.427526</td>\n",
       "      <td>0.455819</td>\n",
       "      <td>03:57</td>\n",
       "    </tr>\n",
       "    <tr>\n",
       "      <td>5</td>\n",
       "      <td>4.105588</td>\n",
       "      <td>3.969107</td>\n",
       "      <td>0.640754</td>\n",
       "      <td>0.634506</td>\n",
       "      <td>0.617904</td>\n",
       "      <td>0.679400</td>\n",
       "      <td>0.637808</td>\n",
       "      <td>0.634149</td>\n",
       "      <td>0.453499</td>\n",
       "      <td>0.426633</td>\n",
       "      <td>0.376919</td>\n",
       "      <td>0.426455</td>\n",
       "      <td>0.421724</td>\n",
       "      <td>03:56</td>\n",
       "    </tr>\n",
       "    <tr>\n",
       "      <td>6</td>\n",
       "      <td>4.108805</td>\n",
       "      <td>3.943114</td>\n",
       "      <td>0.642753</td>\n",
       "      <td>0.638611</td>\n",
       "      <td>0.620225</td>\n",
       "      <td>0.678329</td>\n",
       "      <td>0.638076</td>\n",
       "      <td>0.638522</td>\n",
       "      <td>0.434131</td>\n",
       "      <td>0.432881</td>\n",
       "      <td>0.373706</td>\n",
       "      <td>0.418690</td>\n",
       "      <td>0.429936</td>\n",
       "      <td>03:42</td>\n",
       "    </tr>\n",
       "    <tr>\n",
       "      <td>7</td>\n",
       "      <td>4.042294</td>\n",
       "      <td>3.925182</td>\n",
       "      <td>0.644431</td>\n",
       "      <td>0.638254</td>\n",
       "      <td>0.622813</td>\n",
       "      <td>0.681185</td>\n",
       "      <td>0.641110</td>\n",
       "      <td>0.638790</td>\n",
       "      <td>0.441182</td>\n",
       "      <td>0.424313</td>\n",
       "      <td>0.375848</td>\n",
       "      <td>0.416548</td>\n",
       "      <td>0.427794</td>\n",
       "      <td>03:42</td>\n",
       "    </tr>\n",
       "    <tr>\n",
       "      <td>8</td>\n",
       "      <td>3.997662</td>\n",
       "      <td>3.922192</td>\n",
       "      <td>0.643502</td>\n",
       "      <td>0.636737</td>\n",
       "      <td>0.622635</td>\n",
       "      <td>0.680025</td>\n",
       "      <td>0.639861</td>\n",
       "      <td>0.638254</td>\n",
       "      <td>0.436808</td>\n",
       "      <td>0.424134</td>\n",
       "      <td>0.375134</td>\n",
       "      <td>0.418243</td>\n",
       "      <td>0.425830</td>\n",
       "      <td>03:45</td>\n",
       "    </tr>\n",
       "    <tr>\n",
       "      <td>9</td>\n",
       "      <td>3.965235</td>\n",
       "      <td>3.921481</td>\n",
       "      <td>0.643966</td>\n",
       "      <td>0.638076</td>\n",
       "      <td>0.620939</td>\n",
       "      <td>0.680918</td>\n",
       "      <td>0.641378</td>\n",
       "      <td>0.638522</td>\n",
       "      <td>0.441360</td>\n",
       "      <td>0.428508</td>\n",
       "      <td>0.378793</td>\n",
       "      <td>0.416012</td>\n",
       "      <td>0.430739</td>\n",
       "      <td>03:58</td>\n",
       "    </tr>\n",
       "  </tbody>\n",
       "</table>"
      ],
      "text/plain": [
       "<IPython.core.display.HTML object>"
      ]
     },
     "metadata": {},
     "output_type": "display_data"
    }
   ],
   "source": [
    "with experiment.train():\n",
    "    cls_learn.fit_one_cycle(10)"
   ]
  },
  {
   "cell_type": "code",
   "execution_count": 26,
   "metadata": {
    "scrolled": true
   },
   "outputs": [
    {
     "data": {
      "text/plain": [
       "{'web': 'https://www.comet.ml/api/image/download?imageId=59fa57fe870044ab9925ce14dda808bf&experimentKey=0c03f5d8f60d414c98978d8288ad9e80',\n",
       " 'api': 'https://www.comet.ml/api/rest/v1/image/get-image?imageId=59fa57fe870044ab9925ce14dda808bf&experimentKey=0c03f5d8f60d414c98978d8288ad9e80',\n",
       " 'imageId': '59fa57fe870044ab9925ce14dda808bf'}"
      ]
     },
     "execution_count": 26,
     "metadata": {},
     "output_type": "execute_result"
    },
    {
     "data": {
      "image/png": "[encoded data removed]",
      "text/plain": [
       "<Figure size 432x288 with 1 Axes>"
      ]
     },
     "metadata": {
      "needs_background": "light"
     },
     "output_type": "display_data"
    }
   ],
   "source": [
    "fig = cls_learn.recorder.plot_losses()\n",
    "experiment.log_figure(figure_name=\"train loss 02\", figure=fig)"
   ]
  },
  {
   "cell_type": "code",
   "execution_count": 27,
   "metadata": {},
   "outputs": [],
   "source": [
    "cls_learn.save('beer.clas.base01.2.learner')"
   ]
  },
  {
   "cell_type": "markdown",
   "metadata": {},
   "source": [
    "# load test text"
   ]
  },
  {
   "cell_type": "code",
   "execution_count": 32,
   "metadata": {},
   "outputs": [],
   "source": [
    "sent_num_file = [\"train.count\", \"test.count\"]\n",
    "rating_file = [\"train.rating\", \"test.rating\"]\n",
    "content_file = [\"train.txt\", \"test.txt\"]\n",
    "\n",
    "dataset_dir = \"./data/beer_100k/\""
   ]
  },
  {
   "cell_type": "code",
   "execution_count": 33,
   "metadata": {},
   "outputs": [],
   "source": [
    "# TRAIN_DATA = 0\n",
    "TEST_DATA = 1"
   ]
  },
  {
   "cell_type": "code",
   "execution_count": 36,
   "metadata": {},
   "outputs": [
    {
     "name": "stdout",
     "output_type": "stream",
     "text": [
      "   0  1  2  3  4\n",
      "0  3  3  4  3  4\n",
      "1  2  2  2  2  2\n",
      "2  3  3  3  2  3\n",
      "3  3  2  2  2  4\n",
      "4  2  2  2  2  2\n"
     ]
    }
   ],
   "source": [
    "# Load Ratings\n",
    "aspect_rating_test = list(open(dataset_dir + rating_file[TEST_DATA], \"r\").readlines())\n",
    "aspect_rating_test = [s for s in aspect_rating_test if (len(s) > 0 and s != \"\\n\")]\n",
    "\n",
    "aspect_rating_test = [s.split(\" \") for s in aspect_rating_test]\n",
    "aspect_rating_test = np.array(aspect_rating_test)[:, :]\n",
    "aspect_rating_test = aspect_rating_test.astype(np.float) - 1\n",
    "aspect_rating_test = np.rint(aspect_rating_test).astype(int)  # ROUND TO INTEGER =================\n",
    "aspect_rating_test = pd.DataFrame(aspect_rating_test)\n",
    "print( aspect_rating_test.head() )"
   ]
  },
  {
   "cell_type": "code",
   "execution_count": 37,
   "metadata": {},
   "outputs": [
    {
     "data": {
      "text/plain": [
       "tensor([[3, 3, 4, 3, 4],\n",
       "        [2, 2, 2, 2, 2],\n",
       "        [3, 3, 3, 2, 3],\n",
       "        ...,\n",
       "        [4, 2, 4, 3, 4],\n",
       "        [2, 2, 1, 0, 3],\n",
       "        [3, 2, 4, 2, 4]])"
      ]
     },
     "execution_count": 37,
     "metadata": {},
     "output_type": "execute_result"
    }
   ],
   "source": [
    "target = torch.tensor( aspect_rating_test.values )\n",
    "target"
   ]
  },
  {
   "cell_type": "markdown",
   "metadata": {},
   "source": [
    "# Test output"
   ]
  },
  {
   "cell_type": "code",
   "execution_count": 38,
   "metadata": {},
   "outputs": [
    {
     "data": {
      "text/plain": [
       "torch.Size([24884, 5, 5])"
      ]
     },
     "execution_count": 38,
     "metadata": {},
     "output_type": "execute_result"
    }
   ],
   "source": [
    "preds = cls_learn.get_preds(ds_type=DatasetType.Test)\n",
    "preds[0].shape"
   ]
  },
  {
   "cell_type": "code",
   "execution_count": 31,
   "metadata": {
    "scrolled": true
   },
   "outputs": [],
   "source": [
    "#torch.argmax(asps[0],dim=1)"
   ]
  },
  {
   "cell_type": "code",
   "execution_count": 33,
   "metadata": {
    "scrolled": true
   },
   "outputs": [
    {
     "data": {
      "text/plain": [
       "tensor(6.0654)"
      ]
     },
     "execution_count": 33,
     "metadata": {},
     "output_type": "execute_result"
    }
   ],
   "source": [
    "mloss = MultiLabelCEL()\n",
    "mloss.forward( preds[0] , target)"
   ]
  },
  {
   "cell_type": "code",
   "execution_count": 40,
   "metadata": {},
   "outputs": [
    {
     "data": {
      "text/html": [
       "<div>\n",
       "<style scoped>\n",
       "    .dataframe tbody tr th:only-of-type {\n",
       "        vertical-align: middle;\n",
       "    }\n",
       "\n",
       "    .dataframe tbody tr th {\n",
       "        vertical-align: top;\n",
       "    }\n",
       "\n",
       "    .dataframe thead th {\n",
       "        text-align: right;\n",
       "    }\n",
       "</style>\n",
       "<table border=\"1\" class=\"dataframe\">\n",
       "  <thead>\n",
       "    <tr style=\"text-align: right;\">\n",
       "      <th></th>\n",
       "      <th>ASP0</th>\n",
       "      <th>ASP1</th>\n",
       "      <th>ASP2</th>\n",
       "      <th>ASP3</th>\n",
       "      <th>ASP4</th>\n",
       "    </tr>\n",
       "  </thead>\n",
       "  <tbody>\n",
       "    <tr>\n",
       "      <th>0</th>\n",
       "      <td>0.634584</td>\n",
       "      <td>0.623091</td>\n",
       "      <td>0.676901</td>\n",
       "      <td>0.633098</td>\n",
       "      <td>0.631892</td>\n",
       "    </tr>\n",
       "  </tbody>\n",
       "</table>\n",
       "</div>"
      ],
      "text/plain": [
       "       ASP0      ASP1      ASP2      ASP3      ASP4\n",
       "0  0.634584  0.623091  0.676901  0.633098  0.631892"
      ]
     },
     "execution_count": 40,
     "metadata": {},
     "output_type": "execute_result"
    }
   ],
   "source": [
    "pd.DataFrame.from_dict( {\"ASP\"+str(ai):[get_clas_acc(ai)(preds[0], target).item()] for ai in range(5)} )"
   ]
  },
  {
   "cell_type": "code",
   "execution_count": 41,
   "metadata": {
    "scrolled": true
   },
   "outputs": [
    {
     "data": {
      "text/html": [
       "<div>\n",
       "<style scoped>\n",
       "    .dataframe tbody tr th:only-of-type {\n",
       "        vertical-align: middle;\n",
       "    }\n",
       "\n",
       "    .dataframe tbody tr th {\n",
       "        vertical-align: top;\n",
       "    }\n",
       "\n",
       "    .dataframe thead th {\n",
       "        text-align: right;\n",
       "    }\n",
       "</style>\n",
       "<table border=\"1\" class=\"dataframe\">\n",
       "  <thead>\n",
       "    <tr style=\"text-align: right;\">\n",
       "      <th></th>\n",
       "      <th>ASP0</th>\n",
       "      <th>ASP1</th>\n",
       "      <th>ASP2</th>\n",
       "      <th>ASP3</th>\n",
       "      <th>ASP4</th>\n",
       "    </tr>\n",
       "  </thead>\n",
       "  <tbody>\n",
       "    <tr>\n",
       "      <th>0</th>\n",
       "      <td>0.440604</td>\n",
       "      <td>0.433652</td>\n",
       "      <td>0.376266</td>\n",
       "      <td>0.421677</td>\n",
       "      <td>0.43526</td>\n",
       "    </tr>\n",
       "  </tbody>\n",
       "</table>\n",
       "</div>"
      ],
      "text/plain": [
       "       ASP0      ASP1      ASP2      ASP3     ASP4\n",
       "0  0.440604  0.433652  0.376266  0.421677  0.43526"
      ]
     },
     "execution_count": 41,
     "metadata": {},
     "output_type": "execute_result"
    }
   ],
   "source": [
    "pd.DataFrame.from_dict( {\"ASP\"+str(ai):[get_clas_mse(ai)(preds[0], target).item()] for ai in range(5)} )"
   ]
  },
  {
   "cell_type": "markdown",
   "metadata": {},
   "source": [
    "# FINISH EXPR"
   ]
  },
  {
   "cell_type": "code",
   "execution_count": 42,
   "metadata": {
    "scrolled": true
   },
   "outputs": [
    {
     "name": "stderr",
     "output_type": "stream",
     "text": [
      "COMET INFO: ----------------------------\n",
      "COMET INFO: Comet.ml Experiment Summary:\n",
      "COMET INFO:   Data:\n",
      "COMET INFO:     url: https://www.comet.ml/aeryen/2019nn-beer/0c03f5d8f60d414c98978d8288ad9e80\n",
      "COMET INFO:   Metrics [count] (min, max):\n",
      "COMET INFO:     sys.cpu.percent.01                   : (2.2, 2.2)\n",
      "COMET INFO:     sys.cpu.percent.02                   : (1.8, 1.8)\n",
      "COMET INFO:     sys.cpu.percent.03                   : (0.9, 0.9)\n",
      "COMET INFO:     sys.cpu.percent.04                   : (0.0, 0.0)\n",
      "COMET INFO:     sys.cpu.percent.05                   : (0.0, 0.0)\n",
      "COMET INFO:     sys.cpu.percent.06                   : (0.0, 0.0)\n",
      "COMET INFO:     sys.cpu.percent.07                   : (2.7, 2.7)\n",
      "COMET INFO:     sys.cpu.percent.08                   : (0.5, 0.5)\n",
      "COMET INFO:     sys.cpu.percent.09                   : (0.0, 0.0)\n",
      "COMET INFO:     sys.cpu.percent.10                   : (12.4, 12.4)\n",
      "COMET INFO:     sys.cpu.percent.11                   : (0.4, 0.4)\n",
      "COMET INFO:     sys.cpu.percent.12                   : (0.9, 0.9)\n",
      "COMET INFO:     sys.cpu.percent.avg                  : (1.8166666666666664, 1.8166666666666664)\n",
      "COMET INFO:     sys.gpu.0.free_memory                : (24840568832.0, 24840568832.0)\n",
      "COMET INFO:     sys.gpu.0.gpu_utilization            : (0.0, 0.0)\n",
      "COMET INFO:     sys.gpu.0.total_memory               : (25373310976.0, 25373310976.0)\n",
      "COMET INFO:     sys.gpu.0.used_memory                : (532742144.0, 532742144.0)\n",
      "COMET INFO:     sys.load.avg                         : (0.83, 0.83)\n",
      "COMET INFO:     sys.ram.total                        : (16703758336.0, 16703758336.0)\n",
      "COMET INFO:     sys.ram.used                         : (3868594176.0, 3868594176.0)\n",
      "COMET INFO:     train_clas_acc_0 [16]                : (0.5778293609619141, 0.6386111974716187)\n",
      "COMET INFO:     train_clas_acc_1 [16]                : (0.5490003824234009, 0.6228132843971252)\n",
      "COMET INFO:     train_clas_acc_2 [16]                : (0.629239559173584, 0.6811853051185608)\n",
      "COMET INFO:     train_clas_acc_3 [16]                : (0.5781863331794739, 0.6413781046867371)\n",
      "COMET INFO:     train_clas_acc_4 [16]                : (0.5761335492134094, 0.638789713382721)\n",
      "COMET INFO:     train_clas_mse_0 [16]                : (0.4341306686401367, 0.5542663335800171)\n",
      "COMET INFO:     train_clas_mse_1 [16]                : (0.424134224653244, 0.5357908010482788)\n",
      "COMET INFO:     train_clas_mse_2 [16]                : (0.37370583415031433, 0.47670474648475647)\n",
      "COMET INFO:     train_clas_mse_3 [16]                : (0.41601213812828064, 0.5102642178535461)\n",
      "COMET INFO:     train_clas_mse_4 [16]                : (0.4217243790626526, 0.5331131815910339)\n",
      "COMET INFO:     train_curr_epoch [17]                : 9\n",
      "COMET INFO:     train_loss [3313]                    : (3.14853835105896, 9.275758743286133)\n",
      "COMET INFO:     train_multi_acc [16]                 : (0.5848627686500549, 0.6444306373596191)\n",
      "COMET INFO:     train_sys.cpu.percent.01 [112]       : (0.2, 42.6)\n",
      "COMET INFO:     train_sys.cpu.percent.02 [112]       : (0.5, 38.8)\n",
      "COMET INFO:     train_sys.cpu.percent.03 [112]       : (0.2, 43.8)\n",
      "COMET INFO:     train_sys.cpu.percent.04 [112]       : (0.1, 47.8)\n",
      "COMET INFO:     train_sys.cpu.percent.05 [112]       : (0.2, 49.8)\n",
      "COMET INFO:     train_sys.cpu.percent.06 [112]       : (0.2, 47.3)\n",
      "COMET INFO:     train_sys.cpu.percent.07 [112]       : (0.2, 40.0)\n",
      "COMET INFO:     train_sys.cpu.percent.08 [112]       : (0.3, 56.3)\n",
      "COMET INFO:     train_sys.cpu.percent.09 [112]       : (0.2, 45.6)\n",
      "COMET INFO:     train_sys.cpu.percent.10 [112]       : (0.6, 28.1)\n",
      "COMET INFO:     train_sys.cpu.percent.11 [112]       : (0.2, 56.1)\n",
      "COMET INFO:     train_sys.cpu.percent.12 [112]       : (0.2, 34.7)\n",
      "COMET INFO:     train_sys.cpu.percent.avg [112]      : (0.44999999999999996, 10.791666666666664)\n",
      "COMET INFO:     train_sys.gpu.0.free_memory [127]    : (15661006848.0, 20916797440.0)\n",
      "COMET INFO:     train_sys.gpu.0.gpu_utilization [127]: (0.0, 94.0)\n",
      "COMET INFO:     train_sys.gpu.0.used_memory [127]    : (4456513536.0, 9712304128.0)\n",
      "COMET INFO:     train_sys.load.avg [112]             : (0.0, 1.38)\n",
      "COMET INFO:     train_sys.ram.total [112]            : (16703758336.0, 16703758336.0)\n",
      "COMET INFO:     train_sys.ram.used [112]             : (6181748736.0, 6715645952.0)\n",
      "COMET INFO:     train_val_loss [16]                  : (3.9214813709259033, 4.524175643920898)\n",
      "COMET INFO:   Uploads:\n",
      "COMET INFO:     figures  : 2\n",
      "COMET INFO:     git-patch: 1\n",
      "COMET INFO: ----------------------------\n",
      "COMET INFO: Uploading stats to Comet before program termination (may take several seconds)\n"
     ]
    }
   ],
   "source": [
    "experiment.end()"
   ]
  }
 ],
 "metadata": {
  "kernelspec": {
   "display_name": "Python 3",
   "language": "python",
   "name": "python3"
  },
  "language_info": {
   "codemirror_mode": {
    "name": "ipython",
    "version": 3
   },
   "file_extension": ".py",
   "mimetype": "text/x-python",
   "name": "python",
   "nbconvert_exporter": "python",
   "pygments_lexer": "ipython3",
   "version": "3.7.9"
  }
 },
 "nbformat": 4,
 "nbformat_minor": 4
}
