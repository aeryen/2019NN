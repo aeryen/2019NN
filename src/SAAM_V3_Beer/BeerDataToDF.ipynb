{
 "cells": [
  {
   "cell_type": "code",
   "execution_count": 1,
   "metadata": {},
   "outputs": [],
   "source": [
    "import os, sys\n",
    "currentdir = os.path.dirname(os.path.realpath(\".\"))\n",
    "sys.path.append(currentdir)"
   ]
  },
  {
   "cell_type": "code",
   "execution_count": 2,
   "metadata": {},
   "outputs": [
    {
     "data": {
      "text/plain": [
       "['/disk2/yifan/code/SAAM/src/SAAM_V3_Beer',\n",
       " '/home/yifan/anaconda3/envs/saam/lib/python37.zip',\n",
       " '/home/yifan/anaconda3/envs/saam/lib/python3.7',\n",
       " '/home/yifan/anaconda3/envs/saam/lib/python3.7/lib-dynload',\n",
       " '',\n",
       " '/home/yifan/anaconda3/envs/saam/lib/python3.7/site-packages',\n",
       " '/disk2/yifan/code/transformers/src',\n",
       " '/disk2/yifan/code/pytorch-lightning',\n",
       " '/home/yifan/anaconda3/envs/saam/lib/python3.7/site-packages/IPython/extensions',\n",
       " '/home/yifan/.ipython',\n",
       " '/disk2/yifan/code/SAAM/src']"
      ]
     },
     "execution_count": 2,
     "metadata": {},
     "output_type": "execute_result"
    }
   ],
   "source": [
    "sys.path"
   ]
  },
  {
   "cell_type": "code",
   "execution_count": 3,
   "metadata": {},
   "outputs": [],
   "source": [
    "import numpy as np\n",
    "import pandas as pd\n",
    "\n",
    "from datahelper.Data import *"
   ]
  },
  {
   "cell_type": "code",
   "execution_count": 4,
   "metadata": {},
   "outputs": [],
   "source": [
    "sent_num_file = [\"train.count\", \"test.count\"]\n",
    "rating_file = [\"train.rating\", \"test.rating\"]\n",
    "content_file = [\"train.txt\", \"test.txt\"]\n",
    "\n",
    "dataset_dir = \"../../data/beer_100k/\""
   ]
  },
  {
   "cell_type": "code",
   "execution_count": 5,
   "metadata": {},
   "outputs": [],
   "source": [
    "def concat_to_doc(sent_list, sent_count):\n",
    "    start_index = 0\n",
    "    docs = []\n",
    "    for s in sent_count:\n",
    "        doc = \" xxPERIOD \".join(sent_list[start_index:start_index + s])\n",
    "        doc = doc + \" xxPERIOD \"\n",
    "        docs.append(doc)\n",
    "        start_index = start_index + s\n",
    "    return docs"
   ]
  },
  {
   "cell_type": "code",
   "execution_count": 6,
   "metadata": {},
   "outputs": [],
   "source": [
    "TRAIN_DATA = 0\n",
    "TEST_DATA = 1"
   ]
  },
  {
   "cell_type": "markdown",
   "metadata": {},
   "source": [
    "## Load Training Data"
   ]
  },
  {
   "cell_type": "code",
   "execution_count": 9,
   "metadata": {},
   "outputs": [
    {
     "name": "stdout",
     "output_type": "stream",
     "text": [
      "[8, 7, 9, 14, 12]\n",
      "   0  1  2  3  4\n",
      "0  0  2  0  0  1\n",
      "1  2  2  2  2  2\n",
      "2  2  2  2  2  2\n",
      "3  2  2  2  2  2\n",
      "4  2  2  3  3  2\n",
      "['A lot of foam', 'But a lot', 'In the smell some banana, and then lactic and tart', 'Not a good start', 'Quite dark orange in color, with a lively carbonation (now visible, under the foam)']\n"
     ]
    }
   ],
   "source": [
    "# Load Count\n",
    "sent_count_train = list(open(dataset_dir + sent_num_file[TRAIN_DATA], \"r\").readlines())\n",
    "sent_count_train = [int(s) for s in sent_count_train if (len(s) > 0 and s != \"\\n\")]\n",
    "print( sent_count_train[0:5] )\n",
    "\n",
    "# Load Ratings\n",
    "aspect_rating_train = list(open(dataset_dir + rating_file[TRAIN_DATA], \"r\").readlines())\n",
    "aspect_rating_train = [s for s in aspect_rating_train if (len(s) > 0 and s != \"\\n\")]\n",
    "\n",
    "aspect_rating_train = [s.split(\" \") for s in aspect_rating_train]\n",
    "aspect_rating_train = np.array(aspect_rating_train)[:, :]\n",
    "aspect_rating_train = aspect_rating_train.astype(np.float) - 1\n",
    "aspect_rating_train = np.rint(aspect_rating_train).astype(int)  # ROUND TO INTEGER =================\n",
    "aspect_rating_train = pd.DataFrame(aspect_rating_train)\n",
    "print( aspect_rating_train.head() )\n",
    "\n",
    "# Load Sents\n",
    "sents_train = list(open(dataset_dir + content_file[TRAIN_DATA], \"r\").readlines())\n",
    "sents_train = [s.strip() for s in sents_train]\n",
    "sents_train = [s[:-1] for s in sents_train if s.endswith(\".\")]\n",
    "print( sents_train[0:5] )"
   ]
  },
  {
   "cell_type": "code",
   "execution_count": 10,
   "metadata": {},
   "outputs": [
    {
     "data": {
      "text/html": [
       "<div>\n",
       "<style scoped>\n",
       "    .dataframe tbody tr th:only-of-type {\n",
       "        vertical-align: middle;\n",
       "    }\n",
       "\n",
       "    .dataframe tbody tr th {\n",
       "        vertical-align: top;\n",
       "    }\n",
       "\n",
       "    .dataframe thead th {\n",
       "        text-align: right;\n",
       "    }\n",
       "</style>\n",
       "<table border=\"1\" class=\"dataframe\">\n",
       "  <thead>\n",
       "    <tr style=\"text-align: right;\">\n",
       "      <th></th>\n",
       "      <th>0</th>\n",
       "    </tr>\n",
       "  </thead>\n",
       "  <tbody>\n",
       "    <tr>\n",
       "      <th>0</th>\n",
       "      <td>A lot of foam xxPERIOD But a lot xxPERIOD In t...</td>\n",
       "    </tr>\n",
       "    <tr>\n",
       "      <th>1</th>\n",
       "      <td>Dark red color, light beige foam, average xxPE...</td>\n",
       "    </tr>\n",
       "    <tr>\n",
       "      <th>2</th>\n",
       "      <td>Almost totally black xxPERIOD Beige foam, quit...</td>\n",
       "    </tr>\n",
       "    <tr>\n",
       "      <th>3</th>\n",
       "      <td>Golden yellow color xxPERIOD White, compact fo...</td>\n",
       "    </tr>\n",
       "    <tr>\n",
       "      <th>4</th>\n",
       "      <td>22 oz bottle from \"Lifesource\" Salem xxPERIOD ...</td>\n",
       "    </tr>\n",
       "  </tbody>\n",
       "</table>\n",
       "</div>"
      ],
      "text/plain": [
       "                                                   0\n",
       "0  A lot of foam xxPERIOD But a lot xxPERIOD In t...\n",
       "1  Dark red color, light beige foam, average xxPE...\n",
       "2  Almost totally black xxPERIOD Beige foam, quit...\n",
       "3  Golden yellow color xxPERIOD White, compact fo...\n",
       "4  22 oz bottle from \"Lifesource\" Salem xxPERIOD ..."
      ]
     },
     "execution_count": 10,
     "metadata": {},
     "output_type": "execute_result"
    }
   ],
   "source": [
    "docs_train = concat_to_doc(sents_train, sent_count_train)\n",
    "docs_train = pd.DataFrame(docs_train)\n",
    "docs_train.head()"
   ]
  },
  {
   "cell_type": "code",
   "execution_count": 11,
   "metadata": {},
   "outputs": [],
   "source": [
    "df_train = pd.concat( [aspect_rating_train, docs_train], axis=1, ignore_index=True )"
   ]
  },
  {
   "cell_type": "code",
   "execution_count": 12,
   "metadata": {},
   "outputs": [
    {
     "data": {
      "text/plain": [
       "(75116, 6)"
      ]
     },
     "execution_count": 12,
     "metadata": {},
     "output_type": "execute_result"
    }
   ],
   "source": [
    "df_train.shape"
   ]
  },
  {
   "cell_type": "code",
   "execution_count": null,
   "metadata": {},
   "outputs": [],
   "source": [
    "df_train = df_train[df_train.iloc[:,0:5].min(axis=1) >= 0]"
   ]
  },
  {
   "cell_type": "code",
   "execution_count": 13,
   "metadata": {},
   "outputs": [
    {
     "data": {
      "text/html": [
       "<div>\n",
       "<style scoped>\n",
       "    .dataframe tbody tr th:only-of-type {\n",
       "        vertical-align: middle;\n",
       "    }\n",
       "\n",
       "    .dataframe tbody tr th {\n",
       "        vertical-align: top;\n",
       "    }\n",
       "\n",
       "    .dataframe thead th {\n",
       "        text-align: right;\n",
       "    }\n",
       "</style>\n",
       "<table border=\"1\" class=\"dataframe\">\n",
       "  <thead>\n",
       "    <tr style=\"text-align: right;\">\n",
       "      <th></th>\n",
       "      <th>0</th>\n",
       "      <th>1</th>\n",
       "      <th>2</th>\n",
       "      <th>3</th>\n",
       "      <th>4</th>\n",
       "      <th>5</th>\n",
       "    </tr>\n",
       "  </thead>\n",
       "  <tbody>\n",
       "    <tr>\n",
       "      <th>0</th>\n",
       "      <td>0</td>\n",
       "      <td>2</td>\n",
       "      <td>0</td>\n",
       "      <td>0</td>\n",
       "      <td>1</td>\n",
       "      <td>A lot of foam xxPERIOD But a lot xxPERIOD In t...</td>\n",
       "    </tr>\n",
       "    <tr>\n",
       "      <th>1</th>\n",
       "      <td>2</td>\n",
       "      <td>2</td>\n",
       "      <td>2</td>\n",
       "      <td>2</td>\n",
       "      <td>2</td>\n",
       "      <td>Dark red color, light beige foam, average xxPE...</td>\n",
       "    </tr>\n",
       "    <tr>\n",
       "      <th>2</th>\n",
       "      <td>2</td>\n",
       "      <td>2</td>\n",
       "      <td>2</td>\n",
       "      <td>2</td>\n",
       "      <td>2</td>\n",
       "      <td>Almost totally black xxPERIOD Beige foam, quit...</td>\n",
       "    </tr>\n",
       "    <tr>\n",
       "      <th>3</th>\n",
       "      <td>2</td>\n",
       "      <td>2</td>\n",
       "      <td>2</td>\n",
       "      <td>2</td>\n",
       "      <td>2</td>\n",
       "      <td>Golden yellow color xxPERIOD White, compact fo...</td>\n",
       "    </tr>\n",
       "    <tr>\n",
       "      <th>4</th>\n",
       "      <td>2</td>\n",
       "      <td>2</td>\n",
       "      <td>3</td>\n",
       "      <td>3</td>\n",
       "      <td>2</td>\n",
       "      <td>22 oz bottle from \"Lifesource\" Salem xxPERIOD ...</td>\n",
       "    </tr>\n",
       "    <tr>\n",
       "      <th>...</th>\n",
       "      <td>...</td>\n",
       "      <td>...</td>\n",
       "      <td>...</td>\n",
       "      <td>...</td>\n",
       "      <td>...</td>\n",
       "      <td>...</td>\n",
       "    </tr>\n",
       "    <tr>\n",
       "      <th>75111</th>\n",
       "      <td>2</td>\n",
       "      <td>2</td>\n",
       "      <td>2</td>\n",
       "      <td>2</td>\n",
       "      <td>2</td>\n",
       "      <td>Thanks again, Bobby xxPERIOD A: The beer pours...</td>\n",
       "    </tr>\n",
       "    <tr>\n",
       "      <th>75112</th>\n",
       "      <td>2</td>\n",
       "      <td>3</td>\n",
       "      <td>2</td>\n",
       "      <td>2</td>\n",
       "      <td>3</td>\n",
       "      <td>Thanks to Smoked for sharing this with me xxPE...</td>\n",
       "    </tr>\n",
       "    <tr>\n",
       "      <th>75113</th>\n",
       "      <td>2</td>\n",
       "      <td>2</td>\n",
       "      <td>2</td>\n",
       "      <td>1</td>\n",
       "      <td>2</td>\n",
       "      <td>A: No hiss or pop when I cracked the cap off x...</td>\n",
       "    </tr>\n",
       "    <tr>\n",
       "      <th>75114</th>\n",
       "      <td>2</td>\n",
       "      <td>2</td>\n",
       "      <td>2</td>\n",
       "      <td>2</td>\n",
       "      <td>2</td>\n",
       "      <td>I got to try this courtesy of normyk (thanks R...</td>\n",
       "    </tr>\n",
       "    <tr>\n",
       "      <th>75115</th>\n",
       "      <td>2</td>\n",
       "      <td>2</td>\n",
       "      <td>2</td>\n",
       "      <td>2</td>\n",
       "      <td>3</td>\n",
       "      <td>Thanks normyk for this one xxPERIOD Pours a cl...</td>\n",
       "    </tr>\n",
       "  </tbody>\n",
       "</table>\n",
       "<p>75116 rows × 6 columns</p>\n",
       "</div>"
      ],
      "text/plain": [
       "       0  1  2  3  4                                                  5\n",
       "0      0  2  0  0  1  A lot of foam xxPERIOD But a lot xxPERIOD In t...\n",
       "1      2  2  2  2  2  Dark red color, light beige foam, average xxPE...\n",
       "2      2  2  2  2  2  Almost totally black xxPERIOD Beige foam, quit...\n",
       "3      2  2  2  2  2  Golden yellow color xxPERIOD White, compact fo...\n",
       "4      2  2  3  3  2  22 oz bottle from \"Lifesource\" Salem xxPERIOD ...\n",
       "...   .. .. .. .. ..                                                ...\n",
       "75111  2  2  2  2  2  Thanks again, Bobby xxPERIOD A: The beer pours...\n",
       "75112  2  3  2  2  3  Thanks to Smoked for sharing this with me xxPE...\n",
       "75113  2  2  2  1  2  A: No hiss or pop when I cracked the cap off x...\n",
       "75114  2  2  2  2  2  I got to try this courtesy of normyk (thanks R...\n",
       "75115  2  2  2  2  3  Thanks normyk for this one xxPERIOD Pours a cl...\n",
       "\n",
       "[75116 rows x 6 columns]"
      ]
     },
     "execution_count": 13,
     "metadata": {},
     "output_type": "execute_result"
    }
   ],
   "source": [
    "df_train"
   ]
  },
  {
   "cell_type": "code",
   "execution_count": 14,
   "metadata": {},
   "outputs": [],
   "source": [
    "df_train.to_pickle(\"../../data/beer_100k/df_train.pickle\")"
   ]
  },
  {
   "cell_type": "markdown",
   "metadata": {},
   "source": [
    "## Load Testing Data"
   ]
  },
  {
   "cell_type": "code",
   "execution_count": 15,
   "metadata": {},
   "outputs": [
    {
     "name": "stdout",
     "output_type": "stream",
     "text": [
      "[13, 12, 7, 9, 6]\n",
      "   0  1  2  3  4\n",
      "0  3  3  4  3  4\n",
      "1  2  2  2  2  2\n",
      "2  3  3  3  2  3\n",
      "3  3  2  2  2  4\n",
      "4  2  2  2  2  2\n",
      "                                                   0\n",
      "0  According to the website, the style for the Ca...\n",
      "1  Poured from the bottle into a Chimay goblet. x...\n",
      "2  Notes from 6/24. xxPERIOD A: Bright golden glo...\n",
      "3  22 oz. xxPERIOD bomber,. xxPERIOD A: Pours a c...\n",
      "4  Brown in color, somewhere between a porter and...\n"
     ]
    }
   ],
   "source": [
    "# Load Count\n",
    "sent_count_test = list(open(dataset_dir + sent_num_file[TEST_DATA], \"r\").readlines())\n",
    "sent_count_test = [int(s) for s in sent_count_test if (len(s) > 0 and s != \"\\n\")]\n",
    "print( sent_count_test[0:5] )\n",
    "\n",
    "# Load Ratings\n",
    "aspect_rating_test = list(open(dataset_dir + rating_file[TEST_DATA], \"r\").readlines())\n",
    "aspect_rating_test = [s for s in aspect_rating_test if (len(s) > 0 and s != \"\\n\")]\n",
    "\n",
    "aspect_rating_test = [s.split(\" \") for s in aspect_rating_test]\n",
    "aspect_rating_test = np.array(aspect_rating_test)[:, :]\n",
    "aspect_rating_test = aspect_rating_test.astype(np.float) - 1\n",
    "aspect_rating_test = np.rint(aspect_rating_test).astype(int)  # ROUND TO INTEGER =================\n",
    "aspect_rating_test = pd.DataFrame(aspect_rating_test)\n",
    "print( aspect_rating_test.head() )\n",
    "\n",
    "# Load Sents\n",
    "sents_test = list(open(dataset_dir + content_file[TEST_DATA], \"r\").readlines())\n",
    "sents_test = [s.strip() for s in sents_test]\n",
    "\n",
    "# Sents to Doc\n",
    "docs_test = concat_to_doc(sents_test, sent_count_test)\n",
    "\n",
    "docs_test = pd.DataFrame(docs_test)\n",
    "print( docs_test.head() )"
   ]
  },
  {
   "cell_type": "code",
   "execution_count": 16,
   "metadata": {},
   "outputs": [
    {
     "data": {
      "text/html": [
       "<div>\n",
       "<style scoped>\n",
       "    .dataframe tbody tr th:only-of-type {\n",
       "        vertical-align: middle;\n",
       "    }\n",
       "\n",
       "    .dataframe tbody tr th {\n",
       "        vertical-align: top;\n",
       "    }\n",
       "\n",
       "    .dataframe thead th {\n",
       "        text-align: right;\n",
       "    }\n",
       "</style>\n",
       "<table border=\"1\" class=\"dataframe\">\n",
       "  <thead>\n",
       "    <tr style=\"text-align: right;\">\n",
       "      <th></th>\n",
       "      <th>0</th>\n",
       "      <th>1</th>\n",
       "      <th>2</th>\n",
       "      <th>3</th>\n",
       "      <th>4</th>\n",
       "      <th>5</th>\n",
       "    </tr>\n",
       "  </thead>\n",
       "  <tbody>\n",
       "    <tr>\n",
       "      <th>0</th>\n",
       "      <td>3</td>\n",
       "      <td>3</td>\n",
       "      <td>4</td>\n",
       "      <td>3</td>\n",
       "      <td>4</td>\n",
       "      <td>According to the website, the style for the Ca...</td>\n",
       "    </tr>\n",
       "    <tr>\n",
       "      <th>1</th>\n",
       "      <td>2</td>\n",
       "      <td>2</td>\n",
       "      <td>2</td>\n",
       "      <td>2</td>\n",
       "      <td>2</td>\n",
       "      <td>Poured from the bottle into a Chimay goblet. x...</td>\n",
       "    </tr>\n",
       "    <tr>\n",
       "      <th>2</th>\n",
       "      <td>3</td>\n",
       "      <td>3</td>\n",
       "      <td>3</td>\n",
       "      <td>2</td>\n",
       "      <td>3</td>\n",
       "      <td>Notes from 6/24. xxPERIOD A: Bright golden glo...</td>\n",
       "    </tr>\n",
       "    <tr>\n",
       "      <th>3</th>\n",
       "      <td>3</td>\n",
       "      <td>2</td>\n",
       "      <td>2</td>\n",
       "      <td>2</td>\n",
       "      <td>4</td>\n",
       "      <td>22 oz. xxPERIOD bomber,. xxPERIOD A: Pours a c...</td>\n",
       "    </tr>\n",
       "    <tr>\n",
       "      <th>4</th>\n",
       "      <td>2</td>\n",
       "      <td>2</td>\n",
       "      <td>2</td>\n",
       "      <td>2</td>\n",
       "      <td>2</td>\n",
       "      <td>Brown in color, somewhere between a porter and...</td>\n",
       "    </tr>\n",
       "  </tbody>\n",
       "</table>\n",
       "</div>"
      ],
      "text/plain": [
       "   0  1  2  3  4                                                  5\n",
       "0  3  3  4  3  4  According to the website, the style for the Ca...\n",
       "1  2  2  2  2  2  Poured from the bottle into a Chimay goblet. x...\n",
       "2  3  3  3  2  3  Notes from 6/24. xxPERIOD A: Bright golden glo...\n",
       "3  3  2  2  2  4  22 oz. xxPERIOD bomber,. xxPERIOD A: Pours a c...\n",
       "4  2  2  2  2  2  Brown in color, somewhere between a porter and..."
      ]
     },
     "execution_count": 16,
     "metadata": {},
     "output_type": "execute_result"
    }
   ],
   "source": [
    "df_test = pd.concat( [aspect_rating_test, docs_test], axis=1, ignore_index=True )\n",
    "df_test.head()"
   ]
  },
  {
   "cell_type": "code",
   "execution_count": 17,
   "metadata": {},
   "outputs": [
    {
     "data": {
      "text/plain": [
       "(24884, 6)"
      ]
     },
     "execution_count": 17,
     "metadata": {},
     "output_type": "execute_result"
    }
   ],
   "source": [
    "df_test.shape"
   ]
  },
  {
   "cell_type": "code",
   "execution_count": 18,
   "metadata": {},
   "outputs": [],
   "source": [
    "df_test.to_pickle(\"../../data/beer_100k/df_test.pickle\")"
   ]
  },
  {
   "cell_type": "code",
   "execution_count": null,
   "metadata": {},
   "outputs": [],
   "source": []
  }
 ],
 "metadata": {
  "kernelspec": {
   "display_name": "Python 3",
   "language": "python",
   "name": "python3"
  },
  "language_info": {
   "codemirror_mode": {
    "name": "ipython",
    "version": 3
   },
   "file_extension": ".py",
   "mimetype": "text/x-python",
   "name": "python",
   "nbconvert_exporter": "python",
   "pygments_lexer": "ipython3",
   "version": "3.7.9"
  }
 },
 "nbformat": 4,
 "nbformat_minor": 4
}
