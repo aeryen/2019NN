{
 "cells": [
  {
   "cell_type": "code",
   "execution_count": 11,
   "metadata": {},
   "outputs": [],
   "source": [
    "import os, sys\n",
    "currentdir = os.path.dirname(os.path.realpath(\".\"))\n",
    "sys.path.append(currentdir)"
   ]
  },
  {
   "cell_type": "code",
   "execution_count": 12,
   "metadata": {},
   "outputs": [
    {
     "data": {
      "text/plain": [
       "['/home/aeryen/Code/2019NN_git/src/SAAM_V3_Hotel',\n",
       " '/home/aeryen/anaconda3/envs/laam/lib/python37.zip',\n",
       " '/home/aeryen/anaconda3/envs/laam/lib/python3.7',\n",
       " '/home/aeryen/anaconda3/envs/laam/lib/python3.7/lib-dynload',\n",
       " '',\n",
       " '/home/aeryen/anaconda3/envs/laam/lib/python3.7/site-packages',\n",
       " '/home/aeryen/Code/fastai1',\n",
       " '/home/aeryen/anaconda3/envs/laam/lib/python3.7/site-packages/IPython/extensions',\n",
       " '/home/aeryen/.ipython',\n",
       " '/home/aeryen/Code/2019NN_git/src']"
      ]
     },
     "execution_count": 12,
     "metadata": {},
     "output_type": "execute_result"
    }
   ],
   "source": [
    "sys.path"
   ]
  },
  {
   "cell_type": "code",
   "execution_count": 15,
   "metadata": {},
   "outputs": [],
   "source": [
    "import numpy as np\n",
    "import pandas as pd\n",
    "\n",
    "from datahelper.Data import *"
   ]
  },
  {
   "cell_type": "code",
   "execution_count": 8,
   "metadata": {},
   "outputs": [],
   "source": [
    "sent_num_file = [\"aspect_0.count\", \"test_aspect_0.count\"]\n",
    "rating_file = [\"aspect_0.rating\", \"test_aspect_0.rating\"]\n",
    "content_file = [\"aspect_0.txt\", \"test_aspect_0.txt\"]\n",
    "\n",
    "dataset_dir = \"../../data/hotel_balance_LengthFix1_3000per/\""
   ]
  },
  {
   "cell_type": "code",
   "execution_count": 3,
   "metadata": {},
   "outputs": [],
   "source": [
    "def concat_to_doc(sent_list, sent_count):\n",
    "    start_index = 0\n",
    "    docs = []\n",
    "    for s in sent_count:\n",
    "        doc = \" xxPERIOD \".join(sent_list[start_index:start_index + s])\n",
    "        doc = doc + \" xxPERIOD \"\n",
    "        docs.append(doc)\n",
    "        start_index = start_index + s\n",
    "    return docs"
   ]
  },
  {
   "cell_type": "code",
   "execution_count": 4,
   "metadata": {},
   "outputs": [],
   "source": [
    "TRAIN_DATA = 0\n",
    "TEST_DATA = 1"
   ]
  },
  {
   "cell_type": "markdown",
   "metadata": {},
   "source": [
    "## Load Training Data"
   ]
  },
  {
   "cell_type": "code",
   "execution_count": 16,
   "metadata": {},
   "outputs": [
    {
     "name": "stdout",
     "output_type": "stream",
     "text": [
      "[10, 14, 14, 24, 23]\n",
      "   0  1  2  3  4  5\n",
      "0  4  4  4  4  4  4\n",
      "1  4  3  4  4  4  4\n",
      "2  1  0  1  1  2  1\n",
      "3  3  2  3  2  4  3\n",
      "4  3  2  1  2  2  4\n",
      "['we had the most wonderful time at the excellence', 'we opted for the excellence club and it was well worht it for the perks', 'roberto puello who was the club manager did an extra special job of making us feel welcomed', 'we took some great pictures that looked like postcards', 'the food was excellent the pizza was close to being our favorite']\n"
     ]
    }
   ],
   "source": [
    "# Load Count\n",
    "sent_count_train = list(open(dataset_dir + sent_num_file[TRAIN_DATA], \"r\").readlines())\n",
    "sent_count_train = [int(s) for s in sent_count_train if (len(s) > 0 and s != \"\\n\")]\n",
    "print( sent_count_train[0:5] )\n",
    "\n",
    "# Load Ratings\n",
    "aspect_rating_train = list(open(dataset_dir + rating_file[TRAIN_DATA], \"r\").readlines())\n",
    "aspect_rating_train = [s for s in aspect_rating_train if (len(s) > 0 and s != \"\\n\")]\n",
    "\n",
    "aspect_rating_train = [s.split(\" \") for s in aspect_rating_train]\n",
    "aspect_rating_train = np.array(aspect_rating_train)[:, 0:-1]\n",
    "aspect_rating_train = aspect_rating_train.astype(np.int) - 1\n",
    "aspect_rating_train = pd.DataFrame(aspect_rating_train)\n",
    "print( aspect_rating_train.head() )\n",
    "\n",
    "# Load Sents\n",
    "sents_train = list(open(dataset_dir + content_file[TRAIN_DATA], \"r\").readlines())\n",
    "sents_train = [s.strip() for s in sents_train]\n",
    "print( sents_train[0:5] )"
   ]
  },
  {
   "cell_type": "code",
   "execution_count": 17,
   "metadata": {},
   "outputs": [
    {
     "data": {
      "text/html": [
       "<div>\n",
       "<style scoped>\n",
       "    .dataframe tbody tr th:only-of-type {\n",
       "        vertical-align: middle;\n",
       "    }\n",
       "\n",
       "    .dataframe tbody tr th {\n",
       "        vertical-align: top;\n",
       "    }\n",
       "\n",
       "    .dataframe thead th {\n",
       "        text-align: right;\n",
       "    }\n",
       "</style>\n",
       "<table border=\"1\" class=\"dataframe\">\n",
       "  <thead>\n",
       "    <tr style=\"text-align: right;\">\n",
       "      <th></th>\n",
       "      <th>0</th>\n",
       "    </tr>\n",
       "  </thead>\n",
       "  <tbody>\n",
       "    <tr>\n",
       "      <th>0</th>\n",
       "      <td>we had the most wonderful time at the excellen...</td>\n",
       "    </tr>\n",
       "    <tr>\n",
       "      <th>1</th>\n",
       "      <td>a truly fantastic place xmas  we have just ret...</td>\n",
       "    </tr>\n",
       "    <tr>\n",
       "      <th>2</th>\n",
       "      <td>too sick to enjoy the ride to and form the air...</td>\n",
       "    </tr>\n",
       "    <tr>\n",
       "      <th>3</th>\n",
       "      <td>relaxing and fun , but xxPERIOD i rang in the ...</td>\n",
       "    </tr>\n",
       "    <tr>\n",
       "      <th>4</th>\n",
       "      <td>somewhat excellence we just returned from a on...</td>\n",
       "    </tr>\n",
       "  </tbody>\n",
       "</table>\n",
       "</div>"
      ],
      "text/plain": [
       "                                                   0\n",
       "0  we had the most wonderful time at the excellen...\n",
       "1  a truly fantastic place xmas  we have just ret...\n",
       "2  too sick to enjoy the ride to and form the air...\n",
       "3  relaxing and fun , but xxPERIOD i rang in the ...\n",
       "4  somewhat excellence we just returned from a on..."
      ]
     },
     "execution_count": 17,
     "metadata": {},
     "output_type": "execute_result"
    }
   ],
   "source": [
    "docs_train = concat_to_doc(sents_train, sent_count_train)\n",
    "docs_train = pd.DataFrame(docs_train)\n",
    "docs_train.head()"
   ]
  },
  {
   "cell_type": "code",
   "execution_count": 18,
   "metadata": {},
   "outputs": [],
   "source": [
    "df_train = pd.concat( [aspect_rating_train, docs_train], axis=1, ignore_index=True )"
   ]
  },
  {
   "cell_type": "code",
   "execution_count": 19,
   "metadata": {},
   "outputs": [
    {
     "data": {
      "text/plain": [
       "(11173, 7)"
      ]
     },
     "execution_count": 19,
     "metadata": {},
     "output_type": "execute_result"
    }
   ],
   "source": [
    "df_train.shape"
   ]
  },
  {
   "cell_type": "code",
   "execution_count": 20,
   "metadata": {},
   "outputs": [],
   "source": [
    "df_train.to_pickle(\"../../data/hotel_balance_LengthFix1_3000per/df_train.pickle\")"
   ]
  },
  {
   "cell_type": "markdown",
   "metadata": {},
   "source": [
    "## Load Testing Data"
   ]
  },
  {
   "cell_type": "code",
   "execution_count": 21,
   "metadata": {},
   "outputs": [
    {
     "name": "stdout",
     "output_type": "stream",
     "text": [
      "[9, 30, 25, 33, 29]\n",
      "   0  1  2  3  4  5\n",
      "0  1  0  0  3  1  1\n",
      "1  2  2  1  2  3  3\n",
      "2  4  4  4  3  4  4\n",
      "3  3  2  3  3  3  4\n",
      "4  3  4  3  4  4  4\n",
      "                                                   0\n",
      "0  definitely not a 5 star resort i 'm dumbfounde...\n",
      "1  facilities need work xxPERIOD we visited excel...\n",
      "2  excellence was exactly that xxPERIOD my family...\n",
      "3  great service , nice hotel , mediocre food xxP...\n",
      "4  very relaxing experience just returned from my...\n"
     ]
    }
   ],
   "source": [
    "# Load Count\n",
    "sent_count_test = list(open(dataset_dir + sent_num_file[TEST_DATA], \"r\").readlines())\n",
    "sent_count_test = [int(s) for s in sent_count_test if (len(s) > 0 and s != \"\\n\")]\n",
    "print( sent_count_test[0:5] )\n",
    "\n",
    "# Load Ratings\n",
    "aspect_rating_test = list(open(dataset_dir + rating_file[TEST_DATA], \"r\").readlines())\n",
    "aspect_rating_test = [s for s in aspect_rating_test if (len(s) > 0 and s != \"\\n\")]\n",
    "\n",
    "aspect_rating_test = [s.split(\" \") for s in aspect_rating_test]\n",
    "aspect_rating_test = np.array(aspect_rating_test)[:, 0:-1]\n",
    "aspect_rating_test = aspect_rating_test.astype(np.int) - 1\n",
    "aspect_rating_test = pd.DataFrame(aspect_rating_test)\n",
    "print( aspect_rating_test.head() )\n",
    "\n",
    "# Load Sents\n",
    "sents_test = list(open(dataset_dir + content_file[TEST_DATA], \"r\").readlines())\n",
    "sents_test = [s.strip() for s in sents_test]\n",
    "\n",
    "# Sents to Doc\n",
    "docs_test = concat_to_doc(sents_test, sent_count_test)\n",
    "\n",
    "docs_test = pd.DataFrame(docs_test)\n",
    "print( docs_test.head() )"
   ]
  },
  {
   "cell_type": "code",
   "execution_count": 22,
   "metadata": {},
   "outputs": [
    {
     "data": {
      "text/html": [
       "<div>\n",
       "<style scoped>\n",
       "    .dataframe tbody tr th:only-of-type {\n",
       "        vertical-align: middle;\n",
       "    }\n",
       "\n",
       "    .dataframe tbody tr th {\n",
       "        vertical-align: top;\n",
       "    }\n",
       "\n",
       "    .dataframe thead th {\n",
       "        text-align: right;\n",
       "    }\n",
       "</style>\n",
       "<table border=\"1\" class=\"dataframe\">\n",
       "  <thead>\n",
       "    <tr style=\"text-align: right;\">\n",
       "      <th></th>\n",
       "      <th>0</th>\n",
       "      <th>1</th>\n",
       "      <th>2</th>\n",
       "      <th>3</th>\n",
       "      <th>4</th>\n",
       "      <th>5</th>\n",
       "      <th>6</th>\n",
       "    </tr>\n",
       "  </thead>\n",
       "  <tbody>\n",
       "    <tr>\n",
       "      <th>0</th>\n",
       "      <td>1</td>\n",
       "      <td>0</td>\n",
       "      <td>0</td>\n",
       "      <td>3</td>\n",
       "      <td>1</td>\n",
       "      <td>1</td>\n",
       "      <td>definitely not a 5 star resort i 'm dumbfounde...</td>\n",
       "    </tr>\n",
       "    <tr>\n",
       "      <th>1</th>\n",
       "      <td>2</td>\n",
       "      <td>2</td>\n",
       "      <td>1</td>\n",
       "      <td>2</td>\n",
       "      <td>3</td>\n",
       "      <td>3</td>\n",
       "      <td>facilities need work xxPERIOD we visited excel...</td>\n",
       "    </tr>\n",
       "    <tr>\n",
       "      <th>2</th>\n",
       "      <td>4</td>\n",
       "      <td>4</td>\n",
       "      <td>4</td>\n",
       "      <td>3</td>\n",
       "      <td>4</td>\n",
       "      <td>4</td>\n",
       "      <td>excellence was exactly that xxPERIOD my family...</td>\n",
       "    </tr>\n",
       "    <tr>\n",
       "      <th>3</th>\n",
       "      <td>3</td>\n",
       "      <td>2</td>\n",
       "      <td>3</td>\n",
       "      <td>3</td>\n",
       "      <td>3</td>\n",
       "      <td>4</td>\n",
       "      <td>great service , nice hotel , mediocre food xxP...</td>\n",
       "    </tr>\n",
       "    <tr>\n",
       "      <th>4</th>\n",
       "      <td>3</td>\n",
       "      <td>4</td>\n",
       "      <td>3</td>\n",
       "      <td>4</td>\n",
       "      <td>4</td>\n",
       "      <td>4</td>\n",
       "      <td>very relaxing experience just returned from my...</td>\n",
       "    </tr>\n",
       "  </tbody>\n",
       "</table>\n",
       "</div>"
      ],
      "text/plain": [
       "   0  1  2  3  4  5                                                  6\n",
       "0  1  0  0  3  1  1  definitely not a 5 star resort i 'm dumbfounde...\n",
       "1  2  2  1  2  3  3  facilities need work xxPERIOD we visited excel...\n",
       "2  4  4  4  3  4  4  excellence was exactly that xxPERIOD my family...\n",
       "3  3  2  3  3  3  4  great service , nice hotel , mediocre food xxP...\n",
       "4  3  4  3  4  4  4  very relaxing experience just returned from my..."
      ]
     },
     "execution_count": 22,
     "metadata": {},
     "output_type": "execute_result"
    }
   ],
   "source": [
    "df_test = pd.concat( [aspect_rating_test, docs_test], axis=1, ignore_index=True )\n",
    "df_test.head()"
   ]
  },
  {
   "cell_type": "code",
   "execution_count": 23,
   "metadata": {},
   "outputs": [
    {
     "data": {
      "text/plain": [
       "(3739, 7)"
      ]
     },
     "execution_count": 23,
     "metadata": {},
     "output_type": "execute_result"
    }
   ],
   "source": [
    "df_test.shape"
   ]
  },
  {
   "cell_type": "code",
   "execution_count": 24,
   "metadata": {},
   "outputs": [],
   "source": [
    "df_test.to_pickle(\"../../data/hotel_balance_LengthFix1_3000per/df_test.pickle\")"
   ]
  },
  {
   "cell_type": "code",
   "execution_count": null,
   "metadata": {},
   "outputs": [],
   "source": []
  }
 ],
 "metadata": {
  "kernelspec": {
   "display_name": "Python 3.7.7 64-bit ('laam': conda)",
   "language": "python",
   "name": "python37764bitlaamcondaa4094d6ccb3a4464bcae9562ae338a07"
  },
  "language_info": {
   "codemirror_mode": {
    "name": "ipython",
    "version": 3
   },
   "file_extension": ".py",
   "mimetype": "text/x-python",
   "name": "python",
   "nbconvert_exporter": "python",
   "pygments_lexer": "ipython3",
   "version": "3.7.7"
  }
 },
 "nbformat": 4,
 "nbformat_minor": 4
}
