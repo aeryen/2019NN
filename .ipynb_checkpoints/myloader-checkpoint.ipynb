{
 "cells": [
  {
   "cell_type": "code",
   "execution_count": 1,
   "metadata": {},
   "outputs": [],
   "source": [
    "from fastai.text import *\n",
    "from data_helpers.Data import *"
   ]
  },
  {
   "cell_type": "code",
   "execution_count": 2,
   "metadata": {},
   "outputs": [],
   "source": [
    "sent_num_file = [\"aspect_0.count\", \"test_aspect_0.count\"]\n",
    "rating_file = [\"aspect_0.rating\", \"test_aspect_0.rating\"]\n",
    "content_file = [\"aspect_0.txt\", \"test_aspect_0.txt\"]\n",
    "\n",
    "dataset_dir = \"./data/hotel_balance_LengthFix1_3000per/\""
   ]
  },
  {
   "cell_type": "code",
   "execution_count": 3,
   "metadata": {},
   "outputs": [],
   "source": [
    "def concat_to_doc(sent_list, sent_count):\n",
    "    start_index = 0\n",
    "    docs = []\n",
    "    for s in sent_count:\n",
    "        doc = \" . \".join(sent_list[start_index:start_index + s])\n",
    "        docs.append(doc)\n",
    "        start_index = start_index + s\n",
    "    return docs"
   ]
  },
  {
   "cell_type": "code",
   "execution_count": 4,
   "metadata": {},
   "outputs": [],
   "source": [
    "TRAIN_DATA = 0\n",
    "TEST_DATA = 1"
   ]
  },
  {
   "cell_type": "markdown",
   "metadata": {},
   "source": [
    "### load train"
   ]
  },
  {
   "cell_type": "code",
   "execution_count": 5,
   "metadata": {},
   "outputs": [
    {
     "data": {
      "text/plain": [
       "[10, 14, 14, 24, 23]"
      ]
     },
     "execution_count": 5,
     "metadata": {},
     "output_type": "execute_result"
    }
   ],
   "source": [
    "sent_count_train = list(open(dataset_dir + sent_num_file[TRAIN_DATA], \"r\").readlines())\n",
    "sent_count_train = [int(s) for s in sent_count_train if (len(s) > 0 and s != \"\\n\")]\n",
    "sent_count_train[0:5]"
   ]
  },
  {
   "cell_type": "code",
   "execution_count": 6,
   "metadata": {},
   "outputs": [
    {
     "data": {
      "text/plain": [
       "['5 5 5 5 5 5 \\n',\n",
       " '5 4 5 5 5 5 \\n',\n",
       " '2 1 2 2 3 2 \\n',\n",
       " '4 3 4 3 5 4 \\n',\n",
       " '4 3 2 3 3 5 \\n']"
      ]
     },
     "execution_count": 6,
     "metadata": {},
     "output_type": "execute_result"
    }
   ],
   "source": [
    "aspect_rating_train = list(open(dataset_dir + rating_file[TRAIN_DATA], \"r\").readlines())\n",
    "aspect_rating_train = [s for s in aspect_rating_train if (len(s) > 0 and s != \"\\n\")]\n",
    "aspect_rating_train[0:5]"
   ]
  },
  {
   "cell_type": "code",
   "execution_count": 7,
   "metadata": {},
   "outputs": [
    {
     "data": {
      "text/plain": [
       "array([[4, 4, 4, 4, 4, 4],\n",
       "       [4, 3, 4, 4, 4, 4],\n",
       "       [1, 0, 1, 1, 2, 1],\n",
       "       [3, 2, 3, 2, 4, 3],\n",
       "       [3, 2, 1, 2, 2, 4]])"
      ]
     },
     "execution_count": 7,
     "metadata": {},
     "output_type": "execute_result"
    }
   ],
   "source": [
    "aspect_rating_train = [s.split(\" \") for s in aspect_rating_train]\n",
    "aspect_rating_train = np.array(aspect_rating_train)[:, 0:-1]\n",
    "aspect_rating_train = aspect_rating_train.astype(np.int) - 1\n",
    "aspect_rating_train[0:5]"
   ]
  },
  {
   "cell_type": "code",
   "execution_count": 9,
   "metadata": {},
   "outputs": [
    {
     "data": {
      "text/plain": [
       "265556"
      ]
     },
     "execution_count": 9,
     "metadata": {},
     "output_type": "execute_result"
    }
   ],
   "source": [
    "sents_train = list(open(dataset_dir + content_file[TRAIN_DATA], \"r\").readlines())\n",
    "sents_train = [s.strip() for s in sents_train]\n",
    "len(sents_train)"
   ]
  },
  {
   "cell_type": "code",
   "execution_count": 10,
   "metadata": {},
   "outputs": [
    {
     "data": {
      "text/plain": [
       "['we had the most wonderful time at the excellence',\n",
       " 'we opted for the excellence club and it was well worht it for the perks',\n",
       " 'roberto puello who was the club manager did an extra special job of making us feel welcomed',\n",
       " 'we took some great pictures that looked like postcards',\n",
       " 'the food was excellent the pizza was close to being our favorite']"
      ]
     },
     "execution_count": 10,
     "metadata": {},
     "output_type": "execute_result"
    }
   ],
   "source": [
    "sents_train[0:5]"
   ]
  },
  {
   "cell_type": "code",
   "execution_count": 11,
   "metadata": {
    "scrolled": true
   },
   "outputs": [
    {
     "data": {
      "text/plain": [
       "\"we had the most wonderful time at the excellence . we opted for the excellence club and it was well worht it for the perks . roberto puello who was the club manager did an extra special job of making us feel welcomed . we took some great pictures that looked like postcards . the food was excellent the pizza was close to being our favorite . the shows were great especially the michael jackson and the 70's  80's night . the french resturant was probably our favorite . we will definately be back for an anniversary trip . we made some friends but had plenty of privcacy as well . the rooms were great and everytime we left and came back it was cleaned , towels restocked and the bar was as well\""
      ]
     },
     "execution_count": 11,
     "metadata": {},
     "output_type": "execute_result"
    }
   ],
   "source": [
    "docs_train = concat_to_doc(sents_train, sent_count_train)\n",
    "docs_train[0]"
   ]
  },
  {
   "cell_type": "code",
   "execution_count": 13,
   "metadata": {},
   "outputs": [
    {
     "data": {
      "text/html": [
       "<div>\n",
       "<style scoped>\n",
       "    .dataframe tbody tr th:only-of-type {\n",
       "        vertical-align: middle;\n",
       "    }\n",
       "\n",
       "    .dataframe tbody tr th {\n",
       "        vertical-align: top;\n",
       "    }\n",
       "\n",
       "    .dataframe thead th {\n",
       "        text-align: right;\n",
       "    }\n",
       "</style>\n",
       "<table border=\"1\" class=\"dataframe\">\n",
       "  <thead>\n",
       "    <tr style=\"text-align: right;\">\n",
       "      <th></th>\n",
       "      <th>0</th>\n",
       "    </tr>\n",
       "  </thead>\n",
       "  <tbody>\n",
       "    <tr>\n",
       "      <th>0</th>\n",
       "      <td>we had the most wonderful time at the excellen...</td>\n",
       "    </tr>\n",
       "    <tr>\n",
       "      <th>1</th>\n",
       "      <td>a truly fantastic place xmas  we have just ret...</td>\n",
       "    </tr>\n",
       "    <tr>\n",
       "      <th>2</th>\n",
       "      <td>too sick to enjoy the ride to and form the air...</td>\n",
       "    </tr>\n",
       "    <tr>\n",
       "      <th>3</th>\n",
       "      <td>relaxing and fun , but . i rang in the new yea...</td>\n",
       "    </tr>\n",
       "    <tr>\n",
       "      <th>4</th>\n",
       "      <td>somewhat excellence we just returned from a on...</td>\n",
       "    </tr>\n",
       "  </tbody>\n",
       "</table>\n",
       "</div>"
      ],
      "text/plain": [
       "                                                   0\n",
       "0  we had the most wonderful time at the excellen...\n",
       "1  a truly fantastic place xmas  we have just ret...\n",
       "2  too sick to enjoy the ride to and form the air...\n",
       "3  relaxing and fun , but . i rang in the new yea...\n",
       "4  somewhat excellence we just returned from a on..."
      ]
     },
     "execution_count": 13,
     "metadata": {},
     "output_type": "execute_result"
    }
   ],
   "source": [
    "df_train = pd.DataFrame(docs_train)\n",
    "df_train.head()"
   ]
  },
  {
   "cell_type": "code",
   "execution_count": null,
   "metadata": {},
   "outputs": [],
   "source": []
  },
  {
   "cell_type": "markdown",
   "metadata": {},
   "source": [
    "### load test"
   ]
  },
  {
   "cell_type": "code",
   "execution_count": 14,
   "metadata": {},
   "outputs": [
    {
     "data": {
      "text/plain": [
       "[9, 30, 25, 33, 29]"
      ]
     },
     "execution_count": 14,
     "metadata": {},
     "output_type": "execute_result"
    }
   ],
   "source": [
    "sent_count_test = list(open(dataset_dir + sent_num_file[TEST_DATA], \"r\").readlines())\n",
    "sent_count_test = [int(s) for s in sent_count_test if (len(s) > 0 and s != \"\\n\")]\n",
    "sent_count_test[0:5]"
   ]
  },
  {
   "cell_type": "code",
   "execution_count": 15,
   "metadata": {
    "scrolled": true
   },
   "outputs": [
    {
     "data": {
      "text/plain": [
       "['2 1 1 4 2 2 \\n',\n",
       " '3 3 2 3 4 4 \\n',\n",
       " '5 5 5 4 5 5 \\n',\n",
       " '4 3 4 4 4 5 \\n',\n",
       " '4 5 4 5 5 5 \\n']"
      ]
     },
     "execution_count": 15,
     "metadata": {},
     "output_type": "execute_result"
    }
   ],
   "source": [
    "aspect_rating_test = list(open(dataset_dir + rating_file[TEST_DATA], \"r\").readlines())\n",
    "aspect_rating_test = [s for s in aspect_rating_test if (len(s) > 0 and s != \"\\n\")]\n",
    "aspect_rating_test[0:5]"
   ]
  },
  {
   "cell_type": "code",
   "execution_count": 16,
   "metadata": {
    "scrolled": true
   },
   "outputs": [
    {
     "data": {
      "text/plain": [
       "array([[1, 0, 0, 3, 1, 1],\n",
       "       [2, 2, 1, 2, 3, 3],\n",
       "       [4, 4, 4, 3, 4, 4],\n",
       "       [3, 2, 3, 3, 3, 4],\n",
       "       [3, 4, 3, 4, 4, 4]])"
      ]
     },
     "execution_count": 16,
     "metadata": {},
     "output_type": "execute_result"
    }
   ],
   "source": [
    "aspect_rating_test = [s.split(\" \") for s in aspect_rating_test]\n",
    "aspect_rating_test = np.array(aspect_rating_test)[:, 0:-1]\n",
    "aspect_rating_test = aspect_rating_test.astype(np.int) - 1\n",
    "aspect_rating_test[0:5]"
   ]
  },
  {
   "cell_type": "code",
   "execution_count": 17,
   "metadata": {},
   "outputs": [
    {
     "data": {
      "text/plain": [
       "88444"
      ]
     },
     "execution_count": 17,
     "metadata": {},
     "output_type": "execute_result"
    }
   ],
   "source": [
    "sents_test = list(open(dataset_dir + content_file[TEST_DATA], \"r\").readlines())\n",
    "sents_test = [s.strip() for s in sents_test]\n",
    "len(sents_test)"
   ]
  },
  {
   "cell_type": "code",
   "execution_count": 18,
   "metadata": {
    "scrolled": false
   },
   "outputs": [
    {
     "data": {
      "text/plain": [
       "[\"definitely not a 5 star resort i 'm dumbfounded that this hotel gets good reviews and is so highly rated\",\n",
       " \"it 's decidedly a 3 star property , not 5 stars as indicated\",\n",
       " 'the rooms are very dated and run down , old crappy beds and pillows , an old tv and overall poorly maintained',\n",
       " 'the whole property is pretty run down and old - looking',\n",
       " 'the food is subpar , not one meal i had would be called great']"
      ]
     },
     "execution_count": 18,
     "metadata": {},
     "output_type": "execute_result"
    }
   ],
   "source": [
    "sents_test[0:5]"
   ]
  },
  {
   "cell_type": "code",
   "execution_count": 19,
   "metadata": {
    "scrolled": true
   },
   "outputs": [
    {
     "data": {
      "text/plain": [
       "\"definitely not a 5 star resort i 'm dumbfounded that this hotel gets good reviews and is so highly rated . it 's decidedly a 3 star property , not 5 stars as indicated . the rooms are very dated and run down , old crappy beds and pillows , an old tv and overall poorly maintained . the whole property is pretty run down and old - looking . the food is subpar , not one meal i had would be called great . the service is uneven and the staff is poorly trained and uninformed . many do not comprehend english . the beach is great , it 's the only redeeming factor . however the resort is a 1- hour taxi trip from the airport\""
      ]
     },
     "execution_count": 19,
     "metadata": {},
     "output_type": "execute_result"
    }
   ],
   "source": [
    "docs_test = concat_to_doc(sents_test, sent_count_test)\n",
    "docs_test[0]"
   ]
  },
  {
   "cell_type": "code",
   "execution_count": 20,
   "metadata": {},
   "outputs": [
    {
     "data": {
      "text/html": [
       "<div>\n",
       "<style scoped>\n",
       "    .dataframe tbody tr th:only-of-type {\n",
       "        vertical-align: middle;\n",
       "    }\n",
       "\n",
       "    .dataframe tbody tr th {\n",
       "        vertical-align: top;\n",
       "    }\n",
       "\n",
       "    .dataframe thead th {\n",
       "        text-align: right;\n",
       "    }\n",
       "</style>\n",
       "<table border=\"1\" class=\"dataframe\">\n",
       "  <thead>\n",
       "    <tr style=\"text-align: right;\">\n",
       "      <th></th>\n",
       "      <th>0</th>\n",
       "    </tr>\n",
       "  </thead>\n",
       "  <tbody>\n",
       "    <tr>\n",
       "      <th>0</th>\n",
       "      <td>definitely not a 5 star resort i 'm dumbfounde...</td>\n",
       "    </tr>\n",
       "    <tr>\n",
       "      <th>1</th>\n",
       "      <td>facilities need work . we visited excellence f...</td>\n",
       "    </tr>\n",
       "    <tr>\n",
       "      <th>2</th>\n",
       "      <td>excellence was exactly that . my family and i ...</td>\n",
       "    </tr>\n",
       "    <tr>\n",
       "      <th>3</th>\n",
       "      <td>great service , nice hotel , mediocre food . m...</td>\n",
       "    </tr>\n",
       "    <tr>\n",
       "      <th>4</th>\n",
       "      <td>very relaxing experience just returned from my...</td>\n",
       "    </tr>\n",
       "  </tbody>\n",
       "</table>\n",
       "</div>"
      ],
      "text/plain": [
       "                                                   0\n",
       "0  definitely not a 5 star resort i 'm dumbfounde...\n",
       "1  facilities need work . we visited excellence f...\n",
       "2  excellence was exactly that . my family and i ...\n",
       "3  great service , nice hotel , mediocre food . m...\n",
       "4  very relaxing experience just returned from my..."
      ]
     },
     "execution_count": 20,
     "metadata": {},
     "output_type": "execute_result"
    }
   ],
   "source": [
    "df_test = pd.DataFrame(docs_test)\n",
    "df_test.head()"
   ]
  },
  {
   "cell_type": "code",
   "execution_count": null,
   "metadata": {},
   "outputs": [],
   "source": []
  },
  {
   "cell_type": "code",
   "execution_count": 24,
   "metadata": {},
   "outputs": [],
   "source": [
    "lmdb = TextLMDataBunch.from_df(\"./data/\", train_df=df_train, valid_df=df_test, text_cols=0)"
   ]
  },
  {
   "cell_type": "code",
   "execution_count": null,
   "metadata": {},
   "outputs": [],
   "source": []
  },
  {
   "cell_type": "code",
   "execution_count": 27,
   "metadata": {
    "scrolled": true
   },
   "outputs": [
    {
     "data": {
      "text/html": [
       "<table border=\"1\" class=\"dataframe\">\n",
       "  <thead>\n",
       "    <tr style=\"text-align: right;\">\n",
       "      <th>idx</th>\n",
       "      <th>text</th>\n",
       "    </tr>\n",
       "  </thead>\n",
       "  <tbody>\n",
       "    <tr>\n",
       "      <td>0</td>\n",
       "      <td>were great especially the michael jackson and the 70 's 80 's night . the french resturant was probably our favorite . we will definately be back for an anniversary trip . we made some friends but had plenty of xxunk as well . the rooms were great and everytime we left and came back it was cleaned , towels restocked and the bar was as well xxbos a truly</td>\n",
       "    </tr>\n",
       "    <tr>\n",
       "      <td>1</td>\n",
       "      <td>critter outside our room that would not stop chirping . other tips : banana mama 's were great pool drinks , as were coco locos ( drinks served inside coconuts ) . if you 're craving the coconut meat inside the coconut ( which was tasty ) then ask the bartender to crack open the coconut after you ' ve finished your drink . the lobster house was * hot</td>\n",
       "    </tr>\n",
       "    <tr>\n",
       "      <td>2</td>\n",
       "      <td>spanish language , but willing to make an effort . arrival , departure , and transfers , punta cana airport / excellence : among the easiest we??e ever experienced . breezed through customs on arrival , $ 10 visa fee apiece , porters aggressive but manageable . contacted the resort in advance to arrange a taxi , driver was waiting with a sign . xxunk five minutes , sixty bucks</td>\n",
       "    </tr>\n",
       "    <tr>\n",
       "      <td>3</td>\n",
       "      <td>horse ride ) will try to swap you sodas and whiskey ( you can requst bottles at no charge for your mini bar ) for some souvineers . they 'll give $ 25 for jack daniels at the ' walmart shack ' . what ever they gave us a price on , we paid half of the half ( ex : asking $ 100 we gave them $ 25 )</td>\n",
       "    </tr>\n",
       "    <tr>\n",
       "      <td>4</td>\n",
       "      <td>for us . if you??e ever in the usa please look us up ? ? ? . you??e like family to us . great vacation for honeymooner , wedding , anniversaries or if you just want to get away to a quiet and romantic paradise . best part no kids . thanks cecilia garcia xxbos my husband and i are seasoned travellers and we have to say that our eight</td>\n",
       "    </tr>\n",
       "  </tbody>\n",
       "</table>"
      ],
      "text/plain": [
       "<IPython.core.display.HTML object>"
      ]
     },
     "metadata": {},
     "output_type": "display_data"
    }
   ],
   "source": [
    "lmdb.show_batch()"
   ]
  },
  {
   "cell_type": "code",
   "execution_count": null,
   "metadata": {},
   "outputs": [],
   "source": []
  },
  {
   "cell_type": "code",
   "execution_count": 30,
   "metadata": {},
   "outputs": [],
   "source": [
    "x,y = next(iter(lmdb.train_dl))"
   ]
  },
  {
   "cell_type": "code",
   "execution_count": 31,
   "metadata": {},
   "outputs": [
    {
     "data": {
      "text/plain": [
       "tensor([[ 381,  115, 5829,  ..., 3138,   10,   58],\n",
       "        [ 594,   12,   52,  ...,   45,  608,  845],\n",
       "        [  12,   14, 1789,  ...,   19,   66,   24],\n",
       "        ...,\n",
       "        [  34,  607,   11,  ...,   87,   19,   57],\n",
       "        [  28,   28,   16,  ...,   19,   14, 2707],\n",
       "        [   2,  449,  107,  ...,   19,    9, 6772]], device='cuda:0')"
      ]
     },
     "execution_count": 31,
     "metadata": {},
     "output_type": "execute_result"
    }
   ],
   "source": [
    "x"
   ]
  },
  {
   "cell_type": "code",
   "execution_count": 32,
   "metadata": {},
   "outputs": [
    {
     "data": {
      "text/plain": [
       "tensor([[  115,  5829,    16,  ...,    10,    58,   789],\n",
       "        [   12,    52,    21,  ...,   608,   845,    34],\n",
       "        [   14,  1789,  1050,  ...,    66,    24,    82],\n",
       "        ...,\n",
       "        [  607,    11,    12,  ...,    19,    57,    18],\n",
       "        [   28,    16, 10502,  ...,    14,  2707,  1339],\n",
       "        [  449,   107,     9,  ...,     9,  6772,    15]], device='cuda:0')"
      ]
     },
     "execution_count": 32,
     "metadata": {},
     "output_type": "execute_result"
    }
   ],
   "source": [
    "y"
   ]
  },
  {
   "cell_type": "code",
   "execution_count": 33,
   "metadata": {},
   "outputs": [
    {
     "data": {
      "text/plain": [
       "torch.Tensor"
      ]
     },
     "execution_count": 33,
     "metadata": {},
     "output_type": "execute_result"
    }
   ],
   "source": [
    "type(x)"
   ]
  },
  {
   "cell_type": "code",
   "execution_count": 37,
   "metadata": {},
   "outputs": [
    {
     "data": {
      "text/html": [
       "<div>\n",
       "<style scoped>\n",
       "    .dataframe tbody tr th:only-of-type {\n",
       "        vertical-align: middle;\n",
       "    }\n",
       "\n",
       "    .dataframe tbody tr th {\n",
       "        vertical-align: top;\n",
       "    }\n",
       "\n",
       "    .dataframe thead th {\n",
       "        text-align: right;\n",
       "    }\n",
       "</style>\n",
       "<table border=\"1\" class=\"dataframe\">\n",
       "  <thead>\n",
       "    <tr style=\"text-align: right;\">\n",
       "      <th></th>\n",
       "      <th>0</th>\n",
       "      <th>1</th>\n",
       "      <th>2</th>\n",
       "      <th>3</th>\n",
       "      <th>4</th>\n",
       "      <th>5</th>\n",
       "      <th>6</th>\n",
       "      <th>7</th>\n",
       "      <th>8</th>\n",
       "      <th>9</th>\n",
       "      <th>10</th>\n",
       "      <th>11</th>\n",
       "      <th>12</th>\n",
       "      <th>13</th>\n",
       "      <th>14</th>\n",
       "    </tr>\n",
       "  </thead>\n",
       "  <tbody>\n",
       "    <tr>\n",
       "      <th>0</th>\n",
       "      <td>tensor(381)</td>\n",
       "      <td>tensor(115)</td>\n",
       "      <td>tensor(5829)</td>\n",
       "      <td>tensor(16)</td>\n",
       "      <td>tensor(39)</td>\n",
       "      <td>tensor(65)</td>\n",
       "      <td>tensor(361)</td>\n",
       "      <td>tensor(49)</td>\n",
       "      <td>tensor(14)</td>\n",
       "      <td>tensor(106)</td>\n",
       "      <td>tensor(186)</td>\n",
       "      <td>tensor(5829)</td>\n",
       "      <td>tensor(212)</td>\n",
       "      <td>tensor(297)</td>\n",
       "      <td>tensor(962)</td>\n",
       "    </tr>\n",
       "    <tr>\n",
       "      <th>1</th>\n",
       "      <td>tensor(594)</td>\n",
       "      <td>tensor(12)</td>\n",
       "      <td>tensor(52)</td>\n",
       "      <td>tensor(21)</td>\n",
       "      <td>tensor(84)</td>\n",
       "      <td>tensor(121)</td>\n",
       "      <td>tensor(14)</td>\n",
       "      <td>tensor(268)</td>\n",
       "      <td>tensor(69)</td>\n",
       "      <td>tensor(17)</td>\n",
       "      <td>tensor(53)</td>\n",
       "      <td>tensor(20)</td>\n",
       "      <td>tensor(204)</td>\n",
       "      <td>tensor(703)</td>\n",
       "      <td>tensor(36)</td>\n",
       "    </tr>\n",
       "    <tr>\n",
       "      <th>2</th>\n",
       "      <td>tensor(12)</td>\n",
       "      <td>tensor(14)</td>\n",
       "      <td>tensor(1789)</td>\n",
       "      <td>tensor(1050)</td>\n",
       "      <td>tensor(341)</td>\n",
       "      <td>tensor(420)</td>\n",
       "      <td>tensor(239)</td>\n",
       "      <td>tensor(25)</td>\n",
       "      <td>tensor(408)</td>\n",
       "      <td>tensor(10)</td>\n",
       "      <td>tensor(9)</td>\n",
       "      <td>tensor(865)</td>\n",
       "      <td>tensor(248)</td>\n",
       "      <td>tensor(13)</td>\n",
       "      <td>tensor(1421)</td>\n",
       "    </tr>\n",
       "    <tr>\n",
       "      <th>3</th>\n",
       "      <td>tensor(10)</td>\n",
       "      <td>tensor(52)</td>\n",
       "      <td>tensor(23)</td>\n",
       "      <td>tensor(65)</td>\n",
       "      <td>tensor(535)</td>\n",
       "      <td>tensor(13)</td>\n",
       "      <td>tensor(166)</td>\n",
       "      <td>tensor(23)</td>\n",
       "      <td>tensor(368)</td>\n",
       "      <td>tensor(169)</td>\n",
       "      <td>tensor(13)</td>\n",
       "      <td>tensor(141)</td>\n",
       "      <td>tensor(104)</td>\n",
       "      <td>tensor(681)</td>\n",
       "      <td>tensor(25)</td>\n",
       "    </tr>\n",
       "    <tr>\n",
       "      <th>4</th>\n",
       "      <td>tensor(69)</td>\n",
       "      <td>tensor(87)</td>\n",
       "      <td>tensor(25)</td>\n",
       "      <td>tensor(408)</td>\n",
       "      <td>tensor(184)</td>\n",
       "      <td>tensor(185)</td>\n",
       "      <td>tensor(502)</td>\n",
       "      <td>tensor(1054)</td>\n",
       "      <td>tensor(914)</td>\n",
       "      <td>tensor(13)</td>\n",
       "      <td>tensor(9)</td>\n",
       "      <td>tensor(2721)</td>\n",
       "      <td>tensor(15)</td>\n",
       "      <td>tensor(9)</td>\n",
       "      <td>tensor(57)</td>\n",
       "    </tr>\n",
       "    <tr>\n",
       "      <th>5</th>\n",
       "      <td>tensor(494)</td>\n",
       "      <td>tensor(34)</td>\n",
       "      <td>tensor(35)</td>\n",
       "      <td>tensor(9)</td>\n",
       "      <td>tensor(1085)</td>\n",
       "      <td>tensor(69)</td>\n",
       "      <td>tensor(10)</td>\n",
       "      <td>tensor(882)</td>\n",
       "      <td>tensor(499)</td>\n",
       "      <td>tensor(123)</td>\n",
       "      <td>tensor(290)</td>\n",
       "      <td>tensor(19)</td>\n",
       "      <td>tensor(9)</td>\n",
       "      <td>tensor(178)</td>\n",
       "      <td>tensor(24)</td>\n",
       "    </tr>\n",
       "    <tr>\n",
       "      <th>6</th>\n",
       "      <td>tensor(526)</td>\n",
       "      <td>tensor(25)</td>\n",
       "      <td>tensor(86)</td>\n",
       "      <td>tensor(11)</td>\n",
       "      <td>tensor(244)</td>\n",
       "      <td>tensor(10)</td>\n",
       "      <td>tensor(73)</td>\n",
       "      <td>tensor(15)</td>\n",
       "      <td>tensor(99)</td>\n",
       "      <td>tensor(77)</td>\n",
       "      <td>tensor(10)</td>\n",
       "      <td>tensor(273)</td>\n",
       "      <td>tensor(36)</td>\n",
       "      <td>tensor(33)</td>\n",
       "      <td>tensor(0)</td>\n",
       "    </tr>\n",
       "    <tr>\n",
       "      <th>7</th>\n",
       "      <td>tensor(162)</td>\n",
       "      <td>tensor(21)</td>\n",
       "      <td>tensor(15)</td>\n",
       "      <td>tensor(1077)</td>\n",
       "      <td>tensor(80)</td>\n",
       "      <td>tensor(1667)</td>\n",
       "      <td>tensor(218)</td>\n",
       "      <td>tensor(10)</td>\n",
       "      <td>tensor(9)</td>\n",
       "      <td>tensor(51)</td>\n",
       "      <td>tensor(15)</td>\n",
       "      <td>tensor(303)</td>\n",
       "      <td>tensor(10)</td>\n",
       "      <td>tensor(21)</td>\n",
       "      <td>tensor(15)</td>\n",
       "    </tr>\n",
       "    <tr>\n",
       "      <th>8</th>\n",
       "      <td>tensor(159)</td>\n",
       "      <td>tensor(13)</td>\n",
       "      <td>tensor(82)</td>\n",
       "      <td>tensor(3996)</td>\n",
       "      <td>tensor(10)</td>\n",
       "      <td>tensor(16)</td>\n",
       "      <td>tensor(26)</td>\n",
       "      <td>tensor(1459)</td>\n",
       "      <td>tensor(9)</td>\n",
       "      <td>tensor(947)</td>\n",
       "      <td>tensor(11)</td>\n",
       "      <td>tensor(792)</td>\n",
       "      <td>tensor(595)</td>\n",
       "      <td>tensor(11)</td>\n",
       "      <td>tensor(150)</td>\n",
       "    </tr>\n",
       "    <tr>\n",
       "      <th>9</th>\n",
       "      <td>tensor(406)</td>\n",
       "      <td>tensor(19)</td>\n",
       "      <td>tensor(9)</td>\n",
       "      <td>tensor(479)</td>\n",
       "      <td>tensor(75)</td>\n",
       "      <td>tensor(10)</td>\n",
       "      <td>tensor(311)</td>\n",
       "      <td>tensor(14)</td>\n",
       "      <td>tensor(4961)</td>\n",
       "      <td>tensor(10)</td>\n",
       "      <td>tensor(1643)</td>\n",
       "      <td>tensor(9)</td>\n",
       "      <td>tensor(213)</td>\n",
       "      <td>tensor(92)</td>\n",
       "      <td>tensor(20)</td>\n",
       "    </tr>\n",
       "    <tr>\n",
       "      <th>10</th>\n",
       "      <td>tensor(2426)</td>\n",
       "      <td>tensor(332)</td>\n",
       "      <td>tensor(39)</td>\n",
       "      <td>tensor(7095)</td>\n",
       "      <td>tensor(21)</td>\n",
       "      <td>tensor(19)</td>\n",
       "      <td>tensor(11494)</td>\n",
       "      <td>tensor(12)</td>\n",
       "      <td>tensor(2028)</td>\n",
       "      <td>tensor(10)</td>\n",
       "      <td>tensor(9)</td>\n",
       "      <td>tensor(475)</td>\n",
       "      <td>tensor(233)</td>\n",
       "      <td>tensor(74)</td>\n",
       "      <td>tensor(9)</td>\n",
       "    </tr>\n",
       "    <tr>\n",
       "      <th>11</th>\n",
       "      <td>tensor(18511)</td>\n",
       "      <td>tensor(151)</td>\n",
       "      <td>tensor(59)</td>\n",
       "      <td>tensor(74)</td>\n",
       "      <td>tensor(382)</td>\n",
       "      <td>tensor(1188)</td>\n",
       "      <td>tensor(191)</td>\n",
       "      <td>tensor(20)</td>\n",
       "      <td>tensor(13)</td>\n",
       "      <td>tensor(1945)</td>\n",
       "      <td>tensor(34)</td>\n",
       "      <td>tensor(1786)</td>\n",
       "      <td>tensor(31)</td>\n",
       "      <td>tensor(9)</td>\n",
       "      <td>tensor(1886)</td>\n",
       "    </tr>\n",
       "    <tr>\n",
       "      <th>12</th>\n",
       "      <td>tensor(73)</td>\n",
       "      <td>tensor(32)</td>\n",
       "      <td>tensor(38)</td>\n",
       "      <td>tensor(2591)</td>\n",
       "      <td>tensor(15)</td>\n",
       "      <td>tensor(9)</td>\n",
       "      <td>tensor(2117)</td>\n",
       "      <td>tensor(155)</td>\n",
       "      <td>tensor(30)</td>\n",
       "      <td>tensor(455)</td>\n",
       "      <td>tensor(49)</td>\n",
       "      <td>tensor(58)</td>\n",
       "      <td>tensor(13)</td>\n",
       "      <td>tensor(250)</td>\n",
       "      <td>tensor(10)</td>\n",
       "    </tr>\n",
       "    <tr>\n",
       "      <th>13</th>\n",
       "      <td>tensor(433)</td>\n",
       "      <td>tensor(13)</td>\n",
       "      <td>tensor(719)</td>\n",
       "      <td>tensor(14)</td>\n",
       "      <td>tensor(35)</td>\n",
       "      <td>tensor(30)</td>\n",
       "      <td>tensor(9)</td>\n",
       "      <td>tensor(383)</td>\n",
       "      <td>tensor(63)</td>\n",
       "      <td>tensor(701)</td>\n",
       "      <td>tensor(177)</td>\n",
       "      <td>tensor(24)</td>\n",
       "      <td>tensor(0)</td>\n",
       "      <td>tensor(205)</td>\n",
       "      <td>tensor(987)</td>\n",
       "    </tr>\n",
       "    <tr>\n",
       "      <th>14</th>\n",
       "      <td>tensor(22)</td>\n",
       "      <td>tensor(9)</td>\n",
       "      <td>tensor(1232)</td>\n",
       "      <td>tensor(66)</td>\n",
       "      <td>tensor(17)</td>\n",
       "      <td>tensor(39)</td>\n",
       "      <td>tensor(107)</td>\n",
       "      <td>tensor(25)</td>\n",
       "      <td>tensor(76)</td>\n",
       "      <td>tensor(2666)</td>\n",
       "      <td>tensor(12)</td>\n",
       "      <td>tensor(36)</td>\n",
       "      <td>tensor(15)</td>\n",
       "      <td>tensor(209)</td>\n",
       "      <td>tensor(104)</td>\n",
       "    </tr>\n",
       "  </tbody>\n",
       "</table>\n",
       "</div>"
      ],
      "text/plain": [
       "               0            1             2             3             4   \\\n",
       "0     tensor(381)  tensor(115)  tensor(5829)    tensor(16)    tensor(39)   \n",
       "1     tensor(594)   tensor(12)    tensor(52)    tensor(21)    tensor(84)   \n",
       "2      tensor(12)   tensor(14)  tensor(1789)  tensor(1050)   tensor(341)   \n",
       "3      tensor(10)   tensor(52)    tensor(23)    tensor(65)   tensor(535)   \n",
       "4      tensor(69)   tensor(87)    tensor(25)   tensor(408)   tensor(184)   \n",
       "5     tensor(494)   tensor(34)    tensor(35)     tensor(9)  tensor(1085)   \n",
       "6     tensor(526)   tensor(25)    tensor(86)    tensor(11)   tensor(244)   \n",
       "7     tensor(162)   tensor(21)    tensor(15)  tensor(1077)    tensor(80)   \n",
       "8     tensor(159)   tensor(13)    tensor(82)  tensor(3996)    tensor(10)   \n",
       "9     tensor(406)   tensor(19)     tensor(9)   tensor(479)    tensor(75)   \n",
       "10   tensor(2426)  tensor(332)    tensor(39)  tensor(7095)    tensor(21)   \n",
       "11  tensor(18511)  tensor(151)    tensor(59)    tensor(74)   tensor(382)   \n",
       "12     tensor(73)   tensor(32)    tensor(38)  tensor(2591)    tensor(15)   \n",
       "13    tensor(433)   tensor(13)   tensor(719)    tensor(14)    tensor(35)   \n",
       "14     tensor(22)    tensor(9)  tensor(1232)    tensor(66)    tensor(17)   \n",
       "\n",
       "              5              6             7             8             9   \\\n",
       "0     tensor(65)    tensor(361)    tensor(49)    tensor(14)   tensor(106)   \n",
       "1    tensor(121)     tensor(14)   tensor(268)    tensor(69)    tensor(17)   \n",
       "2    tensor(420)    tensor(239)    tensor(25)   tensor(408)    tensor(10)   \n",
       "3     tensor(13)    tensor(166)    tensor(23)   tensor(368)   tensor(169)   \n",
       "4    tensor(185)    tensor(502)  tensor(1054)   tensor(914)    tensor(13)   \n",
       "5     tensor(69)     tensor(10)   tensor(882)   tensor(499)   tensor(123)   \n",
       "6     tensor(10)     tensor(73)    tensor(15)    tensor(99)    tensor(77)   \n",
       "7   tensor(1667)    tensor(218)    tensor(10)     tensor(9)    tensor(51)   \n",
       "8     tensor(16)     tensor(26)  tensor(1459)     tensor(9)   tensor(947)   \n",
       "9     tensor(10)    tensor(311)    tensor(14)  tensor(4961)    tensor(10)   \n",
       "10    tensor(19)  tensor(11494)    tensor(12)  tensor(2028)    tensor(10)   \n",
       "11  tensor(1188)    tensor(191)    tensor(20)    tensor(13)  tensor(1945)   \n",
       "12     tensor(9)   tensor(2117)   tensor(155)    tensor(30)   tensor(455)   \n",
       "13    tensor(30)      tensor(9)   tensor(383)    tensor(63)   tensor(701)   \n",
       "14    tensor(39)    tensor(107)    tensor(25)    tensor(76)  tensor(2666)   \n",
       "\n",
       "              10            11           12           13            14  \n",
       "0    tensor(186)  tensor(5829)  tensor(212)  tensor(297)   tensor(962)  \n",
       "1     tensor(53)    tensor(20)  tensor(204)  tensor(703)    tensor(36)  \n",
       "2      tensor(9)   tensor(865)  tensor(248)   tensor(13)  tensor(1421)  \n",
       "3     tensor(13)   tensor(141)  tensor(104)  tensor(681)    tensor(25)  \n",
       "4      tensor(9)  tensor(2721)   tensor(15)    tensor(9)    tensor(57)  \n",
       "5    tensor(290)    tensor(19)    tensor(9)  tensor(178)    tensor(24)  \n",
       "6     tensor(10)   tensor(273)   tensor(36)   tensor(33)     tensor(0)  \n",
       "7     tensor(15)   tensor(303)   tensor(10)   tensor(21)    tensor(15)  \n",
       "8     tensor(11)   tensor(792)  tensor(595)   tensor(11)   tensor(150)  \n",
       "9   tensor(1643)     tensor(9)  tensor(213)   tensor(92)    tensor(20)  \n",
       "10     tensor(9)   tensor(475)  tensor(233)   tensor(74)     tensor(9)  \n",
       "11    tensor(34)  tensor(1786)   tensor(31)    tensor(9)  tensor(1886)  \n",
       "12    tensor(49)    tensor(58)   tensor(13)  tensor(250)    tensor(10)  \n",
       "13   tensor(177)    tensor(24)    tensor(0)  tensor(205)   tensor(987)  \n",
       "14    tensor(12)    tensor(36)   tensor(15)  tensor(209)   tensor(104)  "
      ]
     },
     "execution_count": 37,
     "metadata": {},
     "output_type": "execute_result"
    }
   ],
   "source": [
    "pd.DataFrame(x[:15,:15].cpu())"
   ]
  },
  {
   "cell_type": "code",
   "execution_count": null,
   "metadata": {},
   "outputs": [],
   "source": [
    "pd.DataFrame([lmdb.train_ds.vocab.textify(l).split(' ') for l in example])"
   ]
  }
 ],
 "metadata": {
  "kernelspec": {
   "display_name": "Python 3",
   "language": "python",
   "name": "python3"
  }
 },
 "nbformat": 4,
 "nbformat_minor": 2
}
