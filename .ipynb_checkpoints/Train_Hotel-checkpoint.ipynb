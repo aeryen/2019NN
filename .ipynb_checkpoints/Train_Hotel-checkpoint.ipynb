{
 "cells": [
  {
   "cell_type": "code",
   "execution_count": 1,
   "metadata": {},
   "outputs": [],
   "source": [
    "%reload_ext autoreload\n",
    "%autoreload 2\n",
    "%matplotlib inline"
   ]
  },
  {
   "cell_type": "code",
   "execution_count": 1,
   "metadata": {
    "colab": {
     "base_uri": "https://localhost:8080/",
     "height": 34
    },
    "colab_type": "code",
    "executionInfo": {
     "elapsed": 653,
     "status": "ok",
     "timestamp": 1562730391921,
     "user": {
      "displayName": "aeryen Z",
      "photoUrl": "https://lh5.googleusercontent.com/-zacgMaFtor8/AAAAAAAAAAI/AAAAAAAAE4Q/iwA-N_TLGA8/s64/photo.jpg",
      "userId": "01125454621554722334"
     },
     "user_tz": 300
    },
    "id": "WTIB5x48Bc1m",
    "outputId": "3b25c1b8-d4d4-476b-aaca-bfe8cdaeb4da"
   },
   "outputs": [
    {
     "name": "stdout",
     "output_type": "stream",
     "text": [
      "Drive already mounted at /content/gdrive; to attempt to forcibly remount, call drive.mount(\"/content/gdrive\", force_remount=True).\n"
     ]
    }
   ],
   "source": [
    "from google.colab import drive\n",
    "drive.mount('/content/gdrive')"
   ]
  },
  {
   "cell_type": "code",
   "execution_count": 2,
   "metadata": {
    "colab": {
     "base_uri": "https://localhost:8080/",
     "height": 34
    },
    "colab_type": "code",
    "executionInfo": {
     "elapsed": 1153,
     "status": "ok",
     "timestamp": 1562730392436,
     "user": {
      "displayName": "aeryen Z",
      "photoUrl": "https://lh5.googleusercontent.com/-zacgMaFtor8/AAAAAAAAAAI/AAAAAAAAE4Q/iwA-N_TLGA8/s64/photo.jpg",
      "userId": "01125454621554722334"
     },
     "user_tz": 300
    },
    "id": "7iOVNdpnBnka",
    "outputId": "a1761c1d-ca1d-456c-86eb-153dc4bc624f"
   },
   "outputs": [
    {
     "name": "stdout",
     "output_type": "stream",
     "text": [
      "/content/gdrive/My Drive/Colab Notebooks/2019NN\n"
     ]
    }
   ],
   "source": [
    "%cd /content/gdrive/My Drive/Colab Notebooks/2019NN/"
   ]
  },
  {
   "cell_type": "code",
   "execution_count": 2,
   "metadata": {
    "colab": {
     "base_uri": "https://localhost:8080/",
     "height": 85
    },
    "colab_type": "code",
    "executionInfo": {
     "elapsed": 2938,
     "status": "ok",
     "timestamp": 1562730394237,
     "user": {
      "displayName": "aeryen Z",
      "photoUrl": "https://lh5.googleusercontent.com/-zacgMaFtor8/AAAAAAAAAAI/AAAAAAAAE4Q/iwA-N_TLGA8/s64/photo.jpg",
      "userId": "01125454621554722334"
     },
     "user_tz": 300
    },
    "id": "7EE9qSuEBuAw",
    "outputId": "e99edeaf-2a42-4db0-d51c-cc0cc216b903"
   },
   "outputs": [
    {
     "name": "stdout",
     "output_type": "stream",
     "text": [
      "data\t\t\t     myloader.py  torch_exp.ipynb\n",
      "data_helpers\t\t     notes.ipynb  Train_Hotel.ipynb\n",
      "LMTrainer_Hotel_colab.ipynb  notes.py\n",
      "LMTrainer_Hotel_orig.ipynb   text.ipynb\n"
     ]
    }
   ],
   "source": [
    "!ls"
   ]
  },
  {
   "cell_type": "markdown",
   "metadata": {
    "colab_type": "text",
    "id": "afrCQUiGB4PO"
   },
   "source": [
    "# Start"
   ]
  },
  {
   "cell_type": "code",
   "execution_count": 3,
   "metadata": {
    "colab": {},
    "colab_type": "code",
    "id": "zWnO59eDBv6m"
   },
   "outputs": [],
   "source": [
    "from fastai.text import *\n",
    "from data_helpers.Data import *"
   ]
  },
  {
   "cell_type": "code",
   "execution_count": 4,
   "metadata": {
    "colab": {},
    "colab_type": "code",
    "id": "EuPs0Wo1CTtu"
   },
   "outputs": [],
   "source": [
    "from fastai.text.transform import *"
   ]
  },
  {
   "cell_type": "code",
   "execution_count": 5,
   "metadata": {},
   "outputs": [
    {
     "data": {
      "text/plain": [
       "True"
      ]
     },
     "execution_count": 5,
     "metadata": {},
     "output_type": "execute_result"
    }
   ],
   "source": [
    "torch.cuda.is_available()"
   ]
  },
  {
   "cell_type": "code",
   "execution_count": 9,
   "metadata": {
    "colab": {},
    "colab_type": "code",
    "id": "XO6heDh_UXhG"
   },
   "outputs": [],
   "source": [
    "sent_num_file = [\"aspect_0.count\", \"test_aspect_0.count\"]\n",
    "rating_file = [\"aspect_0.rating\", \"test_aspect_0.rating\"]\n",
    "content_file = [\"aspect_0.txt\", \"test_aspect_0.txt\"]\n",
    "\n",
    "dataset_dir = \"./data/hotel_balance_LengthFix1_3000per/\""
   ]
  },
  {
   "cell_type": "code",
   "execution_count": 10,
   "metadata": {
    "colab": {},
    "colab_type": "code",
    "id": "e_gf-HvfUbWY"
   },
   "outputs": [],
   "source": [
    "def concat_to_doc(sent_list, sent_count):\n",
    "    start_index = 0\n",
    "    docs = []\n",
    "    for s in sent_count:\n",
    "        doc = \" xxPERIOD \".join(sent_list[start_index:start_index + s])\n",
    "        doc = doc + \" xxPERIOD \"\n",
    "        docs.append(doc)\n",
    "        start_index = start_index + s\n",
    "    return docs"
   ]
  },
  {
   "cell_type": "code",
   "execution_count": 11,
   "metadata": {
    "colab": {},
    "colab_type": "code",
    "id": "e57dcDj_UcTW"
   },
   "outputs": [],
   "source": [
    "TRAIN_DATA = 0\n",
    "TEST_DATA = 1"
   ]
  },
  {
   "cell_type": "code",
   "execution_count": 12,
   "metadata": {
    "colab": {
     "base_uri": "https://localhost:8080/",
     "height": 173
    },
    "colab_type": "code",
    "executionInfo": {
     "elapsed": 2276,
     "status": "ok",
     "timestamp": 1562730774115,
     "user": {
      "displayName": "aeryen Z",
      "photoUrl": "https://lh5.googleusercontent.com/-zacgMaFtor8/AAAAAAAAAAI/AAAAAAAAE4Q/iwA-N_TLGA8/s64/photo.jpg",
      "userId": "01125454621554722334"
     },
     "user_tz": 300
    },
    "id": "8kg5bDZcUdO_",
    "outputId": "d751c366-e6a7-4eeb-c970-c8e7f165921f"
   },
   "outputs": [
    {
     "name": "stdout",
     "output_type": "stream",
     "text": [
      "[10, 14, 14, 24, 23]\n",
      "   0  1  2  3  4  5\n",
      "0  4  4  4  4  4  4\n",
      "1  4  3  4  4  4  4\n",
      "2  1  0  1  1  2  1\n",
      "3  3  2  3  2  4  3\n",
      "4  3  2  1  2  2  4\n",
      "['we had the most wonderful time at the excellence', 'we opted for the excellence club and it was well worht it for the perks', 'roberto puello who was the club manager did an extra special job of making us feel welcomed', 'we took some great pictures that looked like postcards', 'the food was excellent the pizza was close to being our favorite']\n"
     ]
    }
   ],
   "source": [
    "# Load Count\n",
    "sent_count_train = list(open(dataset_dir + sent_num_file[TRAIN_DATA], \"r\").readlines())\n",
    "sent_count_train = [int(s) for s in sent_count_train if (len(s) > 0 and s != \"\\n\")]\n",
    "print( sent_count_train[0:5] )\n",
    "\n",
    "# Load Ratings\n",
    "aspect_rating_train = list(open(dataset_dir + rating_file[TRAIN_DATA], \"r\").readlines())\n",
    "aspect_rating_train = [s for s in aspect_rating_train if (len(s) > 0 and s != \"\\n\")]\n",
    "\n",
    "aspect_rating_train = [s.split(\" \") for s in aspect_rating_train]\n",
    "aspect_rating_train = np.array(aspect_rating_train)[:, 0:-1]\n",
    "aspect_rating_train = aspect_rating_train.astype(np.int) - 1\n",
    "aspect_rating_train = pd.DataFrame(aspect_rating_train)\n",
    "print( aspect_rating_train.head() )\n",
    "\n",
    "# Load Sents\n",
    "sents_train = list(open(dataset_dir + content_file[TRAIN_DATA], \"r\").readlines())\n",
    "sents_train = [s.strip() for s in sents_train]\n",
    "print( sents_train[0:5] )"
   ]
  },
  {
   "cell_type": "code",
   "execution_count": 13,
   "metadata": {
    "colab": {
     "base_uri": "https://localhost:8080/",
     "height": 204
    },
    "colab_type": "code",
    "executionInfo": {
     "elapsed": 470,
     "status": "ok",
     "timestamp": 1562730774697,
     "user": {
      "displayName": "aeryen Z",
      "photoUrl": "https://lh5.googleusercontent.com/-zacgMaFtor8/AAAAAAAAAAI/AAAAAAAAE4Q/iwA-N_TLGA8/s64/photo.jpg",
      "userId": "01125454621554722334"
     },
     "user_tz": 300
    },
    "id": "hVf-aEFDspR7",
    "outputId": "e092ade4-2c8e-4c20-bed3-78ccf8d7c47d"
   },
   "outputs": [
    {
     "data": {
      "text/html": [
       "<div>\n",
       "<style scoped>\n",
       "    .dataframe tbody tr th:only-of-type {\n",
       "        vertical-align: middle;\n",
       "    }\n",
       "\n",
       "    .dataframe tbody tr th {\n",
       "        vertical-align: top;\n",
       "    }\n",
       "\n",
       "    .dataframe thead th {\n",
       "        text-align: right;\n",
       "    }\n",
       "</style>\n",
       "<table border=\"1\" class=\"dataframe\">\n",
       "  <thead>\n",
       "    <tr style=\"text-align: right;\">\n",
       "      <th></th>\n",
       "      <th>0</th>\n",
       "    </tr>\n",
       "  </thead>\n",
       "  <tbody>\n",
       "    <tr>\n",
       "      <th>0</th>\n",
       "      <td>we had the most wonderful time at the excellen...</td>\n",
       "    </tr>\n",
       "    <tr>\n",
       "      <th>1</th>\n",
       "      <td>a truly fantastic place xmas  we have just ret...</td>\n",
       "    </tr>\n",
       "    <tr>\n",
       "      <th>2</th>\n",
       "      <td>too sick to enjoy the ride to and form the air...</td>\n",
       "    </tr>\n",
       "    <tr>\n",
       "      <th>3</th>\n",
       "      <td>relaxing and fun , but xxPERIOD i rang in the ...</td>\n",
       "    </tr>\n",
       "    <tr>\n",
       "      <th>4</th>\n",
       "      <td>somewhat excellence we just returned from a on...</td>\n",
       "    </tr>\n",
       "  </tbody>\n",
       "</table>\n",
       "</div>"
      ],
      "text/plain": [
       "                                                   0\n",
       "0  we had the most wonderful time at the excellen...\n",
       "1  a truly fantastic place xmas  we have just ret...\n",
       "2  too sick to enjoy the ride to and form the air...\n",
       "3  relaxing and fun , but xxPERIOD i rang in the ...\n",
       "4  somewhat excellence we just returned from a on..."
      ]
     },
     "execution_count": 13,
     "metadata": {},
     "output_type": "execute_result"
    }
   ],
   "source": [
    "docs_train = concat_to_doc(sents_train, sent_count_train)\n",
    "\n",
    "docs_train = pd.DataFrame(docs_train)\n",
    "\n",
    "docs_train.head()"
   ]
  },
  {
   "cell_type": "code",
   "execution_count": 14,
   "metadata": {
    "colab": {
     "base_uri": "https://localhost:8080/",
     "height": 54
    },
    "colab_type": "code",
    "executionInfo": {
     "elapsed": 707,
     "status": "ok",
     "timestamp": 1562730790791,
     "user": {
      "displayName": "aeryen Z",
      "photoUrl": "https://lh5.googleusercontent.com/-zacgMaFtor8/AAAAAAAAAAI/AAAAAAAAE4Q/iwA-N_TLGA8/s64/photo.jpg",
      "userId": "01125454621554722334"
     },
     "user_tz": 300
    },
    "id": "u7nKTQSlv8yP",
    "outputId": "8a8ba8eb-00f4-45ef-ad95-75a6e2e2715a"
   },
   "outputs": [
    {
     "data": {
      "text/plain": [
       "\"we had the most wonderful time at the excellence xxPERIOD we opted for the excellence club and it was well worht it for the perks xxPERIOD roberto puello who was the club manager did an extra special job of making us feel welcomed xxPERIOD we took some great pictures that looked like postcards xxPERIOD the food was excellent the pizza was close to being our favorite xxPERIOD the shows were great especially the michael jackson and the 70's  80's night xxPERIOD the french resturant was probably our favorite xxPERIOD we will definately be back for an anniversary trip xxPERIOD we made some friends but had plenty of privcacy as well xxPERIOD the rooms were great and everytime we left and came back it was cleaned , towels restocked and the bar was as well xxPERIOD \""
      ]
     },
     "execution_count": 14,
     "metadata": {},
     "output_type": "execute_result"
    }
   ],
   "source": [
    "docs_train.iloc[0][0]"
   ]
  },
  {
   "cell_type": "code",
   "execution_count": 18,
   "metadata": {
    "colab": {
     "base_uri": "https://localhost:8080/",
     "height": 204
    },
    "colab_type": "code",
    "executionInfo": {
     "elapsed": 853,
     "status": "ok",
     "timestamp": 1562730793625,
     "user": {
      "displayName": "aeryen Z",
      "photoUrl": "https://lh5.googleusercontent.com/-zacgMaFtor8/AAAAAAAAAAI/AAAAAAAAE4Q/iwA-N_TLGA8/s64/photo.jpg",
      "userId": "01125454621554722334"
     },
     "user_tz": 300
    },
    "id": "5zr2N7XnslY2",
    "outputId": "acb83e24-36de-4754-8e52-fecd6c06e51a"
   },
   "outputs": [
    {
     "data": {
      "text/html": [
       "<div>\n",
       "<style scoped>\n",
       "    .dataframe tbody tr th:only-of-type {\n",
       "        vertical-align: middle;\n",
       "    }\n",
       "\n",
       "    .dataframe tbody tr th {\n",
       "        vertical-align: top;\n",
       "    }\n",
       "\n",
       "    .dataframe thead th {\n",
       "        text-align: right;\n",
       "    }\n",
       "</style>\n",
       "<table border=\"1\" class=\"dataframe\">\n",
       "  <thead>\n",
       "    <tr style=\"text-align: right;\">\n",
       "      <th></th>\n",
       "      <th>0</th>\n",
       "      <th>1</th>\n",
       "      <th>2</th>\n",
       "      <th>3</th>\n",
       "      <th>4</th>\n",
       "      <th>5</th>\n",
       "      <th>6</th>\n",
       "    </tr>\n",
       "  </thead>\n",
       "  <tbody>\n",
       "    <tr>\n",
       "      <th>0</th>\n",
       "      <td>4</td>\n",
       "      <td>4</td>\n",
       "      <td>4</td>\n",
       "      <td>4</td>\n",
       "      <td>4</td>\n",
       "      <td>4</td>\n",
       "      <td>we had the most wonderful time at the excellen...</td>\n",
       "    </tr>\n",
       "    <tr>\n",
       "      <th>1</th>\n",
       "      <td>4</td>\n",
       "      <td>3</td>\n",
       "      <td>4</td>\n",
       "      <td>4</td>\n",
       "      <td>4</td>\n",
       "      <td>4</td>\n",
       "      <td>a truly fantastic place xmas  we have just ret...</td>\n",
       "    </tr>\n",
       "    <tr>\n",
       "      <th>2</th>\n",
       "      <td>1</td>\n",
       "      <td>0</td>\n",
       "      <td>1</td>\n",
       "      <td>1</td>\n",
       "      <td>2</td>\n",
       "      <td>1</td>\n",
       "      <td>too sick to enjoy the ride to and form the air...</td>\n",
       "    </tr>\n",
       "    <tr>\n",
       "      <th>3</th>\n",
       "      <td>3</td>\n",
       "      <td>2</td>\n",
       "      <td>3</td>\n",
       "      <td>2</td>\n",
       "      <td>4</td>\n",
       "      <td>3</td>\n",
       "      <td>relaxing and fun , but xxPERIOD i rang in the ...</td>\n",
       "    </tr>\n",
       "    <tr>\n",
       "      <th>4</th>\n",
       "      <td>3</td>\n",
       "      <td>2</td>\n",
       "      <td>1</td>\n",
       "      <td>2</td>\n",
       "      <td>2</td>\n",
       "      <td>4</td>\n",
       "      <td>somewhat excellence we just returned from a on...</td>\n",
       "    </tr>\n",
       "  </tbody>\n",
       "</table>\n",
       "</div>"
      ],
      "text/plain": [
       "   0  1  2  3  4  5                                                  6\n",
       "0  4  4  4  4  4  4  we had the most wonderful time at the excellen...\n",
       "1  4  3  4  4  4  4  a truly fantastic place xmas  we have just ret...\n",
       "2  1  0  1  1  2  1  too sick to enjoy the ride to and form the air...\n",
       "3  3  2  3  2  4  3  relaxing and fun , but xxPERIOD i rang in the ...\n",
       "4  3  2  1  2  2  4  somewhat excellence we just returned from a on..."
      ]
     },
     "execution_count": 18,
     "metadata": {},
     "output_type": "execute_result"
    }
   ],
   "source": [
    "df_train = pd.concat( [aspect_rating_train, docs_train], axis=1, ignore_index=True )\n",
    "df_train.head()"
   ]
  },
  {
   "cell_type": "code",
   "execution_count": 19,
   "metadata": {
    "colab": {
     "base_uri": "https://localhost:8080/",
     "height": 34
    },
    "colab_type": "code",
    "executionInfo": {
     "elapsed": 865,
     "status": "ok",
     "timestamp": 1562730794140,
     "user": {
      "displayName": "aeryen Z",
      "photoUrl": "https://lh5.googleusercontent.com/-zacgMaFtor8/AAAAAAAAAAI/AAAAAAAAE4Q/iwA-N_TLGA8/s64/photo.jpg",
      "userId": "01125454621554722334"
     },
     "user_tz": 300
    },
    "id": "I5JxddUVqIGc",
    "outputId": "5412a46f-2ef2-4496-800d-99a894dba62f"
   },
   "outputs": [
    {
     "data": {
      "text/plain": [
       "(11173, 7)"
      ]
     },
     "execution_count": 19,
     "metadata": {},
     "output_type": "execute_result"
    }
   ],
   "source": [
    "df_train.shape"
   ]
  },
  {
   "cell_type": "code",
   "execution_count": 20,
   "metadata": {
    "colab": {
     "base_uri": "https://localhost:8080/",
     "height": 238
    },
    "colab_type": "code",
    "executionInfo": {
     "elapsed": 1687,
     "status": "ok",
     "timestamp": 1562730798249,
     "user": {
      "displayName": "aeryen Z",
      "photoUrl": "https://lh5.googleusercontent.com/-zacgMaFtor8/AAAAAAAAAAI/AAAAAAAAE4Q/iwA-N_TLGA8/s64/photo.jpg",
      "userId": "01125454621554722334"
     },
     "user_tz": 300
    },
    "id": "Tatp0G4rwD-w",
    "outputId": "ce3bc403-c789-442a-877d-0169bd7ccd25"
   },
   "outputs": [
    {
     "name": "stdout",
     "output_type": "stream",
     "text": [
      "[9, 30, 25, 33, 29]\n",
      "   0  1  2  3  4  5\n",
      "0  1  0  0  3  1  1\n",
      "1  2  2  1  2  3  3\n",
      "2  4  4  4  3  4  4\n",
      "3  3  2  3  3  3  4\n",
      "4  3  4  3  4  4  4\n",
      "                                                   0\n",
      "0  definitely not a 5 star resort i 'm dumbfounde...\n",
      "1  facilities need work xxPERIOD we visited excel...\n",
      "2  excellence was exactly that xxPERIOD my family...\n",
      "3  great service , nice hotel , mediocre food xxP...\n",
      "4  very relaxing experience just returned from my...\n"
     ]
    }
   ],
   "source": [
    "# Load Count\n",
    "sent_count_test = list(open(dataset_dir + sent_num_file[TEST_DATA], \"r\").readlines())\n",
    "sent_count_test = [int(s) for s in sent_count_test if (len(s) > 0 and s != \"\\n\")]\n",
    "print( sent_count_test[0:5] )\n",
    "\n",
    "# Load Ratings\n",
    "aspect_rating_test = list(open(dataset_dir + rating_file[TEST_DATA], \"r\").readlines())\n",
    "aspect_rating_test = [s for s in aspect_rating_test if (len(s) > 0 and s != \"\\n\")]\n",
    "\n",
    "aspect_rating_test = [s.split(\" \") for s in aspect_rating_test]\n",
    "aspect_rating_test = np.array(aspect_rating_test)[:, 0:-1]\n",
    "aspect_rating_test = aspect_rating_test.astype(np.int) - 1\n",
    "aspect_rating_test = pd.DataFrame(aspect_rating_test)\n",
    "print( aspect_rating_test.head() )\n",
    "\n",
    "# Load Sents\n",
    "sents_test = list(open(dataset_dir + content_file[TEST_DATA], \"r\").readlines())\n",
    "sents_test = [s.strip() for s in sents_test]\n",
    "\n",
    "# Sents to Doc\n",
    "docs_test = concat_to_doc(sents_test, sent_count_test)\n",
    "\n",
    "docs_test = pd.DataFrame(docs_test)\n",
    "print( docs_test.head() )"
   ]
  },
  {
   "cell_type": "code",
   "execution_count": 21,
   "metadata": {
    "colab": {
     "base_uri": "https://localhost:8080/",
     "height": 54
    },
    "colab_type": "code",
    "executionInfo": {
     "elapsed": 455,
     "status": "ok",
     "timestamp": 1562730798250,
     "user": {
      "displayName": "aeryen Z",
      "photoUrl": "https://lh5.googleusercontent.com/-zacgMaFtor8/AAAAAAAAAAI/AAAAAAAAE4Q/iwA-N_TLGA8/s64/photo.jpg",
      "userId": "01125454621554722334"
     },
     "user_tz": 300
    },
    "id": "97IRI3Xlp1Uz",
    "outputId": "49eec345-d917-4ccb-fe74-6a3840b87f9a"
   },
   "outputs": [
    {
     "data": {
      "text/plain": [
       "\"definitely not a 5 star resort i 'm dumbfounded that this hotel gets good reviews and is so highly rated xxPERIOD it 's decidedly a 3 star property , not 5 stars as indicated xxPERIOD the rooms are very dated and run down , old crappy beds and pillows , an old tv and overall poorly maintained xxPERIOD the whole property is pretty run down and old - looking xxPERIOD the food is subpar , not one meal i had would be called great xxPERIOD the service is uneven and the staff is poorly trained and uninformed xxPERIOD many do not comprehend english xxPERIOD the beach is great , it 's the only redeeming factor xxPERIOD however the resort is a 1- hour taxi trip from the airport xxPERIOD \""
      ]
     },
     "execution_count": 21,
     "metadata": {},
     "output_type": "execute_result"
    }
   ],
   "source": [
    "docs_test.iloc[0][0]"
   ]
  },
  {
   "cell_type": "code",
   "execution_count": 22,
   "metadata": {
    "colab": {
     "base_uri": "https://localhost:8080/",
     "height": 204
    },
    "colab_type": "code",
    "executionInfo": {
     "elapsed": 466,
     "status": "ok",
     "timestamp": 1562730801795,
     "user": {
      "displayName": "aeryen Z",
      "photoUrl": "https://lh5.googleusercontent.com/-zacgMaFtor8/AAAAAAAAAAI/AAAAAAAAE4Q/iwA-N_TLGA8/s64/photo.jpg",
      "userId": "01125454621554722334"
     },
     "user_tz": 300
    },
    "id": "Anvf9O9IptY3",
    "outputId": "34b074db-e40b-421e-ec3b-03f4b478fbec"
   },
   "outputs": [
    {
     "data": {
      "text/html": [
       "<div>\n",
       "<style scoped>\n",
       "    .dataframe tbody tr th:only-of-type {\n",
       "        vertical-align: middle;\n",
       "    }\n",
       "\n",
       "    .dataframe tbody tr th {\n",
       "        vertical-align: top;\n",
       "    }\n",
       "\n",
       "    .dataframe thead th {\n",
       "        text-align: right;\n",
       "    }\n",
       "</style>\n",
       "<table border=\"1\" class=\"dataframe\">\n",
       "  <thead>\n",
       "    <tr style=\"text-align: right;\">\n",
       "      <th></th>\n",
       "      <th>0</th>\n",
       "      <th>1</th>\n",
       "      <th>2</th>\n",
       "      <th>3</th>\n",
       "      <th>4</th>\n",
       "      <th>5</th>\n",
       "      <th>6</th>\n",
       "    </tr>\n",
       "  </thead>\n",
       "  <tbody>\n",
       "    <tr>\n",
       "      <th>0</th>\n",
       "      <td>1</td>\n",
       "      <td>0</td>\n",
       "      <td>0</td>\n",
       "      <td>3</td>\n",
       "      <td>1</td>\n",
       "      <td>1</td>\n",
       "      <td>definitely not a 5 star resort i 'm dumbfounde...</td>\n",
       "    </tr>\n",
       "    <tr>\n",
       "      <th>1</th>\n",
       "      <td>2</td>\n",
       "      <td>2</td>\n",
       "      <td>1</td>\n",
       "      <td>2</td>\n",
       "      <td>3</td>\n",
       "      <td>3</td>\n",
       "      <td>facilities need work xxPERIOD we visited excel...</td>\n",
       "    </tr>\n",
       "    <tr>\n",
       "      <th>2</th>\n",
       "      <td>4</td>\n",
       "      <td>4</td>\n",
       "      <td>4</td>\n",
       "      <td>3</td>\n",
       "      <td>4</td>\n",
       "      <td>4</td>\n",
       "      <td>excellence was exactly that xxPERIOD my family...</td>\n",
       "    </tr>\n",
       "    <tr>\n",
       "      <th>3</th>\n",
       "      <td>3</td>\n",
       "      <td>2</td>\n",
       "      <td>3</td>\n",
       "      <td>3</td>\n",
       "      <td>3</td>\n",
       "      <td>4</td>\n",
       "      <td>great service , nice hotel , mediocre food xxP...</td>\n",
       "    </tr>\n",
       "    <tr>\n",
       "      <th>4</th>\n",
       "      <td>3</td>\n",
       "      <td>4</td>\n",
       "      <td>3</td>\n",
       "      <td>4</td>\n",
       "      <td>4</td>\n",
       "      <td>4</td>\n",
       "      <td>very relaxing experience just returned from my...</td>\n",
       "    </tr>\n",
       "  </tbody>\n",
       "</table>\n",
       "</div>"
      ],
      "text/plain": [
       "   0  1  2  3  4  5                                                  6\n",
       "0  1  0  0  3  1  1  definitely not a 5 star resort i 'm dumbfounde...\n",
       "1  2  2  1  2  3  3  facilities need work xxPERIOD we visited excel...\n",
       "2  4  4  4  3  4  4  excellence was exactly that xxPERIOD my family...\n",
       "3  3  2  3  3  3  4  great service , nice hotel , mediocre food xxP...\n",
       "4  3  4  3  4  4  4  very relaxing experience just returned from my..."
      ]
     },
     "execution_count": 22,
     "metadata": {},
     "output_type": "execute_result"
    }
   ],
   "source": [
    "df_test = pd.concat( [aspect_rating_test, docs_test], axis=1, ignore_index=True )\n",
    "df_test.head()"
   ]
  },
  {
   "cell_type": "code",
   "execution_count": 23,
   "metadata": {
    "colab": {
     "base_uri": "https://localhost:8080/",
     "height": 34
    },
    "colab_type": "code",
    "executionInfo": {
     "elapsed": 646,
     "status": "ok",
     "timestamp": 1562730802969,
     "user": {
      "displayName": "aeryen Z",
      "photoUrl": "https://lh5.googleusercontent.com/-zacgMaFtor8/AAAAAAAAAAI/AAAAAAAAE4Q/iwA-N_TLGA8/s64/photo.jpg",
      "userId": "01125454621554722334"
     },
     "user_tz": 300
    },
    "id": "7nhhjh2rrRf_",
    "outputId": "a87aa364-f8f1-4dc8-fea5-80f7a9809ed8"
   },
   "outputs": [
    {
     "data": {
      "text/plain": [
       "(3739, 7)"
      ]
     },
     "execution_count": 23,
     "metadata": {},
     "output_type": "execute_result"
    }
   ],
   "source": [
    "df_test.shape"
   ]
  },
  {
   "cell_type": "markdown",
   "metadata": {},
   "source": [
    "# Language Model Data Bunch"
   ]
  },
  {
   "cell_type": "code",
   "execution_count": 24,
   "metadata": {
    "colab": {},
    "colab_type": "code",
    "id": "Q8p7xdvSx710"
   },
   "outputs": [],
   "source": [
    "lmdb = TextLMDataBunch.from_df(\"./data/\", train_df=df_train, valid_df=df_test, text_cols=6, label_cols=[0,1,2,3,4,5])"
   ]
  },
  {
   "cell_type": "code",
   "execution_count": 25,
   "metadata": {
    "colab": {
     "base_uri": "https://localhost:8080/",
     "height": 34
    },
    "colab_type": "code",
    "executionInfo": {
     "elapsed": 517,
     "status": "ok",
     "timestamp": 1562730844188,
     "user": {
      "displayName": "aeryen Z",
      "photoUrl": "https://lh5.googleusercontent.com/-zacgMaFtor8/AAAAAAAAAAI/AAAAAAAAE4Q/iwA-N_TLGA8/s64/photo.jpg",
      "userId": "01125454621554722334"
     },
     "user_tz": 300
    },
    "id": "pWa2ph8p1Dor",
    "outputId": "5fe13d77-b9ca-4595-bd96-d7d8d31ab8af"
   },
   "outputs": [
    {
     "data": {
      "text/plain": [
       "23008"
      ]
     },
     "execution_count": 25,
     "metadata": {},
     "output_type": "execute_result"
    }
   ],
   "source": [
    "len( lmdb.vocab.itos )"
   ]
  },
  {
   "cell_type": "code",
   "execution_count": 26,
   "metadata": {
    "colab": {
     "base_uri": "https://localhost:8080/",
     "height": 34
    },
    "colab_type": "code",
    "executionInfo": {
     "elapsed": 27014,
     "status": "ok",
     "timestamp": 1562271381145,
     "user": {
      "displayName": "aeryen Z",
      "photoUrl": "https://lh5.googleusercontent.com/-zacgMaFtor8/AAAAAAAAAAI/AAAAAAAAE4Q/iwA-N_TLGA8/s64/photo.jpg",
      "userId": "01125454621554722334"
     },
     "user_tz": 300
    },
    "id": "ah1tn8ugsfpU",
    "outputId": "a5848917-6d8a-46f6-fa8b-71fc60d8300d"
   },
   "outputs": [
    {
     "data": {
      "text/plain": [
       "['xxunk', 'xxpad', 'xxbos', 'xxeos', 'xxfld', 'xxmaj', 'xxup', 'xxrep']"
      ]
     },
     "execution_count": 26,
     "metadata": {},
     "output_type": "execute_result"
    }
   ],
   "source": [
    "lmdb.vocab.itos[0:8]"
   ]
  },
  {
   "cell_type": "code",
   "execution_count": 27,
   "metadata": {
    "colab": {
     "base_uri": "https://localhost:8080/",
     "height": 289
    },
    "colab_type": "code",
    "executionInfo": {
     "elapsed": 15386,
     "status": "ok",
     "timestamp": 1562730860839,
     "user": {
      "displayName": "aeryen Z",
      "photoUrl": "https://lh5.googleusercontent.com/-zacgMaFtor8/AAAAAAAAAAI/AAAAAAAAE4Q/iwA-N_TLGA8/s64/photo.jpg",
      "userId": "01125454621554722334"
     },
     "user_tz": 300
    },
    "id": "uxgLWC3dyCvX",
    "outputId": "3dbf40f3-241c-4df2-fc26-80e10dba7659"
   },
   "outputs": [
    {
     "data": {
      "text/html": [
       "<table border=\"1\" class=\"dataframe\">\n",
       "  <thead>\n",
       "    <tr style=\"text-align: right;\">\n",
       "      <th>idx</th>\n",
       "      <th>text</th>\n",
       "    </tr>\n",
       "  </thead>\n",
       "  <tbody>\n",
       "    <tr>\n",
       "      <td>0</td>\n",
       "      <td>were great especially the michael jackson and the 70 's 80 's night xxperiod the french resturant was probably our favorite xxperiod we will definately be back for an anniversary trip xxperiod we made some friends but had plenty of xxunk as well xxperiod the rooms were great and everytime we left and came back it was cleaned , towels restocked and the bar was as well xxperiod xxbos a</td>\n",
       "    </tr>\n",
       "    <tr>\n",
       "      <td>1</td>\n",
       "      <td>xxperiod if you 're craving the coconut meat inside the coconut ( which was tasty ) then ask the bartender to crack open the coconut after you ' ve finished your drink xxperiod the lobster house was * hot * and if it 's been a hot day i would not recommend eating there xxperiod also we found the steamed lobster to be much better than the grilled ( we</td>\n",
       "    </tr>\n",
       "    <tr>\n",
       "      <td>2</td>\n",
       "      <td>advance to arrange a taxi , driver was waiting with a sign xxperiod xxunk five minutes , sixty bucks and a ten dollar tip later arrived at excellence xxperiod the drive nothing to worry about , xxunk through the potholes , application of the horn as an occasional xxunk aid , all fairly standard in our experience xxperiod you never really get going all that fast xxperiod certainly less of</td>\n",
       "    </tr>\n",
       "    <tr>\n",
       "      <td>3</td>\n",
       "      <td>check more prices at the vendors nextdoor they will sell it xxperiod those guys are some competition with eachother xxperiod they put towels out each hour , around 3 pm they disappear but you can find them at the clubhouse ( on beach its a mini gift shop / where you meet for the horse ride ) or at the pool behind the bar there is a hut that they</td>\n",
       "    </tr>\n",
       "    <tr>\n",
       "      <td>4</td>\n",
       "      <td>might have been some xxunk with the hotel but that is to be expected as any place ages xxperiod the ride from the airport was about an hour in a mini van which was included in our package xxperiod our driver was great he stopped along the way so the guys could grab a couple of beers xxperiod our check - in was a breeze and the bellboys were very</td>\n",
       "    </tr>\n",
       "  </tbody>\n",
       "</table>"
      ],
      "text/plain": [
       "<IPython.core.display.HTML object>"
      ]
     },
     "metadata": {},
     "output_type": "display_data"
    }
   ],
   "source": [
    "lmdb.show_batch()"
   ]
  },
  {
   "cell_type": "code",
   "execution_count": 28,
   "metadata": {},
   "outputs": [],
   "source": [
    "moms = (0.8,0.7)"
   ]
  },
  {
   "cell_type": "code",
   "execution_count": 29,
   "metadata": {},
   "outputs": [
    {
     "data": {
      "text/html": [
       "<table border=\"1\" class=\"dataframe\">\n",
       "  <thead>\n",
       "    <tr style=\"text-align: left;\">\n",
       "      <th>epoch</th>\n",
       "      <th>train_loss</th>\n",
       "      <th>valid_loss</th>\n",
       "      <th>accuracy</th>\n",
       "      <th>time</th>\n",
       "    </tr>\n",
       "  </thead>\n",
       "  <tbody>\n",
       "    <tr>\n",
       "      <td>0</td>\n",
       "      <td>3.988924</td>\n",
       "      <td>3.742925</td>\n",
       "      <td>0.288729</td>\n",
       "      <td>02:04</td>\n",
       "    </tr>\n",
       "    <tr>\n",
       "      <td>1</td>\n",
       "      <td>3.777141</td>\n",
       "      <td>3.583049</td>\n",
       "      <td>0.304833</td>\n",
       "      <td>02:06</td>\n",
       "    </tr>\n",
       "    <tr>\n",
       "      <td>2</td>\n",
       "      <td>3.618790</td>\n",
       "      <td>3.489248</td>\n",
       "      <td>0.315814</td>\n",
       "      <td>02:06</td>\n",
       "    </tr>\n",
       "    <tr>\n",
       "      <td>3</td>\n",
       "      <td>3.483001</td>\n",
       "      <td>3.431859</td>\n",
       "      <td>0.322823</td>\n",
       "      <td>02:06</td>\n",
       "    </tr>\n",
       "    <tr>\n",
       "      <td>4</td>\n",
       "      <td>3.383436</td>\n",
       "      <td>3.420643</td>\n",
       "      <td>0.324447</td>\n",
       "      <td>02:06</td>\n",
       "    </tr>\n",
       "  </tbody>\n",
       "</table>"
      ],
      "text/plain": [
       "<IPython.core.display.HTML object>"
      ]
     },
     "metadata": {},
     "output_type": "display_data"
    }
   ],
   "source": [
    "learn = language_model_learner(lmdb, AWD_LSTM)\n",
    "learn.unfreeze()\n",
    "learn.fit_one_cycle(5, slice(1e-2), moms=moms)"
   ]
  },
  {
   "cell_type": "code",
   "execution_count": 30,
   "metadata": {},
   "outputs": [],
   "source": [
    "learn.save('lang_model_hotel')"
   ]
  },
  {
   "cell_type": "markdown",
   "metadata": {},
   "source": [
    "# Classifier Data Bunch"
   ]
  },
  {
   "cell_type": "code",
   "execution_count": 31,
   "metadata": {
    "colab": {},
    "colab_type": "code",
    "id": "92selqJMyPGq"
   },
   "outputs": [],
   "source": [
    "clas_db = TextClasDataBunch.from_df(\"./data/\",\n",
    "                                     train_df=df_train,\n",
    "                                     valid_df=df_test,\n",
    "                                     text_cols=6,\n",
    "                                     label_cols=[0,1,2,3,4,5],\n",
    "                                     vocab=lmdb.train_ds.vocab,\n",
    "                                     bs=42)"
   ]
  },
  {
   "cell_type": "code",
   "execution_count": 32,
   "metadata": {
    "colab": {
     "base_uri": "https://localhost:8080/",
     "height": 289
    },
    "colab_type": "code",
    "executionInfo": {
     "elapsed": 3227,
     "status": "ok",
     "timestamp": 1562730902426,
     "user": {
      "displayName": "aeryen Z",
      "photoUrl": "https://lh5.googleusercontent.com/-zacgMaFtor8/AAAAAAAAAAI/AAAAAAAAE4Q/iwA-N_TLGA8/s64/photo.jpg",
      "userId": "01125454621554722334"
     },
     "user_tz": 300
    },
    "id": "07TQh-iS07Rm",
    "outputId": "8d3c691e-62ce-44bc-9600-43c857371b3e"
   },
   "outputs": [
    {
     "data": {
      "text/html": [
       "<table border=\"1\" class=\"dataframe\">\n",
       "  <thead>\n",
       "    <tr style=\"text-align: right;\">\n",
       "      <th>text</th>\n",
       "      <th>target</th>\n",
       "    </tr>\n",
       "  </thead>\n",
       "  <tbody>\n",
       "    <tr>\n",
       "      <td>xxbos \" an extremely disappointing experience \" where do i beging xxperiod first let me just say that originally i had booked a reservation to stay at this hotel for 9 days instead of the two days that i lasted with my family at this hotel xxperiod the original comfirmed reservation was to have taken place from friday august 15 to sunday august xxunk in may this year i was</td>\n",
       "      <td></td>\n",
       "    </tr>\n",
       "    <tr>\n",
       "      <td>xxbos dreams - lives up to it 's name xxperiod we have just returned from our holiday at dreams punta cana resort and spa xxperiod we were there from 11 - 25 september 2008 and had a great time xxperiod check - incheck in was fine , very quick and efficient xxperiod we got welcomed with a nice glass of champagne and a cold towel and a ' welcome home</td>\n",
       "      <td></td>\n",
       "    </tr>\n",
       "    <tr>\n",
       "      <td>xxbos great budget resort with good food , poor service and terrible rooms me and my friend booked this vacation with air canada vacations , we stayed at this hotel as it was the cheapest and we were on a budget xxperiod our luggage was lost so that was not a good start to the trip xxperiod the air canada rep at the hotel is fairly useless , her only</td>\n",
       "      <td></td>\n",
       "    </tr>\n",
       "    <tr>\n",
       "      <td>xxbos we had a fabulous stay xxperiod we stayed at the edenh from march 8 ? xxperiod our stay was beyond fantastic and our only complaint is that by this time next year we won ? ? be able to afford to stay there again xxperiod we arrived at the hotel at approximately 5:30pm , our check in was smooth with absolutely no problems , the bell boy took our</td>\n",
       "      <td></td>\n",
       "    </tr>\n",
       "    <tr>\n",
       "      <td>xxbos sets the bar really high xxperiod let me start by saying that i ' ve been on a few beach holidays before ( once to australia and hawaii for my honeymoon ) but this was my first all - inclusive vacation , and wow , i ' m confident saying that this experience is going to be near impossible to beat xxperiod a group of 50 of us ,</td>\n",
       "      <td></td>\n",
       "    </tr>\n",
       "  </tbody>\n",
       "</table>"
      ],
      "text/plain": [
       "<IPython.core.display.HTML object>"
      ]
     },
     "metadata": {},
     "output_type": "display_data"
    }
   ],
   "source": [
    "clas_db.show_batch()"
   ]
  },
  {
   "cell_type": "code",
   "execution_count": 33,
   "metadata": {
    "colab": {
     "base_uri": "https://localhost:8080/",
     "height": 102
    },
    "colab_type": "code",
    "executionInfo": {
     "elapsed": 2719,
     "status": "ok",
     "timestamp": 1562730909245,
     "user": {
      "displayName": "aeryen Z",
      "photoUrl": "https://lh5.googleusercontent.com/-zacgMaFtor8/AAAAAAAAAAI/AAAAAAAAE4Q/iwA-N_TLGA8/s64/photo.jpg",
      "userId": "01125454621554722334"
     },
     "user_tz": 300
    },
    "id": "T0mLVWQHt2ko",
    "outputId": "63330857-b65b-4755-b7f2-5e0d05b54dd1"
   },
   "outputs": [
    {
     "data": {
      "text/plain": [
       "tensor([[0., 0., 2., 2., 2., 2.],\n",
       "        [0., 0., 4., 2., 4., 0.],\n",
       "        [3., 3., 3., 3., 3., 1.],\n",
       "        [4., 4., 4., 4., 4., 4.],\n",
       "        [1., 1., 1., 3., 1., 1.]])"
      ]
     },
     "execution_count": 33,
     "metadata": {},
     "output_type": "execute_result"
    }
   ],
   "source": [
    "x,y = clas_db.one_batch()\n",
    "y[0:5]"
   ]
  },
  {
   "cell_type": "code",
   "execution_count": 34,
   "metadata": {},
   "outputs": [
    {
     "data": {
      "text/plain": [
       "10"
      ]
     },
     "execution_count": 34,
     "metadata": {},
     "output_type": "execute_result"
    }
   ],
   "source": [
    "period_index = clas_db.vocab.stoi[\"xxperiod\"]\n",
    "period_index"
   ]
  },
  {
   "cell_type": "code",
   "execution_count": 35,
   "metadata": {
    "colab": {
     "base_uri": "https://localhost:8080/",
     "height": 34
    },
    "colab_type": "code",
    "executionInfo": {
     "elapsed": 563,
     "status": "ok",
     "timestamp": 1562732574193,
     "user": {
      "displayName": "aeryen Z",
      "photoUrl": "https://lh5.googleusercontent.com/-zacgMaFtor8/AAAAAAAAAAI/AAAAAAAAE4Q/iwA-N_TLGA8/s64/photo.jpg",
      "userId": "01125454621554722334"
     },
     "user_tz": 300
    },
    "id": "LDr1t0WvnazK",
    "outputId": "74d2cb97-dd62-4e84-92a4-142e314686a3"
   },
   "outputs": [
    {
     "data": {
      "text/plain": [
       "tensor([0, 0, 0,  ..., 0, 0, 1], dtype=torch.uint8)"
      ]
     },
     "execution_count": 35,
     "metadata": {},
     "output_type": "execute_result"
    }
   ],
   "source": [
    "x[0].cpu() == period_index"
   ]
  },
  {
   "cell_type": "code",
   "execution_count": 36,
   "metadata": {
    "colab": {
     "base_uri": "https://localhost:8080/",
     "height": 54
    },
    "colab_type": "code",
    "executionInfo": {
     "elapsed": 677,
     "status": "ok",
     "timestamp": 1562733076129,
     "user": {
      "displayName": "aeryen Z",
      "photoUrl": "https://lh5.googleusercontent.com/-zacgMaFtor8/AAAAAAAAAAI/AAAAAAAAE4Q/iwA-N_TLGA8/s64/photo.jpg",
      "userId": "01125454621554722334"
     },
     "user_tz": 300
    },
    "id": "l3SMBfRFHgil",
    "outputId": "64533408-eb56-4450-ed07-b543ee565630",
    "scrolled": true
   },
   "outputs": [
    {
     "data": {
      "text/plain": [
       "\"xxpad xxpad xxpad xxpad xxpad xxpad xxpad xxpad xxpad xxpad xxpad xxpad xxpad xxpad xxpad xxpad xxpad xxpad xxpad xxpad xxpad xxpad xxpad xxpad xxpad xxpad xxpad xxpad xxpad xxpad xxpad xxpad xxpad xxpad xxpad xxpad xxpad xxpad xxpad xxpad xxpad xxpad xxpad xxpad xxpad xxpad xxpad xxpad xxpad xxpad xxpad xxpad xxpad xxpad xxpad xxpad xxpad xxpad xxpad xxpad xxpad xxpad xxpad xxpad xxpad xxpad xxpad xxpad xxpad xxpad xxpad xxpad xxpad xxpad xxpad xxpad xxpad xxpad xxpad xxpad xxpad xxpad xxpad xxpad xxpad xxpad xxpad xxpad xxpad xxpad xxpad xxpad xxpad xxpad xxpad xxpad xxpad xxpad xxpad xxpad xxpad xxpad xxpad xxpad xxpad xxpad xxpad xxpad xxpad xxpad xxpad xxpad xxpad xxpad xxpad xxpad xxpad xxpad xxpad xxpad xxpad xxpad xxpad xxpad xxpad xxpad xxpad xxpad xxpad xxpad xxpad xxpad xxpad xxpad xxpad xxpad xxpad xxpad xxpad xxpad xxpad xxpad xxpad xxpad xxpad xxpad xxpad xxpad xxpad xxpad xxpad xxpad xxpad xxpad xxpad xxpad xxpad xxpad xxpad xxpad xxpad xxpad xxpad xxpad xxpad xxpad xxpad xxpad xxpad xxpad xxpad xxpad xxpad xxpad xxpad xxpad xxpad xxpad xxpad xxpad xxpad xxpad xxpad xxpad xxpad xxpad xxpad xxpad xxpad xxpad xxpad xxpad xxpad xxpad xxpad xxpad xxpad xxpad xxpad xxpad xxpad xxpad xxpad xxpad xxpad xxpad xxpad xxpad xxpad xxpad xxpad xxpad xxpad xxpad xxpad xxpad xxpad xxpad xxpad xxpad xxpad xxpad xxpad xxpad xxpad xxpad xxpad xxpad xxpad xxpad xxpad xxpad xxpad xxpad xxpad xxpad xxpad xxpad xxpad xxpad xxpad xxpad xxpad xxpad xxpad xxpad xxpad xxpad xxpad xxpad xxpad xxpad xxpad xxpad xxpad xxpad xxpad xxpad xxpad xxpad xxpad xxpad xxpad xxpad xxpad xxpad xxpad xxpad xxpad xxpad xxpad xxpad xxpad xxpad xxpad xxpad xxpad xxpad xxpad xxpad xxpad xxpad xxpad xxpad xxpad xxpad xxpad xxpad xxpad xxpad xxpad xxpad xxpad xxpad xxpad xxpad xxpad xxpad xxpad xxpad xxpad xxpad xxpad xxpad xxpad xxpad xxpad xxpad xxpad xxpad xxpad xxpad xxpad xxpad xxpad xxpad xxpad xxpad xxpad xxpad xxpad xxpad xxpad xxpad xxpad xxpad xxpad xxpad xxpad xxpad xxpad xxpad xxpad xxpad xxpad xxpad xxpad xxpad xxpad xxpad xxpad xxpad xxpad xxpad xxpad xxpad xxpad xxpad xxpad xxpad xxpad xxpad xxpad xxpad xxpad xxpad xxpad xxpad xxpad xxpad xxpad xxpad xxpad xxpad xxpad xxpad xxpad xxpad xxpad xxpad xxpad xxpad xxpad xxpad xxpad xxpad xxpad xxpad xxpad xxpad xxpad xxpad xxpad xxpad xxpad xxpad xxpad xxpad xxpad xxpad xxpad xxpad xxpad xxpad xxpad xxpad xxpad xxpad xxpad xxpad xxpad xxpad xxpad xxpad xxpad xxpad xxpad xxpad xxpad xxpad xxpad xxpad xxpad xxpad xxpad xxpad xxpad xxpad xxpad xxpad xxpad xxpad xxpad xxpad xxpad xxpad xxpad xxpad xxpad xxpad xxpad xxpad xxpad xxpad xxpad xxpad xxpad xxpad xxpad xxpad xxpad xxpad xxpad xxpad xxpad xxpad xxpad xxpad xxpad xxpad xxpad xxpad xxpad xxpad xxpad xxpad xxpad xxpad xxpad xxpad xxpad xxpad xxpad xxpad xxpad xxpad xxpad xxpad xxpad xxpad xxpad xxpad xxpad xxpad xxpad xxpad xxpad xxpad xxpad xxpad xxpad xxpad xxpad xxpad xxpad xxpad xxpad xxpad xxpad xxpad xxpad xxpad xxpad xxpad xxpad xxpad xxpad xxpad xxpad xxpad xxpad xxpad xxpad xxpad xxpad xxpad xxpad xxpad xxpad xxpad xxpad xxpad xxpad xxpad xxpad xxpad xxpad xxpad xxpad xxpad xxpad xxpad xxpad xxpad xxpad xxpad xxpad xxpad xxpad xxpad xxpad xxpad xxpad xxpad xxpad xxpad xxpad xxpad xxpad xxpad xxpad xxpad xxpad xxpad xxpad xxpad xxpad xxpad xxpad xxpad xxpad xxpad xxpad xxpad xxpad xxpad xxpad xxpad xxpad xxpad xxbos just as good the second time around background : this was our second xxunk to punta cana xxperiod i attended a medical seminar at the grand bahia in february of 2007 , our first visit to the dominican republic xxperiod my wife and i , typically with our good friends , have traveled quite extensively and , during our initial trip , we were quite impressed with the resort , meals , staff and value xxperiod the four of us in small party ( two couples ) for this september trip ranged in age from 47 to 55 xxperiod as stated in my original review of the hotel for our february trip , we felt that the grand bahia was an excellent value with regard to the average cost per day xxperiod for what averaged to be $ 150 per day , we received round trip air on delta from atlanta to punta cana , direct , club golden room , meals and drinks xxperiod so , the fact that i could not find a single three pound lobster or have my martinis made with grey goose vodka did not detract from this trip xxperiod booking : i would highly recommend cheapcaribbean xxperiod with every package , their clients are provided emergency medical evacuation insurance and hurricane cancellation insurance - at no charge xxperiod our party was also provided private transfers from the airport to the hotel xxperiod i actually found a lower price on another travel web site than i did when i first started researching this trip , which ran from september 1 - 8 xxperiod i , however , was impressed with the background on cheapcaribbean and its owner jim xxunk after reviewing their website xxperiod so , i fired off an email to jim asking if he would match the price i found on another website xxperiod i was quite impressed when i received a call from jim , himself , stating he would be delighted to match the price found elsewhere xxperiod i then developed a personal relationship with jim 's assistant melanie xxunk and they delivered , and then some , on everything promised xxperiod cheapcaribbean 's punta cana destination manager elso rijo met our party at the airport after clearing customs along with a driver and personally escorted us to the grand bahia xxperiod about five minutes outside of the airport , he stopped at a roadside store and picked up four frosty - cold presidente beers for us and absolutely refused to take a dime xxperiod i can certainly afford to purchase four beers , but the fact that elso , without our xxunk , purchased them on his own is a reflection of just how well cheapcaribbean looks out for their clients xxperiod aiport in punta cana : upon debarking the plane and first entering the airport in punta cana , you will be asked to take a photograph with some lovely dominican senoritas , dressed in colorful traditional clothing xxperiod when you return to the airport following your trip , you will be afforded the opportunity to purchase this photo for $ 8 xxperiod you are under no obligation to purchase this xxperiod there will be a $ 10 per person tourist card fee paid upon entry into punta cana xxperiod after we collected our luggage , we were waived through customs where we met elso holding a sign with our names on it xxperiod we were driven to the hotel in an air conditioned vehicle xxperiod arrival at the grand bahia : club golden guests check in with private concierges at the club golden office , which is located immediately on the left shortly after passing through the security xxunk xxperiod as impressed as i was with the personalized service from cheapcaribbean xxperiod i was equally impressed with the service from the club golden representatives , in our case a lovely young lady named jained ( pronounced jay - xxunk , basically a dominican version of janet ) xxunk xxperiod approximately four days before our departure , jained e - mailed me to welcome me back as a royal golden principe returning guest and asked if i would like to book an a la carte restaurant each night of our seven nights at the hotel xxperiod normally , club xxunk guests typically are afforded four a la carte reservations during a seven night stay , while the standard room package allows for three a la carte bookings for a seven night stay xxperiod so , not only did we book the restaurants of our choice , we had our exact dining time , in our case 7 pm xxperiod upon arriving at the club golden office , i immediately ran into jained and she gave all in our party a welcome hug and we were greeted from her with welcome home xxperiod a friendly bartender from the club golden office brought over a few cuba libres for us to enjoy as jained went over our paperwork and our reservations xxperiod we had been in touch with laura xxunk from the sales department via email xxperiod we had met laura during our initial stay at the hotel for the medical conference i attended xxperiod when possible , laura will grant your room requests xxperiod how she corresponds and xxunk the requests of hundreds of guests , i will never undestand xxperiod she offers the impression , however , that you are the only one she corresponds with despite the fact she probably received dozens of emails per day xxperiod room : after receiving our wristbands , in this case platinum colored bands indicating we were vip returning guests , we were whisked to our room via motorized golf carts xxperiod we were in building 20 , second floor , adjacent to the pool and beach xxperiod we had an obstructed ( by tall palm trees ) ocean view and a full pool view xxperiod as a returning vip guest , we were provided bathrobes , slippers , free use of the electronic safe , a welcome plate of xxunk , a bottle of champagne and a large bottle of brugal extra viejo rum xxperiod our air conditioner worked perfectly to keep the room chilled and the room is also equipped with a ceiling fan xxperiod a separate bathroom with marble vanities and large garden tub and shower with removal and adjustable shower head was immaculately clean xxperiod again , vip guests are provided various shampoos , conditioners , body lotions , bath oils , sewing kits , shaving kits , combs , etc xxperiod the room refrigerator is stocked with both diet and regular pepsi , large bottles of water and presidente beer xxperiod a note on the pillow to let the maid staff know of our desires would always be granted xxperiod i politely asked if i could exchange my bottle of champagne for another bottle of brugal rum xxperiod our request was granted x 3 xxperiod there was no iron or ironing board in our room xxperiod my wife , however , always brings a small travel iron xxperiod a patio is equipped with table and chairs xxperiod the television offered approximately 40 channels , most in english xxperiod room keys are electronic in nature xxperiod maid : we received excellent surface from our maid xxperiod we left $ 4 a day on the pillow with notes offering muchas gracias para servicio excellente and any requests for water or , in our case , diet pepsi xxperiod there was never an issue with theft or anything missing from the room xxperiod in fact , i left my laptop , perhaps xxunk , in the room and i never gave it a second thought xxperiod as a club golden guest , beach and pool towels are automatically provided in your room by the maid , so you do not need to carry towel cards xxperiod restaurants : we ate at the le gourmet ( twice ) , italian ( our favorite on this trip ) , japanese ( benihana style ) restaurant , garden grill ( very tender and tasty steaks ) and seafood ( el pescador ) xxperiod for breakfast , one could dine in the main lobby buffet or at the el pescador restaurant ( at the pool , but not as huge a selection as the main buffet at the lobby section of the hotel ) xxperiod for lunch , there were at least four options for buffet dining , snack and sandwhich restaurants , two being outdoor xxperiod as a physician , i am a fanatic about food handling and preparation xxperiod i can say that i ate everything , including the more exotic seafood salads , fruits , veggies and never had the first sign of an upset stomach xxperiod for club royal golden guests , they have access to 24 hour room service xxperiod note on hygiene : there have been some posts reporting illness at this hotel and its sister hotel xxperiod i can tell you , without hesitation , that i would eat anything at the grand bahia hotel in punta cana xxperiod i am concerned , however , about the personal hygiene of many guests xxperiod i would observe men leave the restroom and head immediately to the buffet line without washing their hands xxperiod i saw children with their fingers in not so clean xxunk of their bodies picking food with their fingers from the buffet xxperiod i think the hotel would be well served to offer hand xxunk throughout the resort xxperiod it would , hopefully , encourage anyone to use them before and after handling communal utensils at the buffets xxperiod drinks : most of the time , we would enjoy drinks at the pool , where fantastic service was available from a host of very friendly and courteous bartenders , including ramon , juan , john , daniel and xxunk xxperiod i read a recent hotel review stating that the bartenders would not make a drink , despite the fact that they had all the ingredients , if the drinks were not on the grand bahia official drink menu xxperiod i beg to differ xxperiod they will make you as many drinks , with any ingredients you desire , all day , with a smile xxperiod while they do not have every make of every premium liquor , they have a good representative selection of rum , vodka , gin and scotch xxperiod we tended to stay away from the fruity , sweet drinks , in favor of cuba libres xxperiod while we do not have bubba kegs , we do have insulated mugs that i obtained from the hospitals i work at and the bartenders were all too happy to fill them xxperiod at night , we would spend several hours listening to the music in the main lobby and enjoying cigars and cocktails xxperiod excellent service was offered by olga and martina xxperiod\""
      ]
     },
     "execution_count": 36,
     "metadata": {},
     "output_type": "execute_result"
    }
   ],
   "source": [
    "clas_db.vocab.textify(x.cpu()[3,:])"
   ]
  },
  {
   "cell_type": "markdown",
   "metadata": {},
   "source": [
    "# Model Test"
   ]
  },
  {
   "cell_type": "code",
   "execution_count": 37,
   "metadata": {
    "scrolled": true
   },
   "outputs": [
    {
     "data": {
      "text/plain": [
       "AWD_LSTM(\n",
       "  (encoder): Embedding(23008, 400, padding_idx=1)\n",
       "  (encoder_dp): EmbeddingDropout(\n",
       "    (emb): Embedding(23008, 400, padding_idx=1)\n",
       "  )\n",
       "  (rnns): ModuleList(\n",
       "    (0): WeightDropout(\n",
       "      (module): LSTM(400, 1152, batch_first=True)\n",
       "    )\n",
       "    (1): WeightDropout(\n",
       "      (module): LSTM(1152, 1152, batch_first=True)\n",
       "    )\n",
       "    (2): WeightDropout(\n",
       "      (module): LSTM(1152, 400, batch_first=True)\n",
       "    )\n",
       "  )\n",
       "  (input_dp): RNNDropout()\n",
       "  (hidden_dps): ModuleList(\n",
       "    (0): RNNDropout()\n",
       "    (1): RNNDropout()\n",
       "    (2): RNNDropout()\n",
       "  )\n",
       ")"
      ]
     },
     "execution_count": 37,
     "metadata": {},
     "output_type": "execute_result"
    }
   ],
   "source": [
    "encoder = learn.model[0]\n",
    "encoder = encoder.eval()\n",
    "encoder"
   ]
  },
  {
   "cell_type": "code",
   "execution_count": 38,
   "metadata": {},
   "outputs": [
    {
     "data": {
      "text/plain": [
       "'the rooms are very basic and outdated xxperiod the price is about $ 300 for a typical boutique equivalent but this was absolutely overcooked'"
      ]
     },
     "execution_count": 38,
     "metadata": {},
     "output_type": "execute_result"
    }
   ],
   "source": [
    "learn.predict(\"the rooms are very\", n_words=20)"
   ]
  },
  {
   "cell_type": "code",
   "execution_count": 51,
   "metadata": {
    "colab": {},
    "colab_type": "code",
    "id": "b56kux4PAFn3"
   },
   "outputs": [],
   "source": [
    "class ClsNet(nn.Module):\n",
    "    def __init__(self, encoder, vocab):\n",
    "        super(ClsNet, self).__init__()\n",
    "        self.vocab = vocab\n",
    "        self.p_index = vocab\n",
    "        self.enc = encoder\n",
    "        self.sentiment = torch.nn.Linear(400, 5)\n",
    "        self.sentiment_sm = torch.nn.Softmax(dim=1)\n",
    "        self.aspect = torch.nn.Linear(400, 5)\n",
    "        self.aspect_sm = torch.nn.Softmax(dim=1)\n",
    "        \n",
    "    def forward(self, x):\n",
    "        # encode whole doc\n",
    "        enc_result = self.enc(x)\n",
    "        doc_enc = enc_result[0][2]  # [batch_size, doc_length, embedding]\n",
    "        print(\"shape of doc encoder:\")\n",
    "        print( doc_enc.shape )\n",
    "        print(\"doc_enc grad_fn:\")\n",
    "        print(doc_enc.grad_fn)\n",
    "        \n",
    "        # flatten doc length dimension\n",
    "        doc_enc = doc_enc.contiguous().view(-1, 400)  # [batch_size * doc_length]\n",
    "        print(\"doc_enc grad_fn:\")\n",
    "        print(doc_enc.grad_fn)\n",
    "        \n",
    "        print(\"number of sentences in docs:\")\n",
    "        n_sent = torch.sum( x==self.vocab.stoi[\"xxperiod\"] , dim=1)\n",
    "        print(n_sent)\n",
    "        \n",
    "        print(\"locating period marks\")\n",
    "        period_index = x.view(-1)==self.vocab.stoi[\"xxperiod\"]\n",
    "#         print(period_index.shape)\n",
    "#         print(torch.sum(period_index))\n",
    "\n",
    "        # selecting only the encoder output at period marks\n",
    "        sent_output = doc_enc[period_index, :]  # [total n_sentence, embedding]\n",
    "#         print(sent_output)\n",
    "#         print(sent_output.shape)\n",
    "        \n",
    "        sentiment_dist = self.sentiment(sent_output)   # [total n_sentence, embedding]\n",
    "        sentiment_dist = self.sentiment_sm(sentiment_dist)\n",
    "        aspect_dist = self.aspect(sent_output)         # [total n_sentence, embedding]\n",
    "        aspect_dist = self.aspect_sm(aspect_dist)\n",
    "        print(\"sentiment dist weight:\")\n",
    "        print(sentiment_dist.grad_fn)\n",
    "        print(\"aspect dist weight:\")\n",
    "        print(aspect_dist.grad_fn)\n",
    "        \n",
    "        sent_bmm = torch.bmm(sentiment_dist.unsqueeze(2), aspect_dist.unsqueeze(1))\n",
    "        print(\"sent bmm:\")\n",
    "        print(sent_bmm.dtype)\n",
    "        print(sent_bmm.shape)  # [total n_sentence, sentiment, aspect]\n",
    "        print(sent_bmm.grad_fn)\n",
    "        \n",
    "        cur = 0\n",
    "        result = []\n",
    "        for n_sent in n_sent :\n",
    "            print(\"-----\")\n",
    "            doc = sent_bmm[(cur):(cur+n_sent), :, :]\n",
    "            print(doc.shape)\n",
    "            doc = torch.mean(doc, dim=0, keepdim=True)\n",
    "            print(doc.shape)\n",
    "            result.append(doc)\n",
    "        \n",
    "        result = torch.cat( result, dim=0 )\n",
    "        print(result.dtype)\n",
    "        \n",
    "#         redu_len = torch.cat( [torch.tensor([0]).cuda(), n_sent[:-1]+1 ], dim=0 )\n",
    "#         print(redu_len)\n",
    "#         result = np.add.reduceat(sent_bmm, redu_len, axis=0)\n",
    "#         print(result.shape)\n",
    "#         print(result.grad_fn)\n",
    "#         print(result[0,:,:])\n",
    "        \n",
    "        return result\n",
    "        "
   ]
  },
  {
   "cell_type": "code",
   "execution_count": 53,
   "metadata": {
    "scrolled": true
   },
   "outputs": [
    {
     "data": {
      "text/plain": [
       "ClsNet(\n",
       "  (enc): AWD_LSTM(\n",
       "    (encoder): Embedding(23008, 400, padding_idx=1)\n",
       "    (encoder_dp): EmbeddingDropout(\n",
       "      (emb): Embedding(23008, 400, padding_idx=1)\n",
       "    )\n",
       "    (rnns): ModuleList(\n",
       "      (0): WeightDropout(\n",
       "        (module): LSTM(400, 1152, batch_first=True)\n",
       "      )\n",
       "      (1): WeightDropout(\n",
       "        (module): LSTM(1152, 1152, batch_first=True)\n",
       "      )\n",
       "      (2): WeightDropout(\n",
       "        (module): LSTM(1152, 400, batch_first=True)\n",
       "      )\n",
       "    )\n",
       "    (input_dp): RNNDropout()\n",
       "    (hidden_dps): ModuleList(\n",
       "      (0): RNNDropout()\n",
       "      (1): RNNDropout()\n",
       "      (2): RNNDropout()\n",
       "    )\n",
       "  )\n",
       "  (sentiment): Linear(in_features=400, out_features=5, bias=True)\n",
       "  (sentiment_sm): Softmax()\n",
       "  (aspect): Linear(in_features=400, out_features=5, bias=True)\n",
       "  (aspect_sm): Softmax()\n",
       ")"
      ]
     },
     "execution_count": 53,
     "metadata": {},
     "output_type": "execute_result"
    }
   ],
   "source": [
    "net = ClsNet(encoder, lmdb.vocab)\n",
    "net = net.cuda()\n",
    "net.train()"
   ]
  },
  {
   "cell_type": "markdown",
   "metadata": {},
   "source": [
    "### run the net"
   ]
  },
  {
   "cell_type": "code",
   "execution_count": 41,
   "metadata": {},
   "outputs": [
    {
     "data": {
      "text/plain": [
       "tensor([[0., 0., 2., 2., 2., 2.],\n",
       "        [4., 3., 3., 4., 4., 4.]])"
      ]
     },
     "execution_count": 41,
     "metadata": {},
     "output_type": "execute_result"
    }
   ],
   "source": [
    "x,y = clas_db.one_batch()\n",
    "input = x[0:2]\n",
    "label = y[0:2]\n",
    "label"
   ]
  },
  {
   "cell_type": "code",
   "execution_count": 59,
   "metadata": {},
   "outputs": [
    {
     "data": {
      "text/plain": [
       "tensor([[0., 2., 2., 2., 2.],\n",
       "        [3., 3., 4., 4., 4.]], device='cuda:0')"
      ]
     },
     "execution_count": 59,
     "metadata": {},
     "output_type": "execute_result"
    }
   ],
   "source": [
    "alabel = label[:,1:6]\n",
    "alabel = alabel.cuda()\n",
    "alabel"
   ]
  },
  {
   "cell_type": "code",
   "execution_count": 54,
   "metadata": {
    "scrolled": true
   },
   "outputs": [
    {
     "name": "stdout",
     "output_type": "stream",
     "text": [
      "shape of doc encoder:\n",
      "torch.Size([2, 2400, 400])\n",
      "doc_enc grad_fn:\n",
      "<CudnnRnnBackward object at 0x7f788d3acf60>\n",
      "doc_enc grad_fn:\n",
      "<ViewBackward object at 0x7f788d30feb8>\n",
      "number of sentences in docs:\n",
      "tensor([80, 79], device='cuda:0')\n",
      "locating period marks\n",
      "sentiment dist weight:\n",
      "<SoftmaxBackward object at 0x7f788d3acf60>\n",
      "aspect dist weight:\n",
      "<SoftmaxBackward object at 0x7f788d3acf60>\n",
      "sent bmm:\n",
      "torch.float32\n",
      "torch.Size([159, 5, 5])\n",
      "<BmmBackward object at 0x7f788d3acf60>\n",
      "-----\n",
      "torch.Size([80, 5, 5])\n",
      "torch.Size([1, 5, 5])\n",
      "-----\n",
      "torch.Size([79, 5, 5])\n",
      "torch.Size([1, 5, 5])\n",
      "torch.float32\n"
     ]
    }
   ],
   "source": [
    "result = net(input.cuda())"
   ]
  },
  {
   "cell_type": "code",
   "execution_count": 55,
   "metadata": {},
   "outputs": [
    {
     "data": {
      "text/plain": [
       "torch.Size([2, 5, 5])"
      ]
     },
     "execution_count": 55,
     "metadata": {},
     "output_type": "execute_result"
    }
   ],
   "source": [
    "result.shape"
   ]
  },
  {
   "cell_type": "code",
   "execution_count": 58,
   "metadata": {},
   "outputs": [
    {
     "data": {
      "text/plain": [
       "tensor([[[0.0444, 0.0395, 0.0406, 0.0400, 0.0398],\n",
       "         [0.0419, 0.0373, 0.0383, 0.0377, 0.0375],\n",
       "         [0.0390, 0.0347, 0.0357, 0.0351, 0.0350],\n",
       "         [0.0439, 0.0390, 0.0401, 0.0395, 0.0393],\n",
       "         [0.0482, 0.0428, 0.0441, 0.0434, 0.0431]],\n",
       "\n",
       "        [[0.0444, 0.0395, 0.0406, 0.0400, 0.0398],\n",
       "         [0.0419, 0.0373, 0.0383, 0.0378, 0.0375],\n",
       "         [0.0390, 0.0347, 0.0357, 0.0352, 0.0350],\n",
       "         [0.0439, 0.0390, 0.0401, 0.0395, 0.0393],\n",
       "         [0.0482, 0.0428, 0.0440, 0.0434, 0.0431]]], device='cuda:0',\n",
       "       grad_fn=<CatBackward>)"
      ]
     },
     "execution_count": 58,
     "metadata": {},
     "output_type": "execute_result"
    }
   ],
   "source": [
    "result"
   ]
  },
  {
   "cell_type": "code",
   "execution_count": 45,
   "metadata": {},
   "outputs": [],
   "source": [
    "class MultiLabelCEL(nn.CrossEntropyLoss):\n",
    "    def forward(self, input, target):\n",
    "        print(\"in multi label cel\")\n",
    "        i = input.view(-1, 5)    # flatten the aspect dimension, [batch*aspect, sentiment]\n",
    "        t = target.contiguous().view(-1)  # flatten the aspect dimension\n",
    "        loss = super(MultiLabelCEL, self).forward(i, t)\n",
    "        return loss"
   ]
  },
  {
   "cell_type": "code",
   "execution_count": 46,
   "metadata": {},
   "outputs": [],
   "source": [
    "l = MultiLabelCEL()"
   ]
  },
  {
   "cell_type": "code",
   "execution_count": 60,
   "metadata": {
    "scrolled": true
   },
   "outputs": [
    {
     "name": "stdout",
     "output_type": "stream",
     "text": [
      "in multi label cel\n"
     ]
    },
    {
     "data": {
      "text/plain": [
       "tensor(1.6097, device='cuda:0', grad_fn=<NllLossBackward>)"
      ]
     },
     "execution_count": 60,
     "metadata": {},
     "output_type": "execute_result"
    }
   ],
   "source": [
    "output = l(result, alabel.long() )\n",
    "output"
   ]
  },
  {
   "cell_type": "code",
   "execution_count": 308,
   "metadata": {},
   "outputs": [],
   "source": [
    "output.backward()"
   ]
  },
  {
   "cell_type": "code",
   "execution_count": 309,
   "metadata": {
    "scrolled": true
   },
   "outputs": [
    {
     "data": {
      "text/plain": [
       "tensor([[ 2.6344e-04, -1.4958e-04, -1.3509e-04,  ..., -3.1884e-04,\n",
       "          4.0787e-05,  3.1006e-05],\n",
       "        [-3.1549e-04,  1.8312e-04,  1.7429e-04,  ...,  3.9931e-04,\n",
       "         -5.2065e-05, -3.9203e-05],\n",
       "        [-8.8982e-04,  4.7418e-04,  4.0613e-04,  ...,  1.0367e-03,\n",
       "         -1.2798e-04, -1.0094e-04],\n",
       "        [ 3.0923e-04, -1.6395e-04, -1.4109e-04,  ..., -3.5882e-04,\n",
       "          4.4187e-05,  3.5265e-05],\n",
       "        [ 6.3264e-04, -3.4377e-04, -3.0424e-04,  ..., -7.5839e-04,\n",
       "          9.5071e-05,  7.3871e-05]], device='cuda:0')"
      ]
     },
     "execution_count": 309,
     "metadata": {},
     "output_type": "execute_result"
    }
   ],
   "source": [
    "net.aspect.weight.grad"
   ]
  },
  {
   "cell_type": "code",
   "execution_count": 313,
   "metadata": {
    "scrolled": true
   },
   "outputs": [
    {
     "data": {
      "text/plain": [
       "tensor([[0., 0., 2., 2., 2., 2.],\n",
       "        [4., 3., 3., 3., 4., 4.],\n",
       "        [1., 0., 1., 4., 1., 0.],\n",
       "        [4., 3., 4., 4., 4., 4.],\n",
       "        [3., 4., 2., 2., 3., 4.],\n",
       "        [2., 1., 3., 4., 2., 3.],\n",
       "        [4., 4., 3., 3., 4., 4.],\n",
       "        [4., 4., 4., 4., 4., 4.],\n",
       "        [0., 0., 1., 3., 1., 0.],\n",
       "        [4., 4., 3., 4., 4., 3.],\n",
       "        [2., 3., 3., 4., 4., 1.],\n",
       "        [2., 4., 4., 4., 1., 4.],\n",
       "        [4., 4., 3., 4., 4., 4.],\n",
       "        [3., 3., 3., 4., 4., 4.],\n",
       "        [4., 4., 4., 4., 4., 4.],\n",
       "        [2., 2., 1., 3., 2., 2.],\n",
       "        [2., 2., 1., 2., 4., 3.],\n",
       "        [3., 3., 2., 2., 2., 3.],\n",
       "        [2., 4., 2., 4., 4., 2.],\n",
       "        [1., 1., 3., 3., 3., 4.],\n",
       "        [1., 3., 2., 3., 2., 2.],\n",
       "        [2., 2., 3., 3., 3., 3.],\n",
       "        [2., 2., 2., 3., 2., 2.],\n",
       "        [2., 3., 3., 4., 4., 1.],\n",
       "        [3., 3., 2., 1., 3., 3.],\n",
       "        [3., 3., 3., 4., 4., 4.],\n",
       "        [3., 3., 3., 3., 3., 3.],\n",
       "        [3., 4., 3., 4., 4., 2.],\n",
       "        [4., 3., 3., 3., 4., 4.],\n",
       "        [4., 4., 4., 4., 4., 3.],\n",
       "        [3., 3., 3., 4., 3., 3.],\n",
       "        [4., 4., 3., 4., 4., 4.],\n",
       "        [3., 3., 3., 3., 3., 3.],\n",
       "        [2., 1., 3., 3., 3., 1.],\n",
       "        [3., 3., 3., 4., 4., 3.],\n",
       "        [3., 3., 3., 3., 3., 3.],\n",
       "        [0., 0., 0., 4., 4., 4.],\n",
       "        [1., 1., 3., 3., 4., 0.],\n",
       "        [1., 3., 3., 4., 3., 3.],\n",
       "        [3., 4., 4., 4., 4., 3.],\n",
       "        [3., 3., 3., 4., 3., 4.],\n",
       "        [3., 4., 4., 4., 4., 4.]])"
      ]
     },
     "execution_count": 313,
     "metadata": {},
     "output_type": "execute_result"
    }
   ],
   "source": [
    "x,y = clas_db.one_batch()\n",
    "y"
   ]
  },
  {
   "cell_type": "code",
   "execution_count": 318,
   "metadata": {},
   "outputs": [
    {
     "data": {
      "text/plain": [
       "tensor([[   2, 1868,   76,  ...,  489,   27,   86],\n",
       "        [   1,    1,    1,  ...,   19,  685, 2521],\n",
       "        [   1,    1,    1,  ...,  224, 4025,   61],\n",
       "        ...,\n",
       "        [   1,    1,    1,  ...,  499,   47,  210],\n",
       "        [   1,    1,    1,  ...,  219,   13,  246],\n",
       "        [   1,    1,    1,  ...,   76,  303,   66]])"
      ]
     },
     "execution_count": 318,
     "metadata": {},
     "output_type": "execute_result"
    }
   ],
   "source": [
    "x"
   ]
  },
  {
   "cell_type": "code",
   "execution_count": 316,
   "metadata": {},
   "outputs": [],
   "source": [
    "my_learner = Learner(clas_db,\n",
    "                     net,\n",
    "                     opt_func=torch.optim.Adam,\n",
    "                     loss_func=l)"
   ]
  },
  {
   "cell_type": "code",
   "execution_count": 317,
   "metadata": {},
   "outputs": [
    {
     "ename": "ValueError",
     "evalue": "can't optimize a non-leaf Tensor",
     "output_type": "error",
     "traceback": [
      "\u001b[0;31m---------------------------------------------------------------------------\u001b[0m",
      "\u001b[0;31mValueError\u001b[0m                                Traceback (most recent call last)",
      "\u001b[0;32m<ipython-input-317-8f0ef889a7fe>\u001b[0m in \u001b[0;36m<module>\u001b[0;34m\u001b[0m\n\u001b[0;32m----> 1\u001b[0;31m \u001b[0mmy_learner\u001b[0m\u001b[0;34m.\u001b[0m\u001b[0mfit_one_cycle\u001b[0m\u001b[0;34m(\u001b[0m\u001b[0;36m1\u001b[0m\u001b[0;34m,\u001b[0m\u001b[0;36m1e-1\u001b[0m\u001b[0;34m)\u001b[0m\u001b[0;34m\u001b[0m\u001b[0;34m\u001b[0m\u001b[0m\n\u001b[0m",
      "\u001b[0;32m~/lib/fastai/fastai/train.py\u001b[0m in \u001b[0;36mfit_one_cycle\u001b[0;34m(learn, cyc_len, max_lr, moms, div_factor, pct_start, final_div, wd, callbacks, tot_epochs, start_epoch)\u001b[0m\n\u001b[1;32m     20\u001b[0m     callbacks.append(OneCycleScheduler(learn, max_lr, moms=moms, div_factor=div_factor, pct_start=pct_start,\n\u001b[1;32m     21\u001b[0m                                        final_div=final_div, tot_epochs=tot_epochs, start_epoch=start_epoch))\n\u001b[0;32m---> 22\u001b[0;31m     \u001b[0mlearn\u001b[0m\u001b[0;34m.\u001b[0m\u001b[0mfit\u001b[0m\u001b[0;34m(\u001b[0m\u001b[0mcyc_len\u001b[0m\u001b[0;34m,\u001b[0m \u001b[0mmax_lr\u001b[0m\u001b[0;34m,\u001b[0m \u001b[0mwd\u001b[0m\u001b[0;34m=\u001b[0m\u001b[0mwd\u001b[0m\u001b[0;34m,\u001b[0m \u001b[0mcallbacks\u001b[0m\u001b[0;34m=\u001b[0m\u001b[0mcallbacks\u001b[0m\u001b[0;34m)\u001b[0m\u001b[0;34m\u001b[0m\u001b[0;34m\u001b[0m\u001b[0m\n\u001b[0m\u001b[1;32m     23\u001b[0m \u001b[0;34m\u001b[0m\u001b[0m\n\u001b[1;32m     24\u001b[0m \u001b[0;32mdef\u001b[0m \u001b[0mlr_find\u001b[0m\u001b[0;34m(\u001b[0m\u001b[0mlearn\u001b[0m\u001b[0;34m:\u001b[0m\u001b[0mLearner\u001b[0m\u001b[0;34m,\u001b[0m \u001b[0mstart_lr\u001b[0m\u001b[0;34m:\u001b[0m\u001b[0mFloats\u001b[0m\u001b[0;34m=\u001b[0m\u001b[0;36m1e-7\u001b[0m\u001b[0;34m,\u001b[0m \u001b[0mend_lr\u001b[0m\u001b[0;34m:\u001b[0m\u001b[0mFloats\u001b[0m\u001b[0;34m=\u001b[0m\u001b[0;36m10\u001b[0m\u001b[0;34m,\u001b[0m \u001b[0mnum_it\u001b[0m\u001b[0;34m:\u001b[0m\u001b[0mint\u001b[0m\u001b[0;34m=\u001b[0m\u001b[0;36m100\u001b[0m\u001b[0;34m,\u001b[0m \u001b[0mstop_div\u001b[0m\u001b[0;34m:\u001b[0m\u001b[0mbool\u001b[0m\u001b[0;34m=\u001b[0m\u001b[0;32mTrue\u001b[0m\u001b[0;34m,\u001b[0m \u001b[0mwd\u001b[0m\u001b[0;34m:\u001b[0m\u001b[0mfloat\u001b[0m\u001b[0;34m=\u001b[0m\u001b[0;32mNone\u001b[0m\u001b[0;34m)\u001b[0m\u001b[0;34m:\u001b[0m\u001b[0;34m\u001b[0m\u001b[0;34m\u001b[0m\u001b[0m\n",
      "\u001b[0;32m~/lib/fastai/fastai/basic_train.py\u001b[0m in \u001b[0;36mfit\u001b[0;34m(self, epochs, lr, wd, callbacks)\u001b[0m\n\u001b[1;32m    194\u001b[0m         \u001b[0mlr\u001b[0m \u001b[0;34m=\u001b[0m \u001b[0mself\u001b[0m\u001b[0;34m.\u001b[0m\u001b[0mlr_range\u001b[0m\u001b[0;34m(\u001b[0m\u001b[0mlr\u001b[0m\u001b[0;34m)\u001b[0m\u001b[0;34m\u001b[0m\u001b[0;34m\u001b[0m\u001b[0m\n\u001b[1;32m    195\u001b[0m         \u001b[0;32mif\u001b[0m \u001b[0mwd\u001b[0m \u001b[0;32mis\u001b[0m \u001b[0;32mNone\u001b[0m\u001b[0;34m:\u001b[0m \u001b[0mwd\u001b[0m \u001b[0;34m=\u001b[0m \u001b[0mself\u001b[0m\u001b[0;34m.\u001b[0m\u001b[0mwd\u001b[0m\u001b[0;34m\u001b[0m\u001b[0;34m\u001b[0m\u001b[0m\n\u001b[0;32m--> 196\u001b[0;31m         \u001b[0;32mif\u001b[0m \u001b[0;32mnot\u001b[0m \u001b[0mgetattr\u001b[0m\u001b[0;34m(\u001b[0m\u001b[0mself\u001b[0m\u001b[0;34m,\u001b[0m \u001b[0;34m'opt'\u001b[0m\u001b[0;34m,\u001b[0m \u001b[0;32mFalse\u001b[0m\u001b[0;34m)\u001b[0m\u001b[0;34m:\u001b[0m \u001b[0mself\u001b[0m\u001b[0;34m.\u001b[0m\u001b[0mcreate_opt\u001b[0m\u001b[0;34m(\u001b[0m\u001b[0mlr\u001b[0m\u001b[0;34m,\u001b[0m \u001b[0mwd\u001b[0m\u001b[0;34m)\u001b[0m\u001b[0;34m\u001b[0m\u001b[0;34m\u001b[0m\u001b[0m\n\u001b[0m\u001b[1;32m    197\u001b[0m         \u001b[0;32melse\u001b[0m\u001b[0;34m:\u001b[0m \u001b[0mself\u001b[0m\u001b[0;34m.\u001b[0m\u001b[0mopt\u001b[0m\u001b[0;34m.\u001b[0m\u001b[0mlr\u001b[0m\u001b[0;34m,\u001b[0m\u001b[0mself\u001b[0m\u001b[0;34m.\u001b[0m\u001b[0mopt\u001b[0m\u001b[0;34m.\u001b[0m\u001b[0mwd\u001b[0m \u001b[0;34m=\u001b[0m \u001b[0mlr\u001b[0m\u001b[0;34m,\u001b[0m\u001b[0mwd\u001b[0m\u001b[0;34m\u001b[0m\u001b[0;34m\u001b[0m\u001b[0m\n\u001b[1;32m    198\u001b[0m         \u001b[0mcallbacks\u001b[0m \u001b[0;34m=\u001b[0m \u001b[0;34m[\u001b[0m\u001b[0mcb\u001b[0m\u001b[0;34m(\u001b[0m\u001b[0mself\u001b[0m\u001b[0;34m)\u001b[0m \u001b[0;32mfor\u001b[0m \u001b[0mcb\u001b[0m \u001b[0;32min\u001b[0m \u001b[0mself\u001b[0m\u001b[0;34m.\u001b[0m\u001b[0mcallback_fns\u001b[0m \u001b[0;34m+\u001b[0m \u001b[0mlistify\u001b[0m\u001b[0;34m(\u001b[0m\u001b[0mdefaults\u001b[0m\u001b[0;34m.\u001b[0m\u001b[0mextra_callback_fns\u001b[0m\u001b[0;34m)\u001b[0m\u001b[0;34m]\u001b[0m \u001b[0;34m+\u001b[0m \u001b[0mlistify\u001b[0m\u001b[0;34m(\u001b[0m\u001b[0mcallbacks\u001b[0m\u001b[0;34m)\u001b[0m\u001b[0;34m\u001b[0m\u001b[0;34m\u001b[0m\u001b[0m\n",
      "\u001b[0;32m~/lib/fastai/fastai/basic_train.py\u001b[0m in \u001b[0;36mcreate_opt\u001b[0;34m(self, lr, wd)\u001b[0m\n\u001b[1;32m    202\u001b[0m     \u001b[0;32mdef\u001b[0m \u001b[0mcreate_opt\u001b[0m\u001b[0;34m(\u001b[0m\u001b[0mself\u001b[0m\u001b[0;34m,\u001b[0m \u001b[0mlr\u001b[0m\u001b[0;34m:\u001b[0m\u001b[0mFloats\u001b[0m\u001b[0;34m,\u001b[0m \u001b[0mwd\u001b[0m\u001b[0;34m:\u001b[0m\u001b[0mFloats\u001b[0m\u001b[0;34m=\u001b[0m\u001b[0;36m0.\u001b[0m\u001b[0;34m)\u001b[0m\u001b[0;34m->\u001b[0m\u001b[0;32mNone\u001b[0m\u001b[0;34m:\u001b[0m\u001b[0;34m\u001b[0m\u001b[0;34m\u001b[0m\u001b[0m\n\u001b[1;32m    203\u001b[0m         \u001b[0;34m\"Create optimizer with `lr` learning rate and `wd` weight decay.\"\u001b[0m\u001b[0;34m\u001b[0m\u001b[0;34m\u001b[0m\u001b[0m\n\u001b[0;32m--> 204\u001b[0;31m         \u001b[0mself\u001b[0m\u001b[0;34m.\u001b[0m\u001b[0mopt\u001b[0m \u001b[0;34m=\u001b[0m \u001b[0mOptimWrapper\u001b[0m\u001b[0;34m.\u001b[0m\u001b[0mcreate\u001b[0m\u001b[0;34m(\u001b[0m\u001b[0mself\u001b[0m\u001b[0;34m.\u001b[0m\u001b[0mopt_func\u001b[0m\u001b[0;34m,\u001b[0m \u001b[0mlr\u001b[0m\u001b[0;34m,\u001b[0m \u001b[0mself\u001b[0m\u001b[0;34m.\u001b[0m\u001b[0mlayer_groups\u001b[0m\u001b[0;34m,\u001b[0m \u001b[0mwd\u001b[0m\u001b[0;34m=\u001b[0m\u001b[0mwd\u001b[0m\u001b[0;34m,\u001b[0m \u001b[0mtrue_wd\u001b[0m\u001b[0;34m=\u001b[0m\u001b[0mself\u001b[0m\u001b[0;34m.\u001b[0m\u001b[0mtrue_wd\u001b[0m\u001b[0;34m,\u001b[0m \u001b[0mbn_wd\u001b[0m\u001b[0;34m=\u001b[0m\u001b[0mself\u001b[0m\u001b[0;34m.\u001b[0m\u001b[0mbn_wd\u001b[0m\u001b[0;34m)\u001b[0m\u001b[0;34m\u001b[0m\u001b[0;34m\u001b[0m\u001b[0m\n\u001b[0m\u001b[1;32m    205\u001b[0m \u001b[0;34m\u001b[0m\u001b[0m\n\u001b[1;32m    206\u001b[0m     \u001b[0;32mdef\u001b[0m \u001b[0msplit\u001b[0m\u001b[0;34m(\u001b[0m\u001b[0mself\u001b[0m\u001b[0;34m,\u001b[0m \u001b[0msplit_on\u001b[0m\u001b[0;34m:\u001b[0m\u001b[0mSplitFuncOrIdxList\u001b[0m\u001b[0;34m)\u001b[0m\u001b[0;34m->\u001b[0m\u001b[0;32mNone\u001b[0m\u001b[0;34m:\u001b[0m\u001b[0;34m\u001b[0m\u001b[0;34m\u001b[0m\u001b[0m\n",
      "\u001b[0;32m~/lib/fastai/fastai/callback.py\u001b[0m in \u001b[0;36mcreate\u001b[0;34m(cls, opt_func, lr, layer_groups, wd, true_wd, bn_wd)\u001b[0m\n\u001b[1;32m     22\u001b[0m         \u001b[0;34m\"Create an `optim.Optimizer` from `opt_func` with `lr`. Set lr on `layer_groups`.\"\u001b[0m\u001b[0;34m\u001b[0m\u001b[0;34m\u001b[0m\u001b[0m\n\u001b[1;32m     23\u001b[0m         \u001b[0msplit_params\u001b[0m \u001b[0;34m=\u001b[0m \u001b[0msplit_no_wd_params\u001b[0m\u001b[0;34m(\u001b[0m\u001b[0mlayer_groups\u001b[0m\u001b[0;34m)\u001b[0m\u001b[0;34m\u001b[0m\u001b[0;34m\u001b[0m\u001b[0m\n\u001b[0;32m---> 24\u001b[0;31m         \u001b[0mopt\u001b[0m \u001b[0;34m=\u001b[0m \u001b[0mopt_func\u001b[0m\u001b[0;34m(\u001b[0m\u001b[0;34m[\u001b[0m\u001b[0;34m{\u001b[0m\u001b[0;34m'params'\u001b[0m\u001b[0;34m:\u001b[0m \u001b[0mp\u001b[0m\u001b[0;34m,\u001b[0m \u001b[0;34m'lr'\u001b[0m\u001b[0;34m:\u001b[0m\u001b[0;36m0\u001b[0m\u001b[0;34m}\u001b[0m \u001b[0;32mfor\u001b[0m \u001b[0mp\u001b[0m \u001b[0;32min\u001b[0m \u001b[0msplit_params\u001b[0m\u001b[0;34m]\u001b[0m\u001b[0;34m)\u001b[0m\u001b[0;34m\u001b[0m\u001b[0;34m\u001b[0m\u001b[0m\n\u001b[0m\u001b[1;32m     25\u001b[0m         \u001b[0mopt\u001b[0m \u001b[0;34m=\u001b[0m \u001b[0mcls\u001b[0m\u001b[0;34m(\u001b[0m\u001b[0mopt\u001b[0m\u001b[0;34m,\u001b[0m \u001b[0mwd\u001b[0m\u001b[0;34m=\u001b[0m\u001b[0mwd\u001b[0m\u001b[0;34m,\u001b[0m \u001b[0mtrue_wd\u001b[0m\u001b[0;34m=\u001b[0m\u001b[0mtrue_wd\u001b[0m\u001b[0;34m,\u001b[0m \u001b[0mbn_wd\u001b[0m\u001b[0;34m=\u001b[0m\u001b[0mbn_wd\u001b[0m\u001b[0;34m)\u001b[0m\u001b[0;34m\u001b[0m\u001b[0;34m\u001b[0m\u001b[0m\n\u001b[1;32m     26\u001b[0m         \u001b[0mopt\u001b[0m\u001b[0;34m.\u001b[0m\u001b[0mlr\u001b[0m\u001b[0;34m,\u001b[0m\u001b[0mopt\u001b[0m\u001b[0;34m.\u001b[0m\u001b[0mopt_func\u001b[0m \u001b[0;34m=\u001b[0m \u001b[0mlistify\u001b[0m\u001b[0;34m(\u001b[0m\u001b[0mlr\u001b[0m\u001b[0;34m,\u001b[0m \u001b[0mlayer_groups\u001b[0m\u001b[0;34m)\u001b[0m\u001b[0;34m,\u001b[0m\u001b[0mopt_func\u001b[0m\u001b[0;34m\u001b[0m\u001b[0;34m\u001b[0m\u001b[0m\n",
      "\u001b[0;32m~/anaconda3/lib/python3.7/site-packages/torch/optim/adam.py\u001b[0m in \u001b[0;36m__init__\u001b[0;34m(self, params, lr, betas, eps, weight_decay, amsgrad)\u001b[0m\n\u001b[1;32m     40\u001b[0m         defaults = dict(lr=lr, betas=betas, eps=eps,\n\u001b[1;32m     41\u001b[0m                         weight_decay=weight_decay, amsgrad=amsgrad)\n\u001b[0;32m---> 42\u001b[0;31m         \u001b[0msuper\u001b[0m\u001b[0;34m(\u001b[0m\u001b[0mAdam\u001b[0m\u001b[0;34m,\u001b[0m \u001b[0mself\u001b[0m\u001b[0;34m)\u001b[0m\u001b[0;34m.\u001b[0m\u001b[0m__init__\u001b[0m\u001b[0;34m(\u001b[0m\u001b[0mparams\u001b[0m\u001b[0;34m,\u001b[0m \u001b[0mdefaults\u001b[0m\u001b[0;34m)\u001b[0m\u001b[0;34m\u001b[0m\u001b[0;34m\u001b[0m\u001b[0m\n\u001b[0m\u001b[1;32m     43\u001b[0m \u001b[0;34m\u001b[0m\u001b[0m\n\u001b[1;32m     44\u001b[0m     \u001b[0;32mdef\u001b[0m \u001b[0m__setstate__\u001b[0m\u001b[0;34m(\u001b[0m\u001b[0mself\u001b[0m\u001b[0;34m,\u001b[0m \u001b[0mstate\u001b[0m\u001b[0;34m)\u001b[0m\u001b[0;34m:\u001b[0m\u001b[0;34m\u001b[0m\u001b[0;34m\u001b[0m\u001b[0m\n",
      "\u001b[0;32m~/anaconda3/lib/python3.7/site-packages/torch/optim/optimizer.py\u001b[0m in \u001b[0;36m__init__\u001b[0;34m(self, params, defaults)\u001b[0m\n\u001b[1;32m     48\u001b[0m \u001b[0;34m\u001b[0m\u001b[0m\n\u001b[1;32m     49\u001b[0m         \u001b[0;32mfor\u001b[0m \u001b[0mparam_group\u001b[0m \u001b[0;32min\u001b[0m \u001b[0mparam_groups\u001b[0m\u001b[0;34m:\u001b[0m\u001b[0;34m\u001b[0m\u001b[0;34m\u001b[0m\u001b[0m\n\u001b[0;32m---> 50\u001b[0;31m             \u001b[0mself\u001b[0m\u001b[0;34m.\u001b[0m\u001b[0madd_param_group\u001b[0m\u001b[0;34m(\u001b[0m\u001b[0mparam_group\u001b[0m\u001b[0;34m)\u001b[0m\u001b[0;34m\u001b[0m\u001b[0;34m\u001b[0m\u001b[0m\n\u001b[0m\u001b[1;32m     51\u001b[0m \u001b[0;34m\u001b[0m\u001b[0m\n\u001b[1;32m     52\u001b[0m     \u001b[0;32mdef\u001b[0m \u001b[0m__getstate__\u001b[0m\u001b[0;34m(\u001b[0m\u001b[0mself\u001b[0m\u001b[0;34m)\u001b[0m\u001b[0;34m:\u001b[0m\u001b[0;34m\u001b[0m\u001b[0;34m\u001b[0m\u001b[0m\n",
      "\u001b[0;32m~/anaconda3/lib/python3.7/site-packages/torch/optim/optimizer.py\u001b[0m in \u001b[0;36madd_param_group\u001b[0;34m(self, param_group)\u001b[0m\n\u001b[1;32m    199\u001b[0m                                 \"but one of the params is \" + torch.typename(param))\n\u001b[1;32m    200\u001b[0m             \u001b[0;32mif\u001b[0m \u001b[0;32mnot\u001b[0m \u001b[0mparam\u001b[0m\u001b[0;34m.\u001b[0m\u001b[0mis_leaf\u001b[0m\u001b[0;34m:\u001b[0m\u001b[0;34m\u001b[0m\u001b[0;34m\u001b[0m\u001b[0m\n\u001b[0;32m--> 201\u001b[0;31m                 \u001b[0;32mraise\u001b[0m \u001b[0mValueError\u001b[0m\u001b[0;34m(\u001b[0m\u001b[0;34m\"can't optimize a non-leaf Tensor\"\u001b[0m\u001b[0;34m)\u001b[0m\u001b[0;34m\u001b[0m\u001b[0;34m\u001b[0m\u001b[0m\n\u001b[0m\u001b[1;32m    202\u001b[0m \u001b[0;34m\u001b[0m\u001b[0m\n\u001b[1;32m    203\u001b[0m         \u001b[0;32mfor\u001b[0m \u001b[0mname\u001b[0m\u001b[0;34m,\u001b[0m \u001b[0mdefault\u001b[0m \u001b[0;32min\u001b[0m \u001b[0mself\u001b[0m\u001b[0;34m.\u001b[0m\u001b[0mdefaults\u001b[0m\u001b[0;34m.\u001b[0m\u001b[0mitems\u001b[0m\u001b[0;34m(\u001b[0m\u001b[0;34m)\u001b[0m\u001b[0;34m:\u001b[0m\u001b[0;34m\u001b[0m\u001b[0;34m\u001b[0m\u001b[0m\n",
      "\u001b[0;31mValueError\u001b[0m: can't optimize a non-leaf Tensor"
     ]
    }
   ],
   "source": [
    "my_learner.fit_one_cycle(1,1e-1)"
   ]
  },
  {
   "cell_type": "markdown",
   "metadata": {},
   "source": [
    "### TESTS ================================================="
   ]
  },
  {
   "cell_type": "code",
   "execution_count": 96,
   "metadata": {},
   "outputs": [
    {
     "data": {
      "text/plain": [
       "tensor([[[1, 2],\n",
       "         [3, 4]],\n",
       "\n",
       "        [[5, 6],\n",
       "         [7, 8]]])"
      ]
     },
     "execution_count": 96,
     "metadata": {},
     "output_type": "execute_result"
    }
   ],
   "source": [
    "a = torch.tensor([ [[1,2],[3,4]], [[5,6],[7,8]] ] )\n",
    "a"
   ]
  },
  {
   "cell_type": "code",
   "execution_count": 98,
   "metadata": {},
   "outputs": [
    {
     "data": {
      "text/plain": [
       "torch.Size([2, 2, 2])"
      ]
     },
     "execution_count": 98,
     "metadata": {},
     "output_type": "execute_result"
    }
   ],
   "source": [
    "a.shape"
   ]
  },
  {
   "cell_type": "code",
   "execution_count": 102,
   "metadata": {},
   "outputs": [
    {
     "data": {
      "text/plain": [
       "tensor([[1, 2],\n",
       "        [3, 4],\n",
       "        [5, 6],\n",
       "        [7, 8]])"
      ]
     },
     "execution_count": 102,
     "metadata": {},
     "output_type": "execute_result"
    }
   ],
   "source": [
    "a.view(-1,2)"
   ]
  },
  {
   "cell_type": "code",
   "execution_count": 119,
   "metadata": {
    "scrolled": true
   },
   "outputs": [
    {
     "data": {
      "text/plain": [
       "'xxbos \" an extremely disappointing experience \" where do i beging xxperiod first let me just say that originally i had booked a reservation to stay at this hotel for 9 days instead of the two days that i lasted with my family at this hotel xxperiod the original comfirmed reservation was to have taken place from friday august 15 to sunday august xxunk in may this year i was considering going back to puerto rico for a longer stay than the 6 days i stood at the san juan marriott resort and stellaris casino in the condado area last year in october xxperiod we had such a great time specially at the marriott that i wrote a beautiful review about the hotel here on tripadvisor and in the review i had stated that if we will ever go back to puerto rico this will be the hotel that we will go back to xxperiod i made a decision back in may this year to at least try another hotel just to see how good other hotels may fair against the marriott xxperiod that is why after reading so many reviews about the condado plaza hotel and casino ( some good ones and some bad ones ) i felt that the good ones were more than enough to make me want to stay at this hotel xxperiod when i made the reservation through the hotel \\'s website and obtaining my confirmation # , right away i placed a call to the hotel directly from ny just to make sure that everything was as schedule specially confirming my request of an ocean vista room , high floor and most of all a room with two beds since i was traveling with xxperiod my lovely girlfriend and my adorable 12 year old daughter xxperiod after talking to an agent from the hotel she assured me that everything will be as scheduled xxperiod she told me that upon my arrival to the hotel there will be an ocean vista room high floor with two beds waiting for us xxperiod not only did i called on the day of the reservation but i also called on june and this time i spoke to gabriel who assured me that everything was fine with the reservation an that i will be getting a room just as i have requested with two beds , high floor and facing the ocean xxperiod i placed another called the first week of august to make sure once again that all was as schedule with my reservation and thn again i spoke to another agent from the hotel who again told me that everything is ready and that my room exactly as i have requested it will be waiting for me upon my arrival xxperiod upon our arrival at the hotel on friday august 15 with my rented car from hertz i was just about to get into the hotel entrance when we realized that it was been blocked by a barrier with a police officer standing in front of it xxperiod the police officer came to the car an told me that i could not get it but i explained to her that i was a guest at the hotel and that i had just arrived from ny and i was going to check in into the hotel xxperiod she told me to wait a second and she went to talk to another officer where at one point they started some sort of an argument because they wanted to decide who was going to move the barrier so i can get into the hotel xxperiod after letting my drive into the hotel i came to the valet parking area where i had to wait for at least 20 minutes before anyone can come to help us with the luggage or even take the car xxperiod finally a guy from the valet parking came in and asked me if i was checking in and i told him yes and also mentioned to him that i will need a bellman to bring our luggage to the room to which he replied that he did not know where the bellman was xxperiod at this point i just said to him just park the car for me and we will carry our on luggage into the hotel xxperiod when the doors from the hotel opened we could not believe what we were seeing xxperiod there was so many people in the lobby drinking an partying and the music was so loud that we were trying to get thru the people and at some point we had to yelled excuse me so they could move so we can make it to the front desk to check in xxperiod we finally made it to the front desk and were greeted by fernando to whom i had to speak out loud so he can hear me because of the loud music being played in the lobby xxperiod i gave him my name and told him that i had a reservation for a high floor , ocean vista room with two double beds xxperiod i could tell right away that something was wrong immediately because of the expression on his face xxperiod he said to me that i did have an ocean vista room on the 9th floor but only 1 bed xxperiod with everything that has been going on so far since we arrived at the hotel i started to get a little upset but chose to be a little diplomatic about it and told fernando that i have been calling the hotel every month since i made the reservation to make sure everything was as schedule an that the most important thing was having two xxperiod beds and that everytime i called i was assured that i will get a room with two beds xxperiod he said that they only had a room with only one bed xxperiod i asked him why a hotel with over 500 rooms and with a comfirmed reservation that was made almost three months ago can provide me me with what i asked for to which he replied that all the hotel does guarantee is an ocean vista room but not the specific amount of beds i said to him how do you expect the three of xxperiod us to sleep on the same bed when i am almost 6\\'2 xxperiod he said that he could send me an air mattress to our room at least for the night and that i can speak to the manager in the morning so he can change out room to one with two beds xxperiod at his point was almost 9 pm and we were so tired and hungry that i agreed to take the room with the air mattress and wait until the next day to be transfer to another room with two beds xxperiod i asked him why the hotel so so crowded and he told me that the hotel had booked a local political convention and that is why the hotel was so packed xxperiod he said to leave the luggage by the front desk and that he will have a bellman take them upstairs xxperiod i took my room keys and asked him to tell me where the elevators where so i can go up to my room and when he pointed the elevators to me i could not believe what i saw xxperiod there was a line so long to take the elevators that i knew it was going to take us a while just to get in them xxperiod after waiting for about 15 minutes waiting for an elevator since everytime they came to the lobby they were full to capacity from people going up an down i asked him if there was another way to get to the room he told me that there was another elevator in the back towards the pool that not too many people know about xxperiod when we got to this elevator there was also a lot of people but not as much as the main / front elevators so this time we only waited for around 5 minutes to get in xxperiod we arrived to room # 912 and found the room to be clean with one bed and an l shaped sofa in front of the tv xxperiod the bellman showed up around 20 minutes later with our luggage an i asked him if he knew where was our air mattress xxperiod he said not to worry about it because it will be brought up to our room and we did not need to be there since houskeeping has the key to the room xxperiod we decided to go out the hotel to get something to eat and we felt that by the time we came back the air mattress will be in the room xxperiod this time on the way down we had to take th stairs because when we wen to the elevator area in our floor there was a lot of people waiting for the elevators xxperiod we came back to the room around almost 11:00pm and when we got ot the room there was no air mattress to be found , i called the front desk for at least 5 minutes before anyone came to answer the phone xxperiod this is not an exaggeration xxperiod this is a fact xxperiod finally when i got someone to anwer they promise that they will send and air mattress right away xxperiod this was at xxunk and we all went to sleep around 1 am and still no air mattress xxperiod in had to sleep in the l shaped sofa that was in the room so my daughter and girlfriend can sleep in th bed xxperiod this was very uncomfortable because i am almost 6\\'2 and i wanted my daughter an girlfriend to get a good night sleep since we have been up since 5 am that day because our 9 am flight was canceled by xxunk and we had to booked another flight thru american airlines just to make it to puerto rico xxperiod while sleeping we kept waking up because our room was right across the ice making machine which at that time it became a hang out place for the drinking guests of the political convention that was taken place at the hotel and these people were talking so loud and and laughing right the front of our room to early hours in the morning xxperiod all i remember was that the last time i heard people talking was around 3:00am but i was so tired that i kept sleeping xxperiod the following day saturday august 16th i was downstairs at 8 am so i can speak to the front desk manager mr xxperiod jean pierre aponte xxperiod i explained to him my situation to which he was really very apologetic and he told me that he will do whatever he could to get me a room with two beds xxperiod i gave him my cell phone number to call me because we had plans to go to the old san juan during the day xxperiod aponte called me xxunk 2 pm but did not have good news for me xxperiod he could not find a room with two beds and most of all he did not even have an air mattress to offer me xxperiod he told me that he will take $ 25 off my bill for every day that i did not have an air mattress xxperiod i told mr xxperiod aponte that this is not what i wanted but i will have to think what i was going to do xxperiod we came back to the hotel around 5 pm to find out the same old story xxperiod over packed lobby with people holding drinks , extremely loud live music and a line of people waiting for elevators xxperiod we went to the back of the lobby to use elevator near the pool which it was not as busy as the main ones an to our surprise the elevator was out of service xxperiod we decided to go up the stairs because it was going to take a while if we were going to wait for the elevators xxperiod it took us a little longer because my daughter as a problem with one of her knees and it takes her a while to go up stairs xxperiod we made it to our room and decided to just change an relax at the pool xxperiod huge xxunk we arrived at the pool , the pool was so packed with the guest and friends of the political convention that there was no chairs available at all xxperiod we decided to go to the beach instead and when we went to get the chairs by the beach they were all tied up with ropes xxperiod we asked why xxperiod and they told us that the beach chairs can only be used until 6 pm xxperiod i looked at the time and it was xxunk xxperiod our luck well we had no choice but to sit on the sand and do the best we could xxperiod while seating on the beach i looked at my daughters face and i saw how sad she was xxperiod she was also in pain because her knee started to hurt because of the climbing thru the stairs to our room xxperiod it was at this point that i decided that i had enough of the condado plaza hotel xxperiod i told my girlfriend , packed the suitcases because we are checking out of this lousy hotel and we are going to the marriott xxperiod i walked to the san juan marriott hotel and right away they found me a room with 2 beds xxperiod it was costing me over $ 500 more that the condado plaza hotel but guess what xxperiod it was worth it xxperiod i returned to the condado an had to carried part of our luggage downstairs because we waited for 25 minutes in the room and when i called the front desk ( which i had to call 3 times before anyone answer the phone ) i was told that it was taking longer than expected because they only had 1 bellman working that night'"
      ]
     },
     "execution_count": 119,
     "metadata": {},
     "output_type": "execute_result"
    }
   ],
   "source": [
    "clas_db.vocab.textify(input.cpu()[0,:])"
   ]
  },
  {
   "cell_type": "code",
   "execution_count": null,
   "metadata": {},
   "outputs": [],
   "source": []
  },
  {
   "cell_type": "code",
   "execution_count": 139,
   "metadata": {},
   "outputs": [
    {
     "data": {
      "text/plain": [
       "tensor([[1, 2],\n",
       "        [3, 4]])"
      ]
     },
     "execution_count": 139,
     "metadata": {},
     "output_type": "execute_result"
    }
   ],
   "source": [
    "b = torch.tensor([ [1,2], [3,4] ])\n",
    "b"
   ]
  },
  {
   "cell_type": "code",
   "execution_count": 140,
   "metadata": {},
   "outputs": [
    {
     "data": {
      "text/plain": [
       "tensor([[1, 1, 1],\n",
       "        [2, 2, 2]])"
      ]
     },
     "execution_count": 140,
     "metadata": {},
     "output_type": "execute_result"
    }
   ],
   "source": [
    "c = torch.tensor([ [1,1,1], [2,2,2] ])\n",
    "c"
   ]
  },
  {
   "cell_type": "code",
   "execution_count": 142,
   "metadata": {},
   "outputs": [
    {
     "data": {
      "text/plain": [
       "tensor([[[1, 1, 1],\n",
       "         [2, 2, 2]],\n",
       "\n",
       "        [[6, 6, 6],\n",
       "         [8, 8, 8]]])"
      ]
     },
     "execution_count": 142,
     "metadata": {},
     "output_type": "execute_result"
    }
   ],
   "source": [
    "result = torch.bmm(b.unsqueeze(2), c.unsqueeze(1))\n",
    "result"
   ]
  },
  {
   "cell_type": "code",
   "execution_count": 143,
   "metadata": {},
   "outputs": [
    {
     "data": {
      "text/plain": [
       "torch.Size([2, 2, 3])"
      ]
     },
     "execution_count": 143,
     "metadata": {},
     "output_type": "execute_result"
    }
   ],
   "source": [
    "result.shape"
   ]
  },
  {
   "cell_type": "code",
   "execution_count": 152,
   "metadata": {},
   "outputs": [
    {
     "data": {
      "text/plain": [
       "tensor([0, 0, 1, 0, 0, 0, 0, 1, 0, 0, 0, 1])"
      ]
     },
     "execution_count": 152,
     "metadata": {},
     "output_type": "execute_result"
    }
   ],
   "source": [
    "b = torch.tensor( [0,0,1,0,0,0,0,1,0,0,0,1] )\n",
    "b"
   ]
  },
  {
   "cell_type": "code",
   "execution_count": 154,
   "metadata": {},
   "outputs": [
    {
     "data": {
      "text/plain": [
       "tensor([0, 0, 1, 0, 0, 0, 0, 1, 0, 0, 0, 1], dtype=torch.uint8)"
      ]
     },
     "execution_count": 154,
     "metadata": {},
     "output_type": "execute_result"
    }
   ],
   "source": [
    "ind = b == 1\n",
    "ind"
   ]
  },
  {
   "cell_type": "code",
   "execution_count": 159,
   "metadata": {},
   "outputs": [
    {
     "ename": "AttributeError",
     "evalue": "'function' object has no attribute 'reduceat'",
     "output_type": "error",
     "traceback": [
      "\u001b[0;31m---------------------------------------------------------------------------\u001b[0m",
      "\u001b[0;31mAttributeError\u001b[0m                            Traceback (most recent call last)",
      "\u001b[0;32m<ipython-input-159-cd16e917f105>\u001b[0m in \u001b[0;36m<module>\u001b[0;34m\u001b[0m\n\u001b[0;32m----> 1\u001b[0;31m \u001b[0mnp\u001b[0m\u001b[0;34m.\u001b[0m\u001b[0maverage\u001b[0m\u001b[0;34m.\u001b[0m\u001b[0mreduceat\u001b[0m\u001b[0;34m(\u001b[0m\u001b[0mb\u001b[0m\u001b[0;34m,\u001b[0m \u001b[0;34m[\u001b[0m\u001b[0;36m0\u001b[0m\u001b[0;34m,\u001b[0m\u001b[0;36m3\u001b[0m\u001b[0;34m,\u001b[0m\u001b[0;36m8\u001b[0m\u001b[0;34m]\u001b[0m\u001b[0;34m)\u001b[0m\u001b[0;34m\u001b[0m\u001b[0;34m\u001b[0m\u001b[0m\n\u001b[0m",
      "\u001b[0;31mAttributeError\u001b[0m: 'function' object has no attribute 'reduceat'"
     ]
    }
   ],
   "source": [
    "np.add.reduceat(b, [0,3,8])"
   ]
  },
  {
   "cell_type": "code",
   "execution_count": 182,
   "metadata": {},
   "outputs": [
    {
     "data": {
      "text/plain": [
       "tensor([ 79, 158])"
      ]
     },
     "execution_count": 182,
     "metadata": {},
     "output_type": "execute_result"
    }
   ],
   "source": [
    "torch.cumsum(torch.tensor([79,79]),0)"
   ]
  },
  {
   "cell_type": "code",
   "execution_count": 184,
   "metadata": {},
   "outputs": [
    {
     "data": {
      "text/plain": [
       "tensor([0, 0, 1, 0, 0, 0, 0, 1, 0, 0, 0])"
      ]
     },
     "execution_count": 184,
     "metadata": {},
     "output_type": "execute_result"
    }
   ],
   "source": [
    "b[0:-1]"
   ]
  },
  {
   "cell_type": "code",
   "execution_count": null,
   "metadata": {},
   "outputs": [],
   "source": []
  }
 ],
 "metadata": {
  "accelerator": "GPU",
  "colab": {
   "collapsed_sections": [],
   "name": "Train_Hotel.ipynb",
   "provenance": [],
   "version": "0.3.2"
  },
  "kernelspec": {
   "display_name": "Python 3",
   "language": "python",
   "name": "python3"
  },
  "language_info": {
   "codemirror_mode": {
    "name": "ipython",
    "version": 3
   },
   "file_extension": ".py",
   "mimetype": "text/x-python",
   "name": "python",
   "nbconvert_exporter": "python",
   "pygments_lexer": "ipython3",
   "version": "3.7.3"
  }
 },
 "nbformat": 4,
 "nbformat_minor": 2
}
