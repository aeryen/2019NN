{
 "cells": [
  {
   "cell_type": "code",
   "execution_count": 1,
   "metadata": {},
   "outputs": [],
   "source": [
    "%reload_ext autoreload\n",
    "%autoreload 2\n",
    "%matplotlib inline"
   ]
  },
  {
   "cell_type": "code",
   "execution_count": 2,
   "metadata": {
    "scrolled": true
   },
   "outputs": [
    {
     "name": "stderr",
     "output_type": "stream",
     "text": [
      "COMET INFO: Experiment is live on comet.ml https://www.comet.ml/aeryen/2019nn/d1ab8b0a6a9b410da9e4edbf72b18cb4\n",
      "\n"
     ]
    }
   ],
   "source": [
    "import comet_ml\n",
    "experiment = comet_ml.Experiment(project_name=\"2019nn\")"
   ]
  },
  {
   "cell_type": "code",
   "execution_count": 3,
   "metadata": {},
   "outputs": [],
   "source": [
    "# %%\n",
    "from fastai.text import *\n",
    "from data_helpers.Data import *\n",
    "from fastai.text.transform import *"
   ]
  },
  {
   "cell_type": "code",
   "execution_count": 4,
   "metadata": {},
   "outputs": [],
   "source": [
    "hyper_params = {\n",
    "    \"max_sequence_length\": 40*70,\n",
    "    \"moms\": (0.8, 0.8, 0.8, 0.8, 0.8),\n",
    "    \"batch_size\": 20,\n",
    "    \"num_epochs\": 8,\n",
    "}"
   ]
  },
  {
   "cell_type": "code",
   "execution_count": 5,
   "metadata": {},
   "outputs": [],
   "source": [
    "experiment.log_parameters(hyper_params)"
   ]
  },
  {
   "cell_type": "markdown",
   "metadata": {},
   "source": [
    "# Load LM Databunch and LM Learner"
   ]
  },
  {
   "cell_type": "code",
   "execution_count": 6,
   "metadata": {},
   "outputs": [],
   "source": [
    "# lm_db = load_data(\"./data/\", \"hotel_lm_databunch.1001\")\n",
    "# lm_learn = language_model_learner(lm_db, AWD_LSTM)\n",
    "# lm_learn = lm_learn.load(\"lang_model_hotel\")"
   ]
  },
  {
   "cell_type": "code",
   "execution_count": 7,
   "metadata": {},
   "outputs": [],
   "source": [
    "# lm_learn.save_encoder('lang_model_hotel_enc')"
   ]
  },
  {
   "cell_type": "code",
   "execution_count": 8,
   "metadata": {},
   "outputs": [
    {
     "data": {
      "text/plain": [
       "20"
      ]
     },
     "execution_count": 8,
     "metadata": {},
     "output_type": "execute_result"
    }
   ],
   "source": [
    "cls_db = load_data(\"./data/\", \"cls_databunch_hotel.allaspect.1115\")\n",
    "cls_db.batch_size=hyper_params[\"batch_size\"]\n",
    "cls_db.batch_size"
   ]
  },
  {
   "cell_type": "markdown",
   "metadata": {},
   "source": [
    "# Tools"
   ]
  },
  {
   "cell_type": "markdown",
   "metadata": {},
   "source": [
    "### Sentence Feature Combo Pooling (1200)"
   ]
  },
  {
   "cell_type": "code",
   "execution_count": 9,
   "metadata": {},
   "outputs": [],
   "source": [
    "def pool_combo(output, start, end):\n",
    "    avg_pool = output[start:end, :].mean(dim=0)\n",
    "    max_pool = output[start:end, :].max(dim=0)[0]\n",
    "    x = torch.cat([output[-1,:], max_pool, avg_pool], 0)\n",
    "    return x\n",
    "\n",
    "def sentence_extract_pool(outputs, mask, p_index):\n",
    "    \"Pool MultiBatchEncoder outputs into one vector [last_hidden, max_pool, avg_pool].\"\n",
    "    output = outputs[-1]\n",
    "    seq_max = output.size(1)\n",
    "    doc_start = mask.int().sum(dim=1)\n",
    "    \n",
    "    batch = []\n",
    "    for doci in range(0,output.shape[0]):\n",
    "        pi = p_index[doci,:].nonzero(as_tuple=True)[0].int()\n",
    "        doc = []\n",
    "        for senti in range( len(pi) ):\n",
    "            if senti==0:\n",
    "                doc.append( pool_combo(output[doci,:,:], doc_start[doci], pi[senti]) )\n",
    "            else:\n",
    "                doc.append( pool_combo(output[doci,:,:], pi[senti-1]+1, pi[senti]) )\n",
    "            \n",
    "        batch.append( torch.stack(doc, 0) )\n",
    "\n",
    "    return batch"
   ]
  },
  {
   "cell_type": "markdown",
   "metadata": {},
   "source": [
    "## DEFINE MODEL"
   ]
  },
  {
   "cell_type": "code",
   "execution_count": 10,
   "metadata": {},
   "outputs": [],
   "source": [
    "class SentenceEncoder(Module):\n",
    "    \"Create an encoder over `module` that can process a full sentence.\"\n",
    "    def __init__(self, bptt:int, max_len:int, module:nn.Module, vocab, pad_idx:int=1):\n",
    "        print(\"Encoder init\")\n",
    "        self.max_len,self.bptt,self.module,self.pad_idx = max_len,bptt,module,pad_idx\n",
    "        self.vocab = vocab\n",
    "        self.period_index = self.vocab.stoi[\"xxperiod\"]\n",
    "\n",
    "    def concat(self, arrs:Collection[Tensor])->Tensor:\n",
    "        \"Concatenate the `arrs` along the batch dimension.\"\n",
    "        return [torch.cat([l[si] for l in arrs], dim=1) for si in range_of(arrs[0])]\n",
    "\n",
    "    def reset(self):\n",
    "        if hasattr(self.module, 'reset'): self.module.reset()\n",
    "\n",
    "    def forward(self, input:LongTensor)->Tuple[Tensor,Tensor]:\n",
    "        bs,sl = input.size()\n",
    "        self.reset()\n",
    "        raw_outputs,outputs,masks = [],[],[]\n",
    "        p_index = []\n",
    "        for i in range(0, sl, self.bptt):\n",
    "            r, o = self.module(input[:,i: min(i+self.bptt, sl)])\n",
    "            if i>(sl-self.max_len):\n",
    "                masks.append(input[:,i: min(i+self.bptt, sl)] == self.pad_idx)\n",
    "                raw_outputs.append(r)\n",
    "                outputs.append(o)\n",
    "                p_index.append( input[:,i: min(i+self.bptt, sl)] == self.period_index )\n",
    "\n",
    "                \n",
    "        # print(\"number of sentences in docs:\")\n",
    "#         n_sent = torch.sum( x==self.vocab.stoi[\"xxperiod\"] , dim=1)\n",
    "        # print(n_sent)\n",
    "        \n",
    "        # print(\"locating period marks\")\n",
    "        period_index = torch.cat(p_index,dim=1)\n",
    "        \n",
    "        return self.concat(raw_outputs),self.concat(outputs), \\\n",
    "               torch.cat(masks,dim=1),period_index"
   ]
  },
  {
   "cell_type": "markdown",
   "metadata": {},
   "source": [
    "### Baseline 01: Fastai Default"
   ]
  },
  {
   "cell_type": "code",
   "execution_count": 10,
   "metadata": {},
   "outputs": [],
   "source": [
    "def masked_concat_pool(outputs, mask):\n",
    "    \"Pool MultiBatchEncoder outputs into one vector [last_hidden, max_pool, avg_pool].\"\n",
    "    output = outputs[-1]\n",
    "    avg_pool = output.masked_fill(mask[:, :, None], 0).mean(dim=1)\n",
    "    avg_pool *= output.size(1) / (output.size(1)-mask.type(avg_pool.dtype).sum(dim=1))[:,None]\n",
    "    max_pool = output.masked_fill(mask[:,:,None], -float('inf')).max(dim=1)[0]\n",
    "    x = torch.cat([output[:,-1], max_pool, avg_pool], 1)\n",
    "    return x\n",
    "class SimpleDocModule(Module):\n",
    "    \"Create a linear classifier with pooling.\"\n",
    "    def __init__(self, n_asp:int, n_rat:int, layers:Collection[int], drops:Collection[float]):\n",
    "        print(\"SimpleDocModule init\")\n",
    "        print(\"Num Aspect: \"+str(n_asp) )\n",
    "        print(\"Num Rating: \"+str(n_rat) )\n",
    "        self.n_asp = n_asp\n",
    "        self.n_rat = n_rat\n",
    "        \n",
    "        mod_layers = []\n",
    "        mod_layers += bn_drop_lin(1200, 60, p=0.4, actn=nn.ReLU(inplace=True))\n",
    "        mod_layers += bn_drop_lin(60, n_asp*n_rat, p=0, actn=None)\n",
    "        self.layers = nn.Sequential(*mod_layers)\n",
    "\n",
    "    def forward(self, input:Tuple[Tensor,Tensor,Tensor,Tensor])->Tuple[Tensor,Tensor,Tensor]:\n",
    "        raw_outputs,outputs,mask,p_index = input\n",
    "        \n",
    "        x = masked_concat_pool(outputs, mask)\n",
    "\n",
    "        sentiment_dist = self.layers(x)\n",
    "        sentiment_dist = sentiment_dist.view(-1, self.n_asp, self.n_rat)\n",
    "        \n",
    "        return sentiment_dist,raw_outputs,outputs"
   ]
  },
  {
   "cell_type": "markdown",
   "metadata": {},
   "source": [
    "### Baseline 02: Sentence feature (400) extract then estimate distribution, sent. dist. sumed to doc output"
   ]
  },
  {
   "cell_type": "code",
   "execution_count": 11,
   "metadata": {},
   "outputs": [],
   "source": [
    "class SimpleSentModule(Module):\n",
    "    \"Create a linear classifier with pooling.\"\n",
    "    def __init__(self, n_asp:int, n_rat:int, layers:Collection[int], drops:Collection[float]):\n",
    "        print(\"SimpleSentModule init\")\n",
    "        print(\"Num Aspect: \"+str(n_asp) )\n",
    "        print(\"Num Rating: \"+str(n_rat) )\n",
    "        self.n_asp = n_asp\n",
    "        self.n_rat = n_rat\n",
    "        \n",
    "        mod_layers = []\n",
    "#         mod_layers += bn_drop_lin(400, 60, p=0.4, actn=nn.ReLU(inplace=True))\n",
    "        mod_layers += bn_drop_lin(400, n_asp*n_rat, p=0, actn=None)\n",
    "        self.layers = nn.Sequential(*mod_layers)\n",
    "\n",
    "    def forward(self, input:Tuple[Tensor,Tensor,Tensor,Tensor])->Tuple[Tensor,Tensor,Tensor]:\n",
    "        raw_outputs,outputs,mask,p_index = input\n",
    "\n",
    "        # takes only last layer output\n",
    "        output = outputs[-1] # [batch, seq_len, emb_size]\n",
    "\n",
    "        result = []\n",
    "        for bati in range(0,output.shape[0]):\n",
    "            sent_output = output[bati, p_index[bati,:], :]\n",
    "            sentiment_dist = self.layers(sent_output)\n",
    "            sentiment_dist = torch.sum(sentiment_dist, dim=0, keepdim=True)\n",
    "            sentiment_dist = sentiment_dist.view(-1, self.n_asp, self.n_rat)\n",
    "            result.append(sentiment_dist)\n",
    "        \n",
    "        result = torch.cat( result, dim=0 )\n",
    "        \n",
    "        return result,raw_outputs,outputs"
   ]
  },
  {
   "cell_type": "markdown",
   "metadata": {},
   "source": [
    "### Baseline 03: average sentence combo pool feature then do document BMM"
   ]
  },
  {
   "cell_type": "code",
   "execution_count": null,
   "metadata": {},
   "outputs": [],
   "source": [
    "class ClsModule1200avg(Module):\n",
    "    \"Create a linear classifier with pooling.\"\n",
    "    def __init__(self, n_asp:int, n_rat:int, layers:Collection[int], drops:Collection[float]):\n",
    "        print(\"CLS init\")\n",
    "        print(\"Num Aspect: \"+str(n_asp) )\n",
    "        print(\"Num Rating: \"+str(n_rat) )\n",
    "        self.n_asp = n_asp\n",
    "        self.n_rat = n_rat\n",
    "        \n",
    "        mod_layers = []\n",
    "        mod_layers += bn_drop_lin( 1200, 50, p=0.5, actn=nn.ReLU(inplace=True) )\n",
    "        mod_layers += bn_drop_lin( 50, self.n_asp+1, p=0, actn=torch.nn.Softmax(dim=1) )\n",
    "#         mod_layers += bn_drop_lin( 1200, self.n_asp+1, p=0, actn=torch.nn.Softmax(dim=1) )\n",
    "        self.aspect = nn.Sequential(*mod_layers)\n",
    "        \n",
    "        mod_layers = []\n",
    "        mod_layers += bn_drop_lin( 1200, 50, p=0.5, actn=nn.ReLU(inplace=True) )\n",
    "        mod_layers += bn_drop_lin( 50, self.n_rat, p=0, actn=torch.nn.Softmax(dim=1) )\n",
    "#         mod_layers += bn_drop_lin( 1200, self.n_rat, p=0, actn=torch.nn.Softmax(dim=1) )\n",
    "        self.sentiment = nn.Sequential(*mod_layers)\n",
    "\n",
    "    def forward(self, input:Tuple[Tensor,Tensor,Tensor,Tensor])->Tuple[Tensor,Tensor,Tensor]:\n",
    "        raw_outputs,outputs,mask,p_index = input\n",
    "\n",
    "        output = outputs[-1] # [batch, seq_len, emb_size]\n",
    "\n",
    "        # print(\"number of sentences in docs:\")\n",
    "        n_sent = torch.sum( p_index , dim=1)\n",
    "\n",
    "        batch = sentence_extract_pool(outputs, mask, p_index)\n",
    "        doc_list = []\n",
    "        result = []\n",
    "        for doci in range(0,output.shape[0]):\n",
    "            sent_output = batch[doci]\n",
    "            doc_output = sent_output.mean(dim=0, keepdim=True)\n",
    "            doc_list.append(doc_output)\n",
    "\n",
    "        doc_list = torch.cat( doc_list, dim=0 )\n",
    "        aspect_dist = self.aspect(doc_list)         # [aspect]\n",
    "        sentiment_dist = self.sentiment(doc_list)   # [sentiment]\n",
    "        result = torch.bmm(aspect_dist.unsqueeze(2), sentiment_dist.unsqueeze(1))\n",
    "        \n",
    "        return result,raw_outputs,outputs"
   ]
  },
  {
   "cell_type": "markdown",
   "metadata": {},
   "source": [
    "## CLS 02: all aspects attributed"
   ]
  },
  {
   "cell_type": "code",
   "execution_count": 11,
   "metadata": {},
   "outputs": [],
   "source": [
    "class ClsModule1200(Module):\n",
    "    \"Create a linear classifier with pooling.\"\n",
    "    def __init__(self, n_asp:int, n_rat:int, layers:Collection[int], drops:Collection[float]):\n",
    "        print(\"CLS init\")\n",
    "        print(\"Num Aspect: \"+str(n_asp) )\n",
    "        print(\"Num Rating: \"+str(n_rat) )\n",
    "        self.n_asp = n_asp\n",
    "        self.n_rat = n_rat\n",
    "        \n",
    "        mod_layers = []\n",
    "        mod_layers += bn_drop_lin( 1200, 50, p=0.5, actn=nn.ReLU(inplace=True) )\n",
    "        mod_layers += bn_drop_lin( 50, self.n_asp+1, p=0, actn=torch.nn.Softmax(dim=1) )\n",
    "        self.aspect = nn.Sequential(*mod_layers)\n",
    "        \n",
    "        mod_layers = []\n",
    "        mod_layers += bn_drop_lin( 1200, 50, p=0.5, actn=nn.ReLU(inplace=True) )\n",
    "        mod_layers += bn_drop_lin( 50, self.n_rat, p=0, actn=torch.nn.Softmax(dim=1) )\n",
    "        self.sentiment = nn.Sequential(*mod_layers)\n",
    "\n",
    "    def forward(self, input:Tuple[Tensor,Tensor,Tensor,Tensor])->Tuple[Tensor,Tensor,Tensor]:\n",
    "        raw_outputs,outputs,mask,p_index = input\n",
    "\n",
    "        batch = sentence_extract_pool(outputs, mask, p_index)\n",
    "        \n",
    "        allsent_emb = torch.cat(batch, dim=0)\n",
    "        aspect_dist = self.aspect(allsent_emb)         # [n_sentence, aspect]\n",
    "        sentiment_dist = self.sentiment(allsent_emb)   # [n_sentence, sentiment]\n",
    "        sent_bmm = torch.bmm(aspect_dist.unsqueeze(2), sentiment_dist.unsqueeze(1))\n",
    "        \n",
    "        result = []\n",
    "        cur = 0\n",
    "        for doci in range(0, len(batch)):\n",
    "            sn = batch[doci].shape[0]\n",
    "            doc = torch.sum(sent_bmm[cur:(cur+sn), :, : ], dim=0, keepdim=True) # [1, 7, 5]\n",
    "            result.append(doc)\n",
    "            cur = cur + sn\n",
    "        \n",
    "        result = torch.cat( result, dim=0 )\n",
    "        \n",
    "        return result,raw_outputs,outputs,aspect_dist,sentiment_dist"
   ]
  },
  {
   "cell_type": "markdown",
   "metadata": {},
   "source": [
    "# Building Learner"
   ]
  },
  {
   "cell_type": "code",
   "execution_count": 12,
   "metadata": {},
   "outputs": [],
   "source": [
    "def get_text_classifier(arch:Callable, vocab_sz:int, vocab, n_class:int, bptt:int=70, max_len:int=20*70, config:dict=None,\n",
    "                        drop_mult:float=1., lin_ftrs:Collection[int]=None, ps:Collection[float]=None,\n",
    "                        pad_idx:int=1) -> nn.Module:\n",
    "    \"Create a text classifier from `arch` and its `config`, maybe `pretrained`.\"\n",
    "    print(\"CUSTOM DEFINED CLASSIFIER\")\n",
    "    meta = text.learner._model_meta[arch]\n",
    "    config = ifnone(config, meta['config_clas']).copy()\n",
    "    for k in config.keys():\n",
    "        if k.endswith('_p'): config[k] *= drop_mult\n",
    "    if lin_ftrs is None: lin_ftrs = [50]\n",
    "    if ps is None:  ps = [0.1]*len(lin_ftrs)\n",
    "    layers = [config[meta['hid_name']] * 3] + lin_ftrs + [n_class]\n",
    "    ps = [config.pop('output_p')] + ps\n",
    "    init = config.pop('init') if 'init' in config else None\n",
    "    encoder = SentenceEncoder(bptt, max_len, arch(vocab_sz, **config), vocab, pad_idx=pad_idx)\n",
    "    cls_layer = ClsModule1200(n_asp=6, n_rat=5, layers=layers, drops=ps)\n",
    "    model = SequentialRNN(encoder, cls_layer)\n",
    "    return model if init is None else model.apply(init)"
   ]
  },
  {
   "cell_type": "code",
   "execution_count": 13,
   "metadata": {},
   "outputs": [],
   "source": [
    "def text_classifier_learner(data:DataBunch, arch:Callable, bptt:int=70, max_len:int=20*70, config:dict=None,\n",
    "                            pretrained:bool=True, drop_mult:float=1., lin_ftrs:Collection[int]=None,\n",
    "                            ps:Collection[float]=None, **learn_kwargs) -> 'TextClassifierLearner':\n",
    "    \"Create a `Learner` with a text classifier from `data` and `arch`.\"\n",
    "    model = get_text_classifier(arch, len(data.vocab.itos), data.vocab, data.c, bptt=bptt, max_len=max_len,\n",
    "                                config=config, drop_mult=drop_mult, lin_ftrs=lin_ftrs, ps=ps)\n",
    "    meta = text.learner._model_meta[arch]\n",
    "    learn = RNNLearner(data, model, split_func=meta['split_clas'], **learn_kwargs)\n",
    "    if pretrained:\n",
    "        if 'url' not in meta:\n",
    "            warn(\"There are no pretrained weights for that architecture yet!\")\n",
    "            return learn\n",
    "        model_path = untar_data(meta['url'], data=False)\n",
    "        fnames = [list(model_path.glob(f'*.{ext}'))[0] for ext in ['pth', 'pkl']]\n",
    "        learn = learn.load_pretrained(*fnames, strict=False)\n",
    "        learn.freeze()\n",
    "    return learn"
   ]
  },
  {
   "cell_type": "code",
   "execution_count": 14,
   "metadata": {},
   "outputs": [],
   "source": [
    "class MultiLabelCEL(nn.CrossEntropyLoss):\n",
    "    def forward(self, input, target):\n",
    "        target = target.long()\n",
    "        loss = 0\n",
    "        for i in range(6):\n",
    "            loss = loss + super(MultiLabelCEL, self).forward(input[:,i,:], target[:,i])\n",
    "        \n",
    "        return loss"
   ]
  },
  {
   "cell_type": "code",
   "execution_count": 15,
   "metadata": {},
   "outputs": [],
   "source": [
    "def multi_acc(preds, targs):\n",
    "    preds = preds[:,0:6,:]\n",
    "    preds = preds.contiguous().view(-1, 5)\n",
    "    preds = torch.max(preds, dim=1)[1]\n",
    "    targs = targs.contiguous().view(-1).long()\n",
    "    return (preds==targs).float().mean()"
   ]
  },
  {
   "cell_type": "code",
   "execution_count": 16,
   "metadata": {},
   "outputs": [],
   "source": [
    "def acc_0(preds, targs):\n",
    "    preds = torch.max(preds, dim=2)[1]\n",
    "    targs = targs.contiguous().long()\n",
    "    return (preds[:,0]==targs[:,0]).float().mean()\n",
    "def acc_1(preds, targs):\n",
    "    preds = torch.max(preds, dim=2)[1]\n",
    "    targs = targs.contiguous().long()\n",
    "    return (preds[:,1]==targs[:,1]).float().mean()\n",
    "def acc_2(preds, targs):\n",
    "    preds = torch.max(preds, dim=2)[1]\n",
    "    targs = targs.contiguous().long()\n",
    "    return (preds[:,2]==targs[:,2]).float().mean()\n",
    "def acc_3(preds, targs):\n",
    "    preds = torch.max(preds, dim=2)[1]\n",
    "    targs = targs.contiguous().long()\n",
    "    return (preds[:,3]==targs[:,3]).float().mean()\n",
    "def acc_4(preds, targs):\n",
    "    preds = torch.max(preds, dim=2)[1]\n",
    "    targs = targs.contiguous().long()\n",
    "    return (preds[:,4]==targs[:,4]).float().mean()\n",
    "def acc_5(preds, targs):\n",
    "    preds = torch.max(preds, dim=2)[1]\n",
    "    targs = targs.contiguous().long()\n",
    "    return (preds[:,5]==targs[:,5]).float().mean()"
   ]
  },
  {
   "cell_type": "markdown",
   "metadata": {},
   "source": [
    "## create the objects"
   ]
  },
  {
   "cell_type": "code",
   "execution_count": 17,
   "metadata": {
    "scrolled": true
   },
   "outputs": [
    {
     "name": "stdout",
     "output_type": "stream",
     "text": [
      "CUSTOM DEFINED CLASSIFIER\n",
      "Encoder init\n",
      "CLS init\n",
      "Num Aspect: 6\n",
      "Num Rating: 5\n",
      "FREEZING\n",
      "Sequential(\n",
      "  (0): Embedding(23008, 400, padding_idx=1)\n",
      "  (1): EmbeddingDropout(\n",
      "    (emb): Embedding(23008, 400, padding_idx=1)\n",
      "  )\n",
      ")\n",
      "FREEZING\n",
      "Sequential(\n",
      "  (0): WeightDropout(\n",
      "    (module): LSTM(400, 1152, batch_first=True)\n",
      "  )\n",
      "  (1): RNNDropout()\n",
      ")\n",
      "FREEZING\n",
      "Sequential(\n",
      "  (0): WeightDropout(\n",
      "    (module): LSTM(1152, 1152, batch_first=True)\n",
      "  )\n",
      "  (1): RNNDropout()\n",
      ")\n",
      "FREEZING\n",
      "Sequential(\n",
      "  (0): WeightDropout(\n",
      "    (module): LSTM(1152, 400, batch_first=True)\n",
      "  )\n",
      "  (1): RNNDropout()\n",
      ")\n",
      "UN-FREEZING\n",
      "Sequential(\n",
      "  (0): ClsModule1200(\n",
      "    (aspect): Sequential(\n",
      "      (0): BatchNorm1d(1200, eps=1e-05, momentum=0.1, affine=True, track_running_stats=True)\n",
      "      (1): Dropout(p=0.5, inplace=False)\n",
      "      (2): Linear(in_features=1200, out_features=50, bias=True)\n",
      "      (3): ReLU(inplace=True)\n",
      "      (4): BatchNorm1d(50, eps=1e-05, momentum=0.1, affine=True, track_running_stats=True)\n",
      "      (5): Linear(in_features=50, out_features=7, bias=True)\n",
      "      (6): Softmax(dim=1)\n",
      "    )\n",
      "    (sentiment): Sequential(\n",
      "      (0): BatchNorm1d(1200, eps=1e-05, momentum=0.1, affine=True, track_running_stats=True)\n",
      "      (1): Dropout(p=0.5, inplace=False)\n",
      "      (2): Linear(in_features=1200, out_features=50, bias=True)\n",
      "      (3): ReLU(inplace=True)\n",
      "      (4): BatchNorm1d(50, eps=1e-05, momentum=0.1, affine=True, track_running_stats=True)\n",
      "      (5): Linear(in_features=50, out_features=5, bias=True)\n",
      "      (6): Softmax(dim=1)\n",
      "    )\n",
      "  )\n",
      ")\n"
     ]
    }
   ],
   "source": [
    "mloss = MultiLabelCEL()\n",
    "cls_learn = text_classifier_learner(cls_db, AWD_LSTM, \n",
    "                                    loss_func=mloss,\n",
    "                                    metrics=[multi_acc,acc_0,acc_1,acc_2,acc_3,acc_4,acc_5],\n",
    "                                    bptt=70,\n",
    "                                    max_len=hyper_params[\"max_sequence_length\"])"
   ]
  },
  {
   "cell_type": "code",
   "execution_count": 17,
   "metadata": {
    "scrolled": true
   },
   "outputs": [
    {
     "data": {
      "text/plain": [
       "RNNLearner(data=TextClasDataBunch;\n",
       "\n",
       "Train: LabelList (11173 items)\n",
       "x: TextList\n",
       "xxbos we had the most wonderful time at the excellence xxperiod we opted for the excellence club and it was well worht it for the perks xxperiod roberto puello who was the club manager did an extra special job of making us feel welcomed xxperiod we took some great pictures that looked like postcards xxperiod the food was excellent the pizza was close to being our favorite xxperiod the shows were great especially the michael jackson and the 70 's 80 's night xxperiod the french resturant was probably our favorite xxperiod we will definately be back for an anniversary trip xxperiod we made some friends but had plenty of xxunk as well xxperiod the rooms were great and everytime we left and came back it was cleaned , towels restocked and the bar was as well xxperiod,xxbos a truly fantastic place xmas we have just returned from a 2 week xmas new year break at the excellence punta cana xxperiod the hotel is magnificent and we have never experienced such incredible service before xxperiod the restaurants are great , with plenty of choice xxperiod the whole complex is so good that we only did one trip and that was for my wife to swim with the dolphins xxperiod great beaches and pools xxperiod the staff fall over each other to look after you xxperiod we stayed in a junior suite on ground level and it was spotlessly clean , great maid service and room service on tap 24 / 7 xxperiod overall i would say this is probably the best hotel we have ever stayed in on xxunk i am extremely fussy xxperiod the journey to the resort is a little uncomfortable , with the roads in a bad state xxperiod but once you are checked in the pace of life xxunk down and you forget about the outside world xxperiod worthy of special mention and our sincere thanks are : pedro from the cielo bar / pool an absolute gentleman xxperiod miguel the bell boy and also carlos from the xxunk bar xxperiod we will definately be booking again , probably for next christmas xxperiod jim eileen ( xxunk uk ) xxperiod,xxbos too sick to enjoy the ride to and form the airport is not good xxperiod very bumpy road and you can really see the poor living conditions xxperiod when you get to the resort it is like another world xxperiod we were told not to drink the tap or shower water - keep your mouth shut in the shower etc xxperiod but we have since heard that not all properties in punta cana have a water problem xxperiod in some resorts they have a huge purification system and the tap water is safe xxperiod both my husband and i were sick with diarrhea while we were there and put it down to the unclean water used to prepare food xxperiod we will not go on any more holidays where we have to worry about our health xxperiod each night at about 10 pm when we were settling down to sleep the music started up and we like fresh air but we had to close our patio doors to mute the sound xxperiod we really wanted a quieter resort xxperiod it was disappointing xxperiod it was partially our fault for not doing our research properly xxperiod some people did not hear the bands play at night but we could nt change our swim up room for a quieter one xxperiod we will not be returning to dominican republic xxperiod,xxbos relaxing and fun , but xxperiod i rang in the new year at excellence punta cana xxperiod since new york was freezing at the time , i was just happy to be in the sun xxperiod my husband and i had a great time overall xxperiod however , i was a little surprised to see this hotel rating itself as a 5- star facility ( more like a 4 ) xxperiod all of the basics were covered , but some of the details that i would expect from a 5- star place were missing xxperiod the bed , although comfortable creaked loudly and i couldn ? ? tell whether or not the headboard was attached properly xxperiod the staff were friendly and helpful overall , but in keeping up with the island mentality , their sense of urgency was lacking ( we had to ask two different people for hand towels and our one small room service order took close to an hour to arrive ) xxperiod actually , as mentioned by another reviewer , the food was the worst part xxperiod the presentation was excellent ( clean buffet areas , nicely decorated theme restaurants ) , but the dinner food quality wasn ? ? the best xxperiod one night i didn ? ? even finish my meal ( at the ? ? xxunk ? xxperiod on - site ) xxperiod lunch ( indoor buffet or beach bbq ) was usually the best bet xxperiod actually , everything on the beach ? ? xxunk the wait xxunk great xxperiod considering all of this , the excellence was a great setting for relaxation xxperiod the grounds were beautiful , the weather was pleasant and there were many options for activities ( and spa treatments ) if you wanted them xxperiod i would definitely go back xxperiod one note - coordinate travel to and from the hotel beforehand if you can xxperiod the hotel is over an hour away from the airport , so you 'll want to skip the can i help you , sir xxperiod bidding wars between different transportation companies xxperiod one more note - the resort is on the atlantic side of the ocean xxperiod that means rough seas and cold ( er ) water xxperiod if you intend to spend your entire vacation in the ocean , you may want to skip this place xxperiod i went in a few times , but i quickly became content just relaxing by the water when i couldn ? ? go in it xxperiod,xxbos somewhat excellence we just returned from a one week stay at excellence punta cana from xxunk to xxunk xxperiod we are seasoned travelers and have stayed at a dozen all inclusives xxperiod we stayed at excellence punta cana in 2007 for two weeks , then excellence mayan riviera and then playa mujeres and now just returned from our second time to punta cana xxperiod we love excellence xxperiod so here goes the staff at excellence i rate 5 star all the way they are an amazing group of people friendly hard working and makes your stay wonderful xxperiod pool beach and grounds a solid five star ca not say more then wow xxperiod now for the rooms we traveled as three couples all oceanview excellence club seen all three rooms and they are all in need of work the rooms are showing there age all over the place a 4 rating is generous xxperiod food a 3 rating very incosistent cold most of the time under cooked over cooked , the new ala carte menus has less selection and was not impressed at all xxperiod deffinately a great decline since our last trip two years ago xxperiod excellence club we did it in 2007 and that is why we all choose to do it again i rate it a three the only thing good was the view and the ability for late check out as we had a late flight home xxperiod but for its service i rate it a 3 xxperiod excellence club was closed upon our late arrival so they gave us our keys and sent us on our way in pitch darkness we knew where we where going so we led the other two couples we traveled with too their rooms xxperiod their service was very inconsistent beach towels in all of our three club rooms only once xxperiod went to excellence club three times for a channel changer in the end tipped staff and they got one from an unoccupied room xxperiod turn down hit and miss had to ask for bathroom amenities , would not exchange any liquor bottles in room which they did the first time we where there xxperiod the club lounge it self which used to have plenty of food to choose from literally had nothing during the day and evening cheese some fruit and bread not at all like it was excellence club has xxunk there service big time xxperiod the staff tended better to you then excellence club staff xxperiod we requested top floor for all three rooms and after all our returns we thought that was not an unreasonable request and we did not get one top floor room xxperiod save your money and shame on you excellence club for your lack of service xxperiod all three rooms had very xxunk fridge stalking and was only resolved with a tip and even then once when givin a tip was not done xxperiod i will not be returning to excellence punta cana and it is sliding down the charts for a reason xxperiod in saying all this we traveled with two other couples and we all had a fabulous time we just feel we did not get what we xxunk for xxperiod anyone with questions please do not hesitate to contact me xxperiod\n",
       "y: MultiCategoryList\n",
       ",,0;2;3;5,,2\n",
       "Path: data;\n",
       "\n",
       "Valid: LabelList (3739 items)\n",
       "x: TextList\n",
       "xxbos definitely not a 5 star resort i ' m dumbfounded that this hotel gets good reviews and is so highly rated xxperiod it 's decidedly a 3 star property , not 5 stars as indicated xxperiod the rooms are very dated and run down , old crappy beds and pillows , an old tv and overall poorly maintained xxperiod the whole property is pretty run down and old - looking xxperiod the food is subpar , not one meal i had would be called great xxperiod the service is uneven and the staff is poorly trained and uninformed xxperiod many do not comprehend english xxperiod the beach is great , it 's the only redeeming factor xxperiod however the resort is a 1- hour taxi trip from the airport xxperiod,xxbos facilities need work xxperiod we visited excellence for 5 nights in december xxperiod our first room , # xxunk , had a safe that did not work and so - so air conditioning xxperiod when we went to the front desk to complain , we were told to go to the room and someone would be there within 15 minutes xxperiod 45 minutes later , the safe guy showed up , but nobody for the a / c xxperiod the safe guy could not fix it xxperiod when he left , the electricity went out xxperiod it went out a second time before we finally went to the front desk to change rooms xxperiod we had dinner that night in the lobster house xxperiod do not waste your time on this one xxperiod the lobster tails had about 2 bites of food included xxperiod while we were in there , the electricity went out again xxperiod room xxunk served us pretty well , until night # 3 when my partner got up to go to the bathroom and stepped into an inch of water xxperiod a hose had broken on the back of the toilet and flooded our room xxperiod it would ' ve been ok , but when we went to the front desk we were told that we needed to wait until noon to see if perhaps they could move us to another room xxperiod the front desk clerks were not xxunk to just move us xxperiod my partner was infuriated that they wanted us to wait 4 hours for a new room xxperiod finally , matias at the front desk finally arranged to have us moved to another upgraded room - xxunk xxperiod we walked in and saw the leak coming from the ceiling and nearly flipped xxperiod we finally got into # xxunk , which was a gorgeous suite with a beautiful view xxperiod on the positive side , the food at the other restaurants was very good xxperiod i particularly liked the french restaurant , while my partner liked the asian restaurant xxperiod the breakfast buffet was like nothing i 'd ever seen before - lots of choices xxperiod the ocean was way too rough to enjoy , particularly if you 're not a strong swimmer xxperiod much of the beach was black flagged the entire time we were there , so if you 're a big ocean fan , i do not recommend this resort xxperiod my favorite part , by far , though , were the beds next to the pools and ocean xxperiod they were amazing xxperiod i guess you could particularly say so since the beds in the rooms were hard as rocks xxperiod all in all , a good trip - highly recommend the zip line tour xxperiod it was worth every penny xxperiod,xxbos excellence was exactly that xxperiod my family and i stayed at the excellence punta cana from december 22 to december 29 of this year xxperiod it was an amazing time had by all that attended xxperiod we arrived at the resort around 4 am because of a delay at the airport in vancouver , but even at 4 am , the service of the bellhops and the front desk was up to par xxperiod our bags were unloaded and immediately tagged and set to one side of the lobby while we were handed cold scented towels to cool off with xxperiod check in was fairly expedient and we were in our rooms within twenty minutes xxperiod i had never been to an all inclusive resort before , and wasted no time enjoying the pleasures of the mini bar in the room , as well as the ample storage space for our things xxperiod room service even at 4 am was great , the girl on the phone said it would be about 40 minutes for the food , which seemed a little long , but i think they only say that to cover there butts , because it took about 25 minutes at most xxperiod the activities during the day were well thought out , though , there was some delays and cancellations due to weather conditions ( beach volleyball cancelled to due strong winds xxperiod the entertainment staff was amazing and extremely friendly , a special thanks to all my friends , ines ( my fiance , ) altagracia ( who lovingly xxunk to me as xxunk loco , which translates into crazy skinny guy , ) xxunk and johanna ( my disco dance partners , ) sexy cesar ( who taught me all the sexy dance moves i xxperiod now know , ) julio cesar ( the mc for the games and parties xxperiod the restaurants i ca not offer too much help with , i did not eat at all of them , but of the few i did eat at , i recommend toscana for the huge buffet everyday , breakfast here is well prepared and quite delicious ( although i do not recommend the scrambled eggs xxperiod the omlettes are delicious and you have to try one xxperiod for lunch , you have to check out the grill on the beach , different food everyday , always good , and makes the beach smell amazing xxperiod for dinner , i liked spice ( asian cuisine , ) agave ( mexican , but do not eat the xxunk from here , very rubbery , ) the pizza that is delivered to the pool and the beach is awesome , make sure you try that xxperiod the bars were awesome , you get accustomed to speaking the language when ordering drinks , instead of drinking your usual bacardi and coke , try the brugal extra anejo , they call it the dominican xxunk , and it 's obvious why once you try it xxperiod the stuff tastes amazing and it does magic for someone trying to loosen up on the dance floor xxperiod the disco is great too , although sometimes a little empty , but still worth checking out xxperiod the worst part of my trip was the vendors , they do not let up , and i am a very well mannered person , which makes it hard to shut them down over and over again , make sure you do not tell them you like anything until you know you 're going to buy it , otherwise you 'll have to beat xxperiod them off with a stick to get away xxperiod try to make it to the theatre for the shows at 10 pm every night , they are worth it xxperiod the ice breaker shows are fun too , it gets people into the swing of things xxperiod all in all , i would highly recommend this resort for anyone going on a honeymoon or a romantic time with the better half , there is not a very big single crowd , so parents beware taking your single sons and daughters to this resort if they 're looking to party with other singles xxperiod hope this helps you xxperiod adios amigos and xxunk xxperiod,xxbos great service , nice hotel , mediocre food xxperiod my husband and i stayed at excellence for five nights mid - november xxperiod we booked our trip at the very last minute so we were not able to do a ton of research on the dominican but the hotel receives high ratings xxunk the web xxperiod after the one hour ride from the airport we arrived at the hotel and were greeted by everyone we met xxperiod i have to say that the staff at the hotel were very nice and made every effort to learn our names and greet us by name each time they saw us xxperiod we opted to upgrade to the excellence club and we are still trying to decide if we think it was worth it or not xxperiod as part of the excellence club , you are ushered to the club 's private lobby for check - in but , really , it almost just creates an xxunk step in the check - in process and adds another person or two you feel like you should tip xxperiod the biggest benefits of the excellence club for us were the unlimited internet access , beach towels in the room ( they were hard to get otherwise ) , and the beach bag in our room xxperiod we did eat breakfast each morning in the excellence club which was nice because it was a small buffet and you did not have to deal with a crowd xxperiod the hotel itself was clean , the staff was very friendly , and nothing ever felt crowded xxperiod however , the food was not great xxperiod it was not bad - but it was not great xxperiod i ' m not a big eater but i was prepared to indulge on my vacation and there just was not anything i was crazy about xxperiod the presentation of the food was nice but it was just bland xxperiod i think that is the best way to describe it xxperiod the pizzas that were delivered to the pool area were good but it was unpredictable because you never knew when they would arrive xxperiod we went on two excursions - swimming with the sting - rays / sharks and the zip - line tour xxperiod we loved the zip - line excursion xxperiod the staff was great and our bus driver and tour guide were great xxperiod it was interesting to visit the sting - rays and swim with the sharks but the reef where we snorkeled was disappointing xxperiod the fish were very small and there was not much to see xxperiod the electricity went out in our room a handful of times , especially when i used the hairdryer xxperiod also , our ac was terrible xxperiod they tried to repair it but it just never got cool xxperiod our room was big , though , and clean xxperiod we always got housekeeping service twice a day and they refilled our mini - bar daily xxperiod in many of the reviews , people said they got sick xxperiod our representative at the hotel ( through aaa ) warned us that many people think they get sick from the water or the food but they do not realize that having too many drinks with coconut in them will also do it xxperiod coconut is a natural laxative so you need to limit your consumption xxperiod i would still pack the immodium just to be sure xxperiod i could not decide if i wanted to give this hotel a 3 / 5 or a 4 / 5 but i decided to go up because of the friendly staff and the cleanliness of our room xxperiod i do not think i would go back because of the food but we had a nice time while we were there xxperiod we met a lot of great people at the swim up bar xxperiod,xxbos very relaxing experience just returned from my 40th birthday romantic getaway with my husband xxperiod this was our first time in the dominican republic , and we have literally been to every single island in the caribbean xxperiod so i can assure you that my review will be short , sweet , and comprehensive xxperiod in general , we liked the dr , and the excellence was very nice xxperiod the top reasons why we liked excellence were : 1 ) no kids ( ie xxperiod , if i want to get away from my own kids , i definitely do not want to vacation with other peoples ' kids ) xxperiod it was so quiet xxperiod 2 ) the staff and the people in the dr in general xxperiod so genuinely friendly , helpful , and wonderful xxperiod believe me , this is not true in most other areas of the caribbean xxperiod the all - inclusive feature xxperiod loved being served , served , served xxperiod i wanted to sit on my [ - - ] all day and just be a xxunk pig xxperiod and this is the perfect place to do it xxperiod 4 ) the best selection of beach and pool lounge chairs , beds , and hammocks i ' ve ever seen xxperiod there were palapas everywhere , so there was no shortage of shade xxperiod there were so many beds , you did not have to worry about not getting one xxperiod i 'd never had the chance to sleep on a beach bed , because usually hotels have only a few , so you end up looking xxunk at the lucky few who get them xxperiod ok , so here 's what i did not love about excellence :1 ) beach is not swimmable xxperiod way too rough most of the time xxperiod for this reason alone , i 'd not return here xxperiod i ' m a beach fan , and love to swim in the warm caribbean sea xxperiod i ' m no food snob , but some of the food was downright bad xxperiod and you end up eating in the same spot for breakfast and lunch xxperiod even though they have like 7 restaurants - the majority of them are only open for dinner xxperiod we only stayed 4 nights , and we were definitely getting very tired of the breakfast / lunch selection by the 3rd day xxperiod overall , if you just want to relax by the pool and you do not care about not going in the beach , this is a very beautiful resort xxperiod the staff is wonderful xxperiod if you are looking for a place to party and be loud and crazy , this is not your place xxperiod\n",
       "y: MultiCategoryList\n",
       "0;4;5,2,,,\n",
       "Path: data;\n",
       "\n",
       "Test: None, model=SequentialRNN(\n",
       "  (0): SentenceEncoder(\n",
       "    (module): AWD_LSTM(\n",
       "      (encoder): Embedding(23008, 400, padding_idx=1)\n",
       "      (encoder_dp): EmbeddingDropout(\n",
       "        (emb): Embedding(23008, 400, padding_idx=1)\n",
       "      )\n",
       "      (rnns): ModuleList(\n",
       "        (0): WeightDropout(\n",
       "          (module): LSTM(400, 1152, batch_first=True)\n",
       "        )\n",
       "        (1): WeightDropout(\n",
       "          (module): LSTM(1152, 1152, batch_first=True)\n",
       "        )\n",
       "        (2): WeightDropout(\n",
       "          (module): LSTM(1152, 400, batch_first=True)\n",
       "        )\n",
       "      )\n",
       "      (input_dp): RNNDropout()\n",
       "      (hidden_dps): ModuleList(\n",
       "        (0): RNNDropout()\n",
       "        (1): RNNDropout()\n",
       "        (2): RNNDropout()\n",
       "      )\n",
       "    )\n",
       "  )\n",
       "  (1): ClsModule1200(\n",
       "    (aspect): Sequential(\n",
       "      (0): BatchNorm1d(1200, eps=1e-05, momentum=0.1, affine=True, track_running_stats=True)\n",
       "      (1): Dropout(p=0.5, inplace=False)\n",
       "      (2): Linear(in_features=1200, out_features=50, bias=True)\n",
       "      (3): ReLU(inplace=True)\n",
       "      (4): BatchNorm1d(50, eps=1e-05, momentum=0.1, affine=True, track_running_stats=True)\n",
       "      (5): Linear(in_features=50, out_features=7, bias=True)\n",
       "      (6): Softmax(dim=1)\n",
       "    )\n",
       "    (sentiment): Sequential(\n",
       "      (0): BatchNorm1d(1200, eps=1e-05, momentum=0.1, affine=True, track_running_stats=True)\n",
       "      (1): Dropout(p=0.5, inplace=False)\n",
       "      (2): Linear(in_features=1200, out_features=50, bias=True)\n",
       "      (3): ReLU(inplace=True)\n",
       "      (4): BatchNorm1d(50, eps=1e-05, momentum=0.1, affine=True, track_running_stats=True)\n",
       "      (5): Linear(in_features=50, out_features=5, bias=True)\n",
       "      (6): Softmax(dim=1)\n",
       "    )\n",
       "  )\n",
       "), opt_func=functools.partial(<class 'torch.optim.adam.Adam'>, betas=(0.9, 0.99)), loss_func=MultiLabelCEL(), metrics=[<function multi_acc at 0x7f0236eeb3b0>, <function acc_0 at 0x7f0236eeb200>, <function acc_1 at 0x7f0236eeb560>, <function acc_2 at 0x7f0236eeb7a0>, <function acc_3 at 0x7f0236eeb8c0>, <function acc_4 at 0x7f0236eeb9e0>, <function acc_5 at 0x7f0236eebb00>], true_wd=True, bn_wd=True, wd=0.01, train_bn=True, path=PosixPath('data'), model_dir='models', callback_fns=[functools.partial(<class 'fastai.basic_train.Recorder'>, add_time=True, silent=False)], callbacks=[RNNTrainer\n",
       "learn: ...\n",
       "alpha: 2.0\n",
       "beta: 1.0], layer_groups=[Sequential(\n",
       "  (0): Embedding(23008, 400, padding_idx=1)\n",
       "  (1): EmbeddingDropout(\n",
       "    (emb): Embedding(23008, 400, padding_idx=1)\n",
       "  )\n",
       "), Sequential(\n",
       "  (0): WeightDropout(\n",
       "    (module): LSTM(400, 1152, batch_first=True)\n",
       "  )\n",
       "  (1): RNNDropout()\n",
       "), Sequential(\n",
       "  (0): WeightDropout(\n",
       "    (module): LSTM(1152, 1152, batch_first=True)\n",
       "  )\n",
       "  (1): RNNDropout()\n",
       "), Sequential(\n",
       "  (0): WeightDropout(\n",
       "    (module): LSTM(1152, 400, batch_first=True)\n",
       "  )\n",
       "  (1): RNNDropout()\n",
       "), Sequential(\n",
       "  (0): ClsModule1200(\n",
       "    (aspect): Sequential(\n",
       "      (0): BatchNorm1d(1200, eps=1e-05, momentum=0.1, affine=True, track_running_stats=True)\n",
       "      (1): Dropout(p=0.5, inplace=False)\n",
       "      (2): Linear(in_features=1200, out_features=50, bias=True)\n",
       "      (3): ReLU(inplace=True)\n",
       "      (4): BatchNorm1d(50, eps=1e-05, momentum=0.1, affine=True, track_running_stats=True)\n",
       "      (5): Linear(in_features=50, out_features=7, bias=True)\n",
       "      (6): Softmax(dim=1)\n",
       "    )\n",
       "    (sentiment): Sequential(\n",
       "      (0): BatchNorm1d(1200, eps=1e-05, momentum=0.1, affine=True, track_running_stats=True)\n",
       "      (1): Dropout(p=0.5, inplace=False)\n",
       "      (2): Linear(in_features=1200, out_features=50, bias=True)\n",
       "      (3): ReLU(inplace=True)\n",
       "      (4): BatchNorm1d(50, eps=1e-05, momentum=0.1, affine=True, track_running_stats=True)\n",
       "      (5): Linear(in_features=50, out_features=5, bias=True)\n",
       "      (6): Softmax(dim=1)\n",
       "    )\n",
       "  )\n",
       ")], add_time=True, silent=False)"
      ]
     },
     "execution_count": 17,
     "metadata": {},
     "output_type": "execute_result"
    }
   ],
   "source": [
    "cls_learn.load_encoder('lm_enc_hotel.1115')"
   ]
  },
  {
   "cell_type": "code",
   "execution_count": 19,
   "metadata": {
    "scrolled": false
   },
   "outputs": [
    {
     "data": {
      "text/html": [
       "<table border=\"1\" class=\"dataframe\">\n",
       "  <thead>\n",
       "    <tr style=\"text-align: left;\">\n",
       "      <th>epoch</th>\n",
       "      <th>train_loss</th>\n",
       "      <th>valid_loss</th>\n",
       "      <th>multi_acc</th>\n",
       "      <th>acc_0</th>\n",
       "      <th>acc_1</th>\n",
       "      <th>acc_2</th>\n",
       "      <th>acc_3</th>\n",
       "      <th>acc_4</th>\n",
       "      <th>acc_5</th>\n",
       "      <th>time</th>\n",
       "    </tr>\n",
       "  </thead>\n",
       "  <tbody>\n",
       "    <tr>\n",
       "      <td>0</td>\n",
       "      <td>8.207804</td>\n",
       "      <td>7.820975</td>\n",
       "      <td>0.476866</td>\n",
       "      <td>0.559775</td>\n",
       "      <td>0.509495</td>\n",
       "      <td>0.462958</td>\n",
       "      <td>0.399037</td>\n",
       "      <td>0.441562</td>\n",
       "      <td>0.488366</td>\n",
       "      <td>01:59</td>\n",
       "    </tr>\n",
       "    <tr>\n",
       "      <td>1</td>\n",
       "      <td>7.938330</td>\n",
       "      <td>7.669178</td>\n",
       "      <td>0.485558</td>\n",
       "      <td>0.566997</td>\n",
       "      <td>0.508157</td>\n",
       "      <td>0.455202</td>\n",
       "      <td>0.428992</td>\n",
       "      <td>0.466970</td>\n",
       "      <td>0.487029</td>\n",
       "      <td>02:01</td>\n",
       "    </tr>\n",
       "    <tr>\n",
       "      <td>2</td>\n",
       "      <td>7.889560</td>\n",
       "      <td>7.602738</td>\n",
       "      <td>0.496835</td>\n",
       "      <td>0.580637</td>\n",
       "      <td>0.524739</td>\n",
       "      <td>0.458411</td>\n",
       "      <td>0.437283</td>\n",
       "      <td>0.476331</td>\n",
       "      <td>0.503611</td>\n",
       "      <td>02:01</td>\n",
       "    </tr>\n",
       "    <tr>\n",
       "      <td>3</td>\n",
       "      <td>7.815281</td>\n",
       "      <td>7.549775</td>\n",
       "      <td>0.499153</td>\n",
       "      <td>0.586520</td>\n",
       "      <td>0.520727</td>\n",
       "      <td>0.461353</td>\n",
       "      <td>0.439690</td>\n",
       "      <td>0.473389</td>\n",
       "      <td>0.513239</td>\n",
       "      <td>02:02</td>\n",
       "    </tr>\n",
       "    <tr>\n",
       "      <td>4</td>\n",
       "      <td>7.679858</td>\n",
       "      <td>7.540226</td>\n",
       "      <td>0.502452</td>\n",
       "      <td>0.591067</td>\n",
       "      <td>0.522600</td>\n",
       "      <td>0.471516</td>\n",
       "      <td>0.441562</td>\n",
       "      <td>0.483819</td>\n",
       "      <td>0.504146</td>\n",
       "      <td>02:02</td>\n",
       "    </tr>\n",
       "    <tr>\n",
       "      <td>5</td>\n",
       "      <td>7.637667</td>\n",
       "      <td>7.478533</td>\n",
       "      <td>0.506865</td>\n",
       "      <td>0.596416</td>\n",
       "      <td>0.533833</td>\n",
       "      <td>0.476063</td>\n",
       "      <td>0.439957</td>\n",
       "      <td>0.475261</td>\n",
       "      <td>0.519658</td>\n",
       "      <td>02:03</td>\n",
       "    </tr>\n",
       "    <tr>\n",
       "      <td>6</td>\n",
       "      <td>7.636369</td>\n",
       "      <td>7.434136</td>\n",
       "      <td>0.508558</td>\n",
       "      <td>0.600428</td>\n",
       "      <td>0.536240</td>\n",
       "      <td>0.472319</td>\n",
       "      <td>0.447713</td>\n",
       "      <td>0.476865</td>\n",
       "      <td>0.517785</td>\n",
       "      <td>02:04</td>\n",
       "    </tr>\n",
       "    <tr>\n",
       "      <td>7</td>\n",
       "      <td>7.742325</td>\n",
       "      <td>7.490425</td>\n",
       "      <td>0.506330</td>\n",
       "      <td>0.590800</td>\n",
       "      <td>0.531960</td>\n",
       "      <td>0.476598</td>\n",
       "      <td>0.446376</td>\n",
       "      <td>0.474458</td>\n",
       "      <td>0.517785</td>\n",
       "      <td>02:06</td>\n",
       "    </tr>\n",
       "  </tbody>\n",
       "</table>"
      ],
      "text/plain": [
       "<IPython.core.display.HTML object>"
      ]
     },
     "metadata": {},
     "output_type": "display_data"
    }
   ],
   "source": [
    "with experiment.train():\n",
    "    cls_learn.fit_one_cycle(8)"
   ]
  },
  {
   "cell_type": "code",
   "execution_count": 20,
   "metadata": {},
   "outputs": [],
   "source": [
    "cls_learn.save('cls_learn.1200CLS2.191202')"
   ]
  },
  {
   "cell_type": "code",
   "execution_count": 20,
   "metadata": {},
   "outputs": [
    {
     "data": {
      "text/plain": [
       "RNNLearner(data=TextClasDataBunch;\n",
       "\n",
       "Train: LabelList (11173 items)\n",
       "x: TextList\n",
       "xxbos we had the most wonderful time at the excellence xxperiod we opted for the excellence club and it was well worht it for the perks xxperiod roberto puello who was the club manager did an extra special job of making us feel welcomed xxperiod we took some great pictures that looked like postcards xxperiod the food was excellent the pizza was close to being our favorite xxperiod the shows were great especially the michael jackson and the 70 's 80 's night xxperiod the french resturant was probably our favorite xxperiod we will definately be back for an anniversary trip xxperiod we made some friends but had plenty of xxunk as well xxperiod the rooms were great and everytime we left and came back it was cleaned , towels restocked and the bar was as well xxperiod,xxbos a truly fantastic place xmas we have just returned from a 2 week xmas new year break at the excellence punta cana xxperiod the hotel is magnificent and we have never experienced such incredible service before xxperiod the restaurants are great , with plenty of choice xxperiod the whole complex is so good that we only did one trip and that was for my wife to swim with the dolphins xxperiod great beaches and pools xxperiod the staff fall over each other to look after you xxperiod we stayed in a junior suite on ground level and it was spotlessly clean , great maid service and room service on tap 24 / 7 xxperiod overall i would say this is probably the best hotel we have ever stayed in on xxunk i am extremely fussy xxperiod the journey to the resort is a little uncomfortable , with the roads in a bad state xxperiod but once you are checked in the pace of life xxunk down and you forget about the outside world xxperiod worthy of special mention and our sincere thanks are : pedro from the cielo bar / pool an absolute gentleman xxperiod miguel the bell boy and also carlos from the xxunk bar xxperiod we will definately be booking again , probably for next christmas xxperiod jim eileen ( xxunk uk ) xxperiod,xxbos too sick to enjoy the ride to and form the airport is not good xxperiod very bumpy road and you can really see the poor living conditions xxperiod when you get to the resort it is like another world xxperiod we were told not to drink the tap or shower water - keep your mouth shut in the shower etc xxperiod but we have since heard that not all properties in punta cana have a water problem xxperiod in some resorts they have a huge purification system and the tap water is safe xxperiod both my husband and i were sick with diarrhea while we were there and put it down to the unclean water used to prepare food xxperiod we will not go on any more holidays where we have to worry about our health xxperiod each night at about 10 pm when we were settling down to sleep the music started up and we like fresh air but we had to close our patio doors to mute the sound xxperiod we really wanted a quieter resort xxperiod it was disappointing xxperiod it was partially our fault for not doing our research properly xxperiod some people did not hear the bands play at night but we could nt change our swim up room for a quieter one xxperiod we will not be returning to dominican republic xxperiod,xxbos relaxing and fun , but xxperiod i rang in the new year at excellence punta cana xxperiod since new york was freezing at the time , i was just happy to be in the sun xxperiod my husband and i had a great time overall xxperiod however , i was a little surprised to see this hotel rating itself as a 5- star facility ( more like a 4 ) xxperiod all of the basics were covered , but some of the details that i would expect from a 5- star place were missing xxperiod the bed , although comfortable creaked loudly and i couldn ? ? tell whether or not the headboard was attached properly xxperiod the staff were friendly and helpful overall , but in keeping up with the island mentality , their sense of urgency was lacking ( we had to ask two different people for hand towels and our one small room service order took close to an hour to arrive ) xxperiod actually , as mentioned by another reviewer , the food was the worst part xxperiod the presentation was excellent ( clean buffet areas , nicely decorated theme restaurants ) , but the dinner food quality wasn ? ? the best xxperiod one night i didn ? ? even finish my meal ( at the ? ? xxunk ? xxperiod on - site ) xxperiod lunch ( indoor buffet or beach bbq ) was usually the best bet xxperiod actually , everything on the beach ? ? xxunk the wait xxunk great xxperiod considering all of this , the excellence was a great setting for relaxation xxperiod the grounds were beautiful , the weather was pleasant and there were many options for activities ( and spa treatments ) if you wanted them xxperiod i would definitely go back xxperiod one note - coordinate travel to and from the hotel beforehand if you can xxperiod the hotel is over an hour away from the airport , so you 'll want to skip the can i help you , sir xxperiod bidding wars between different transportation companies xxperiod one more note - the resort is on the atlantic side of the ocean xxperiod that means rough seas and cold ( er ) water xxperiod if you intend to spend your entire vacation in the ocean , you may want to skip this place xxperiod i went in a few times , but i quickly became content just relaxing by the water when i couldn ? ? go in it xxperiod,xxbos somewhat excellence we just returned from a one week stay at excellence punta cana from xxunk to xxunk xxperiod we are seasoned travelers and have stayed at a dozen all inclusives xxperiod we stayed at excellence punta cana in 2007 for two weeks , then excellence mayan riviera and then playa mujeres and now just returned from our second time to punta cana xxperiod we love excellence xxperiod so here goes the staff at excellence i rate 5 star all the way they are an amazing group of people friendly hard working and makes your stay wonderful xxperiod pool beach and grounds a solid five star ca not say more then wow xxperiod now for the rooms we traveled as three couples all oceanview excellence club seen all three rooms and they are all in need of work the rooms are showing there age all over the place a 4 rating is generous xxperiod food a 3 rating very incosistent cold most of the time under cooked over cooked , the new ala carte menus has less selection and was not impressed at all xxperiod deffinately a great decline since our last trip two years ago xxperiod excellence club we did it in 2007 and that is why we all choose to do it again i rate it a three the only thing good was the view and the ability for late check out as we had a late flight home xxperiod but for its service i rate it a 3 xxperiod excellence club was closed upon our late arrival so they gave us our keys and sent us on our way in pitch darkness we knew where we where going so we led the other two couples we traveled with too their rooms xxperiod their service was very inconsistent beach towels in all of our three club rooms only once xxperiod went to excellence club three times for a channel changer in the end tipped staff and they got one from an unoccupied room xxperiod turn down hit and miss had to ask for bathroom amenities , would not exchange any liquor bottles in room which they did the first time we where there xxperiod the club lounge it self which used to have plenty of food to choose from literally had nothing during the day and evening cheese some fruit and bread not at all like it was excellence club has xxunk there service big time xxperiod the staff tended better to you then excellence club staff xxperiod we requested top floor for all three rooms and after all our returns we thought that was not an unreasonable request and we did not get one top floor room xxperiod save your money and shame on you excellence club for your lack of service xxperiod all three rooms had very xxunk fridge stalking and was only resolved with a tip and even then once when givin a tip was not done xxperiod i will not be returning to excellence punta cana and it is sliding down the charts for a reason xxperiod in saying all this we traveled with two other couples and we all had a fabulous time we just feel we did not get what we xxunk for xxperiod anyone with questions please do not hesitate to contact me xxperiod\n",
       "y: MultiCategoryList\n",
       ",,0;2;3;5,,2\n",
       "Path: data;\n",
       "\n",
       "Valid: LabelList (3739 items)\n",
       "x: TextList\n",
       "xxbos definitely not a 5 star resort i ' m dumbfounded that this hotel gets good reviews and is so highly rated xxperiod it 's decidedly a 3 star property , not 5 stars as indicated xxperiod the rooms are very dated and run down , old crappy beds and pillows , an old tv and overall poorly maintained xxperiod the whole property is pretty run down and old - looking xxperiod the food is subpar , not one meal i had would be called great xxperiod the service is uneven and the staff is poorly trained and uninformed xxperiod many do not comprehend english xxperiod the beach is great , it 's the only redeeming factor xxperiod however the resort is a 1- hour taxi trip from the airport xxperiod,xxbos facilities need work xxperiod we visited excellence for 5 nights in december xxperiod our first room , # xxunk , had a safe that did not work and so - so air conditioning xxperiod when we went to the front desk to complain , we were told to go to the room and someone would be there within 15 minutes xxperiod 45 minutes later , the safe guy showed up , but nobody for the a / c xxperiod the safe guy could not fix it xxperiod when he left , the electricity went out xxperiod it went out a second time before we finally went to the front desk to change rooms xxperiod we had dinner that night in the lobster house xxperiod do not waste your time on this one xxperiod the lobster tails had about 2 bites of food included xxperiod while we were in there , the electricity went out again xxperiod room xxunk served us pretty well , until night # 3 when my partner got up to go to the bathroom and stepped into an inch of water xxperiod a hose had broken on the back of the toilet and flooded our room xxperiod it would ' ve been ok , but when we went to the front desk we were told that we needed to wait until noon to see if perhaps they could move us to another room xxperiod the front desk clerks were not xxunk to just move us xxperiod my partner was infuriated that they wanted us to wait 4 hours for a new room xxperiod finally , matias at the front desk finally arranged to have us moved to another upgraded room - xxunk xxperiod we walked in and saw the leak coming from the ceiling and nearly flipped xxperiod we finally got into # xxunk , which was a gorgeous suite with a beautiful view xxperiod on the positive side , the food at the other restaurants was very good xxperiod i particularly liked the french restaurant , while my partner liked the asian restaurant xxperiod the breakfast buffet was like nothing i 'd ever seen before - lots of choices xxperiod the ocean was way too rough to enjoy , particularly if you 're not a strong swimmer xxperiod much of the beach was black flagged the entire time we were there , so if you 're a big ocean fan , i do not recommend this resort xxperiod my favorite part , by far , though , were the beds next to the pools and ocean xxperiod they were amazing xxperiod i guess you could particularly say so since the beds in the rooms were hard as rocks xxperiod all in all , a good trip - highly recommend the zip line tour xxperiod it was worth every penny xxperiod,xxbos excellence was exactly that xxperiod my family and i stayed at the excellence punta cana from december 22 to december 29 of this year xxperiod it was an amazing time had by all that attended xxperiod we arrived at the resort around 4 am because of a delay at the airport in vancouver , but even at 4 am , the service of the bellhops and the front desk was up to par xxperiod our bags were unloaded and immediately tagged and set to one side of the lobby while we were handed cold scented towels to cool off with xxperiod check in was fairly expedient and we were in our rooms within twenty minutes xxperiod i had never been to an all inclusive resort before , and wasted no time enjoying the pleasures of the mini bar in the room , as well as the ample storage space for our things xxperiod room service even at 4 am was great , the girl on the phone said it would be about 40 minutes for the food , which seemed a little long , but i think they only say that to cover there butts , because it took about 25 minutes at most xxperiod the activities during the day were well thought out , though , there was some delays and cancellations due to weather conditions ( beach volleyball cancelled to due strong winds xxperiod the entertainment staff was amazing and extremely friendly , a special thanks to all my friends , ines ( my fiance , ) altagracia ( who lovingly xxunk to me as xxunk loco , which translates into crazy skinny guy , ) xxunk and johanna ( my disco dance partners , ) sexy cesar ( who taught me all the sexy dance moves i xxperiod now know , ) julio cesar ( the mc for the games and parties xxperiod the restaurants i ca not offer too much help with , i did not eat at all of them , but of the few i did eat at , i recommend toscana for the huge buffet everyday , breakfast here is well prepared and quite delicious ( although i do not recommend the scrambled eggs xxperiod the omlettes are delicious and you have to try one xxperiod for lunch , you have to check out the grill on the beach , different food everyday , always good , and makes the beach smell amazing xxperiod for dinner , i liked spice ( asian cuisine , ) agave ( mexican , but do not eat the xxunk from here , very rubbery , ) the pizza that is delivered to the pool and the beach is awesome , make sure you try that xxperiod the bars were awesome , you get accustomed to speaking the language when ordering drinks , instead of drinking your usual bacardi and coke , try the brugal extra anejo , they call it the dominican xxunk , and it 's obvious why once you try it xxperiod the stuff tastes amazing and it does magic for someone trying to loosen up on the dance floor xxperiod the disco is great too , although sometimes a little empty , but still worth checking out xxperiod the worst part of my trip was the vendors , they do not let up , and i am a very well mannered person , which makes it hard to shut them down over and over again , make sure you do not tell them you like anything until you know you 're going to buy it , otherwise you 'll have to beat xxperiod them off with a stick to get away xxperiod try to make it to the theatre for the shows at 10 pm every night , they are worth it xxperiod the ice breaker shows are fun too , it gets people into the swing of things xxperiod all in all , i would highly recommend this resort for anyone going on a honeymoon or a romantic time with the better half , there is not a very big single crowd , so parents beware taking your single sons and daughters to this resort if they 're looking to party with other singles xxperiod hope this helps you xxperiod adios amigos and xxunk xxperiod,xxbos great service , nice hotel , mediocre food xxperiod my husband and i stayed at excellence for five nights mid - november xxperiod we booked our trip at the very last minute so we were not able to do a ton of research on the dominican but the hotel receives high ratings xxunk the web xxperiod after the one hour ride from the airport we arrived at the hotel and were greeted by everyone we met xxperiod i have to say that the staff at the hotel were very nice and made every effort to learn our names and greet us by name each time they saw us xxperiod we opted to upgrade to the excellence club and we are still trying to decide if we think it was worth it or not xxperiod as part of the excellence club , you are ushered to the club 's private lobby for check - in but , really , it almost just creates an xxunk step in the check - in process and adds another person or two you feel like you should tip xxperiod the biggest benefits of the excellence club for us were the unlimited internet access , beach towels in the room ( they were hard to get otherwise ) , and the beach bag in our room xxperiod we did eat breakfast each morning in the excellence club which was nice because it was a small buffet and you did not have to deal with a crowd xxperiod the hotel itself was clean , the staff was very friendly , and nothing ever felt crowded xxperiod however , the food was not great xxperiod it was not bad - but it was not great xxperiod i ' m not a big eater but i was prepared to indulge on my vacation and there just was not anything i was crazy about xxperiod the presentation of the food was nice but it was just bland xxperiod i think that is the best way to describe it xxperiod the pizzas that were delivered to the pool area were good but it was unpredictable because you never knew when they would arrive xxperiod we went on two excursions - swimming with the sting - rays / sharks and the zip - line tour xxperiod we loved the zip - line excursion xxperiod the staff was great and our bus driver and tour guide were great xxperiod it was interesting to visit the sting - rays and swim with the sharks but the reef where we snorkeled was disappointing xxperiod the fish were very small and there was not much to see xxperiod the electricity went out in our room a handful of times , especially when i used the hairdryer xxperiod also , our ac was terrible xxperiod they tried to repair it but it just never got cool xxperiod our room was big , though , and clean xxperiod we always got housekeeping service twice a day and they refilled our mini - bar daily xxperiod in many of the reviews , people said they got sick xxperiod our representative at the hotel ( through aaa ) warned us that many people think they get sick from the water or the food but they do not realize that having too many drinks with coconut in them will also do it xxperiod coconut is a natural laxative so you need to limit your consumption xxperiod i would still pack the immodium just to be sure xxperiod i could not decide if i wanted to give this hotel a 3 / 5 or a 4 / 5 but i decided to go up because of the friendly staff and the cleanliness of our room xxperiod i do not think i would go back because of the food but we had a nice time while we were there xxperiod we met a lot of great people at the swim up bar xxperiod,xxbos very relaxing experience just returned from my 40th birthday romantic getaway with my husband xxperiod this was our first time in the dominican republic , and we have literally been to every single island in the caribbean xxperiod so i can assure you that my review will be short , sweet , and comprehensive xxperiod in general , we liked the dr , and the excellence was very nice xxperiod the top reasons why we liked excellence were : 1 ) no kids ( ie xxperiod , if i want to get away from my own kids , i definitely do not want to vacation with other peoples ' kids ) xxperiod it was so quiet xxperiod 2 ) the staff and the people in the dr in general xxperiod so genuinely friendly , helpful , and wonderful xxperiod believe me , this is not true in most other areas of the caribbean xxperiod the all - inclusive feature xxperiod loved being served , served , served xxperiod i wanted to sit on my [ - - ] all day and just be a xxunk pig xxperiod and this is the perfect place to do it xxperiod 4 ) the best selection of beach and pool lounge chairs , beds , and hammocks i ' ve ever seen xxperiod there were palapas everywhere , so there was no shortage of shade xxperiod there were so many beds , you did not have to worry about not getting one xxperiod i 'd never had the chance to sleep on a beach bed , because usually hotels have only a few , so you end up looking xxunk at the lucky few who get them xxperiod ok , so here 's what i did not love about excellence :1 ) beach is not swimmable xxperiod way too rough most of the time xxperiod for this reason alone , i 'd not return here xxperiod i ' m a beach fan , and love to swim in the warm caribbean sea xxperiod i ' m no food snob , but some of the food was downright bad xxperiod and you end up eating in the same spot for breakfast and lunch xxperiod even though they have like 7 restaurants - the majority of them are only open for dinner xxperiod we only stayed 4 nights , and we were definitely getting very tired of the breakfast / lunch selection by the 3rd day xxperiod overall , if you just want to relax by the pool and you do not care about not going in the beach , this is a very beautiful resort xxperiod the staff is wonderful xxperiod if you are looking for a place to party and be loud and crazy , this is not your place xxperiod\n",
       "y: MultiCategoryList\n",
       "0;4;5,2,,,\n",
       "Path: data;\n",
       "\n",
       "Test: None, model=SequentialRNN(\n",
       "  (0): SentenceEncoder(\n",
       "    (module): AWD_LSTM(\n",
       "      (encoder): Embedding(23008, 400, padding_idx=1)\n",
       "      (encoder_dp): EmbeddingDropout(\n",
       "        (emb): Embedding(23008, 400, padding_idx=1)\n",
       "      )\n",
       "      (rnns): ModuleList(\n",
       "        (0): WeightDropout(\n",
       "          (module): LSTM(400, 1152, batch_first=True)\n",
       "        )\n",
       "        (1): WeightDropout(\n",
       "          (module): LSTM(1152, 1152, batch_first=True)\n",
       "        )\n",
       "        (2): WeightDropout(\n",
       "          (module): LSTM(1152, 400, batch_first=True)\n",
       "        )\n",
       "      )\n",
       "      (input_dp): RNNDropout()\n",
       "      (hidden_dps): ModuleList(\n",
       "        (0): RNNDropout()\n",
       "        (1): RNNDropout()\n",
       "        (2): RNNDropout()\n",
       "      )\n",
       "    )\n",
       "  )\n",
       "  (1): ClsModule1200(\n",
       "    (aspect): Sequential(\n",
       "      (0): BatchNorm1d(1200, eps=1e-05, momentum=0.1, affine=True, track_running_stats=True)\n",
       "      (1): Dropout(p=0.5, inplace=False)\n",
       "      (2): Linear(in_features=1200, out_features=50, bias=True)\n",
       "      (3): ReLU(inplace=True)\n",
       "      (4): BatchNorm1d(50, eps=1e-05, momentum=0.1, affine=True, track_running_stats=True)\n",
       "      (5): Linear(in_features=50, out_features=7, bias=True)\n",
       "      (6): Softmax(dim=1)\n",
       "    )\n",
       "    (sentiment): Sequential(\n",
       "      (0): BatchNorm1d(1200, eps=1e-05, momentum=0.1, affine=True, track_running_stats=True)\n",
       "      (1): Dropout(p=0.5, inplace=False)\n",
       "      (2): Linear(in_features=1200, out_features=50, bias=True)\n",
       "      (3): ReLU(inplace=True)\n",
       "      (4): BatchNorm1d(50, eps=1e-05, momentum=0.1, affine=True, track_running_stats=True)\n",
       "      (5): Linear(in_features=50, out_features=5, bias=True)\n",
       "      (6): Softmax(dim=1)\n",
       "    )\n",
       "  )\n",
       "), opt_func=functools.partial(<class 'torch.optim.adam.Adam'>, betas=(0.9, 0.99)), loss_func=MultiLabelCEL(), metrics=[<function multi_acc at 0x7f0a737a23b0>, <function acc_0 at 0x7f0a737a2200>, <function acc_1 at 0x7f0a737a2560>, <function acc_2 at 0x7f0a737a27a0>, <function acc_3 at 0x7f0a737a28c0>, <function acc_4 at 0x7f0a737a29e0>, <function acc_5 at 0x7f0a737a2b00>], true_wd=True, bn_wd=True, wd=0.01, train_bn=True, path=PosixPath('data'), model_dir='models', callback_fns=[functools.partial(<class 'fastai.basic_train.Recorder'>, add_time=True, silent=False)], callbacks=[RNNTrainer\n",
       "learn: ...\n",
       "alpha: 2.0\n",
       "beta: 1.0], layer_groups=[Sequential(\n",
       "  (0): Embedding(23008, 400, padding_idx=1)\n",
       "  (1): EmbeddingDropout(\n",
       "    (emb): Embedding(23008, 400, padding_idx=1)\n",
       "  )\n",
       "), Sequential(\n",
       "  (0): WeightDropout(\n",
       "    (module): LSTM(400, 1152, batch_first=True)\n",
       "  )\n",
       "  (1): RNNDropout()\n",
       "), Sequential(\n",
       "  (0): WeightDropout(\n",
       "    (module): LSTM(1152, 1152, batch_first=True)\n",
       "  )\n",
       "  (1): RNNDropout()\n",
       "), Sequential(\n",
       "  (0): WeightDropout(\n",
       "    (module): LSTM(1152, 400, batch_first=True)\n",
       "  )\n",
       "  (1): RNNDropout()\n",
       "), Sequential(\n",
       "  (0): ClsModule1200(\n",
       "    (aspect): Sequential(\n",
       "      (0): BatchNorm1d(1200, eps=1e-05, momentum=0.1, affine=True, track_running_stats=True)\n",
       "      (1): Dropout(p=0.5, inplace=False)\n",
       "      (2): Linear(in_features=1200, out_features=50, bias=True)\n",
       "      (3): ReLU(inplace=True)\n",
       "      (4): BatchNorm1d(50, eps=1e-05, momentum=0.1, affine=True, track_running_stats=True)\n",
       "      (5): Linear(in_features=50, out_features=7, bias=True)\n",
       "      (6): Softmax(dim=1)\n",
       "    )\n",
       "    (sentiment): Sequential(\n",
       "      (0): BatchNorm1d(1200, eps=1e-05, momentum=0.1, affine=True, track_running_stats=True)\n",
       "      (1): Dropout(p=0.5, inplace=False)\n",
       "      (2): Linear(in_features=1200, out_features=50, bias=True)\n",
       "      (3): ReLU(inplace=True)\n",
       "      (4): BatchNorm1d(50, eps=1e-05, momentum=0.1, affine=True, track_running_stats=True)\n",
       "      (5): Linear(in_features=50, out_features=5, bias=True)\n",
       "      (6): Softmax(dim=1)\n",
       "    )\n",
       "  )\n",
       ")], add_time=True, silent=False)"
      ]
     },
     "execution_count": 20,
     "metadata": {},
     "output_type": "execute_result"
    }
   ],
   "source": [
    "cls_learn.load('cls_learn.1200CLS2.191202')"
   ]
  },
  {
   "cell_type": "code",
   "execution_count": 21,
   "metadata": {
    "scrolled": true
   },
   "outputs": [
    {
     "name": "stdout",
     "output_type": "stream",
     "text": [
      "UN-FREEZING\n",
      "Sequential(\n",
      "  (0): Embedding(23008, 400, padding_idx=1)\n",
      "  (1): EmbeddingDropout(\n",
      "    (emb): Embedding(23008, 400, padding_idx=1)\n",
      "  )\n",
      ")\n",
      "UN-FREEZING\n",
      "Sequential(\n",
      "  (0): WeightDropout(\n",
      "    (module): LSTM(400, 1152, batch_first=True)\n",
      "  )\n",
      "  (1): RNNDropout()\n",
      ")\n",
      "UN-FREEZING\n",
      "Sequential(\n",
      "  (0): WeightDropout(\n",
      "    (module): LSTM(1152, 1152, batch_first=True)\n",
      "  )\n",
      "  (1): RNNDropout()\n",
      ")\n",
      "UN-FREEZING\n",
      "Sequential(\n",
      "  (0): WeightDropout(\n",
      "    (module): LSTM(1152, 400, batch_first=True)\n",
      "  )\n",
      "  (1): RNNDropout()\n",
      ")\n",
      "UN-FREEZING\n",
      "Sequential(\n",
      "  (0): ClsModule1200(\n",
      "    (aspect): Sequential(\n",
      "      (0): BatchNorm1d(1200, eps=1e-05, momentum=0.1, affine=True, track_running_stats=True)\n",
      "      (1): Dropout(p=0.5, inplace=False)\n",
      "      (2): Linear(in_features=1200, out_features=50, bias=True)\n",
      "      (3): ReLU(inplace=True)\n",
      "      (4): BatchNorm1d(50, eps=1e-05, momentum=0.1, affine=True, track_running_stats=True)\n",
      "      (5): Linear(in_features=50, out_features=7, bias=True)\n",
      "      (6): Softmax(dim=1)\n",
      "    )\n",
      "    (sentiment): Sequential(\n",
      "      (0): BatchNorm1d(1200, eps=1e-05, momentum=0.1, affine=True, track_running_stats=True)\n",
      "      (1): Dropout(p=0.5, inplace=False)\n",
      "      (2): Linear(in_features=1200, out_features=50, bias=True)\n",
      "      (3): ReLU(inplace=True)\n",
      "      (4): BatchNorm1d(50, eps=1e-05, momentum=0.1, affine=True, track_running_stats=True)\n",
      "      (5): Linear(in_features=50, out_features=5, bias=True)\n",
      "      (6): Softmax(dim=1)\n",
      "    )\n",
      "  )\n",
      ")\n"
     ]
    }
   ],
   "source": [
    "cls_learn.unfreeze()"
   ]
  },
  {
   "cell_type": "code",
   "execution_count": null,
   "metadata": {
    "scrolled": false
   },
   "outputs": [
    {
     "data": {
      "text/html": [
       "\n",
       "    <div>\n",
       "        <style>\n",
       "            /* Turns off some styling */\n",
       "            progress {\n",
       "                /* gets rid of default border in Firefox and Opera. */\n",
       "                border: none;\n",
       "                /* Needs to be in here for Safari polyfill so background images work as expected. */\n",
       "                background-size: auto;\n",
       "            }\n",
       "            .progress-bar-interrupted, .progress-bar-interrupted::-webkit-progress-bar {\n",
       "                background: #F44336;\n",
       "            }\n",
       "        </style>\n",
       "      <progress value='4' class='' max='12', style='width:300px; height:20px; vertical-align: middle;'></progress>\n",
       "      33.33% [4/12 17:31<35:02]\n",
       "    </div>\n",
       "    \n",
       "<table border=\"1\" class=\"dataframe\">\n",
       "  <thead>\n",
       "    <tr style=\"text-align: left;\">\n",
       "      <th>epoch</th>\n",
       "      <th>train_loss</th>\n",
       "      <th>valid_loss</th>\n",
       "      <th>multi_acc</th>\n",
       "      <th>acc_0</th>\n",
       "      <th>acc_1</th>\n",
       "      <th>acc_2</th>\n",
       "      <th>acc_3</th>\n",
       "      <th>acc_4</th>\n",
       "      <th>acc_5</th>\n",
       "      <th>time</th>\n",
       "    </tr>\n",
       "  </thead>\n",
       "  <tbody>\n",
       "    <tr>\n",
       "      <td>0</td>\n",
       "      <td>7.630337</td>\n",
       "      <td>7.450988</td>\n",
       "      <td>0.509405</td>\n",
       "      <td>0.598021</td>\n",
       "      <td>0.538379</td>\n",
       "      <td>0.471784</td>\n",
       "      <td>0.449853</td>\n",
       "      <td>0.479540</td>\n",
       "      <td>0.518855</td>\n",
       "      <td>04:24</td>\n",
       "    </tr>\n",
       "    <tr>\n",
       "      <td>1</td>\n",
       "      <td>7.372316</td>\n",
       "      <td>7.289713</td>\n",
       "      <td>0.521129</td>\n",
       "      <td>0.626906</td>\n",
       "      <td>0.556833</td>\n",
       "      <td>0.485424</td>\n",
       "      <td>0.450388</td>\n",
       "      <td>0.479273</td>\n",
       "      <td>0.527949</td>\n",
       "      <td>04:20</td>\n",
       "    </tr>\n",
       "    <tr>\n",
       "      <td>2</td>\n",
       "      <td>7.341654</td>\n",
       "      <td>7.328556</td>\n",
       "      <td>0.520059</td>\n",
       "      <td>0.618347</td>\n",
       "      <td>0.548275</td>\n",
       "      <td>0.493180</td>\n",
       "      <td>0.446109</td>\n",
       "      <td>0.489168</td>\n",
       "      <td>0.525274</td>\n",
       "      <td>04:23</td>\n",
       "    </tr>\n",
       "    <tr>\n",
       "      <td>3</td>\n",
       "      <td>7.373100</td>\n",
       "      <td>7.283681</td>\n",
       "      <td>0.523803</td>\n",
       "      <td>0.626103</td>\n",
       "      <td>0.555496</td>\n",
       "      <td>0.496657</td>\n",
       "      <td>0.453597</td>\n",
       "      <td>0.485156</td>\n",
       "      <td>0.525809</td>\n",
       "      <td>04:22</td>\n",
       "    </tr>\n",
       "  </tbody>\n",
       "</table><p>\n",
       "\n",
       "    <div>\n",
       "        <style>\n",
       "            /* Turns off some styling */\n",
       "            progress {\n",
       "                /* gets rid of default border in Firefox and Opera. */\n",
       "                border: none;\n",
       "                /* Needs to be in here for Safari polyfill so background images work as expected. */\n",
       "                background-size: auto;\n",
       "            }\n",
       "            .progress-bar-interrupted, .progress-bar-interrupted::-webkit-progress-bar {\n",
       "                background: #F44336;\n",
       "            }\n",
       "        </style>\n",
       "      <progress value='24' class='' max='558', style='width:300px; height:20px; vertical-align: middle;'></progress>\n",
       "      4.30% [24/558 00:12<04:36 7.3997]\n",
       "    </div>\n",
       "    "
      ],
      "text/plain": [
       "<IPython.core.display.HTML object>"
      ]
     },
     "metadata": {},
     "output_type": "display_data"
    }
   ],
   "source": [
    "with experiment.train():\n",
    "    cls_learn.fit_one_cycle(12)"
   ]
  },
  {
   "cell_type": "code",
   "execution_count": 20,
   "metadata": {},
   "outputs": [],
   "source": [
    "cls_learn.save('cls_learn.1200CLS2.191202.2')"
   ]
  },
  {
   "cell_type": "code",
   "execution_count": 24,
   "metadata": {
    "scrolled": true
   },
   "outputs": [
    {
     "name": "stderr",
     "output_type": "stream",
     "text": [
      "COMET INFO: ----------------------------\n",
      "COMET INFO: Comet.ml Experiment Summary:\n",
      "COMET INFO:   Data:\n",
      "COMET INFO:     url: https://www.comet.ml/aeryen/2019nn/4b64da0a3cb64e95bd6e8df946e56f59\n",
      "COMET INFO:   Metrics [count] (min, max):\n",
      "COMET INFO:     sys.cpu.percent.01 [3]              : (0.0, 1.1)\n",
      "COMET INFO:     sys.cpu.percent.02 [3]              : (0.3, 4.9)\n",
      "COMET INFO:     sys.cpu.percent.03 [3]              : (0.2, 13.6)\n",
      "COMET INFO:     sys.cpu.percent.04 [3]              : (0.0, 0.5)\n",
      "COMET INFO:     sys.cpu.percent.05 [3]              : (0.0, 8.9)\n",
      "COMET INFO:     sys.cpu.percent.06 [3]              : (0.2, 1.7)\n",
      "COMET INFO:     sys.cpu.percent.07 [3]              : (0.0, 1.0)\n",
      "COMET INFO:     sys.cpu.percent.08 [3]              : (0.0, 0.4)\n",
      "COMET INFO:     sys.cpu.percent.09 [3]              : (0.0, 0.5)\n",
      "COMET INFO:     sys.cpu.percent.10 [3]              : (0.2, 0.7)\n",
      "COMET INFO:     sys.cpu.percent.11 [3]              : (0.0, 0.5)\n",
      "COMET INFO:     sys.cpu.percent.12 [3]              : (0.2, 1.4)\n",
      "COMET INFO:     sys.cpu.percent.avg [3]             : (0.325, 2.6333333333333333)\n",
      "COMET INFO:     sys.gpu.0.free_memory [4]           : (11486560256.0, 24931860480.0)\n",
      "COMET INFO:     sys.gpu.0.gpu_utilization [4]       : (0.0, 0.0)\n",
      "COMET INFO:     sys.gpu.0.total_memory              : (25373310976.0, 25373310976.0)\n",
      "COMET INFO:     sys.gpu.0.used_memory [4]           : (441450496.0, 13886750720.0)\n",
      "COMET INFO:     sys.load.avg [3]                    : (0.43, 0.9)\n",
      "COMET INFO:     sys.ram.total [3]                   : (16703754240.0, 16703754240.0)\n",
      "COMET INFO:     sys.ram.used [3]                    : (2520158208.0, 4686786560.0)\n",
      "COMET INFO:     train_acc_0 [8]                     : (0.6154052019119263, 0.6568601131439209)\n",
      "COMET INFO:     train_acc_1 [8]                     : (0.5458678603172302, 0.5814388990402222)\n",
      "COMET INFO:     train_acc_2 [8]                     : (0.47873762249946594, 0.5185878872871399)\n",
      "COMET INFO:     train_acc_3 [8]                     : (0.4354105293750763, 0.46081840991973877)\n",
      "COMET INFO:     train_acc_4 [8]                     : (0.46857449412345886, 0.49826157093048096)\n",
      "COMET INFO:     train_acc_5 [8]                     : (0.5172505974769592, 0.5423910021781921)\n",
      "COMET INFO:     train_curr_epoch [8]                : 7\n",
      "COMET INFO:     train_loss [447]                    : (4.620442867279053, 8.95316219329834)\n",
      "COMET INFO:     train_multi_acc [8]                 : (0.5152448415756226, 0.5410982966423035)\n",
      "COMET INFO:     train_sys.cpu.percent.01 [32]       : (0.5, 33.2)\n",
      "COMET INFO:     train_sys.cpu.percent.02 [32]       : (0.3, 54.7)\n",
      "COMET INFO:     train_sys.cpu.percent.03 [32]       : (0.2, 45.2)\n",
      "COMET INFO:     train_sys.cpu.percent.04 [32]       : (0.2, 40.1)\n",
      "COMET INFO:     train_sys.cpu.percent.05 [32]       : (0.2, 40.2)\n",
      "COMET INFO:     train_sys.cpu.percent.06 [32]       : (0.2, 56.6)\n",
      "COMET INFO:     train_sys.cpu.percent.07 [32]       : (0.2, 58.9)\n",
      "COMET INFO:     train_sys.cpu.percent.08 [32]       : (0.1, 47.3)\n",
      "COMET INFO:     train_sys.cpu.percent.09 [32]       : (0.2, 56.1)\n",
      "COMET INFO:     train_sys.cpu.percent.10 [32]       : (0.2, 8.6)\n",
      "COMET INFO:     train_sys.cpu.percent.11 [32]       : (0.4, 47.4)\n",
      "COMET INFO:     train_sys.cpu.percent.12 [32]       : (0.2, 57.9)\n",
      "COMET INFO:     train_sys.cpu.percent.avg [32]      : (3.8249999999999997, 8.941666666666666)\n",
      "COMET INFO:     train_sys.gpu.0.free_memory [36]    : (11486298112.0, 12906856448.0)\n",
      "COMET INFO:     train_sys.gpu.0.gpu_utilization [36]: (50.0, 97.0)\n",
      "COMET INFO:     train_sys.gpu.0.used_memory [36]    : (12466454528.0, 13887012864.0)\n",
      "COMET INFO:     train_sys.load.avg [32]             : (0.62, 1.37)\n",
      "COMET INFO:     train_sys.ram.total [32]            : (16703754240.0, 16703754240.0)\n",
      "COMET INFO:     train_sys.ram.used [32]             : (4939972608.0, 5140512768.0)\n",
      "COMET INFO:     train_val_loss [8]                  : (7.11315393447876, 7.380879878997803)\n",
      "COMET INFO: ----------------------------\n",
      "COMET INFO: Uploading stats to Comet before program termination (may take several seconds)\n"
     ]
    }
   ],
   "source": [
    "experiment.end()"
   ]
  },
  {
   "cell_type": "code",
   "execution_count": 21,
   "metadata": {
    "scrolled": true
   },
   "outputs": [
    {
     "data": {
      "image/png": "[encoded data removed]",
      "text/plain": [
       "<Figure size 432x288 with 1 Axes>"
      ]
     },
     "metadata": {
      "needs_background": "light"
     },
     "output_type": "display_data"
    }
   ],
   "source": [
    "cls_learn.recorder.plot_losses()"
   ]
  },
  {
   "cell_type": "code",
   "execution_count": 29,
   "metadata": {},
   "outputs": [
    {
     "data": {
      "image/png": "[encoded data removed]",
      "text/plain": [
       "<Figure size 864x288 with 2 Axes>"
      ]
     },
     "metadata": {
      "needs_background": "light"
     },
     "output_type": "display_data"
    }
   ],
   "source": [
    "cls_learn.recorder.plot_lr(show_moms=True)"
   ]
  },
  {
   "cell_type": "markdown",
   "metadata": {},
   "source": [
    "## test output"
   ]
  },
  {
   "cell_type": "code",
   "execution_count": 21,
   "metadata": {},
   "outputs": [],
   "source": [
    "result = cls_learn.get_preds(ds_type=DatasetType.Valid, ordered=True)"
   ]
  },
  {
   "cell_type": "code",
   "execution_count": 22,
   "metadata": {},
   "outputs": [
    {
     "data": {
      "text/plain": [
       "tensor([[-0.5491, -0.9054, -0.2351, -0.6030, -0.0972],\n",
       "        [-1.3853, -0.7049, -1.2191, -0.7555, -1.1554],\n",
       "        [-2.3735, -2.3710, -1.8379, -2.0609, -2.4013],\n",
       "        [-0.8157, -0.7976, -0.3009, -0.4901, -0.4317],\n",
       "        [ 0.5963,  0.6253,  0.4170,  0.8913,  1.0342],\n",
       "        [ 1.3833,  1.5860,  1.5821,  1.9504,  1.7124]])"
      ]
     },
     "execution_count": 22,
     "metadata": {},
     "output_type": "execute_result"
    }
   ],
   "source": [
    "result[0][0,:]"
   ]
  },
  {
   "cell_type": "code",
   "execution_count": 23,
   "metadata": {},
   "outputs": [
    {
     "data": {
      "text/plain": [
       "torch.return_types.max(\n",
       "values=tensor([-0.0972, -0.7049, -1.8379, -0.3009,  1.0342,  1.9504]),\n",
       "indices=tensor([4, 1, 2, 2, 4, 3]))"
      ]
     },
     "execution_count": 23,
     "metadata": {},
     "output_type": "execute_result"
    }
   ],
   "source": [
    "torch.max( result[0][0,:,:], dim=1 )"
   ]
  },
  {
   "cell_type": "code",
   "execution_count": 24,
   "metadata": {},
   "outputs": [
    {
     "data": {
      "text/plain": [
       "tensor([1., 0., 0., 3., 1., 1.])"
      ]
     },
     "execution_count": 24,
     "metadata": {},
     "output_type": "execute_result"
    }
   ],
   "source": [
    "result[1][0]"
   ]
  },
  {
   "cell_type": "code",
   "execution_count": 31,
   "metadata": {},
   "outputs": [
    {
     "name": "stdout",
     "output_type": "stream",
     "text": [
      "===\n",
      "torch.Size([20, 5, 5])\n",
      "torch.Size([20, 5])\n",
      "torch.Size([100])\n",
      "torch.Size([100])\n"
     ]
    },
    {
     "data": {
      "text/plain": [
       "tensor(0.6000)"
      ]
     },
     "execution_count": 31,
     "metadata": {},
     "output_type": "execute_result"
    }
   ],
   "source": [
    "multi_acc(result[0][0:20, :], result[1][0:20])"
   ]
  },
  {
   "cell_type": "code",
   "execution_count": 32,
   "metadata": {
    "scrolled": true
   },
   "outputs": [
    {
     "data": {
      "text/plain": [
       "tensor(1.1682)"
      ]
     },
     "execution_count": 32,
     "metadata": {},
     "output_type": "execute_result"
    }
   ],
   "source": [
    "multi_loss(result[0][0:20, :], result[1][0:20])"
   ]
  },
  {
   "cell_type": "code",
   "execution_count": 36,
   "metadata": {
    "scrolled": true
   },
   "outputs": [
    {
     "name": "stdout",
     "output_type": "stream",
     "text": [
      "===\n",
      "torch.Size([10, 5, 5])\n",
      "torch.Size([10, 5])\n",
      "torch.Size([50])\n",
      "torch.Size([50])\n"
     ]
    },
    {
     "data": {
      "text/plain": [
       "tensor(0.4800)"
      ]
     },
     "execution_count": 36,
     "metadata": {},
     "output_type": "execute_result"
    }
   ],
   "source": [
    "multi_acc(result[0][70:80, :], result[1][70:80])"
   ]
  },
  {
   "cell_type": "code",
   "execution_count": 37,
   "metadata": {},
   "outputs": [
    {
     "data": {
      "text/plain": [
       "tensor(1.4959)"
      ]
     },
     "execution_count": 37,
     "metadata": {},
     "output_type": "execute_result"
    }
   ],
   "source": [
    "multi_loss(result[0][70:80, :], result[1][70:80])"
   ]
  },
  {
   "cell_type": "code",
   "execution_count": null,
   "metadata": {},
   "outputs": [],
   "source": []
  }
 ],
 "metadata": {
  "kernelspec": {
   "display_name": "Python 3",
   "language": "python",
   "name": "python3"
  },
  "language_info": {
   "codemirror_mode": {
    "name": "ipython",
    "version": 3
   },
   "file_extension": ".py",
   "mimetype": "text/x-python",
   "name": "python",
   "nbconvert_exporter": "python",
   "pygments_lexer": "ipython3",
   "version": "3.7.4"
  }
 },
 "nbformat": 4,
 "nbformat_minor": 4
}
